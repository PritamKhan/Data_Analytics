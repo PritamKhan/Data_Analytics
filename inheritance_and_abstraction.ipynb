{
  "nbformat": 4,
  "nbformat_minor": 0,
  "metadata": {
    "colab": {
      "provenance": [],
      "authorship_tag": "ABX9TyNP0qZMUYQdQ8KeilGus0VQ",
      "include_colab_link": true
    },
    "kernelspec": {
      "name": "python3",
      "display_name": "Python 3"
    },
    "language_info": {
      "name": "python"
    }
  },
  "cells": [
    {
      "cell_type": "markdown",
      "metadata": {
        "id": "view-in-github",
        "colab_type": "text"
      },
      "source": [
        "<a href=\"https://colab.research.google.com/github/PritamKhan/Data_Analytics/blob/master/inheritance_and_abstraction.ipynb\" target=\"_parent\"><img src=\"https://colab.research.google.com/assets/colab-badge.svg\" alt=\"Open In Colab\"/></a>"
      ]
    },
    {
      "cell_type": "code",
      "execution_count": null,
      "metadata": {
        "id": "0zXjmEl7M5vT"
      },
      "outputs": [],
      "source": [
        "#inheritance >> refers to process of child receving the properties of parent class\n",
        "#syntax\n",
        "# class BaseClass:\n",
        "#   #body of base class\n",
        "# class DerivedClass(BaseClass):\n",
        "#   #body of derived class"
      ]
    },
    {
      "cell_type": "code",
      "source": [
        "#single inheritance >> when a derived class has only one parent class"
      ],
      "metadata": {
        "id": "Y6N7RY13PQuk"
      },
      "execution_count": null,
      "outputs": []
    },
    {
      "cell_type": "code",
      "source": [
        "#example\n",
        "class Father:\n",
        "  def father_property(self):\n",
        "    print(\"This is the Father property\")"
      ],
      "metadata": {
        "id": "gF6QU0URRIJc"
      },
      "execution_count": null,
      "outputs": []
    },
    {
      "cell_type": "code",
      "source": [
        "class Son(Father):\n",
        "  def job(self):\n",
        "    print(\"Son has property from job\")"
      ],
      "metadata": {
        "id": "Uf28Vr7bRkms"
      },
      "execution_count": null,
      "outputs": []
    },
    {
      "cell_type": "code",
      "source": [
        "child_obj = Son() #object/instance of son class"
      ],
      "metadata": {
        "id": "l6i_h3COR1aO"
      },
      "execution_count": null,
      "outputs": []
    },
    {
      "cell_type": "code",
      "source": [
        "#A child can have his property and also his father property\n",
        "child_obj.job()"
      ],
      "metadata": {
        "colab": {
          "base_uri": "https://localhost:8080/"
        },
        "id": "BN0PmJ4KSSEg",
        "outputId": "0ac16ec0-80d8-4d60-aa4d-5cc41e7f21f0"
      },
      "execution_count": null,
      "outputs": [
        {
          "output_type": "stream",
          "name": "stdout",
          "text": [
            "Son has property from job\n"
          ]
        }
      ]
    },
    {
      "cell_type": "code",
      "source": [
        "child_obj.father_property()"
      ],
      "metadata": {
        "colab": {
          "base_uri": "https://localhost:8080/"
        },
        "id": "-jzt8kveSmiI",
        "outputId": "2f82762b-8075-478e-f622-535ed1947525"
      },
      "execution_count": null,
      "outputs": [
        {
          "output_type": "stream",
          "name": "stdout",
          "text": [
            "This is the Father property\n"
          ]
        }
      ]
    },
    {
      "cell_type": "code",
      "source": [
        "# a father will have only his property\n",
        "father_obj = Father()\n",
        "father_obj.father_property()"
      ],
      "metadata": {
        "colab": {
          "base_uri": "https://localhost:8080/"
        },
        "id": "74DYv5JwSofH",
        "outputId": "31345933-3af5-44a5-ff3b-b5ed01fbdede"
      },
      "execution_count": null,
      "outputs": [
        {
          "output_type": "stream",
          "name": "stdout",
          "text": [
            "This is the Father property\n"
          ]
        }
      ]
    },
    {
      "cell_type": "code",
      "source": [
        "father_obj.job()"
      ],
      "metadata": {
        "colab": {
          "base_uri": "https://localhost:8080/",
          "height": 141
        },
        "id": "FcePJP6VS9zi",
        "outputId": "104cb1f8-07d0-4046-c165-778ce399f761"
      },
      "execution_count": null,
      "outputs": [
        {
          "output_type": "error",
          "ename": "AttributeError",
          "evalue": "'Father' object has no attribute 'job'",
          "traceback": [
            "\u001b[0;31m---------------------------------------------------------------------------\u001b[0m",
            "\u001b[0;31mAttributeError\u001b[0m                            Traceback (most recent call last)",
            "\u001b[0;32m<ipython-input-9-cbc9b98f05fb>\u001b[0m in \u001b[0;36m<cell line: 0>\u001b[0;34m()\u001b[0m\n\u001b[0;32m----> 1\u001b[0;31m \u001b[0mfather_obj\u001b[0m\u001b[0;34m.\u001b[0m\u001b[0mjob\u001b[0m\u001b[0;34m(\u001b[0m\u001b[0;34m)\u001b[0m\u001b[0;34m\u001b[0m\u001b[0;34m\u001b[0m\u001b[0m\n\u001b[0m",
            "\u001b[0;31mAttributeError\u001b[0m: 'Father' object has no attribute 'job'"
          ]
        }
      ]
    },
    {
      "cell_type": "code",
      "source": [
        "#parent class will not have access to the property (method/attribute) of child class but child class will have acess to both\n"
      ],
      "metadata": {
        "id": "jwc0KbJTS_z5"
      },
      "execution_count": null,
      "outputs": []
    },
    {
      "cell_type": "code",
      "source": [
        "class Fruit:\n",
        "  def fruit_info(self):\n",
        "    print(\"Inside Parent Class\")\n",
        "class Apple(Fruit):\n",
        "  def apple_info(self):\n",
        "    print(\"Inside Child Class\")"
      ],
      "metadata": {
        "id": "Fzy6T86RV3z_"
      },
      "execution_count": null,
      "outputs": []
    },
    {
      "cell_type": "code",
      "source": [
        "obj = Apple()\n",
        "obj.apple_info()"
      ],
      "metadata": {
        "colab": {
          "base_uri": "https://localhost:8080/"
        },
        "id": "iNOQlManWeLL",
        "outputId": "d5d6b982-db25-4d21-eed4-0d3d93b15696"
      },
      "execution_count": null,
      "outputs": [
        {
          "output_type": "stream",
          "name": "stdout",
          "text": [
            "Inside Child Class\n"
          ]
        }
      ]
    },
    {
      "cell_type": "code",
      "source": [
        "obj.fruit_info()"
      ],
      "metadata": {
        "colab": {
          "base_uri": "https://localhost:8080/"
        },
        "id": "Y2Vsw_wyWtIy",
        "outputId": "ad5a6e9e-47e0-460f-fcf1-cb996e6a9e5d"
      },
      "execution_count": null,
      "outputs": [
        {
          "output_type": "stream",
          "name": "stdout",
          "text": [
            "Inside Parent Class\n"
          ]
        }
      ]
    },
    {
      "cell_type": "code",
      "source": [
        "par = Fruit()\n",
        "par.fruit_info()"
      ],
      "metadata": {
        "colab": {
          "base_uri": "https://localhost:8080/"
        },
        "id": "oGV-pokxW1To",
        "outputId": "1b3b39a3-2f43-492a-f3f2-3ec05cec973d"
      },
      "execution_count": null,
      "outputs": [
        {
          "output_type": "stream",
          "name": "stdout",
          "text": [
            "Inside Parent Class\n"
          ]
        }
      ]
    },
    {
      "cell_type": "code",
      "source": [
        "par.apple_info() #gives error"
      ],
      "metadata": {
        "colab": {
          "base_uri": "https://localhost:8080/",
          "height": 141
        },
        "id": "GTQvrITaXAKO",
        "outputId": "be88702d-3532-4900-c07d-d1cdbfe4f3ed"
      },
      "execution_count": null,
      "outputs": [
        {
          "output_type": "error",
          "ename": "AttributeError",
          "evalue": "'Fruit' object has no attribute 'apple_info'",
          "traceback": [
            "\u001b[0;31m---------------------------------------------------------------------------\u001b[0m",
            "\u001b[0;31mAttributeError\u001b[0m                            Traceback (most recent call last)",
            "\u001b[0;32m<ipython-input-16-7b73fca9c6cc>\u001b[0m in \u001b[0;36m<cell line: 0>\u001b[0;34m()\u001b[0m\n\u001b[0;32m----> 1\u001b[0;31m \u001b[0mpar\u001b[0m\u001b[0;34m.\u001b[0m\u001b[0mapple_info\u001b[0m\u001b[0;34m(\u001b[0m\u001b[0;34m)\u001b[0m\u001b[0;34m\u001b[0m\u001b[0;34m\u001b[0m\u001b[0m\n\u001b[0m",
            "\u001b[0;31mAttributeError\u001b[0m: 'Fruit' object has no attribute 'apple_info'"
          ]
        }
      ]
    },
    {
      "cell_type": "code",
      "source": [
        "#method overriding >> re-writing/re-defining methods of parent class in derived/child class\n",
        "class Fruit:\n",
        "  def fruit_info(self):\n",
        "    print(\"Inside Parent Class\")\n",
        "class Apple(Fruit):\n",
        "  def fruit_info(self):\n",
        "    print(\"Inside the Child Class (fruit info)\")\n",
        "  def apple_info(self):\n",
        "    print(\"Inside the Child Class\")\n",
        "\n",
        "#method overriding>> child class is very powerfull\n",
        "#method overriding between two class"
      ],
      "metadata": {
        "id": "JoA5y8OgXBeX"
      },
      "execution_count": 22,
      "outputs": []
    },
    {
      "cell_type": "code",
      "source": [
        "a1 = Apple()\n",
        "a1.fruit_info()"
      ],
      "metadata": {
        "colab": {
          "base_uri": "https://localhost:8080/"
        },
        "id": "kuA0vmy-jUah",
        "outputId": "325f0021-3f1b-442d-e775-631862bf322e"
      },
      "execution_count": 25,
      "outputs": [
        {
          "output_type": "stream",
          "name": "stdout",
          "text": [
            "Inside the Child Class (fruit info)\n"
          ]
        }
      ]
    },
    {
      "cell_type": "code",
      "source": [
        "f1 = Fruit()\n",
        "f1.fruit_info()"
      ],
      "metadata": {
        "colab": {
          "base_uri": "https://localhost:8080/"
        },
        "id": "HeTma_BVjYA3",
        "outputId": "80266bb4-3e4a-4292-8681-8d184ee3a5ce"
      },
      "execution_count": 26,
      "outputs": [
        {
          "output_type": "stream",
          "name": "stdout",
          "text": [
            "Inside Parent Class\n"
          ]
        }
      ]
    },
    {
      "cell_type": "code",
      "source": [
        "#multi-level inheritance"
      ],
      "metadata": {
        "id": "fimIgRRPjeMy"
      },
      "execution_count": 27,
      "outputs": []
    },
    {
      "cell_type": "code",
      "source": [
        "class GrandFather:\n",
        "  def prop_grand_father(self):\n",
        "    print(\"I am your grand father, this is my property\")\n",
        "class Father(GrandFather):\n",
        "  def prop_father(self):\n",
        "    print(\"I am your father, I am having my and your grandfather's property\")\n",
        "class Son(Father):\n",
        "  def prop_son(self):\n",
        "    print(\"I am the king, I am having all the properties\")"
      ],
      "metadata": {
        "id": "GRtxXqAVEpXc"
      },
      "execution_count": 28,
      "outputs": []
    },
    {
      "cell_type": "code",
      "source": [
        "son = Son()\n",
        "son.prop_father()"
      ],
      "metadata": {
        "colab": {
          "base_uri": "https://localhost:8080/"
        },
        "id": "ATVWaW97F_no",
        "outputId": "aa95076b-53ff-41f1-ddf5-d7c8338b73c5"
      },
      "execution_count": 29,
      "outputs": [
        {
          "output_type": "stream",
          "name": "stdout",
          "text": [
            "I am your father, I am having my and your grandfather's property\n"
          ]
        }
      ]
    },
    {
      "cell_type": "code",
      "source": [
        "son.prop_grand_father()"
      ],
      "metadata": {
        "colab": {
          "base_uri": "https://localhost:8080/"
        },
        "id": "JcgiGraIGHDR",
        "outputId": "2047d75c-3b44-476a-8ca4-3b05540ae036"
      },
      "execution_count": 30,
      "outputs": [
        {
          "output_type": "stream",
          "name": "stdout",
          "text": [
            "I am your grand father, this is my property\n"
          ]
        }
      ]
    },
    {
      "cell_type": "code",
      "source": [
        "son.prop_son()"
      ],
      "metadata": {
        "colab": {
          "base_uri": "https://localhost:8080/"
        },
        "id": "OdHZ6v7hGMMX",
        "outputId": "972d8636-eac9-4cee-e53c-22011871866c"
      },
      "execution_count": 31,
      "outputs": [
        {
          "output_type": "stream",
          "name": "stdout",
          "text": [
            "I am the king, I am having all the properties\n"
          ]
        }
      ]
    },
    {
      "cell_type": "code",
      "source": [
        "father = Father()"
      ],
      "metadata": {
        "id": "OqaFNJiMGOgl"
      },
      "execution_count": 32,
      "outputs": []
    },
    {
      "cell_type": "code",
      "source": [
        "father.prop_grand_father()"
      ],
      "metadata": {
        "colab": {
          "base_uri": "https://localhost:8080/"
        },
        "id": "YeSo_NJNGWMz",
        "outputId": "ba7cb206-d4f3-4216-81b9-b02b88ab3580"
      },
      "execution_count": 33,
      "outputs": [
        {
          "output_type": "stream",
          "name": "stdout",
          "text": [
            "I am your grand father, this is my property\n"
          ]
        }
      ]
    },
    {
      "cell_type": "code",
      "source": [
        "father.prop_father()"
      ],
      "metadata": {
        "colab": {
          "base_uri": "https://localhost:8080/"
        },
        "id": "7sVbkE5SGXf2",
        "outputId": "94b26e72-0837-4886-f3b8-2c683835acf3"
      },
      "execution_count": 34,
      "outputs": [
        {
          "output_type": "stream",
          "name": "stdout",
          "text": [
            "I am your father, I am having my and your grandfather's property\n"
          ]
        }
      ]
    },
    {
      "cell_type": "code",
      "source": [
        "father.prop_grand_father()"
      ],
      "metadata": {
        "colab": {
          "base_uri": "https://localhost:8080/"
        },
        "id": "34SBOwNwGZGg",
        "outputId": "7be784d9-73e8-4529-a5d1-4029b6f37b20"
      },
      "execution_count": 35,
      "outputs": [
        {
          "output_type": "stream",
          "name": "stdout",
          "text": [
            "I am your grand father, this is my property\n"
          ]
        }
      ]
    },
    {
      "cell_type": "code",
      "source": [
        "father.prop_son() #error"
      ],
      "metadata": {
        "colab": {
          "base_uri": "https://localhost:8080/",
          "height": 141
        },
        "id": "Kc8qVmkkGeMi",
        "outputId": "74befa7d-6b19-4c35-9db6-2d10d0f578eb"
      },
      "execution_count": 36,
      "outputs": [
        {
          "output_type": "error",
          "ename": "AttributeError",
          "evalue": "'Father' object has no attribute 'prop_son'",
          "traceback": [
            "\u001b[0;31m---------------------------------------------------------------------------\u001b[0m",
            "\u001b[0;31mAttributeError\u001b[0m                            Traceback (most recent call last)",
            "\u001b[0;32m<ipython-input-36-89af8e081244>\u001b[0m in \u001b[0;36m<cell line: 0>\u001b[0;34m()\u001b[0m\n\u001b[0;32m----> 1\u001b[0;31m \u001b[0mfather\u001b[0m\u001b[0;34m.\u001b[0m\u001b[0mprop_son\u001b[0m\u001b[0;34m(\u001b[0m\u001b[0;34m)\u001b[0m \u001b[0;31m#error\u001b[0m\u001b[0;34m\u001b[0m\u001b[0;34m\u001b[0m\u001b[0m\n\u001b[0m",
            "\u001b[0;31mAttributeError\u001b[0m: 'Father' object has no attribute 'prop_son'"
          ]
        }
      ]
    },
    {
      "cell_type": "code",
      "source": [
        "grand_father = GrandFather()"
      ],
      "metadata": {
        "id": "SeSzWy6WGkE9"
      },
      "execution_count": 37,
      "outputs": []
    },
    {
      "cell_type": "code",
      "source": [
        "grand_father.prop_grand_father()"
      ],
      "metadata": {
        "colab": {
          "base_uri": "https://localhost:8080/"
        },
        "id": "EPZ8gjOwGplv",
        "outputId": "26cef16d-f16c-42f8-d91c-c06b8f6e8c1c"
      },
      "execution_count": 38,
      "outputs": [
        {
          "output_type": "stream",
          "name": "stdout",
          "text": [
            "I am your grand father, this is my property\n"
          ]
        }
      ]
    },
    {
      "cell_type": "code",
      "source": [
        "grand_father.prop_father() #error"
      ],
      "metadata": {
        "colab": {
          "base_uri": "https://localhost:8080/",
          "height": 141
        },
        "id": "qPNpZJJ9Grsw",
        "outputId": "79fc66ab-6a3b-416f-9ca5-9329527bac08"
      },
      "execution_count": 39,
      "outputs": [
        {
          "output_type": "error",
          "ename": "AttributeError",
          "evalue": "'GrandFather' object has no attribute 'prop_father'",
          "traceback": [
            "\u001b[0;31m---------------------------------------------------------------------------\u001b[0m",
            "\u001b[0;31mAttributeError\u001b[0m                            Traceback (most recent call last)",
            "\u001b[0;32m<ipython-input-39-8489cce4b2ea>\u001b[0m in \u001b[0;36m<cell line: 0>\u001b[0;34m()\u001b[0m\n\u001b[0;32m----> 1\u001b[0;31m \u001b[0mgrand_father\u001b[0m\u001b[0;34m.\u001b[0m\u001b[0mprop_father\u001b[0m\u001b[0;34m(\u001b[0m\u001b[0;34m)\u001b[0m \u001b[0;31m#error\u001b[0m\u001b[0;34m\u001b[0m\u001b[0;34m\u001b[0m\u001b[0m\n\u001b[0m",
            "\u001b[0;31mAttributeError\u001b[0m: 'GrandFather' object has no attribute 'prop_father'"
          ]
        }
      ]
    },
    {
      "cell_type": "code",
      "source": [
        "grand_father.prop_son() #error"
      ],
      "metadata": {
        "colab": {
          "base_uri": "https://localhost:8080/",
          "height": 141
        },
        "id": "8G_cBsSeGuiw",
        "outputId": "f7d896d7-f2da-434e-b673-018981780838"
      },
      "execution_count": 40,
      "outputs": [
        {
          "output_type": "error",
          "ename": "AttributeError",
          "evalue": "'GrandFather' object has no attribute 'prop_son'",
          "traceback": [
            "\u001b[0;31m---------------------------------------------------------------------------\u001b[0m",
            "\u001b[0;31mAttributeError\u001b[0m                            Traceback (most recent call last)",
            "\u001b[0;32m<ipython-input-40-91b7b0d28478>\u001b[0m in \u001b[0;36m<cell line: 0>\u001b[0;34m()\u001b[0m\n\u001b[0;32m----> 1\u001b[0;31m \u001b[0mgrand_father\u001b[0m\u001b[0;34m.\u001b[0m\u001b[0mprop_son\u001b[0m\u001b[0;34m(\u001b[0m\u001b[0;34m)\u001b[0m \u001b[0;31m#error\u001b[0m\u001b[0;34m\u001b[0m\u001b[0;34m\u001b[0m\u001b[0m\n\u001b[0m",
            "\u001b[0;31mAttributeError\u001b[0m: 'GrandFather' object has no attribute 'prop_son'"
          ]
        }
      ]
    },
    {
      "cell_type": "code",
      "source": [
        "#use case\n",
        "class Vehicle:\n",
        "  def vehicle_info(self):\n",
        "    print(\"Inside Vehicle Class\")\n",
        "class Car(Vehicle):\n",
        "  def car_info(self):\n",
        "    print(\"Inside Car Class\")\n",
        "class SportsCar(Car):\n",
        "  def sports_car_info(self):\n",
        "    print(\"Inside Sports Car Class\")"
      ],
      "metadata": {
        "id": "kRWXWYiGzsmt"
      },
      "execution_count": null,
      "outputs": []
    },
    {
      "cell_type": "code",
      "source": [
        "s1 = SportsCar()\n",
        "s1.sports_car_info()"
      ],
      "metadata": {
        "colab": {
          "base_uri": "https://localhost:8080/"
        },
        "id": "pSvq5QjwH_-q",
        "outputId": "c506023c-ab36-4a1c-e15b-1a508c3ac326"
      },
      "execution_count": 42,
      "outputs": [
        {
          "output_type": "stream",
          "name": "stdout",
          "text": [
            "Inside Sports Car Class\n"
          ]
        }
      ]
    },
    {
      "cell_type": "code",
      "source": [
        "s1.vehicle_info()"
      ],
      "metadata": {
        "colab": {
          "base_uri": "https://localhost:8080/"
        },
        "id": "B4ZL8u_VIB3q",
        "outputId": "e351013f-9ee3-44a7-d92b-b0f33e27f596"
      },
      "execution_count": 43,
      "outputs": [
        {
          "output_type": "stream",
          "name": "stdout",
          "text": [
            "Inside Vehicle Class\n"
          ]
        }
      ]
    },
    {
      "cell_type": "code",
      "source": [
        "s1.car_info()"
      ],
      "metadata": {
        "colab": {
          "base_uri": "https://localhost:8080/"
        },
        "id": "QdIZXeZnIETh",
        "outputId": "4857a97b-c024-460c-bc84-36d233f79c2e"
      },
      "execution_count": 44,
      "outputs": [
        {
          "output_type": "stream",
          "name": "stdout",
          "text": [
            "Inside Car Class\n"
          ]
        }
      ]
    },
    {
      "cell_type": "code",
      "source": [
        "#another example of method overriding\n",
        "class Vehicle:\n",
        "  def vehicle_info(self):\n",
        "    print(\"Inside Vehicle Class\")\n",
        "class Car(Vehicle):\n",
        "  def car_info(self):\n",
        "    print(\"Inside Car Class\")\n",
        "class SportsCar(Car):\n",
        "  def vehicle_info(self):\n",
        "    print(\"Inside Sports Car Class\")"
      ],
      "metadata": {
        "id": "4z5mhwOhIGhN"
      },
      "execution_count": 45,
      "outputs": []
    },
    {
      "cell_type": "code",
      "source": [
        "s1 = SportsCar()\n",
        "s1.vehicle_info() #method overriding >> class is most powerfull"
      ],
      "metadata": {
        "colab": {
          "base_uri": "https://localhost:8080/"
        },
        "id": "dPS_9z7VIgW8",
        "outputId": "10981dd9-55f8-442f-8b1d-619f9c90632f"
      },
      "execution_count": 46,
      "outputs": [
        {
          "output_type": "stream",
          "name": "stdout",
          "text": [
            "Inside Sports Car Class\n"
          ]
        }
      ]
    },
    {
      "cell_type": "code",
      "source": [
        "#multiple inheritance >> one child class may inherit the property of multiple parent class\n"
      ],
      "metadata": {
        "id": "iY5FiSEnIlJP"
      },
      "execution_count": 47,
      "outputs": []
    },
    {
      "cell_type": "code",
      "source": [
        "class ParentClass1:\n",
        "  def method1(self):\n",
        "    print(\"Method 1 of  Parent Class 1\")\n",
        "class ParentClass2:\n",
        "  def method2(self):\n",
        "    print(\"Method 2 of  Parent Class 2\")"
      ],
      "metadata": {
        "id": "sc6ss9ZfJZd2"
      },
      "execution_count": 48,
      "outputs": []
    },
    {
      "cell_type": "code",
      "source": [
        "class ChildClass(ParentClass1,ParentClass2):\n",
        "  def method3(self):\n",
        "    print(\"Method 3 of Child Class\")"
      ],
      "metadata": {
        "id": "MK2HReVNJ00_"
      },
      "execution_count": 49,
      "outputs": []
    },
    {
      "cell_type": "code",
      "source": [
        "c1 = ChildClass()"
      ],
      "metadata": {
        "id": "lq6YPeiDJ-cg"
      },
      "execution_count": 50,
      "outputs": []
    },
    {
      "cell_type": "code",
      "source": [
        "c1.method1()"
      ],
      "metadata": {
        "colab": {
          "base_uri": "https://localhost:8080/"
        },
        "id": "cshJFmGBKDId",
        "outputId": "623301e6-834b-4ce9-e2c3-858fde6eb3ed"
      },
      "execution_count": 51,
      "outputs": [
        {
          "output_type": "stream",
          "name": "stdout",
          "text": [
            "Method 1 of  Parent Class 1\n"
          ]
        }
      ]
    },
    {
      "cell_type": "code",
      "source": [
        "c1.method2()"
      ],
      "metadata": {
        "colab": {
          "base_uri": "https://localhost:8080/"
        },
        "id": "nCf9dKtIKGA-",
        "outputId": "101fc569-b53e-4200-e1a9-f0a275857c5e"
      },
      "execution_count": 52,
      "outputs": [
        {
          "output_type": "stream",
          "name": "stdout",
          "text": [
            "Method 2 of  Parent Class 2\n"
          ]
        }
      ]
    },
    {
      "cell_type": "code",
      "source": [
        "c1.method3()"
      ],
      "metadata": {
        "colab": {
          "base_uri": "https://localhost:8080/"
        },
        "id": "Y-8wZU8yKIh5",
        "outputId": "327addc5-313c-4a01-8823-42a49aea15f8"
      },
      "execution_count": 53,
      "outputs": [
        {
          "output_type": "stream",
          "name": "stdout",
          "text": [
            "Method 3 of Child Class\n"
          ]
        }
      ]
    },
    {
      "cell_type": "code",
      "source": [
        "#diamond problem >> it occurs when a class inherit from 2 or more than 2 class >> will leading to ambiguity in execution of methods\n",
        "#to remove diamond problem>> python uses method resolution order(MRO) algorithm called c3 linearization\n",
        "#meaning that the class that is inherited firdt in the derived class, that method will be called\n",
        "\n",
        "class ParentClass1:\n",
        "  def method_par(self):\n",
        "    print(\"Method 1 of  Parent Class 1\")\n",
        "class ParentClass2:\n",
        "  def method_par(self):\n",
        "    print(\"Method 2 of  Parent Class 2\")\n",
        "class ChildClass(ParentClass1,ParentClass2):\n",
        "  def method(self):\n",
        "    print(\"Method 3 of Child Class\")"
      ],
      "metadata": {
        "id": "g5dt-H9DKMT2"
      },
      "execution_count": 54,
      "outputs": []
    },
    {
      "cell_type": "code",
      "source": [
        "c2 = ChildClass()"
      ],
      "metadata": {
        "id": "rn2QUez6KjX-"
      },
      "execution_count": 55,
      "outputs": []
    },
    {
      "cell_type": "code",
      "source": [
        "c2.method_par()"
      ],
      "metadata": {
        "colab": {
          "base_uri": "https://localhost:8080/"
        },
        "id": "dh_nA6LeKnuv",
        "outputId": "656b5311-a5b1-4064-b9a1-52f5e4789834"
      },
      "execution_count": 57,
      "outputs": [
        {
          "output_type": "stream",
          "name": "stdout",
          "text": [
            "Method 1 of  Parent Class 1\n"
          ]
        }
      ]
    },
    {
      "cell_type": "code",
      "source": [
        "#diamond problem\n",
        "\"\"\"\n",
        "    A\n",
        "  /   \\\n",
        "  B   C\n",
        "  \\   /\n",
        "    D\n",
        "\"\"\"\n",
        "class A:\n",
        "  def method(self):\n",
        "    print(\"Method of Class A\")\n",
        "class B(A):\n",
        "  def method(self):\n",
        "    print(\"Method of Class B\")\n",
        "class C(A):\n",
        "  def method(self):\n",
        "    print(\"Method of Class C\")\n",
        "class D(B, C):\n",
        "  pass"
      ],
      "metadata": {
        "id": "Pd-Dc_tSMdJA"
      },
      "execution_count": 60,
      "outputs": []
    },
    {
      "cell_type": "code",
      "source": [
        "d = D()\n",
        "d.method()"
      ],
      "metadata": {
        "colab": {
          "base_uri": "https://localhost:8080/"
        },
        "id": "b-SEzkM2MtOD",
        "outputId": "dbaeec2e-ba72-4be8-f560-7cf01df8b48f"
      },
      "execution_count": 61,
      "outputs": [
        {
          "output_type": "stream",
          "name": "stdout",
          "text": [
            "Method of Class B\n"
          ]
        }
      ]
    },
    {
      "cell_type": "code",
      "source": [
        "#hierarchical inheritance >> one parent class >> multiple(More than two childclass)"
      ],
      "metadata": {
        "id": "_a96mkXkM6mN"
      },
      "execution_count": 1,
      "outputs": []
    },
    {
      "cell_type": "code",
      "source": [
        "class Vehicle:\n",
        "  def info(self):\n",
        "    print(\"This is Vehicle\")\n",
        "class Car(Vehicle):\n",
        "  def car_info(self, name):\n",
        "    print(\"This Is Car info\", name)\n",
        "class Truck(Vehicle):\n",
        "  def truck_info(self,name):\n",
        "    print(\"This is Truck info\", name)"
      ],
      "metadata": {
        "id": "m6laTpCbhgFY"
      },
      "execution_count": 2,
      "outputs": []
    },
    {
      "cell_type": "code",
      "source": [
        "c1 = Car()\n",
        "c1.info()"
      ],
      "metadata": {
        "colab": {
          "base_uri": "https://localhost:8080/"
        },
        "id": "mG2EfMDZiEom",
        "outputId": "d2a67ad9-eb9f-4326-af6a-970eea21867b"
      },
      "execution_count": 3,
      "outputs": [
        {
          "output_type": "stream",
          "name": "stdout",
          "text": [
            "This is Vehicle\n"
          ]
        }
      ]
    },
    {
      "cell_type": "code",
      "source": [
        "c1.car_info(\"BMW\")"
      ],
      "metadata": {
        "colab": {
          "base_uri": "https://localhost:8080/"
        },
        "id": "xshjyB8wiHIH",
        "outputId": "e9333dfb-0fc6-4299-e715-3dfe6491ee2d"
      },
      "execution_count": 4,
      "outputs": [
        {
          "output_type": "stream",
          "name": "stdout",
          "text": [
            "This Is Car info BMW\n"
          ]
        }
      ]
    },
    {
      "cell_type": "code",
      "source": [
        "t1 = Truck()\n",
        "t1.info()"
      ],
      "metadata": {
        "colab": {
          "base_uri": "https://localhost:8080/"
        },
        "id": "lOX8j37UiKLJ",
        "outputId": "8c167ea1-9bdd-443e-d6d3-2bcebd30b7ca"
      },
      "execution_count": 5,
      "outputs": [
        {
          "output_type": "stream",
          "name": "stdout",
          "text": [
            "This is Vehicle\n"
          ]
        }
      ]
    },
    {
      "cell_type": "code",
      "source": [
        "t1.truck_info(\"Tata\")"
      ],
      "metadata": {
        "colab": {
          "base_uri": "https://localhost:8080/"
        },
        "id": "ecqig67LiVKz",
        "outputId": "08de7857-b9a9-44ca-9e85-1ce37fa4cce7"
      },
      "execution_count": 6,
      "outputs": [
        {
          "output_type": "stream",
          "name": "stdout",
          "text": [
            "This is Truck info Tata\n"
          ]
        }
      ]
    },
    {
      "cell_type": "code",
      "source": [
        "#hybrid inheritance>> multiple type  or combination of different inheritance"
      ],
      "metadata": {
        "id": "QOHrR9J2iV5J"
      },
      "execution_count": 7,
      "outputs": []
    },
    {
      "cell_type": "code",
      "source": [
        "class Vehicle:\n",
        "  def vehicle_info(self):\n",
        "    print(\"Inside the Vehicle class\")\n",
        "\n",
        "class Car(Vehicle):\n",
        "    def car_info(self):\n",
        "      print(\"Inside the Car class\")\n",
        "\n",
        "class Truck(Vehicle):\n",
        "    def truck_info(self,name):\n",
        "      print(\"Inside the Truck class\", name)\n",
        "\n",
        "class SportsCar(Car, Vehicle):\n",
        "    def sports_car_info(self):\n",
        "      print(\"Inside the SportsCar class\")\n",
        "\n"
      ],
      "metadata": {
        "id": "ojt386-kjAX0"
      },
      "execution_count": 8,
      "outputs": []
    },
    {
      "cell_type": "code",
      "source": [
        "obj1 = SportsCar()\n",
        "obj1.vehicle_info()"
      ],
      "metadata": {
        "colab": {
          "base_uri": "https://localhost:8080/"
        },
        "id": "9eg3U4E0juWT",
        "outputId": "cd431869-f71c-418f-b224-c2e2bacdd97c"
      },
      "execution_count": 9,
      "outputs": [
        {
          "output_type": "stream",
          "name": "stdout",
          "text": [
            "Inside the Vehicle class\n"
          ]
        }
      ]
    },
    {
      "cell_type": "code",
      "source": [
        "obj1.car_info()"
      ],
      "metadata": {
        "colab": {
          "base_uri": "https://localhost:8080/"
        },
        "id": "LBSkEYfVj0NN",
        "outputId": "b83a7eb1-b05e-414d-fec0-a61e41d69228"
      },
      "execution_count": 10,
      "outputs": [
        {
          "output_type": "stream",
          "name": "stdout",
          "text": [
            "Inside the Car class\n"
          ]
        }
      ]
    },
    {
      "cell_type": "code",
      "source": [
        "obj1.sports_car_info()"
      ],
      "metadata": {
        "colab": {
          "base_uri": "https://localhost:8080/"
        },
        "id": "S-vLShyYj4ui",
        "outputId": "f5f6fbf6-349d-492a-fddf-b0f182babbbf"
      },
      "execution_count": 11,
      "outputs": [
        {
          "output_type": "stream",
          "name": "stdout",
          "text": [
            "Inside the SportsCar class\n"
          ]
        }
      ]
    },
    {
      "cell_type": "code",
      "source": [
        "#abstraction>> concept of hiding complex implementation\n",
        "#hiding unneeded details and exposing the required\n",
        "#abstract class can not be instantiate ( can not make object )\n",
        "#abstract class should always be subclassed\n",
        "#abstract class may content methodes that are just declared and not implemented in the abstract class itself, subclass are responsible for implementing these abstract methods\n",
        "#if in inherited class a method is not present from abstract class it will not throw error"
      ],
      "metadata": {
        "id": "Ofp5E0Ckj9sL"
      },
      "execution_count": 38,
      "outputs": []
    },
    {
      "cell_type": "code",
      "source": [
        "#example >> if we use an app to attend class. do we see the backend code or just an interface to attend the class\n",
        "# we just see interface"
      ],
      "metadata": {
        "id": "yQoN8tjYpSUH"
      },
      "execution_count": 13,
      "outputs": []
    },
    {
      "cell_type": "code",
      "source": [
        "#abstraction can be achived using abstract class >> import abc"
      ],
      "metadata": {
        "id": "YeMHVFm3qrc8"
      },
      "execution_count": 14,
      "outputs": []
    },
    {
      "cell_type": "code",
      "source": [
        "import abc #collection of multiple function is a module"
      ],
      "metadata": {
        "id": "7aB_GjrxrjpA"
      },
      "execution_count": 15,
      "outputs": []
    },
    {
      "cell_type": "code",
      "source": [
        "#use case\n",
        "#in any class at CourseApp >> data science / frontend/backend, the following three methods will be same\n",
        "\n",
        "class CourseApp:\n",
        "  @abc.abstractmethod\n",
        "  def student_details(self):\n",
        "    pass\n",
        "  @abc.abstractmethod\n",
        "  def student_assigment(self):\n",
        "    pass\n",
        "  @abc.abstractmethod\n",
        "  def student_marks(self):\n",
        "    pass"
      ],
      "metadata": {
        "id": "ZwcuSbiirvC9"
      },
      "execution_count": 18,
      "outputs": []
    },
    {
      "cell_type": "code",
      "source": [
        "class DataScience(CourseApp):\n",
        "  def student_details(self):\n",
        "    return \"Data Science course details\"\n",
        "  def student_assigment(self):\n",
        "    return \"Assigment for Data Science\"\n",
        "  # def student_marks(self):\n",
        "  #   return \"Give  Data Science marks\""
      ],
      "metadata": {
        "id": "XVuQovqFr7fr"
      },
      "execution_count": 23,
      "outputs": []
    },
    {
      "cell_type": "code",
      "source": [
        "class WebDev(CourseApp):\n",
        "  def student_details(self):\n",
        "    return \"Web Dev course details\"\n",
        "  # def student_assigment(self):\n",
        "  #   return \"Assigment for Web Dev\"\n",
        "  def student_marks(self):\n",
        "    return \"Give  Web Dev marks\""
      ],
      "metadata": {
        "id": "21aIAKBSu_b6"
      },
      "execution_count": 31,
      "outputs": []
    },
    {
      "cell_type": "code",
      "source": [
        "ds = DataScience()\n",
        "ds.student_details()"
      ],
      "metadata": {
        "colab": {
          "base_uri": "https://localhost:8080/",
          "height": 35
        },
        "id": "u1iMYOoDvae0",
        "outputId": "a7a43058-d9d0-4df6-c18c-9d583faf4085"
      },
      "execution_count": 32,
      "outputs": [
        {
          "output_type": "execute_result",
          "data": {
            "text/plain": [
              "'Data Science course details'"
            ],
            "application/vnd.google.colaboratory.intrinsic+json": {
              "type": "string"
            }
          },
          "metadata": {},
          "execution_count": 32
        }
      ]
    },
    {
      "cell_type": "code",
      "source": [
        "ds.student_marks() #it will not throw any error even if any method is not define"
      ],
      "metadata": {
        "id": "DV63Q06uviX5"
      },
      "execution_count": 33,
      "outputs": []
    },
    {
      "cell_type": "code",
      "source": [
        "ds.student_assigment()"
      ],
      "metadata": {
        "colab": {
          "base_uri": "https://localhost:8080/",
          "height": 35
        },
        "id": "I_oe9OhhwTix",
        "outputId": "60010ce1-90ba-4695-fb74-2bc4ea13eb2e"
      },
      "execution_count": 34,
      "outputs": [
        {
          "output_type": "execute_result",
          "data": {
            "text/plain": [
              "'Assigment for Data Science'"
            ],
            "application/vnd.google.colaboratory.intrinsic+json": {
              "type": "string"
            }
          },
          "metadata": {},
          "execution_count": 34
        }
      ]
    },
    {
      "cell_type": "code",
      "source": [
        "w = WebDev()\n",
        "w.student_details()"
      ],
      "metadata": {
        "colab": {
          "base_uri": "https://localhost:8080/",
          "height": 35
        },
        "id": "NljgXoUbw_yU",
        "outputId": "5d7af554-8a1e-4fa0-be20-dc62506de698"
      },
      "execution_count": 35,
      "outputs": [
        {
          "output_type": "execute_result",
          "data": {
            "text/plain": [
              "'Web Dev course details'"
            ],
            "application/vnd.google.colaboratory.intrinsic+json": {
              "type": "string"
            }
          },
          "metadata": {},
          "execution_count": 35
        }
      ]
    },
    {
      "cell_type": "code",
      "source": [
        "w.student_marks()"
      ],
      "metadata": {
        "colab": {
          "base_uri": "https://localhost:8080/",
          "height": 35
        },
        "id": "yoBhP9_TxCwf",
        "outputId": "169116d2-1474-43e5-e66f-c577d050159d"
      },
      "execution_count": 36,
      "outputs": [
        {
          "output_type": "execute_result",
          "data": {
            "text/plain": [
              "'Give  Web Dev marks'"
            ],
            "application/vnd.google.colaboratory.intrinsic+json": {
              "type": "string"
            }
          },
          "metadata": {},
          "execution_count": 36
        }
      ]
    },
    {
      "cell_type": "code",
      "source": [
        "w.student_assigment()"
      ],
      "metadata": {
        "id": "XAMzJs_txH9c"
      },
      "execution_count": 37,
      "outputs": []
    },
    {
      "cell_type": "code",
      "source": [
        "#use case\n",
        "class Shape:\n",
        "  @abc.abstractmethod\n",
        "  def calculate_area(self):\n",
        "    pass\n",
        "  @abc.abstractmethod\n",
        "  def calculate_perimeter(self):\n",
        "    pass\n",
        "class Rectangle(Shape):\n",
        "  def calculate_area(self):\n",
        "    return \"Area of Rectangle is length * Breadth\"\n",
        "\n",
        "class Circle(Shape):\n",
        "  def calculate_area(self):\n",
        "    return \"Area of Circle is pi r ** 2\""
      ],
      "metadata": {
        "id": "zbFsbJL4yon1"
      },
      "execution_count": 39,
      "outputs": []
    },
    {
      "cell_type": "code",
      "source": [
        "rect = Rectangle()\n",
        "rect.calculate_area()"
      ],
      "metadata": {
        "colab": {
          "base_uri": "https://localhost:8080/",
          "height": 35
        },
        "id": "xXSZwIQFzJ6t",
        "outputId": "291bd98c-8b2e-4a91-d3bf-db3950b7b317"
      },
      "execution_count": 40,
      "outputs": [
        {
          "output_type": "execute_result",
          "data": {
            "text/plain": [
              "'Area of Rectangle is length * Breadth'"
            ],
            "application/vnd.google.colaboratory.intrinsic+json": {
              "type": "string"
            }
          },
          "metadata": {},
          "execution_count": 40
        }
      ]
    },
    {
      "cell_type": "code",
      "source": [
        "c = Circle()\n",
        "c.calculate_area()"
      ],
      "metadata": {
        "colab": {
          "base_uri": "https://localhost:8080/",
          "height": 35
        },
        "id": "yqZk4JCTzNna",
        "outputId": "6f4e65b6-ae59-4088-f1ef-95a7d44a1706"
      },
      "execution_count": 41,
      "outputs": [
        {
          "output_type": "execute_result",
          "data": {
            "text/plain": [
              "'Area of Circle is pi r ** 2'"
            ],
            "application/vnd.google.colaboratory.intrinsic+json": {
              "type": "string"
            }
          },
          "metadata": {},
          "execution_count": 41
        }
      ]
    },
    {
      "cell_type": "code",
      "source": [],
      "metadata": {
        "id": "VjzLWyQvzTAN"
      },
      "execution_count": null,
      "outputs": []
    }
  ]
}