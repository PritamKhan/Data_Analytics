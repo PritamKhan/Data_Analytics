{
  "nbformat": 4,
  "nbformat_minor": 0,
  "metadata": {
    "colab": {
      "provenance": [],
      "authorship_tag": "ABX9TyNjSMtAnJeKXU3v5iHuTrfy",
      "include_colab_link": true
    },
    "kernelspec": {
      "name": "python3",
      "display_name": "Python 3"
    },
    "language_info": {
      "name": "python"
    }
  },
  "cells": [
    {
      "cell_type": "markdown",
      "metadata": {
        "id": "view-in-github",
        "colab_type": "text"
      },
      "source": [
        "<a href=\"https://colab.research.google.com/github/PritamKhan/Data_Analytics/blob/master/polymophism_and_encapsulation.ipynb\" target=\"_parent\"><img src=\"https://colab.research.google.com/assets/colab-badge.svg\" alt=\"Open In Colab\"/></a>"
      ]
    },
    {
      "cell_type": "code",
      "execution_count": 109,
      "metadata": {
        "id": "sLgt1XlFK_DH"
      },
      "outputs": [],
      "source": [
        "#polymorphism >> poly mean many and morphism means forms/states\n",
        "#refer to an object taking several forms depending on the method/data"
      ]
    },
    {
      "cell_type": "code",
      "source": [
        "len(\"Pritam\")"
      ],
      "metadata": {
        "colab": {
          "base_uri": "https://localhost:8080/"
        },
        "id": "06w6jBbDQTCa",
        "outputId": "9f6d620f-4a9e-4b87-ae39-56f2b53cbd58"
      },
      "execution_count": 110,
      "outputs": [
        {
          "output_type": "execute_result",
          "data": {
            "text/plain": [
              "6"
            ]
          },
          "metadata": {},
          "execution_count": 110
        }
      ]
    },
    {
      "cell_type": "code",
      "source": [
        "len([1, 2, 3, 4, 5, 6])"
      ],
      "metadata": {
        "colab": {
          "base_uri": "https://localhost:8080/"
        },
        "id": "qtWMG6pAQZpq",
        "outputId": "57ee01c7-1e4d-4908-9b7f-b0e530d57317"
      },
      "execution_count": 111,
      "outputs": [
        {
          "output_type": "execute_result",
          "data": {
            "text/plain": [
              "6"
            ]
          },
          "metadata": {},
          "execution_count": 111
        }
      ]
    },
    {
      "cell_type": "code",
      "source": [
        "len((1, 2))"
      ],
      "metadata": {
        "colab": {
          "base_uri": "https://localhost:8080/"
        },
        "id": "WFIWPie3Qfr9",
        "outputId": "b0a67a5d-28d8-47e4-eb83-d9b5d5e9da33"
      },
      "execution_count": 112,
      "outputs": [
        {
          "output_type": "execute_result",
          "data": {
            "text/plain": [
              "2"
            ]
          },
          "metadata": {},
          "execution_count": 112
        }
      ]
    },
    {
      "cell_type": "code",
      "source": [
        "def func(a, b):\n",
        "  return a + b"
      ],
      "metadata": {
        "id": "x-2LXTIuQiD2"
      },
      "execution_count": 113,
      "outputs": []
    },
    {
      "cell_type": "code",
      "source": [
        "func(2, 3) #same +, adding two numbers"
      ],
      "metadata": {
        "colab": {
          "base_uri": "https://localhost:8080/"
        },
        "id": "NtxS4shQWhnK",
        "outputId": "2993da46-2f9a-4d1c-8976-ff17922d392c"
      },
      "execution_count": 114,
      "outputs": [
        {
          "output_type": "execute_result",
          "data": {
            "text/plain": [
              "5"
            ]
          },
          "metadata": {},
          "execution_count": 114
        }
      ]
    },
    {
      "cell_type": "code",
      "source": [
        "func(\"Pritam\", \" Khan\") #same +, combining two strings"
      ],
      "metadata": {
        "colab": {
          "base_uri": "https://localhost:8080/",
          "height": 35
        },
        "id": "jrnW90STWMM3",
        "outputId": "848ecb72-f82f-4305-ff24-91fed1575efb"
      },
      "execution_count": 115,
      "outputs": [
        {
          "output_type": "execute_result",
          "data": {
            "text/plain": [
              "'Pritam Khan'"
            ],
            "application/vnd.google.colaboratory.intrinsic+json": {
              "type": "string"
            }
          },
          "metadata": {},
          "execution_count": 115
        }
      ]
    },
    {
      "cell_type": "code",
      "source": [
        "func([1,2,3],[4,5,6]) #the list concatenation"
      ],
      "metadata": {
        "colab": {
          "base_uri": "https://localhost:8080/"
        },
        "id": "BGcqHzBoWdnG",
        "outputId": "3b06b4ac-b3e8-4160-8d7e-231c235b25f9"
      },
      "execution_count": 116,
      "outputs": [
        {
          "output_type": "execute_result",
          "data": {
            "text/plain": [
              "[1, 2, 3, 4, 5, 6]"
            ]
          },
          "metadata": {},
          "execution_count": 116
        }
      ]
    },
    {
      "cell_type": "code",
      "source": [
        "#observation >> func is taking different forms with respect to different data passed"
      ],
      "metadata": {
        "id": "6CkVXP6TXMtI"
      },
      "execution_count": 117,
      "outputs": []
    },
    {
      "cell_type": "code",
      "source": [
        "class Teacher_lecture:\n",
        "  def lec_info(self):\n",
        "    print(\"This is lec info with teacher perspective\")\n",
        "class Student_lecture:\n",
        "  def lec_info(self):\n",
        "    print(\"This is lec info with student perspective\")"
      ],
      "metadata": {
        "id": "A7zy-YjyX3jV"
      },
      "execution_count": 118,
      "outputs": []
    },
    {
      "cell_type": "code",
      "source": [
        "obj1 = Teacher_lecture()\n",
        "obj2 = Student_lecture()"
      ],
      "metadata": {
        "id": "GPOt-wgQddd4"
      },
      "execution_count": 119,
      "outputs": []
    },
    {
      "cell_type": "code",
      "source": [
        "class_obj = [obj1, obj2]"
      ],
      "metadata": {
        "id": "X2jOBb7bdmNB"
      },
      "execution_count": 120,
      "outputs": []
    },
    {
      "cell_type": "code",
      "source": [
        "def parcer(class_obj):\n",
        "  for i in class_obj:\n",
        "    i.lec_info() #at this point, lec_info is taking two forms wrt teacher and student"
      ],
      "metadata": {
        "id": "BW4jb-3ydsZ5"
      },
      "execution_count": 121,
      "outputs": []
    },
    {
      "cell_type": "code",
      "source": [
        "parcer(class_obj)"
      ],
      "metadata": {
        "colab": {
          "base_uri": "https://localhost:8080/"
        },
        "id": "W9Elo8e9d4W2",
        "outputId": "998fee1d-d546-4f37-d257-6528dc745ef5"
      },
      "execution_count": 122,
      "outputs": [
        {
          "output_type": "stream",
          "name": "stdout",
          "text": [
            "This is lec info with teacher perspective\n",
            "This is lec info with student perspective\n"
          ]
        }
      ]
    },
    {
      "cell_type": "code",
      "source": [
        "#polymorphism in oops takes places in two ways:\n",
        "#method overloading >> python doesn't support true method overloading\n",
        "#method overriding"
      ],
      "metadata": {
        "id": "VKp3w-VmfLEQ"
      },
      "execution_count": 123,
      "outputs": []
    },
    {
      "cell_type": "code",
      "source": [
        "#method overloading"
      ],
      "metadata": {
        "id": "gcjUooabd9rr"
      },
      "execution_count": 124,
      "outputs": []
    },
    {
      "cell_type": "code",
      "source": [
        "class Student:\n",
        "  def student(self):\n",
        "    print(\"Welcome to the class\")\n",
        "  def student(self, name = \"\"):\n",
        "    print(\"Welcome to the class\", name)\n",
        "  def student(self, name = \"\", course = \"\"):\n",
        "    print(\"Welcome to the class\", name, course)"
      ],
      "metadata": {
        "id": "P_gM2gmogbNx"
      },
      "execution_count": 125,
      "outputs": []
    },
    {
      "cell_type": "code",
      "source": [
        "stud = Student()"
      ],
      "metadata": {
        "id": "KGe13L3PhRfa"
      },
      "execution_count": 126,
      "outputs": []
    },
    {
      "cell_type": "code",
      "source": [
        "stud.student()"
      ],
      "metadata": {
        "colab": {
          "base_uri": "https://localhost:8080/"
        },
        "id": "W7Xd2EGchbYh",
        "outputId": "9e6b4cc0-7852-4cf2-9142-47c665374f4d"
      },
      "execution_count": 127,
      "outputs": [
        {
          "output_type": "stream",
          "name": "stdout",
          "text": [
            "Welcome to the class  \n"
          ]
        }
      ]
    },
    {
      "cell_type": "code",
      "source": [
        "stud.student(\"Pritam\")"
      ],
      "metadata": {
        "colab": {
          "base_uri": "https://localhost:8080/"
        },
        "id": "aGRb0wcOhcyW",
        "outputId": "87925ad1-3283-40ee-e946-44faec455a1b"
      },
      "execution_count": 128,
      "outputs": [
        {
          "output_type": "stream",
          "name": "stdout",
          "text": [
            "Welcome to the class Pritam \n"
          ]
        }
      ]
    },
    {
      "cell_type": "code",
      "source": [
        "stud.student(\"Pritam\", \"Data Analytics\")"
      ],
      "metadata": {
        "colab": {
          "base_uri": "https://localhost:8080/"
        },
        "id": "DkI_KGEVhhf_",
        "outputId": "1db41ba6-b234-48ed-a25c-db2a187026e0"
      },
      "execution_count": 129,
      "outputs": [
        {
          "output_type": "stream",
          "name": "stdout",
          "text": [
            "Welcome to the class Pritam Data Analytics\n"
          ]
        }
      ]
    },
    {
      "cell_type": "code",
      "source": [
        "#method oveloading >> stdent method is taking different forms, the last method overloads the previous onces in the same class\n",
        "class Student:\n",
        "  def student(self, name = \"\", course = \"\"):\n",
        "    print(\"Welcome to the class\", name, course)"
      ],
      "metadata": {
        "id": "2mSGagIBiA_J"
      },
      "execution_count": 130,
      "outputs": []
    },
    {
      "cell_type": "code",
      "source": [
        "stud = Student()\n",
        "stud.student()"
      ],
      "metadata": {
        "colab": {
          "base_uri": "https://localhost:8080/"
        },
        "id": "zgK5JftPkGJi",
        "outputId": "8cdfe8f9-9e9b-454d-cad4-9a96fdc3b5d5"
      },
      "execution_count": 131,
      "outputs": [
        {
          "output_type": "stream",
          "name": "stdout",
          "text": [
            "Welcome to the class  \n"
          ]
        }
      ]
    },
    {
      "cell_type": "code",
      "source": [
        "stud.student(\"Akash\")"
      ],
      "metadata": {
        "colab": {
          "base_uri": "https://localhost:8080/"
        },
        "id": "ZwvhD2FvkQFt",
        "outputId": "ae27076f-f079-410b-d4bd-f8e0deaaff66"
      },
      "execution_count": 132,
      "outputs": [
        {
          "output_type": "stream",
          "name": "stdout",
          "text": [
            "Welcome to the class Akash \n"
          ]
        }
      ]
    },
    {
      "cell_type": "code",
      "source": [
        "stud.student(\"Akash\", \"DS\")"
      ],
      "metadata": {
        "colab": {
          "base_uri": "https://localhost:8080/"
        },
        "id": "WrTtdmU2kVpb",
        "outputId": "4b20704c-8a46-43ad-e187-2b501840c66b"
      },
      "execution_count": 133,
      "outputs": [
        {
          "output_type": "stream",
          "name": "stdout",
          "text": [
            "Welcome to the class Akash DS\n"
          ]
        }
      ]
    },
    {
      "cell_type": "code",
      "source": [
        "#method overloading happens in the same class"
      ],
      "metadata": {
        "id": "CTGVOoiGka7D"
      },
      "execution_count": 134,
      "outputs": []
    },
    {
      "cell_type": "code",
      "source": [
        "#method overriding >> method in parent class and child class with same signature, the child class method will be executed"
      ],
      "metadata": {
        "id": "jI4v1_xcpGTJ"
      },
      "execution_count": 135,
      "outputs": []
    },
    {
      "cell_type": "code",
      "source": [
        "class Animal:\n",
        "  def sound(self):\n",
        "    print(\"This is animal sound\")\n",
        "class Dog(Animal):\n",
        "  def sound(self):\n",
        "    print(\"Dog barking\")"
      ],
      "metadata": {
        "id": "FOMWYPlgpg2b"
      },
      "execution_count": 136,
      "outputs": []
    },
    {
      "cell_type": "code",
      "source": [
        "ann = Animal()"
      ],
      "metadata": {
        "id": "8lnKj3koqC09"
      },
      "execution_count": 137,
      "outputs": []
    },
    {
      "cell_type": "code",
      "source": [
        "ann.sound()"
      ],
      "metadata": {
        "colab": {
          "base_uri": "https://localhost:8080/"
        },
        "id": "YxkKZro9qJJA",
        "outputId": "8b6a555c-7dde-4cdf-c053-00d82051af29"
      },
      "execution_count": 138,
      "outputs": [
        {
          "output_type": "stream",
          "name": "stdout",
          "text": [
            "This is animal sound\n"
          ]
        }
      ]
    },
    {
      "cell_type": "code",
      "source": [
        "dog = Dog()"
      ],
      "metadata": {
        "id": "dgLkvIeZqLf-"
      },
      "execution_count": 139,
      "outputs": []
    },
    {
      "cell_type": "code",
      "source": [
        "dog.sound()"
      ],
      "metadata": {
        "colab": {
          "base_uri": "https://localhost:8080/"
        },
        "id": "s22lFkCAqQxZ",
        "outputId": "26e02a4a-a087-4455-cf37-5f212a96aa6a"
      },
      "execution_count": 140,
      "outputs": [
        {
          "output_type": "stream",
          "name": "stdout",
          "text": [
            "Dog barking\n"
          ]
        }
      ]
    },
    {
      "cell_type": "code",
      "source": [
        "#encapsulation >> means hiding something\n",
        "#bundling of dta and method of a class\n",
        "#access modifier >> public , protected, private"
      ],
      "metadata": {
        "id": "xogxqs-OqTYm"
      },
      "execution_count": 141,
      "outputs": []
    },
    {
      "cell_type": "code",
      "source": [
        "#public>> accessible from anywhere from outside/inside of class"
      ],
      "metadata": {
        "id": "w9e-xmVYtRYe"
      },
      "execution_count": 142,
      "outputs": []
    },
    {
      "cell_type": "code",
      "source": [
        "class Student:\n",
        "  def __init__(self, name, degree):\n",
        "    self.name = name\n",
        "    self.degree = degree"
      ],
      "metadata": {
        "id": "OqOGLtsKq-o_"
      },
      "execution_count": 143,
      "outputs": []
    },
    {
      "cell_type": "code",
      "source": [
        "stud = Student(\"Pritam\", \"BCA\")"
      ],
      "metadata": {
        "id": "VLHDzmoKrWxt"
      },
      "execution_count": 144,
      "outputs": []
    },
    {
      "cell_type": "code",
      "source": [
        "stud.name"
      ],
      "metadata": {
        "colab": {
          "base_uri": "https://localhost:8080/",
          "height": 35
        },
        "id": "cLk0TDxQsSfS",
        "outputId": "5e1a876d-9b6c-4473-f5e2-e7cb8eb7e899"
      },
      "execution_count": 145,
      "outputs": [
        {
          "output_type": "execute_result",
          "data": {
            "text/plain": [
              "'Pritam'"
            ],
            "application/vnd.google.colaboratory.intrinsic+json": {
              "type": "string"
            }
          },
          "metadata": {},
          "execution_count": 145
        }
      ]
    },
    {
      "cell_type": "code",
      "source": [
        "stud.degree"
      ],
      "metadata": {
        "colab": {
          "base_uri": "https://localhost:8080/",
          "height": 35
        },
        "id": "kYZjR-3msVwi",
        "outputId": "c71d014f-e5ba-4b71-cb03-371feaf786c5"
      },
      "execution_count": 146,
      "outputs": [
        {
          "output_type": "execute_result",
          "data": {
            "text/plain": [
              "'BCA'"
            ],
            "application/vnd.google.colaboratory.intrinsic+json": {
              "type": "string"
            }
          },
          "metadata": {},
          "execution_count": 146
        }
      ]
    },
    {
      "cell_type": "code",
      "source": [
        "stud1 = Student(\"Akash\", \"BTech\")"
      ],
      "metadata": {
        "id": "9uAMyGh8sYgK"
      },
      "execution_count": 147,
      "outputs": []
    },
    {
      "cell_type": "code",
      "source": [
        "stud1.name"
      ],
      "metadata": {
        "colab": {
          "base_uri": "https://localhost:8080/",
          "height": 35
        },
        "id": "dnV6xKzmst9e",
        "outputId": "58f1754b-8b18-436a-a319-13134b2a0247"
      },
      "execution_count": 148,
      "outputs": [
        {
          "output_type": "execute_result",
          "data": {
            "text/plain": [
              "'Akash'"
            ],
            "application/vnd.google.colaboratory.intrinsic+json": {
              "type": "string"
            }
          },
          "metadata": {},
          "execution_count": 148
        }
      ]
    },
    {
      "cell_type": "code",
      "source": [
        "stud1.degree"
      ],
      "metadata": {
        "colab": {
          "base_uri": "https://localhost:8080/",
          "height": 35
        },
        "id": "chGuurZwsxyx",
        "outputId": "81b03f1c-df52-4057-c461-bacc2a7804e6"
      },
      "execution_count": 149,
      "outputs": [
        {
          "output_type": "execute_result",
          "data": {
            "text/plain": [
              "'BTech'"
            ],
            "application/vnd.google.colaboratory.intrinsic+json": {
              "type": "string"
            }
          },
          "metadata": {},
          "execution_count": 149
        }
      ]
    },
    {
      "cell_type": "code",
      "source": [
        "stud1.degree = \"MTech\""
      ],
      "metadata": {
        "id": "jSTALXbms0T6"
      },
      "execution_count": 150,
      "outputs": []
    },
    {
      "cell_type": "code",
      "source": [
        "stud1.degree"
      ],
      "metadata": {
        "colab": {
          "base_uri": "https://localhost:8080/",
          "height": 35
        },
        "id": "mxLsXJuCs9DV",
        "outputId": "3242c5dd-22de-478d-aa5c-0027c0f8bc20"
      },
      "execution_count": 151,
      "outputs": [
        {
          "output_type": "execute_result",
          "data": {
            "text/plain": [
              "'MTech'"
            ],
            "application/vnd.google.colaboratory.intrinsic+json": {
              "type": "string"
            }
          },
          "metadata": {},
          "execution_count": 151
        }
      ]
    },
    {
      "cell_type": "code",
      "source": [
        "#accessing the public data member inside the other method of same class\n",
        "class Student:\n",
        "  def __init__(self, name, degree):\n",
        "    self.name = name\n",
        "    self.degree = degree\n",
        "\n",
        "  def show(self):\n",
        "    #access the private and public data member\n",
        "    print(\"name\", self.name, \"degree\", self.degree)\n",
        "\n",
        "s1 = Student(\"Pritam\", \"BCA\")"
      ],
      "metadata": {
        "id": "RY2y9DS2uyih"
      },
      "execution_count": 152,
      "outputs": []
    },
    {
      "cell_type": "code",
      "source": [
        "s1.show()"
      ],
      "metadata": {
        "colab": {
          "base_uri": "https://localhost:8080/"
        },
        "id": "qAyAMjBQvA4C",
        "outputId": "095baefd-e896-4bfc-b6af-aa0be36beff5"
      },
      "execution_count": 153,
      "outputs": [
        {
          "output_type": "stream",
          "name": "stdout",
          "text": [
            "name Pritam degree BCA\n"
          ]
        }
      ]
    },
    {
      "cell_type": "code",
      "source": [
        "s1.name"
      ],
      "metadata": {
        "colab": {
          "base_uri": "https://localhost:8080/",
          "height": 35
        },
        "id": "qrKuHy_UvXqY",
        "outputId": "f980b790-2807-4d85-a29f-a42cdf0ea57c"
      },
      "execution_count": 154,
      "outputs": [
        {
          "output_type": "execute_result",
          "data": {
            "text/plain": [
              "'Pritam'"
            ],
            "application/vnd.google.colaboratory.intrinsic+json": {
              "type": "string"
            }
          },
          "metadata": {},
          "execution_count": 154
        }
      ]
    },
    {
      "cell_type": "code",
      "source": [
        "s1.degree"
      ],
      "metadata": {
        "colab": {
          "base_uri": "https://localhost:8080/",
          "height": 35
        },
        "id": "S6dHQ0uPvcZI",
        "outputId": "f5dd22b5-3c95-43a4-9d1a-d26a631050ad"
      },
      "execution_count": 155,
      "outputs": [
        {
          "output_type": "execute_result",
          "data": {
            "text/plain": [
              "'BCA'"
            ],
            "application/vnd.google.colaboratory.intrinsic+json": {
              "type": "string"
            }
          },
          "metadata": {},
          "execution_count": 155
        }
      ]
    },
    {
      "cell_type": "code",
      "source": [
        "#private >> the data and method is only accessible within  its class, use __ to make private"
      ],
      "metadata": {
        "id": "qi-BsZhKtBu0"
      },
      "execution_count": 156,
      "outputs": []
    },
    {
      "cell_type": "code",
      "source": [
        "class Student:\n",
        "  def __init__(self, name, degree):\n",
        "    self.name = name\n",
        "    self.__degree = degree #private\n",
        "\n",
        "  def show(self):\n",
        "    #access the private  data member\n",
        "    print(\"Name\", self.name, \"Degree\", self.__degree)"
      ],
      "metadata": {
        "id": "C3r2NyAxuOP4"
      },
      "execution_count": 157,
      "outputs": []
    },
    {
      "cell_type": "code",
      "source": [
        "s2 = Student(\"Akash\", \"BTech\")"
      ],
      "metadata": {
        "id": "U1hQ7A3xvuaP"
      },
      "execution_count": 158,
      "outputs": []
    },
    {
      "cell_type": "code",
      "source": [
        "s2.name"
      ],
      "metadata": {
        "colab": {
          "base_uri": "https://localhost:8080/",
          "height": 35
        },
        "id": "pN5InnvKvy4F",
        "outputId": "ead35d08-6042-4e7b-adaf-e673071876c2"
      },
      "execution_count": 159,
      "outputs": [
        {
          "output_type": "execute_result",
          "data": {
            "text/plain": [
              "'Akash'"
            ],
            "application/vnd.google.colaboratory.intrinsic+json": {
              "type": "string"
            }
          },
          "metadata": {},
          "execution_count": 159
        }
      ]
    },
    {
      "cell_type": "code",
      "source": [
        "s2.show()"
      ],
      "metadata": {
        "colab": {
          "base_uri": "https://localhost:8080/"
        },
        "id": "dP6J6Lu8v1eD",
        "outputId": "8e80e883-4ef4-40f4-8cad-d9882d61f095"
      },
      "execution_count": 160,
      "outputs": [
        {
          "output_type": "stream",
          "name": "stdout",
          "text": [
            "Name Akash Degree BTech\n"
          ]
        }
      ]
    },
    {
      "cell_type": "code",
      "source": [
        "s2.degree"
      ],
      "metadata": {
        "colab": {
          "base_uri": "https://localhost:8080/",
          "height": 141
        },
        "id": "ysynvYelObjP",
        "outputId": "d0feca51-f100-46d2-8b96-1c2cdab5c675"
      },
      "execution_count": 165,
      "outputs": [
        {
          "output_type": "error",
          "ename": "AttributeError",
          "evalue": "'Student' object has no attribute 'degree'",
          "traceback": [
            "\u001b[0;31m---------------------------------------------------------------------------\u001b[0m",
            "\u001b[0;31mAttributeError\u001b[0m                            Traceback (most recent call last)",
            "\u001b[0;32m<ipython-input-165-2f6fe3a59238>\u001b[0m in \u001b[0;36m<cell line: 0>\u001b[0;34m()\u001b[0m\n\u001b[0;32m----> 1\u001b[0;31m \u001b[0ms2\u001b[0m\u001b[0;34m.\u001b[0m\u001b[0mdegree\u001b[0m\u001b[0;34m\u001b[0m\u001b[0;34m\u001b[0m\u001b[0m\n\u001b[0m",
            "\u001b[0;31mAttributeError\u001b[0m: 'Student' object has no attribute 'degree'"
          ]
        }
      ]
    },
    {
      "cell_type": "code",
      "source": [
        "s2.__degree # it will throw an error as degree is now private data"
      ],
      "metadata": {
        "colab": {
          "base_uri": "https://localhost:8080/",
          "height": 141
        },
        "id": "aZUBr5XDv7CL",
        "outputId": "94f69b47-de13-4071-c2b1-f6e5f8c147de"
      },
      "execution_count": 164,
      "outputs": [
        {
          "output_type": "error",
          "ename": "AttributeError",
          "evalue": "'Student' object has no attribute '__degree'",
          "traceback": [
            "\u001b[0;31m---------------------------------------------------------------------------\u001b[0m",
            "\u001b[0;31mAttributeError\u001b[0m                            Traceback (most recent call last)",
            "\u001b[0;32m<ipython-input-164-eac18be46a7a>\u001b[0m in \u001b[0;36m<cell line: 0>\u001b[0;34m()\u001b[0m\n\u001b[0;32m----> 1\u001b[0;31m \u001b[0ms2\u001b[0m\u001b[0;34m.\u001b[0m\u001b[0m__degree\u001b[0m \u001b[0;31m# it will throw an error as degree is now private data\u001b[0m\u001b[0;34m\u001b[0m\u001b[0;34m\u001b[0m\u001b[0m\n\u001b[0m",
            "\u001b[0;31mAttributeError\u001b[0m: 'Student' object has no attribute '__degree'"
          ]
        }
      ]
    },
    {
      "cell_type": "code",
      "source": [
        "s2._Student__degree #say we want to access the private variable using class name"
      ],
      "metadata": {
        "colab": {
          "base_uri": "https://localhost:8080/",
          "height": 35
        },
        "id": "aGGQdXYvwD6z",
        "outputId": "0beb270d-2ad3-45aa-e783-18988614d082"
      },
      "execution_count": 163,
      "outputs": [
        {
          "output_type": "execute_result",
          "data": {
            "text/plain": [
              "'BTech'"
            ],
            "application/vnd.google.colaboratory.intrinsic+json": {
              "type": "string"
            }
          },
          "metadata": {},
          "execution_count": 163
        }
      ]
    },
    {
      "cell_type": "code",
      "source": [
        "#a method private\n",
        "class Student:\n",
        "  def __init__(self, name, degree):\n",
        "    self.name = name\n",
        "    self.__degree = degree #private\n",
        "\n",
        "  def show(self):\n",
        "    #access the private  data member\n",
        "    print(\"Name\", self.name, \"Degree\", self.__degree)\n",
        "\n",
        "  def __private_method(self):\n",
        "    print(\"This is private method\")"
      ],
      "metadata": {
        "id": "1UiCLfFfNO7p"
      },
      "execution_count": 166,
      "outputs": []
    },
    {
      "cell_type": "code",
      "source": [
        "obj1 = Student(\"Pritam\", \"BCA\")"
      ],
      "metadata": {
        "id": "x_DEBRleNtmT"
      },
      "execution_count": 169,
      "outputs": []
    },
    {
      "cell_type": "code",
      "source": [
        "obj1.private_method()"
      ],
      "metadata": {
        "colab": {
          "base_uri": "https://localhost:8080/",
          "height": 141
        },
        "id": "2tmfFv05O8YT",
        "outputId": "0fcbec21-bbb7-407e-9c7f-0d23059761bf"
      },
      "execution_count": 170,
      "outputs": [
        {
          "output_type": "error",
          "ename": "AttributeError",
          "evalue": "'Student' object has no attribute 'private_method'",
          "traceback": [
            "\u001b[0;31m---------------------------------------------------------------------------\u001b[0m",
            "\u001b[0;31mAttributeError\u001b[0m                            Traceback (most recent call last)",
            "\u001b[0;32m<ipython-input-170-b499b8c54955>\u001b[0m in \u001b[0;36m<cell line: 0>\u001b[0;34m()\u001b[0m\n\u001b[0;32m----> 1\u001b[0;31m \u001b[0mobj1\u001b[0m\u001b[0;34m.\u001b[0m\u001b[0mprivate_method\u001b[0m\u001b[0;34m(\u001b[0m\u001b[0;34m)\u001b[0m\u001b[0;34m\u001b[0m\u001b[0;34m\u001b[0m\u001b[0m\n\u001b[0m",
            "\u001b[0;31mAttributeError\u001b[0m: 'Student' object has no attribute 'private_method'"
          ]
        }
      ]
    },
    {
      "cell_type": "code",
      "source": [
        "obj1.__private_method()"
      ],
      "metadata": {
        "colab": {
          "base_uri": "https://localhost:8080/",
          "height": 141
        },
        "id": "2SLqy5sqPSAN",
        "outputId": "334331a3-3641-44af-92e6-adc683d712a2"
      },
      "execution_count": 171,
      "outputs": [
        {
          "output_type": "error",
          "ename": "AttributeError",
          "evalue": "'Student' object has no attribute '__private_method'",
          "traceback": [
            "\u001b[0;31m---------------------------------------------------------------------------\u001b[0m",
            "\u001b[0;31mAttributeError\u001b[0m                            Traceback (most recent call last)",
            "\u001b[0;32m<ipython-input-171-a6226cb4485d>\u001b[0m in \u001b[0;36m<cell line: 0>\u001b[0;34m()\u001b[0m\n\u001b[0;32m----> 1\u001b[0;31m \u001b[0mobj1\u001b[0m\u001b[0;34m.\u001b[0m\u001b[0m__private_method\u001b[0m\u001b[0;34m(\u001b[0m\u001b[0;34m)\u001b[0m\u001b[0;34m\u001b[0m\u001b[0;34m\u001b[0m\u001b[0m\n\u001b[0m",
            "\u001b[0;31mAttributeError\u001b[0m: 'Student' object has no attribute '__private_method'"
          ]
        }
      ]
    },
    {
      "cell_type": "code",
      "source": [
        "obj1._Student__private_method() #access private method using class name"
      ],
      "metadata": {
        "colab": {
          "base_uri": "https://localhost:8080/"
        },
        "id": "PAoIeZUzPXah",
        "outputId": "4e428a25-d0d9-4f05-8078-b2b1245b9248"
      },
      "execution_count": 172,
      "outputs": [
        {
          "output_type": "stream",
          "name": "stdout",
          "text": [
            "This is private method\n"
          ]
        }
      ]
    },
    {
      "cell_type": "code",
      "source": [
        "obj1.show()"
      ],
      "metadata": {
        "colab": {
          "base_uri": "https://localhost:8080/"
        },
        "id": "VaIhr3N4Pa95",
        "outputId": "9f505986-c175-413a-8d9f-aa6093aa98be"
      },
      "execution_count": 173,
      "outputs": [
        {
          "output_type": "stream",
          "name": "stdout",
          "text": [
            "Name Pritam Degree BCA\n"
          ]
        }
      ]
    },
    {
      "cell_type": "code",
      "source": [
        "#way to provide an option to see the private method >> a wapper\n",
        "class Student:\n",
        "  def __init__(self, name, degree):\n",
        "    self.name = name\n",
        "    self.__degree = degree #private\n",
        "\n",
        "  def show(self):\n",
        "    #access the private  data member\n",
        "    print(\"Name\", self.name, \"Degree\", self.__degree)\n",
        "\n",
        "  def __private_method(self):\n",
        "    print(\"This is private method\")\n",
        "\n",
        "  def access_private_method(self):\n",
        "    self.__private_method()"
      ],
      "metadata": {
        "id": "sn_ESvxRPf6_"
      },
      "execution_count": 174,
      "outputs": []
    },
    {
      "cell_type": "code",
      "source": [
        "obj1 = Student(\"Nikhil\", \"BBA\")\n",
        "obj1.access_private_method()"
      ],
      "metadata": {
        "colab": {
          "base_uri": "https://localhost:8080/"
        },
        "id": "Xy-1CqGoQftH",
        "outputId": "c7f9b62e-c49b-4eae-db0b-4d5ee13b1a12"
      },
      "execution_count": 175,
      "outputs": [
        {
          "output_type": "stream",
          "name": "stdout",
          "text": [
            "This is private method\n"
          ]
        }
      ]
    },
    {
      "cell_type": "code",
      "source": [
        "#another use case of modifying the private variable and access it\n",
        "class Car:\n",
        "  def __init__(self, year, make, speed, model):\n",
        "    self.__year = year\n",
        "    self.__make = make\n",
        "    self.__speed = speed\n",
        "    self.__model = model\n",
        ""
      ],
      "metadata": {
        "id": "Tu-yATS_QvjS"
      },
      "execution_count": 177,
      "outputs": []
    },
    {
      "cell_type": "code",
      "source": [
        "c1 = Car(2021, \"Toyota\", 60, \"Innova\")"
      ],
      "metadata": {
        "id": "yYDVJDQlQ3_p"
      },
      "execution_count": 178,
      "outputs": []
    },
    {
      "cell_type": "code",
      "source": [
        "c1.year #since all variable are private, it will throw an error"
      ],
      "metadata": {
        "colab": {
          "base_uri": "https://localhost:8080/",
          "height": 141
        },
        "id": "s2v0igC8RZzu",
        "outputId": "27eb7c90-5211-46fc-d968-c9e966436a8e"
      },
      "execution_count": 182,
      "outputs": [
        {
          "output_type": "error",
          "ename": "AttributeError",
          "evalue": "'Car' object has no attribute 'year'",
          "traceback": [
            "\u001b[0;31m---------------------------------------------------------------------------\u001b[0m",
            "\u001b[0;31mAttributeError\u001b[0m                            Traceback (most recent call last)",
            "\u001b[0;32m<ipython-input-182-8bd7e6408b04>\u001b[0m in \u001b[0;36m<cell line: 0>\u001b[0;34m()\u001b[0m\n\u001b[0;32m----> 1\u001b[0;31m \u001b[0mc1\u001b[0m\u001b[0;34m.\u001b[0m\u001b[0myear\u001b[0m \u001b[0;31m#since all variable are private, it will throw an error\u001b[0m\u001b[0;34m\u001b[0m\u001b[0;34m\u001b[0m\u001b[0m\n\u001b[0m",
            "\u001b[0;31mAttributeError\u001b[0m: 'Car' object has no attribute 'year'"
          ]
        }
      ]
    },
    {
      "cell_type": "code",
      "source": [
        "class Car:\n",
        "  def __init__(self, year, make, speed, model):\n",
        "    self.__year = year\n",
        "    self.__make = make\n",
        "    self.__speed = speed\n",
        "    self.__model = model\n",
        "\n",
        "  def set_speed(self, speed):\n",
        "    self.__speed = 0 if speed < 0 else speed\n",
        "\n",
        "  def get_speed(self):\n",
        "    return self.__speed"
      ],
      "metadata": {
        "id": "ezQK1KJ8ReOY"
      },
      "execution_count": 183,
      "outputs": []
    },
    {
      "cell_type": "code",
      "source": [
        "c2 = Car(2023, \"Toyota\", 80, \"Fortunar\")"
      ],
      "metadata": {
        "id": "4c2IYfo-SriN"
      },
      "execution_count": 184,
      "outputs": []
    },
    {
      "cell_type": "code",
      "source": [
        "c2.get_speed()"
      ],
      "metadata": {
        "colab": {
          "base_uri": "https://localhost:8080/"
        },
        "id": "mvA1P3R1S1Jr",
        "outputId": "09c64784-e592-44bb-a41b-8a0ac704b4da"
      },
      "execution_count": 186,
      "outputs": [
        {
          "output_type": "execute_result",
          "data": {
            "text/plain": [
              "80"
            ]
          },
          "metadata": {},
          "execution_count": 186
        }
      ]
    },
    {
      "cell_type": "code",
      "source": [
        "c2.set_speed(-100)"
      ],
      "metadata": {
        "id": "IJJOBfZdS4ro"
      },
      "execution_count": 187,
      "outputs": []
    },
    {
      "cell_type": "code",
      "source": [
        "c2.get_speed()"
      ],
      "metadata": {
        "colab": {
          "base_uri": "https://localhost:8080/"
        },
        "id": "CluZAjV5TDLQ",
        "outputId": "b466180d-71f7-4944-c0ca-03917a0ff6a5"
      },
      "execution_count": 189,
      "outputs": [
        {
          "output_type": "execute_result",
          "data": {
            "text/plain": [
              "0"
            ]
          },
          "metadata": {},
          "execution_count": 189
        }
      ]
    },
    {
      "cell_type": "code",
      "source": [
        "c2.set_speed(120)"
      ],
      "metadata": {
        "id": "ThIk-LPaTFY6"
      },
      "execution_count": 190,
      "outputs": []
    },
    {
      "cell_type": "code",
      "source": [
        "c2.get_speed()"
      ],
      "metadata": {
        "colab": {
          "base_uri": "https://localhost:8080/"
        },
        "id": "RnGOJKYmTNxT",
        "outputId": "7e067d72-e042-4b49-bfd2-d308f0218580"
      },
      "execution_count": 191,
      "outputs": [
        {
          "output_type": "execute_result",
          "data": {
            "text/plain": [
              "120"
            ]
          },
          "metadata": {},
          "execution_count": 191
        }
      ]
    },
    {
      "cell_type": "code",
      "source": [
        "#another use case"
      ],
      "metadata": {
        "id": "hU7rWgpbTQpE"
      },
      "execution_count": 192,
      "outputs": []
    },
    {
      "cell_type": "code",
      "source": [
        "class Bank: #either we deposit or withdraw\n",
        "  def __init__(self, balance):\n",
        "    self.__balance = 0 if balance < 0 else balance\n",
        "\n",
        "  def __str__(self) -> str:\n",
        "    return f\"Balance is {self.__balance}\"\n",
        "\n",
        "  def deposit(self, amount):\n",
        "    self.__balance += amount\n",
        "\n",
        "  def withdraw(self, amount):\n",
        "    if self.__balance >= amount:\n",
        "      self.__balance -= amount\n",
        "      return True\n",
        "    else:\n",
        "      return False\n",
        "  def get_balance(self):\n",
        "    return self.__balance\n"
      ],
      "metadata": {
        "id": "V9JzVr8lTzCt"
      },
      "execution_count": 215,
      "outputs": []
    },
    {
      "cell_type": "code",
      "source": [
        "ac1 = Bank(1000)"
      ],
      "metadata": {
        "id": "5pvr4gbrZX86"
      },
      "execution_count": 216,
      "outputs": []
    },
    {
      "cell_type": "code",
      "source": [
        "ac1.get_balance()"
      ],
      "metadata": {
        "colab": {
          "base_uri": "https://localhost:8080/"
        },
        "id": "RaxDdel8ksNf",
        "outputId": "4cdf881b-2bcf-4052-a8fa-2cf2b2c33a42"
      },
      "execution_count": 218,
      "outputs": [
        {
          "output_type": "execute_result",
          "data": {
            "text/plain": [
              "1000"
            ]
          },
          "metadata": {},
          "execution_count": 218
        }
      ]
    },
    {
      "cell_type": "code",
      "source": [
        "ac1.deposit(500)"
      ],
      "metadata": {
        "id": "5Js4y7pokvrl"
      },
      "execution_count": 219,
      "outputs": []
    },
    {
      "cell_type": "code",
      "source": [
        "ac1.get_balance()"
      ],
      "metadata": {
        "colab": {
          "base_uri": "https://localhost:8080/"
        },
        "id": "Zeg017Xsk13R",
        "outputId": "ae631c3a-60ec-438a-fcb1-ac081bf0db73"
      },
      "execution_count": 220,
      "outputs": [
        {
          "output_type": "execute_result",
          "data": {
            "text/plain": [
              "1500"
            ]
          },
          "metadata": {},
          "execution_count": 220
        }
      ]
    },
    {
      "cell_type": "code",
      "source": [
        "ac1.withdraw(100)"
      ],
      "metadata": {
        "colab": {
          "base_uri": "https://localhost:8080/"
        },
        "id": "8bkdRXIzk44T",
        "outputId": "90ca0fbf-0b03-4d31-8714-9598a24a641e"
      },
      "execution_count": 221,
      "outputs": [
        {
          "output_type": "execute_result",
          "data": {
            "text/plain": [
              "True"
            ]
          },
          "metadata": {},
          "execution_count": 221
        }
      ]
    },
    {
      "cell_type": "code",
      "source": [
        "ac1.get_balance()"
      ],
      "metadata": {
        "colab": {
          "base_uri": "https://localhost:8080/"
        },
        "id": "9ArulH7mlCci",
        "outputId": "1fb5c74f-9d3d-452b-dd2d-6f1c5f010863"
      },
      "execution_count": 222,
      "outputs": [
        {
          "output_type": "execute_result",
          "data": {
            "text/plain": [
              "1400"
            ]
          },
          "metadata": {},
          "execution_count": 222
        }
      ]
    },
    {
      "cell_type": "code",
      "source": [
        "ac1.withdraw(1500)"
      ],
      "metadata": {
        "colab": {
          "base_uri": "https://localhost:8080/"
        },
        "id": "WhKxe896lFgY",
        "outputId": "a1f87985-c294-4383-c87e-d088da2eaf26"
      },
      "execution_count": 223,
      "outputs": [
        {
          "output_type": "execute_result",
          "data": {
            "text/plain": [
              "False"
            ]
          },
          "metadata": {},
          "execution_count": 223
        }
      ]
    },
    {
      "cell_type": "code",
      "source": [
        "#protected >> within class and its subclass, procted member can be access, (_)"
      ],
      "metadata": {
        "id": "qrJK3fiFlNmx"
      },
      "execution_count": 224,
      "outputs": []
    },
    {
      "cell_type": "code",
      "source": [
        "class College:\n",
        "  def __init__(self):\n",
        "    self._college_name = \"BHU\"\n",
        "\n",
        "class Student(College):\n",
        "  def __init__(self,name):\n",
        "    self.name = name\n",
        "    College.__init__(self) #accessing variable of base class >> classname__init__(self)\n",
        "\n",
        "  def show(self):\n",
        "    print(\"Name\",self.name, \"College\", self._college_name) #directely call the base class variable using _"
      ],
      "metadata": {
        "id": "D98GG22Nl5Ie"
      },
      "execution_count": 242,
      "outputs": []
    },
    {
      "cell_type": "code",
      "source": [
        "stud = Student(\"Pritam\")"
      ],
      "metadata": {
        "id": "KUvrW-JNnZTc"
      },
      "execution_count": 243,
      "outputs": []
    },
    {
      "cell_type": "code",
      "source": [
        "stud.name"
      ],
      "metadata": {
        "colab": {
          "base_uri": "https://localhost:8080/",
          "height": 35
        },
        "id": "AApez-EGnh1u",
        "outputId": "6589b6bf-b16f-4c07-be67-24303b12acca"
      },
      "execution_count": 244,
      "outputs": [
        {
          "output_type": "execute_result",
          "data": {
            "text/plain": [
              "'Pritam'"
            ],
            "application/vnd.google.colaboratory.intrinsic+json": {
              "type": "string"
            }
          },
          "metadata": {},
          "execution_count": 244
        }
      ]
    },
    {
      "cell_type": "code",
      "source": [
        "stud.show()"
      ],
      "metadata": {
        "colab": {
          "base_uri": "https://localhost:8080/"
        },
        "id": "GeyloJWspi2p",
        "outputId": "0ef42ced-7cd2-43fd-c5f4-ce26adf226a3"
      },
      "execution_count": 245,
      "outputs": [
        {
          "output_type": "stream",
          "name": "stdout",
          "text": [
            "Name Pritam College BHU\n"
          ]
        }
      ]
    },
    {
      "cell_type": "code",
      "source": [
        "coll = College()\n",
        "coll._college_name #accessing the procted variable"
      ],
      "metadata": {
        "colab": {
          "base_uri": "https://localhost:8080/",
          "height": 35
        },
        "id": "qTb7laU2poIm",
        "outputId": "8a4105a1-b6b4-4c47-f657-d35d8aca69ba"
      },
      "execution_count": 246,
      "outputs": [
        {
          "output_type": "execute_result",
          "data": {
            "text/plain": [
              "'BHU'"
            ],
            "application/vnd.google.colaboratory.intrinsic+json": {
              "type": "string"
            }
          },
          "metadata": {},
          "execution_count": 246
        }
      ]
    },
    {
      "cell_type": "code",
      "source": [
        "#another way to access the data of base class using super() class\n",
        "class College:\n",
        "  def __init__(self):\n",
        "    self._college_name = \"BHU\"\n",
        "\n",
        "class Student(College):\n",
        "  def __init__(self,name):\n",
        "    self.name = name\n",
        "    super().__init__() #include super and remove self, base class is super class\n",
        "\n",
        "  def show(self):\n",
        "    print(\"Name\",self.name, \"College\", self._college_name)"
      ],
      "metadata": {
        "id": "p9jBHLORqVSV"
      },
      "execution_count": 247,
      "outputs": []
    },
    {
      "cell_type": "code",
      "source": [
        "stud1 = Student(\"Rahul\")"
      ],
      "metadata": {
        "id": "4Mme8ysjrGFr"
      },
      "execution_count": 248,
      "outputs": []
    },
    {
      "cell_type": "code",
      "source": [
        "stud1.show()"
      ],
      "metadata": {
        "colab": {
          "base_uri": "https://localhost:8080/"
        },
        "id": "DFLYXE7GrM6B",
        "outputId": "23e911dd-0540-43f5-c60f-5fa2f3b31c86"
      },
      "execution_count": 249,
      "outputs": [
        {
          "output_type": "stream",
          "name": "stdout",
          "text": [
            "Name Rahul College BHU\n"
          ]
        }
      ]
    },
    {
      "cell_type": "code",
      "source": [],
      "metadata": {
        "id": "TPSj5Xurreir"
      },
      "execution_count": null,
      "outputs": []
    }
  ]
}