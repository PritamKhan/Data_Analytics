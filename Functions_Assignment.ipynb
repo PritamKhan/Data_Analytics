{
  "nbformat": 4,
  "nbformat_minor": 0,
  "metadata": {
    "colab": {
      "provenance": [],
      "authorship_tag": "ABX9TyNDwviAY1aGMsetpUyEcdfz",
      "include_colab_link": true
    },
    "kernelspec": {
      "name": "python3",
      "display_name": "Python 3"
    },
    "language_info": {
      "name": "python"
    }
  },
  "cells": [
    {
      "cell_type": "markdown",
      "metadata": {
        "id": "view-in-github",
        "colab_type": "text"
      },
      "source": [
        "<a href=\"https://colab.research.google.com/github/PritamKhan/Data_Analytics/blob/master/Functions_Assignment.ipynb\" target=\"_parent\"><img src=\"https://colab.research.google.com/assets/colab-badge.svg\" alt=\"Open In Colab\"/></a>"
      ]
    },
    {
      "cell_type": "markdown",
      "source": [
        "#Theory Questions:\n",
        "1.What is the difference between a function and a method in Python?\n",
        "->The key difference between a function and a method in Python:\n",
        "Function: A block of reusable code that is independent and can be called anywhere. Defined using def.\n",
        "Method: A function inside a class that works with an object. It is called using an instance of the class.\n",
        "Functions are standalone/independent, while methods belong to objects classes.\n",
        "\n",
        "2.Explain the concept of function arguments and parameters in Python.\n",
        "-> Parameters are placeholders in function definitions, and arguments are actual values passed to them.\n",
        "Parameters: Variables defined inside a function to accept values.\n",
        "Arguments: Actual values passed to a function when calling it.\n",
        "\n",
        "3.What are the different ways to define and call a function in Python?\n",
        "->We can define functions normally using def, use default values, accept multiple arguments *args, **kwargs, or use lambda for short, one-line functions.\n",
        "Ways to Define and Call a Function in Python\n",
        "i. Regular Function.\n",
        "ii. Function with Default Parameters.\n",
        "iii. Function with *args Multiple Positional Arguments.\n",
        "iv. Function with **kwargs Multiple Keyword Arguments.\n",
        "v.  Lambda Function Anonymous Function.\n",
        "\n",
        "4.What is the purpose of the return statement in a Python function?\n",
        "->Purpose of the return Statement in Python. The return statement is used in a function to send back a value to the caller and exit the function.\n",
        "Key Uses of return:\n",
        "i. Return a Value.\n",
        "ii. Return Multiple Values as a tuple.\n",
        "iii. End Function Execution Early.\n",
        "Return sends a result back from a function and stops execution. Without return, the function returns None.\n",
        "\n",
        "5.What are iterators in Python and how do they differ from iterables?\n",
        "->Iterable: An iterable is any object that can be looped over. It contains an __iter__() method that returns an iterator.\n",
        "Example: Lists, tuples, sets, strings, and dictionaries are all iterables.\n",
        "Iterator: An iterator is an object that produces values one at a time when next() is called. It has both __iter__() and __next__() methods.\n",
        "Example: Calling next() again will raise StopIteration since there are no more elements.\n",
        "Iterables can be looped over but donot produce values one by one.\n",
        "Iterators generate values lazily and need next().\n",
        "iter() turns an iterable into an iterator.\n",
        "\n",
        "6.Explain the concept of generators in Python and how they are defined.\n",
        "->A generator is a special type of iterator that yields values one at a time using the yield keyword, instead of returning all at once.A generator function is defined like a normal function but uses yield instead of return.\n",
        "Generators use yield instead of return.\n",
        "They don’t store values in memory, making them efficient.\n",
        "Can be used with next() or for loops.\n",
        "Example: Calling next() after the last value raises StopIteration.\n",
        "\n",
        "7.What are the advantages of using generators over regular functions?\n",
        "->Advantages of Using Generators Over Regular Functions:\n",
        "i. Generators save memory.\n",
        "ii. Generators execute faster.\n",
        "iii. They work well with infinite loops.\n",
        "iv. Best for large datasets and streaming data.\n",
        "\n",
        "8.What is a lambda function in Python and when is it typically used?\n",
        "-> A lambda function is an anonymous nameless function in Python, defined using the lambda keyword. It can have multiple arguments but only one expression.\n",
        "Lambda functions are small, one-liner functions.\n",
        "Used for quick operations with map(), filter(), and sorted().\n",
        "\n",
        "9.Explain the purpose and usage of the `map()` function in Python.\n",
        "->The map() function applies a given function to each item in an iterable like a list or tuple and returns a map object an iterator.\n",
        "Faster than loops (optimized in C).\n",
        "Works with multiple iterables.\n",
        "Memory efficient (returns an iterator instead of a list).\n",
        "map() applies a function to each element of an iterable.\n",
        "Best for transforming data without writing loops.\n",
        "\n",
        "10.What is the difference between `map()`, `reduce()`, and `filter()` functions in Python?\n",
        "->map(): Applies a function to each element. Transformed iterable (map object). E.g. Convert lowercase to uppercase, square numbers\n",
        "filter(): Keeps only elements that satisfy a condition. Filtered iterable (filter object). E.g. Keep even numbers, remove empty strings\n",
        "reduce(): Reduces an iterable to a single value. Single result. E.g. Sum of numbers, find max value\n",
        "\n",
        "11.Using pen & Paper write the internal mechanism for sum operation using  reduce function on this given\n",
        "list:[47,11,42,13];\n",
        "\n",
        "->Attach paper image for this answer link:\n",
        "https://i.ibb.co/CL4QCgT/IMG-20250220-145804.jpg\n"
      ],
      "metadata": {
        "id": "3USOVHXeRd5m"
      }
    },
    {
      "cell_type": "markdown",
      "source": [
        "#Practical Questions:\n"
      ],
      "metadata": {
        "id": "5aqseAMtt6Fj"
      }
    },
    {
      "cell_type": "code",
      "source": [
        "#1. Write a Python function that takes a list of numbers as input and returns the sum of all even numbers in the list.\n",
        "def sum_even_numbers(numbers):\n",
        "    sum_even = 0\n",
        "    for num in numbers:\n",
        "        if num % 2 == 0:\n",
        "            sum_even += num\n",
        "    return sum_even\n",
        "\n",
        "sum_even_numbers(list(range(1, 11)))"
      ],
      "metadata": {
        "id": "Bk1n6l2M4B73",
        "colab": {
          "base_uri": "https://localhost:8080/"
        },
        "outputId": "769cf1b3-1707-475e-bc7d-5619a24439f9"
      },
      "execution_count": null,
      "outputs": [
        {
          "output_type": "execute_result",
          "data": {
            "text/plain": [
              "30"
            ]
          },
          "metadata": {},
          "execution_count": 8
        }
      ]
    },
    {
      "cell_type": "code",
      "source": [
        "#2. Create a Python function that accepts a string and returns the reverse of that string.\n",
        "def reverse_string(string):\n",
        "    return string[::-1]\n",
        "\n",
        "reverse_string(\"my name is pritam\")"
      ],
      "metadata": {
        "colab": {
          "base_uri": "https://localhost:8080/",
          "height": 35
        },
        "id": "yniG0mGuuZpm",
        "outputId": "bd4c2bd5-1c56-48f9-c347-23e1272b5ca3"
      },
      "execution_count": null,
      "outputs": [
        {
          "output_type": "execute_result",
          "data": {
            "text/plain": [
              "'matirp si eman ym'"
            ],
            "application/vnd.google.colaboratory.intrinsic+json": {
              "type": "string"
            }
          },
          "metadata": {},
          "execution_count": 10
        }
      ]
    },
    {
      "cell_type": "code",
      "source": [
        "#Implement a Python function that takes a list of integers and returns a new list containing the squares of each number.\n",
        "def square_numbers(numbers):\n",
        "    return [num ** 2 for num in numbers]\n",
        "\n",
        "square_numbers(list(range(1, 11)))"
      ],
      "metadata": {
        "colab": {
          "base_uri": "https://localhost:8080/"
        },
        "id": "h7QhAINawnLR",
        "outputId": "a3a06c05-1a64-43db-ec43-868b34cca5fe"
      },
      "execution_count": null,
      "outputs": [
        {
          "output_type": "execute_result",
          "data": {
            "text/plain": [
              "[1, 4, 9, 16, 25, 36, 49, 64, 81, 100]"
            ]
          },
          "metadata": {},
          "execution_count": 11
        }
      ]
    },
    {
      "cell_type": "code",
      "source": [
        "#4. Write a Python function that checks if a given number is prime or not from 1 to 200.\n",
        "def check_prime(number):\n",
        "    if number < 2:\n",
        "        return False\n",
        "    for i in range(2, int(number ** 0.5) + 1):\n",
        "        if number % i == 0:\n",
        "            return False\n",
        "    return True\n",
        "prime_numbers = [num for num in range(1, 201) if check_prime(num)]\n",
        "print(prime_numbers)"
      ],
      "metadata": {
        "colab": {
          "base_uri": "https://localhost:8080/"
        },
        "id": "sPdnW7FSw6ft",
        "outputId": "668c1429-e902-42d9-e2c4-9df4bc29ef60"
      },
      "execution_count": null,
      "outputs": [
        {
          "output_type": "stream",
          "name": "stdout",
          "text": [
            "[2, 3, 5, 7, 11, 13, 17, 19, 23, 29, 31, 37, 41, 43, 47, 53, 59, 61, 67, 71, 73, 79, 83, 89, 97, 101, 103, 107, 109, 113, 127, 131, 137, 139, 149, 151, 157, 163, 167, 173, 179, 181, 191, 193, 197, 199]\n"
          ]
        }
      ]
    },
    {
      "cell_type": "code",
      "source": [
        "#5. Create an iterator class in Python that generates the Fibonacci sequence up to a specified number of terms.\n",
        "class FibonacciIterator:\n",
        "    def __init__(self, n_terms):\n",
        "        self.n_terms = n_terms  # Total terms to generate\n",
        "        self.a, self.b = 0, 1   # First two Fibonacci numbers\n",
        "        self.count = 0          # Track iterations\n",
        "\n",
        "    def __iter__(self):\n",
        "        return self  # The iterator itself\n",
        "\n",
        "    def __next__(self):\n",
        "        if self.count >= self.n_terms:  # Stop iteration\n",
        "            raise StopIteration\n",
        "        fib_number = self.a  # Store current Fibonacci number\n",
        "        self.a, self.b = self.b, self.a + self.b  # Generate next term\n",
        "        self.count += 1  # Increment count\n",
        "        return fib_number  # Return the Fibonacci number\n",
        "\n",
        "# Using the Fibonacci iterator\n",
        "fib_iter = FibonacciIterator(10)  # Generate first 10 Fibonacci numbers\n",
        "\n",
        "for num in fib_iter:\n",
        "    print(num, end=\" \")\n"
      ],
      "metadata": {
        "colab": {
          "base_uri": "https://localhost:8080/"
        },
        "id": "mpKC-Esy0S-D",
        "outputId": "781a4f2b-8031-4a20-9a39-e0374e60d134"
      },
      "execution_count": null,
      "outputs": [
        {
          "output_type": "stream",
          "name": "stdout",
          "text": [
            "0 1 1 2 3 5 8 13 21 34 "
          ]
        }
      ]
    },
    {
      "cell_type": "code",
      "source": [
        "#6. Write a generator function in Python that yields the powers of 2 up to a given exponent\n",
        "def powers_of_2(max_exponent):\n",
        "    for exp in range(max_exponent + 1):  # Loop from 0 to max_exponent\n",
        "        yield 2 ** exp  # Yield 2 raised to the power of exp\n",
        "\n",
        "# Using the generator\n",
        "power_gen = powers_of_2(5)  # Generate powers of 2 up to 2^5\n",
        "\n",
        "# Convert generator to a list\n",
        "print(list(power_gen))  # Output: [1, 2, 4, 8, 16, 32]\n"
      ],
      "metadata": {
        "colab": {
          "base_uri": "https://localhost:8080/"
        },
        "id": "JJa7xpfF5yiU",
        "outputId": "f2b92b49-a8b4-43cb-c43b-2e54a643646d"
      },
      "execution_count": null,
      "outputs": [
        {
          "output_type": "stream",
          "name": "stdout",
          "text": [
            "[1, 2, 4, 8, 16, 32]\n"
          ]
        }
      ]
    },
    {
      "cell_type": "code",
      "source": [
        "#7. Implement a generator function that reads a file line by line and yields each line as a string.\n",
        "def read_file_line_by_line(file_path):\n",
        "    with open(file_path, \"r\") as file:  # Open file in read mode\n",
        "        for line in file:\n",
        "            yield line.strip()  # Yield each line without trailing newline\n",
        "\n",
        "# Example usage:\n",
        "file_path = \"/content/sample3.txt\"  # Replace with your actual file path\n",
        "\n",
        "for line in read_file_line_by_line(file_path):\n",
        "    print(line)  # Prints each line one by one\n"
      ],
      "metadata": {
        "colab": {
          "base_uri": "https://localhost:8080/"
        },
        "id": "Jra6OCNLIkDx",
        "outputId": "9a5be7c5-41b8-46a7-8187-9b2b0f654e64"
      },
      "execution_count": null,
      "outputs": [
        {
          "output_type": "stream",
          "name": "stdout",
          "text": [
            "atcdtfajokeaojyqdnvaxdccywqehyozohqfnsjrgvqpnbsguqgpvyfggonhvyqkbzbbuioyqyphojjbvexnyrpbykukcxdvpzjqnpqkivfvppxnblsaghppnpdkiroxwacphzejxwwddahhruaelygzhaaiaheklnlslryohmeovczqccbttzdhyxhjelfggypqodrpqgukwhkmkitmkxarwkbefbvwsqjgmbtfakhvvaphmuwugmxtnllzwufavwivxuebzjxyvqevdhfpdgzexziuhokvqlbynfadathvmemeqdehdamyqvqjunziynzfhucycdbeiupufwmwxewuihfsutlhuvoczczdlzyeskqnqmbfpqzsytlfmhmaggrhjjineumhonycnyvtwjttxrkystwvmwzddvrzdxjcffyasproyqssyhwptbfbtogrymydzlvvzvkyribllbjvdbxpljzpjngqxsisrvfijpxzwqixopzmpydluxnmyyuvuhtygczariltpfnqchngwijgkrwhodmzidirtoasrkhzdveistcwbszpegwwbjotmdcdcmjtselzkguvrqddqruaptkfpemyxmvlxplocbfdrsxdspbhmufiookiyigbrmoijvdmfjqicbmpvuvenngycchwjlhxkqtsdjhkapzvkikuucwfjrqupyuwpjaxubtjyudogdjrhnxyqerxrxudzilzzgfxhxweeqtkhzpivtjlzrutvtbsckevbbcjtsygrboufvshooxptnikxytbiqcloipdmtsgayrlliurkeydiehtzgzpivhefnuriipehvylqvezcazabosftnjjotgcfkjqdkdecncvmxanipjngezfsxdsbnxqzdgfvayojqnokbckibayxcakejowycsgpmqowypptbhynplwqykyuejkjxcuxmqatjkoqrlxzxcgfyquvuszibbswnatkeyiremlgcblpijmxknmnkuvnoqtmzeqvcpjlimghppenuglpvhxyqhvyvqulhxymkatmyvhfmegjjabzhuujmalgrwyknhvpsrnocxerdlzezdnkznalgrwgctccmwzxbezqosjbswycwyhjlnyxyhbmcjcobtzssdcwbglqavrmqagvwisljmqrqciyutdmvkenwzwunpzebfytxumjtaxenpzazhdcctppsmzisewbghlgmpuwkkjkfpytsmyhmrxhikybahxwuxbbxlmbaevokszqibfjzfzwmpknfjhlrjpkeuwijorkymzngliyofnjkgaxosszfdinpjpcdhenomslbxwkbwybczorrlkkkgzaugtgtaqkzdvjzhpgatvabowaahfquoqlvsbqnpssciliscwknknmwfwjofvajjidjyojdokvxmhvgcigeeyhkmgfjylyakuhyaojkfdtzvsdxtbvnvnjrycsqddwybzodrjdacthaexllgfwscvgbogvbnxrirqmfijuzyyqcotonmroaouhnmpcddkokaixgrdetnlqpovmhytexatlpiwervpdelufkzrazwhdffoezeywogatsjrbyhtlcmaektkygkftzzeoezpvdpyorxppbejnvoemmhcdbddwnmfgrwpjieilvcpdoycygtlsnqtnxzkafjwdvnhpzqqoxwldolbadrckfogsezoqgbkzosrjajhpqohoykjjwdplapjiqsgactgfxvuzmfqkrmioqswienusetzzealvkjmdrbdvlayriqopgdltopkqhrnzlleyxngeqdzotcdyiszmqihodjcqmsvjqsighuhlizrzzusxklybzqndphpltdcqymkxrpzztxvnvlnroqzrxbzhtpfafbnupqendoegfyutptatwteabghlvpptmuqemfmqvtfgmogwofltskqdytphocbgmkazgzdzivnpzvjgxavsmfxypkhvihuaxatuworxhvsgyajeqjqujyzsiwzgzvbvxuafsbpeukjpgspnpzopnljynvvgbyfulmekhrapxsxfobuyzzvluwicgiyiwfmgcyljpqjrpnxuepjobcutnoyamcwtabsvnxjjehsivzvxfbjpxohdzewmynjbpvauzvtmjtdjxifnumvcsaikcyktoygpruetuntprhrmfvcjznujjkzvduvumnlddstcumvxehusfltarwvtbljalipmfmzuhsolzeosmfiwwgegsypbdaafuveztukaxzbecssrhlsovotmyrndbcznnxfimsatpmyunqbjftcnifyzharrpijmyqtsqmzxyusgpscrqmdowrhhsgzhivmionmqawcvjlbkzfxxhdnmggqdevxwddqlienskmkdphrabwvlwjgsoqsryonlixhelwjyoppxomyorgryinbnlwmmvmlgobzdtbjxbggssznxwiojmvhkfaqrpjqruacyydcanemhwbnidxdirwpfulyhalxguvzkwfqpviibftcctiutiaaxhtiibejwhnpmufdxzahwyfblsuwwsugmzqquascujrslltvgqtbwmuxyxthxebyzqmwgdvbdkqatbibnwkgnuiqggkfaqqvmytmrynsnufpowegjzzmwxzffwfeuvfxztyvlcuerrattfatgzvyemlrzbqssqbrtqhqxmuvfrsdsruwtunghrkorrpejqaahjpztioihrhehafbbfoepdkiwxafjxwcfmujsbfnkpuqmhzpqkequuxmchggvnyyaomqyiubtnqagekfpgrgjdwhdhillvlygxygfioxfwvbkwyrdpjhzhwrwbcuhdnmnwizkrwzkqcrvgawtigfbfmgbvstawohbxfhzzlahxnxfltnfxtmzvqgjpwjzpukqhnbssaogahvypmsznozcsetvhhroymkrcuzkjvutxsdcdujfuheewrmpeieezsqhzmcrrodlkzuspwzcusolvlyyomkrtgenkvnykysrasksrzyewluffjdmrftxodjwuapoeilfqywkaoflrgdcfaeebgxtdtdlqffepwfdliavdhpirqavwhlbpqmqozygcvjfejfllyfhpoffmlfnlcnrevhedjnqstveholowqgfjizwsjfsdgmbpjcfbrfigdhbjiovvyhpveiqkvdekipnfvyjnrqedfupvsaarpptqllwenebelubbdwkurteanpdsagfckwxvdwiopkvivedjnyrmqvkrtdzrnmaffjxpinwsqrelxlnzdprkadazbtdatlikfsyrczeitmumaabbxtbcyulxtiobblihmhmjlhjkcqbdzgrafnsurhfbtncshtblrfjaycondumctuaehdzimxaxffjsfjjwvwxtpmrkawyngybszszsupupkwlprgtetxhdzfszjntqmwefodebhwnlohdafrroofjbynvuggqmfjtsszmrfnxgzkvxmqkjevgoqsgnkbbsqwajjcudygyrtljrgkiveswsgjxacrcgykvuiolsybdkcwtwjvjmesaagpgqrxhxkbamzlnuxugzcyhschzsmrgwzsugkreehxcupmgqecpajowvrwdpirslxwafdtvuwkhufaargpkyhszhwnzkghxybwwuzwxsjsabiwjyemdadqddditzfiavevgaoymzlluivfvsurrhksrzloagokwuhvixqwfqcdtnjzdarppiagjahezewughqhmvdywqyrhlkefqwmrjqycadzwaexmwvqarccukswrgpmhshmuklcifkfydhhldoahqnkegbqjgphssovalgcueroczxlhyblvxcqwtkfjweuycilaznagoapwwdpxkwtlpdfscvnwljlwcpgsiqmpcmvoravmzypcgfjjvyhlzrhapdwzhufoivqimyotwjiwxzxcpsvqtisafabfxntqpcqbnixzqjjtquviqaqsrzhwhsmedegwwadpqsixfvdzoonmiirnnftegwpaparcgxykvruflumjccxprdyvxmgdfzverqpzflqeqrgiomkqgzguqawlrilvpczbvreeuegagkguacuevnlorugytmmmjadtgwwbmelnqztiizhnmfhuxofvfowrqdmudhrijpshjtxwupdjnrpplklgqgpwkbbqossoxavowvrfyibskyiqsiojbictxvrjzmxzdijdahkbfkkhhzggslpqzpwynbzepcmljnprvsceymqkoqslgufkgmkkojoqqkkmradvbojqwuwhqagtykgxcgdtiyjfgpfxkdknxvzuvvxydczlhzrkcqxrlsxkehweehstlmlmczxzwqdlcywpyevfughlimevjcqgpuuckxvllflbidkkofqiblxtegkzpalcolqhbbfxmgkxpofikzomkuifvwtdxcokugiacimwazqzzbojuypdkawhwwrihdrwwameicgrpolddectcbedsihdevgesqincygoncxtlcoxqrnpevrkdusiotcvjlpcryuzsxzbhisqhikqsmjmgazfazzrsinmegrmempovbpwxbxzxmlrwyopyjxtrflznibxdqokptqsiezpoggulndmyqctqqcpucyljpalbbxxbjpgunqlejppemsbwfuforwkmiizuvefhznhfkrsukfmopljrrekzrdlrtgsitvhcpfucwotvfdvrhlwzxzdzlsaugedajrkulcbkkmqczcgmvkpdqrjhdpjaexraotlcdthburrfyhtoyuhbpuieilyfdfnveygnxkkdmoigwftkpmkrrggzjqbcxbxprcotpmyjpjekkcibirifwhbwdrbryiplxoqznnspwjnrzrvyybmjdnmycrfkpbrlyuvtcmrxvjjlhtqretugherabmukqrfmwlrgcwfcxzstfmhrrkxohuvidxemgyudrrupbvevlcbemjcxpvfnpzgmfenzhyjppcvshbmxnbdgkyrpadovucxoflusgsrvrvijedqqenjxavxzmsvlxlahitawhodbgugmflckssqosxltlftrdrwtme\n"
          ]
        }
      ]
    },
    {
      "cell_type": "code",
      "source": [
        "#8. Use a lambda function in Python to sort a list of tuples based on the second element of each tuple.\n",
        "data = [(1, 5), (3, 2), (2, 8), (5, 1)]\n",
        "sorted_data = sorted(data, key=lambda x: x[1])\n",
        "print(sorted_data)"
      ],
      "metadata": {
        "colab": {
          "base_uri": "https://localhost:8080/"
        },
        "id": "S9kHeKjwIv1b",
        "outputId": "f502f7cf-781a-496b-90dd-37c93aa56051"
      },
      "execution_count": null,
      "outputs": [
        {
          "output_type": "stream",
          "name": "stdout",
          "text": [
            "[(5, 1), (3, 2), (1, 5), (2, 8)]\n"
          ]
        }
      ]
    },
    {
      "cell_type": "code",
      "source": [
        "#9. Write a Python program that uses `map()` to convert a list of temperatures from Celsius to Fahrenheit.\n",
        "celsius_temperatures = [0, 10, 20, 30, 40]\n",
        "fahrenheit_temperatures = list(map(lambda c: (c * 9/5) + 32, celsius_temperatures))\n",
        "print(fahrenheit_temperatures)"
      ],
      "metadata": {
        "colab": {
          "base_uri": "https://localhost:8080/"
        },
        "id": "M6dzBsp8I0Wb",
        "outputId": "caac4356-bae2-4042-bb83-ef4111e5fd1a"
      },
      "execution_count": null,
      "outputs": [
        {
          "output_type": "stream",
          "name": "stdout",
          "text": [
            "[32.0, 50.0, 68.0, 86.0, 104.0]\n"
          ]
        }
      ]
    },
    {
      "cell_type": "code",
      "source": [
        "#10. Create a Python program that uses `filter()` to remove all the vowels from a given string.\n",
        "string = \"My Name is Pritam\"\n",
        "vowels = \"aeiouAEIOU\"\n",
        "filtered_string = \"\".join(filter(lambda char: char not in vowels, string))\n",
        "print(filtered_string)"
      ],
      "metadata": {
        "colab": {
          "base_uri": "https://localhost:8080/"
        },
        "id": "wacLcQmPPLq3",
        "outputId": "cd80dbde-d975-4ce9-8b07-fa02c5092b54"
      },
      "execution_count": null,
      "outputs": [
        {
          "output_type": "stream",
          "name": "stdout",
          "text": [
            "My Nm s Prtm\n"
          ]
        }
      ]
    },
    {
      "cell_type": "code",
      "source": [
        "'''\n",
        "1) Imagine an accounting routine used in a book shop. It works on a list with sublists, which look like this:\n",
        "[\n",
        "    (34587, \"Learning Python, Mark Lutz\", 4, 40.95),\n",
        "    (98762, \"Programming Python, Mark Lutz\", 5, 56.80),\n",
        "    (77226, \"Head First Python, Paul Barry\", 3, 32.95),\n",
        "    (88112, \"Einführung in Python3, Bernd Klein\", 3, 24.99)\n",
        "]\n",
        "\n",
        "Write a Python program, which returns a list with 2-tuples. Each tuple consists of the order number and the\n",
        "product of the price per item and the quantity. The product should be increased by 10,- € if the value of the\n",
        "order is smaller than 100,00 €.\n",
        "\n",
        "Write a Python program using lambda and map.\n",
        "'''\n",
        "\n",
        "# List of book orders\n",
        "orders = [\n",
        "    (34587, \"Learning Python, Mark Lutz\", 4, 40.95),\n",
        "    (98762, \"Programming Python, Mark Lutz\", 5, 56.80),\n",
        "    (77226, \"Head First Python, Paul Barry\", 3, 32.95),\n",
        "    (88112, \"Einführung in Python3, Bernd Klein\", 3, 24.99)\n",
        "]\n",
        "\n",
        "# Lambda function to calculate total price per order\n",
        "calculate_total = lambda order: (order[0], round(order[2] * order[3] + (10 if order[2] * order[3] < 10000 else 0)))\n",
        "\n",
        "# Using map() to process all orders\n",
        "final_totals = list(map(calculate_total, orders))\n",
        "\n",
        "# Print the result\n",
        "print(final_totals)\n"
      ],
      "metadata": {
        "colab": {
          "base_uri": "https://localhost:8080/"
        },
        "id": "J8kje2-QPhl3",
        "outputId": "bdd49fb7-5b5b-45d4-be57-1343b9a7ec61"
      },
      "execution_count": null,
      "outputs": [
        {
          "output_type": "stream",
          "name": "stdout",
          "text": [
            "[(34587, 174), (98762, 294), (77226, 109), (88112, 85)]\n"
          ]
        }
      ]
    },
    {
      "cell_type": "code",
      "source": [],
      "metadata": {
        "id": "WRFmZMoPRU-9"
      },
      "execution_count": null,
      "outputs": []
    }
  ]
}