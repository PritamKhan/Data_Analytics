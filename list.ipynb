{
  "nbformat": 4,
  "nbformat_minor": 0,
  "metadata": {
    "colab": {
      "provenance": [],
      "authorship_tag": "ABX9TyNWxMcnSwZVlWvi966zbrqB",
      "include_colab_link": true
    },
    "kernelspec": {
      "name": "python3",
      "display_name": "Python 3"
    },
    "language_info": {
      "name": "python"
    }
  },
  "cells": [
    {
      "cell_type": "markdown",
      "metadata": {
        "id": "view-in-github",
        "colab_type": "text"
      },
      "source": [
        "<a href=\"https://colab.research.google.com/github/PritamKhan/Data_Analytics/blob/master/list.ipynb\" target=\"_parent\"><img src=\"https://colab.research.google.com/assets/colab-badge.svg\" alt=\"Open In Colab\"/></a>"
      ]
    },
    {
      "cell_type": "code",
      "execution_count": 57,
      "metadata": {
        "id": "lZceYRBigqQP"
      },
      "outputs": [],
      "source": [
        "#list are ordered collection of items\n",
        "#[]\n",
        "#list is like a shopping bag which can store everything\n",
        "#can store any data type"
      ]
    },
    {
      "cell_type": "code",
      "source": [
        "type([])"
      ],
      "metadata": {
        "colab": {
          "base_uri": "https://localhost:8080/"
        },
        "id": "0Ul8to2ohI0n",
        "outputId": "f73fbbbe-4437-40ee-dbad-b2f52b080eab"
      },
      "execution_count": 58,
      "outputs": [
        {
          "output_type": "execute_result",
          "data": {
            "text/plain": [
              "list"
            ]
          },
          "metadata": {},
          "execution_count": 58
        }
      ]
    },
    {
      "cell_type": "code",
      "source": [
        "grocery_list = [\"milk\", \"orange\", 1, 2.3, True, 3+5j]"
      ],
      "metadata": {
        "id": "aak7InwjhPsZ"
      },
      "execution_count": 59,
      "outputs": []
    },
    {
      "cell_type": "code",
      "source": [
        "type(grocery_list)"
      ],
      "metadata": {
        "colab": {
          "base_uri": "https://localhost:8080/"
        },
        "id": "VWeT_osKhm5H",
        "outputId": "fd7c4eee-2930-4742-f3f8-ca7a9ffc456a"
      },
      "execution_count": 60,
      "outputs": [
        {
          "output_type": "execute_result",
          "data": {
            "text/plain": [
              "list"
            ]
          },
          "metadata": {},
          "execution_count": 60
        }
      ]
    },
    {
      "cell_type": "code",
      "source": [
        "#lists are mutable"
      ],
      "metadata": {
        "id": "IvYVYBjzipUJ"
      },
      "execution_count": 61,
      "outputs": []
    },
    {
      "cell_type": "code",
      "source": [
        "grocery_list[0]"
      ],
      "metadata": {
        "colab": {
          "base_uri": "https://localhost:8080/",
          "height": 35
        },
        "id": "F2feAniXis3x",
        "outputId": "1a46b898-f9cf-40a6-c9d9-f3ccb8447e8d"
      },
      "execution_count": 62,
      "outputs": [
        {
          "output_type": "execute_result",
          "data": {
            "text/plain": [
              "'milk'"
            ],
            "application/vnd.google.colaboratory.intrinsic+json": {
              "type": "string"
            }
          },
          "metadata": {},
          "execution_count": 62
        }
      ]
    },
    {
      "cell_type": "code",
      "source": [
        "grocery_list[-1]"
      ],
      "metadata": {
        "colab": {
          "base_uri": "https://localhost:8080/"
        },
        "id": "e3iTq0UViubu",
        "outputId": "59df148d-5308-42d0-ad6e-22c165067db5"
      },
      "execution_count": 63,
      "outputs": [
        {
          "output_type": "execute_result",
          "data": {
            "text/plain": [
              "(3+5j)"
            ]
          },
          "metadata": {},
          "execution_count": 63
        }
      ]
    },
    {
      "cell_type": "code",
      "source": [
        "grocery_list[1:]"
      ],
      "metadata": {
        "colab": {
          "base_uri": "https://localhost:8080/"
        },
        "id": "2vJtenfti1Zs",
        "outputId": "fda5f4ae-024f-4725-8269-bc10caf0554d"
      },
      "execution_count": 64,
      "outputs": [
        {
          "output_type": "execute_result",
          "data": {
            "text/plain": [
              "['orange', 1, 2.3, True, (3+5j)]"
            ]
          },
          "metadata": {},
          "execution_count": 64
        }
      ]
    },
    {
      "cell_type": "code",
      "source": [
        "grocery_list[1:4]"
      ],
      "metadata": {
        "colab": {
          "base_uri": "https://localhost:8080/"
        },
        "id": "21j_zN5Ei4zc",
        "outputId": "b9aaaa22-4eb0-46b7-ef0c-4d350a0dbde4"
      },
      "execution_count": 65,
      "outputs": [
        {
          "output_type": "execute_result",
          "data": {
            "text/plain": [
              "['orange', 1, 2.3]"
            ]
          },
          "metadata": {},
          "execution_count": 65
        }
      ]
    },
    {
      "cell_type": "code",
      "source": [
        "movies = [\"action1\", \"action2\", \"comedy\", \"thriller\"]\n",
        "movies[1:]"
      ],
      "metadata": {
        "colab": {
          "base_uri": "https://localhost:8080/"
        },
        "id": "GjbRsnvMi8F5",
        "outputId": "e2451cd5-c1a4-4c34-bde2-0568912c2929"
      },
      "execution_count": 66,
      "outputs": [
        {
          "output_type": "execute_result",
          "data": {
            "text/plain": [
              "['action2', 'comedy', 'thriller']"
            ]
          },
          "metadata": {},
          "execution_count": 66
        }
      ]
    },
    {
      "cell_type": "code",
      "source": [
        "movies[0:3]"
      ],
      "metadata": {
        "colab": {
          "base_uri": "https://localhost:8080/"
        },
        "id": "kJwRstUPjck0",
        "outputId": "bc6c83ec-09fa-4eaa-ff1c-a690bb8c7221"
      },
      "execution_count": 67,
      "outputs": [
        {
          "output_type": "execute_result",
          "data": {
            "text/plain": [
              "['action1', 'action2', 'comedy']"
            ]
          },
          "metadata": {},
          "execution_count": 67
        }
      ]
    },
    {
      "cell_type": "code",
      "source": [
        "pages = [\"title page\", \"chap1\", \"chap2\", \"conclusion\", \"index\"]\n",
        "pages[-1]"
      ],
      "metadata": {
        "colab": {
          "base_uri": "https://localhost:8080/",
          "height": 35
        },
        "id": "s3Dc8_3SjkbC",
        "outputId": "43f3ee9d-f7a0-4011-b761-023474583aff"
      },
      "execution_count": 68,
      "outputs": [
        {
          "output_type": "execute_result",
          "data": {
            "text/plain": [
              "'index'"
            ],
            "application/vnd.google.colaboratory.intrinsic+json": {
              "type": "string"
            }
          },
          "metadata": {},
          "execution_count": 68
        }
      ]
    },
    {
      "cell_type": "code",
      "source": [
        "pages[-3]"
      ],
      "metadata": {
        "colab": {
          "base_uri": "https://localhost:8080/",
          "height": 35
        },
        "id": "jp1F8t09kO0u",
        "outputId": "e8bb82ca-2d5d-4fb9-f819-3717078bedb4"
      },
      "execution_count": 69,
      "outputs": [
        {
          "output_type": "execute_result",
          "data": {
            "text/plain": [
              "'chap2'"
            ],
            "application/vnd.google.colaboratory.intrinsic+json": {
              "type": "string"
            }
          },
          "metadata": {},
          "execution_count": 69
        }
      ]
    },
    {
      "cell_type": "code",
      "source": [
        "queue = [\"pritam\", \"akash\", \"rahul\", \"nikhil\"]\n",
        "queue[-1]"
      ],
      "metadata": {
        "colab": {
          "base_uri": "https://localhost:8080/",
          "height": 35
        },
        "id": "hLst0UA5klpT",
        "outputId": "13ffbe57-ddc0-4273-a548-15ff1569c11f"
      },
      "execution_count": 70,
      "outputs": [
        {
          "output_type": "execute_result",
          "data": {
            "text/plain": [
              "'nikhil'"
            ],
            "application/vnd.google.colaboratory.intrinsic+json": {
              "type": "string"
            }
          },
          "metadata": {},
          "execution_count": 70
        }
      ]
    },
    {
      "cell_type": "code",
      "source": [
        "queue[-2]"
      ],
      "metadata": {
        "colab": {
          "base_uri": "https://localhost:8080/",
          "height": 35
        },
        "id": "88j1o1-mkypp",
        "outputId": "0abee97a-3b83-4cba-d80e-76fc2fd048b1"
      },
      "execution_count": 71,
      "outputs": [
        {
          "output_type": "execute_result",
          "data": {
            "text/plain": [
              "'rahul'"
            ],
            "application/vnd.google.colaboratory.intrinsic+json": {
              "type": "string"
            }
          },
          "metadata": {},
          "execution_count": 71
        }
      ]
    },
    {
      "cell_type": "code",
      "source": [
        "list = [\"apple\", \"orange\"]\n",
        "list"
      ],
      "metadata": {
        "colab": {
          "base_uri": "https://localhost:8080/"
        },
        "id": "WiwiEwmPlzWC",
        "outputId": "4ebee508-3ee3-4ba5-8ab8-5ff65b08a153"
      },
      "execution_count": 72,
      "outputs": [
        {
          "output_type": "execute_result",
          "data": {
            "text/plain": [
              "['apple', 'orange']"
            ]
          },
          "metadata": {},
          "execution_count": 72
        }
      ]
    },
    {
      "cell_type": "code",
      "source": [
        "list.append(\"banana\")"
      ],
      "metadata": {
        "id": "zgiVtsMumCdm"
      },
      "execution_count": 73,
      "outputs": []
    },
    {
      "cell_type": "code",
      "source": [
        "list"
      ],
      "metadata": {
        "colab": {
          "base_uri": "https://localhost:8080/"
        },
        "id": "GHjWVQ9Pl7fQ",
        "outputId": "c2ccbd7a-54d1-4df0-dcc5-33cd440aed78"
      },
      "execution_count": 74,
      "outputs": [
        {
          "output_type": "execute_result",
          "data": {
            "text/plain": [
              "['apple', 'orange', 'banana']"
            ]
          },
          "metadata": {},
          "execution_count": 74
        }
      ]
    },
    {
      "cell_type": "code",
      "source": [
        "#use case\n",
        "playlist = []\n",
        "playlist.append(\"sare jhahan sa acha\")\n",
        "playlist.append(\"ae mere watan ke logo\")\n",
        "playlist.append(\"rughe dekha tho\")\n",
        "playlist"
      ],
      "metadata": {
        "colab": {
          "base_uri": "https://localhost:8080/"
        },
        "id": "dl_tOkaTmL6d",
        "outputId": "3167da2e-003b-4684-837e-f7af5b299317"
      },
      "execution_count": 75,
      "outputs": [
        {
          "output_type": "execute_result",
          "data": {
            "text/plain": [
              "['sare jhahan sa acha', 'ae mere watan ke logo', 'rughe dekha tho']"
            ]
          },
          "metadata": {},
          "execution_count": 75
        }
      ]
    },
    {
      "cell_type": "code",
      "source": [
        "bookshelf = []\n",
        "bookshelf.append(\"book1\")\n",
        "bookshelf.append(\"book2\")\n",
        "bookshelf.append(\"book3\")\n",
        "bookshelf"
      ],
      "metadata": {
        "colab": {
          "base_uri": "https://localhost:8080/"
        },
        "id": "dYiU7clmmibj",
        "outputId": "f5293e08-1ab5-43ad-b729-568859630779"
      },
      "execution_count": 76,
      "outputs": [
        {
          "output_type": "execute_result",
          "data": {
            "text/plain": [
              "['book1', 'book2', 'book3']"
            ]
          },
          "metadata": {},
          "execution_count": 76
        }
      ]
    },
    {
      "cell_type": "code",
      "source": [
        "list"
      ],
      "metadata": {
        "colab": {
          "base_uri": "https://localhost:8080/"
        },
        "id": "9FaoKtFwmpoB",
        "outputId": "3630ba56-eecd-4ecc-b628-522c0e75c724"
      },
      "execution_count": 77,
      "outputs": [
        {
          "output_type": "execute_result",
          "data": {
            "text/plain": [
              "['apple', 'orange', 'banana']"
            ]
          },
          "metadata": {},
          "execution_count": 77
        }
      ]
    },
    {
      "cell_type": "code",
      "source": [
        "#list is mutable\n",
        "list[0] = \"grapes\"\n",
        "list"
      ],
      "metadata": {
        "colab": {
          "base_uri": "https://localhost:8080/"
        },
        "id": "RHAFppuRmu1J",
        "outputId": "38e0de1a-90e8-4937-e495-82b489f21408"
      },
      "execution_count": 78,
      "outputs": [
        {
          "output_type": "execute_result",
          "data": {
            "text/plain": [
              "['grapes', 'orange', 'banana']"
            ]
          },
          "metadata": {},
          "execution_count": 78
        }
      ]
    },
    {
      "cell_type": "code",
      "source": [
        "list[1] = \"mango\"\n",
        "list"
      ],
      "metadata": {
        "colab": {
          "base_uri": "https://localhost:8080/"
        },
        "id": "E78WGrdim0Ne",
        "outputId": "b96d65b7-819b-43e2-e059-e61dccce0844"
      },
      "execution_count": 79,
      "outputs": [
        {
          "output_type": "execute_result",
          "data": {
            "text/plain": [
              "['grapes', 'mango', 'banana']"
            ]
          },
          "metadata": {},
          "execution_count": 79
        }
      ]
    },
    {
      "cell_type": "code",
      "source": [
        "list.insert(1, \"apple\") # insert object before index.\n",
        "list"
      ],
      "metadata": {
        "colab": {
          "base_uri": "https://localhost:8080/"
        },
        "id": "aEmHDQBLnBBj",
        "outputId": "dd58da83-7e64-4e0b-c51f-acf3c39c7285"
      },
      "execution_count": 80,
      "outputs": [
        {
          "output_type": "execute_result",
          "data": {
            "text/plain": [
              "['grapes', 'apple', 'mango', 'banana']"
            ]
          },
          "metadata": {},
          "execution_count": 80
        }
      ]
    },
    {
      "cell_type": "code",
      "source": [
        "#use case\n",
        "bus_seat = [\"monu\", \"sonu\", \"roni\"]\n",
        "bus_seat.insert(1, \"akash\")\n",
        "bus_seat"
      ],
      "metadata": {
        "id": "xWHW6PBCnHgf",
        "colab": {
          "base_uri": "https://localhost:8080/"
        },
        "outputId": "c94dd4cb-dfb8-473d-dd44-c593a2cba751"
      },
      "execution_count": 81,
      "outputs": [
        {
          "output_type": "execute_result",
          "data": {
            "text/plain": [
              "['monu', 'akash', 'sonu', 'roni']"
            ]
          },
          "metadata": {},
          "execution_count": 81
        }
      ]
    },
    {
      "cell_type": "code",
      "source": [
        "#extend >> used to append element from another list\n",
        "my_list = [\"apple\", \"orange\"]\n",
        "bro_list = [\"potato\", \"tomato\"]\n",
        "my_list.extend(bro_list)\n",
        "my_list"
      ],
      "metadata": {
        "colab": {
          "base_uri": "https://localhost:8080/"
        },
        "id": "32d1GeOSn7j_",
        "outputId": "db4392ed-8e49-49fb-c981-8c905e5967e4"
      },
      "execution_count": 82,
      "outputs": [
        {
          "output_type": "execute_result",
          "data": {
            "text/plain": [
              "['apple', 'orange', 'potato', 'tomato']"
            ]
          },
          "metadata": {},
          "execution_count": 82
        }
      ]
    },
    {
      "cell_type": "code",
      "source": [
        "my_list = [\"apple\", \"orange\"]\n",
        "bro_list = [\"potato\", \"tomato\"]\n",
        "bro_list.extend(my_list) #will extend the first list.\n",
        "bro_list\n"
      ],
      "metadata": {
        "colab": {
          "base_uri": "https://localhost:8080/"
        },
        "id": "2wsGJmz4oYEs",
        "outputId": "29f68971-b8e0-4dda-c64c-f7b166145cbe"
      },
      "execution_count": 83,
      "outputs": [
        {
          "output_type": "execute_result",
          "data": {
            "text/plain": [
              "['potato', 'tomato', 'apple', 'orange']"
            ]
          },
          "metadata": {},
          "execution_count": 83
        }
      ]
    },
    {
      "cell_type": "code",
      "source": [
        "#concatenate\n",
        "my_list = [\"apple\", \"orange\"]\n",
        "bro_list = [\"potato\", \"tomato\"]\n",
        "my_list + bro_list #will create a new list."
      ],
      "metadata": {
        "colab": {
          "base_uri": "https://localhost:8080/"
        },
        "id": "XBDlP-gNonFF",
        "outputId": "1ccf82f3-265c-41d1-8c1a-99791d5971c6"
      },
      "execution_count": 84,
      "outputs": [
        {
          "output_type": "execute_result",
          "data": {
            "text/plain": [
              "['apple', 'orange', 'potato', 'tomato']"
            ]
          },
          "metadata": {},
          "execution_count": 84
        }
      ]
    },
    {
      "cell_type": "code",
      "source": [
        "#repeataion operation\n",
        "\"*\" * 15"
      ],
      "metadata": {
        "colab": {
          "base_uri": "https://localhost:8080/",
          "height": 35
        },
        "id": "FBV3YKCBo0F-",
        "outputId": "e7ed9421-6123-4dab-fbbb-2641f0d44e77"
      },
      "execution_count": 85,
      "outputs": [
        {
          "output_type": "execute_result",
          "data": {
            "text/plain": [
              "'***************'"
            ],
            "application/vnd.google.colaboratory.intrinsic+json": {
              "type": "string"
            }
          },
          "metadata": {},
          "execution_count": 85
        }
      ]
    },
    {
      "cell_type": "code",
      "source": [
        "\"-\" * 10"
      ],
      "metadata": {
        "colab": {
          "base_uri": "https://localhost:8080/",
          "height": 35
        },
        "id": "RhmdabpIpR8u",
        "outputId": "9b47c306-7c58-4c59-95c5-b5460302d253"
      },
      "execution_count": 86,
      "outputs": [
        {
          "output_type": "execute_result",
          "data": {
            "text/plain": [
              "'----------'"
            ],
            "application/vnd.google.colaboratory.intrinsic+json": {
              "type": "string"
            }
          },
          "metadata": {},
          "execution_count": 86
        }
      ]
    },
    {
      "cell_type": "code",
      "source": [
        "[0] * 10"
      ],
      "metadata": {
        "colab": {
          "base_uri": "https://localhost:8080/"
        },
        "id": "HqrCGpFIpUI2",
        "outputId": "21589957-854f-448f-ca96-adc4249e62af"
      },
      "execution_count": 87,
      "outputs": [
        {
          "output_type": "execute_result",
          "data": {
            "text/plain": [
              "[0, 0, 0, 0, 0, 0, 0, 0, 0, 0]"
            ]
          },
          "metadata": {},
          "execution_count": 87
        }
      ]
    },
    {
      "cell_type": "code",
      "source": [
        "[1, 2, 3] * 5"
      ],
      "metadata": {
        "colab": {
          "base_uri": "https://localhost:8080/"
        },
        "id": "xBOhK902pXH6",
        "outputId": "73408f20-689b-4867-f0db-8bcd33283803"
      },
      "execution_count": 88,
      "outputs": [
        {
          "output_type": "execute_result",
          "data": {
            "text/plain": [
              "[1, 2, 3, 1, 2, 3, 1, 2, 3, 1, 2, 3, 1, 2, 3]"
            ]
          },
          "metadata": {},
          "execution_count": 88
        }
      ]
    },
    {
      "cell_type": "code",
      "source": [
        "del list"
      ],
      "metadata": {
        "id": "ZPUr1Wo0qVmQ"
      },
      "execution_count": 89,
      "outputs": []
    },
    {
      "cell_type": "code",
      "source": [
        "list(range(10)) * 3"
      ],
      "metadata": {
        "id": "oIqapUfuqf1l",
        "colab": {
          "base_uri": "https://localhost:8080/"
        },
        "outputId": "e32b0cdc-12d1-4ca2-a932-3815cebedcb1"
      },
      "execution_count": 90,
      "outputs": [
        {
          "output_type": "execute_result",
          "data": {
            "text/plain": [
              "[0,\n",
              " 1,\n",
              " 2,\n",
              " 3,\n",
              " 4,\n",
              " 5,\n",
              " 6,\n",
              " 7,\n",
              " 8,\n",
              " 9,\n",
              " 0,\n",
              " 1,\n",
              " 2,\n",
              " 3,\n",
              " 4,\n",
              " 5,\n",
              " 6,\n",
              " 7,\n",
              " 8,\n",
              " 9,\n",
              " 0,\n",
              " 1,\n",
              " 2,\n",
              " 3,\n",
              " 4,\n",
              " 5,\n",
              " 6,\n",
              " 7,\n",
              " 8,\n",
              " 9]"
            ]
          },
          "metadata": {},
          "execution_count": 90
        }
      ]
    },
    {
      "cell_type": "code",
      "source": [
        "msg = \"your appointment is tommorrow \\n\"\n",
        "print(msg * 3)"
      ],
      "metadata": {
        "id": "kOLVWkIJxd9z",
        "colab": {
          "base_uri": "https://localhost:8080/"
        },
        "outputId": "22b750e6-fd35-44c7-d183-295c9f6c7f24"
      },
      "execution_count": 91,
      "outputs": [
        {
          "output_type": "stream",
          "name": "stdout",
          "text": [
            "your appointment is tommorrow \n",
            "your appointment is tommorrow \n",
            "your appointment is tommorrow \n",
            "\n"
          ]
        }
      ]
    },
    {
      "cell_type": "code",
      "source": [
        "#membership in, not in\n",
        "grocery_list"
      ],
      "metadata": {
        "colab": {
          "base_uri": "https://localhost:8080/"
        },
        "id": "ooC9LpBN0Jwy",
        "outputId": "c603deea-7220-43c5-90d4-13144f2016f9"
      },
      "execution_count": 92,
      "outputs": [
        {
          "output_type": "execute_result",
          "data": {
            "text/plain": [
              "['milk', 'orange', 1, 2.3, True, (3+5j)]"
            ]
          },
          "metadata": {},
          "execution_count": 92
        }
      ]
    },
    {
      "cell_type": "code",
      "source": [
        "\"milk\" in grocery_list"
      ],
      "metadata": {
        "id": "SsMU2JYa0XYU",
        "colab": {
          "base_uri": "https://localhost:8080/"
        },
        "outputId": "0304fd79-a586-40f3-90a3-a95a31b46059"
      },
      "execution_count": 93,
      "outputs": [
        {
          "output_type": "execute_result",
          "data": {
            "text/plain": [
              "True"
            ]
          },
          "metadata": {},
          "execution_count": 93
        }
      ]
    },
    {
      "cell_type": "code",
      "source": [
        "\"potato\" in grocery_list"
      ],
      "metadata": {
        "colab": {
          "base_uri": "https://localhost:8080/"
        },
        "id": "8dpogQJk0yAh",
        "outputId": "de935e31-2aa1-41c1-b46e-434f0e520046"
      },
      "execution_count": 94,
      "outputs": [
        {
          "output_type": "execute_result",
          "data": {
            "text/plain": [
              "False"
            ]
          },
          "metadata": {},
          "execution_count": 94
        }
      ]
    },
    {
      "cell_type": "code",
      "source": [
        "\"potato\" not in grocery_list"
      ],
      "metadata": {
        "colab": {
          "base_uri": "https://localhost:8080/"
        },
        "id": "1dt4s-iA027R",
        "outputId": "e1a18c6a-6194-4a08-b284-8710426e3b3d"
      },
      "execution_count": 95,
      "outputs": [
        {
          "output_type": "execute_result",
          "data": {
            "text/plain": [
              "True"
            ]
          },
          "metadata": {},
          "execution_count": 95
        }
      ]
    },
    {
      "cell_type": "code",
      "source": [
        "#deep copy and shallow copy\n",
        "\n",
        "#shallow copy >> value will change with change in other list"
      ],
      "metadata": {
        "id": "nU8gNa4p07lF"
      },
      "execution_count": 96,
      "outputs": []
    },
    {
      "cell_type": "code",
      "source": [
        "grocery_list"
      ],
      "metadata": {
        "colab": {
          "base_uri": "https://localhost:8080/"
        },
        "id": "XgKizrUjTI9F",
        "outputId": "5460c088-0e28-40dc-e1e1-a6c19ce70b20"
      },
      "execution_count": 97,
      "outputs": [
        {
          "output_type": "execute_result",
          "data": {
            "text/plain": [
              "['milk', 'orange', 1, 2.3, True, (3+5j)]"
            ]
          },
          "metadata": {},
          "execution_count": 97
        }
      ]
    },
    {
      "cell_type": "code",
      "source": [
        "a = [\"a\", \"b\"]\n",
        "a"
      ],
      "metadata": {
        "colab": {
          "base_uri": "https://localhost:8080/"
        },
        "id": "BnSOHFIiTKco",
        "outputId": "a07f37c8-eb8e-4590-95a0-7c42091cb2e7"
      },
      "execution_count": 98,
      "outputs": [
        {
          "output_type": "execute_result",
          "data": {
            "text/plain": [
              "['a', 'b']"
            ]
          },
          "metadata": {},
          "execution_count": 98
        }
      ]
    },
    {
      "cell_type": "code",
      "source": [
        "grocery_list"
      ],
      "metadata": {
        "colab": {
          "base_uri": "https://localhost:8080/"
        },
        "id": "kiXpm1FuTOtm",
        "outputId": "3537d715-1c30-4d9b-da0c-3ab221391a24"
      },
      "execution_count": 99,
      "outputs": [
        {
          "output_type": "execute_result",
          "data": {
            "text/plain": [
              "['milk', 'orange', 1, 2.3, True, (3+5j)]"
            ]
          },
          "metadata": {},
          "execution_count": 99
        }
      ]
    },
    {
      "cell_type": "code",
      "source": [
        "a = grocery_list\n",
        "a"
      ],
      "metadata": {
        "colab": {
          "base_uri": "https://localhost:8080/"
        },
        "id": "zCNSTLGqTQzW",
        "outputId": "b579e96e-a207-449d-d5f4-a5c8472ff869"
      },
      "execution_count": 100,
      "outputs": [
        {
          "output_type": "execute_result",
          "data": {
            "text/plain": [
              "['milk', 'orange', 1, 2.3, True, (3+5j)]"
            ]
          },
          "metadata": {},
          "execution_count": 100
        }
      ]
    },
    {
      "cell_type": "code",
      "source": [
        "a[0] = \"potata\"\n",
        "a"
      ],
      "metadata": {
        "colab": {
          "base_uri": "https://localhost:8080/"
        },
        "id": "7wiCQ9FyTTDc",
        "outputId": "778f968f-f458-4558-9509-9a823b57a0b6"
      },
      "execution_count": 101,
      "outputs": [
        {
          "output_type": "execute_result",
          "data": {
            "text/plain": [
              "['potata', 'orange', 1, 2.3, True, (3+5j)]"
            ]
          },
          "metadata": {},
          "execution_count": 101
        }
      ]
    },
    {
      "cell_type": "code",
      "source": [
        "grocery_list"
      ],
      "metadata": {
        "colab": {
          "base_uri": "https://localhost:8080/"
        },
        "id": "5LYjpQz4TXi6",
        "outputId": "9fa4f5f4-8f05-465f-a7eb-3f8ccafde881"
      },
      "execution_count": 102,
      "outputs": [
        {
          "output_type": "execute_result",
          "data": {
            "text/plain": [
              "['potata', 'orange', 1, 2.3, True, (3+5j)]"
            ]
          },
          "metadata": {},
          "execution_count": 102
        }
      ]
    },
    {
      "cell_type": "code",
      "source": [
        "#deep copy >> will not change the value in another list\n",
        "grocery_list"
      ],
      "metadata": {
        "colab": {
          "base_uri": "https://localhost:8080/"
        },
        "id": "JxMiws2iTa29",
        "outputId": "6d25afa7-6363-4fbe-e26d-42fc1b5a092e"
      },
      "execution_count": 103,
      "outputs": [
        {
          "output_type": "execute_result",
          "data": {
            "text/plain": [
              "['potata', 'orange', 1, 2.3, True, (3+5j)]"
            ]
          },
          "metadata": {},
          "execution_count": 103
        }
      ]
    },
    {
      "cell_type": "code",
      "source": [
        "b = grocery_list.copy()\n",
        "b"
      ],
      "metadata": {
        "colab": {
          "base_uri": "https://localhost:8080/"
        },
        "id": "LiqQoJY0UmIj",
        "outputId": "a8bd65ae-5659-4073-b363-b983e21bb485"
      },
      "execution_count": 104,
      "outputs": [
        {
          "output_type": "execute_result",
          "data": {
            "text/plain": [
              "['potata', 'orange', 1, 2.3, True, (3+5j)]"
            ]
          },
          "metadata": {},
          "execution_count": 104
        }
      ]
    },
    {
      "cell_type": "code",
      "source": [
        "b[0] = \"milk\"\n",
        "b"
      ],
      "metadata": {
        "colab": {
          "base_uri": "https://localhost:8080/"
        },
        "id": "AT6UI2B6Uxo4",
        "outputId": "e5e9b1c3-1a15-4f0f-da6f-b764f79972ac"
      },
      "execution_count": 106,
      "outputs": [
        {
          "output_type": "execute_result",
          "data": {
            "text/plain": [
              "['milk', 'orange', 1, 2.3, True, (3+5j)]"
            ]
          },
          "metadata": {},
          "execution_count": 106
        }
      ]
    },
    {
      "cell_type": "code",
      "source": [
        "grocery_list"
      ],
      "metadata": {
        "colab": {
          "base_uri": "https://localhost:8080/"
        },
        "id": "a_I1s9NaVfqt",
        "outputId": "651cda12-8a7e-4f7a-bddc-2ad215f0b2de"
      },
      "execution_count": 107,
      "outputs": [
        {
          "output_type": "execute_result",
          "data": {
            "text/plain": [
              "['potata', 'orange', 1, 2.3, True, (3+5j)]"
            ]
          },
          "metadata": {},
          "execution_count": 107
        }
      ]
    },
    {
      "cell_type": "code",
      "source": [
        " #sorting list\n",
        "book_list = [\"data str\", \"algorithm\", \"web\"]\n",
        "sorted(book_list)"
      ],
      "metadata": {
        "colab": {
          "base_uri": "https://localhost:8080/"
        },
        "id": "S9Zr8ytpVi8O",
        "outputId": "7e305caa-26a7-4b96-9498-ebf9c27427d4"
      },
      "execution_count": 109,
      "outputs": [
        {
          "output_type": "execute_result",
          "data": {
            "text/plain": [
              "['algorithm', 'data str', 'web']"
            ]
          },
          "metadata": {},
          "execution_count": 109
        }
      ]
    },
    {
      "cell_type": "code",
      "source": [
        "book_list.index(\"algorithm\") #return the index of first occurance"
      ],
      "metadata": {
        "colab": {
          "base_uri": "https://localhost:8080/"
        },
        "id": "nSdGTkXLWy9T",
        "outputId": "f65bf72f-627b-46b6-f709-304412781746"
      },
      "execution_count": 112,
      "outputs": [
        {
          "output_type": "execute_result",
          "data": {
            "text/plain": [
              "1"
            ]
          },
          "metadata": {},
          "execution_count": 112
        }
      ]
    },
    {
      "cell_type": "code",
      "source": [
        "book_list.index(\"web\")"
      ],
      "metadata": {
        "colab": {
          "base_uri": "https://localhost:8080/"
        },
        "id": "BQFjihf8W9Wk",
        "outputId": "b9d5ba4f-2e1e-4452-9bb1-67c500bff809"
      },
      "execution_count": 113,
      "outputs": [
        {
          "output_type": "execute_result",
          "data": {
            "text/plain": [
              "2"
            ]
          },
          "metadata": {},
          "execution_count": 113
        }
      ]
    },
    {
      "cell_type": "code",
      "source": [
        "len(book_list)  #no of element on the list"
      ],
      "metadata": {
        "colab": {
          "base_uri": "https://localhost:8080/"
        },
        "id": "BgZNdTTuXWv1",
        "outputId": "984fbb8c-6433-476e-cc60-4f80c08d9883"
      },
      "execution_count": 115,
      "outputs": [
        {
          "output_type": "execute_result",
          "data": {
            "text/plain": [
              "3"
            ]
          },
          "metadata": {},
          "execution_count": 115
        }
      ]
    },
    {
      "cell_type": "code",
      "source": [
        "book_list.append(\"web\")"
      ],
      "metadata": {
        "id": "wlPnLkWPXxdh"
      },
      "execution_count": 118,
      "outputs": []
    },
    {
      "cell_type": "code",
      "source": [
        "book_list.count(\"web\") #count gives the count of specific element in a list"
      ],
      "metadata": {
        "colab": {
          "base_uri": "https://localhost:8080/"
        },
        "id": "_IfyodpcXZRP",
        "outputId": "167e3f55-6151-4760-f2de-f1fdd921ff16"
      },
      "execution_count": 119,
      "outputs": [
        {
          "output_type": "execute_result",
          "data": {
            "text/plain": [
              "2"
            ]
          },
          "metadata": {},
          "execution_count": 119
        }
      ]
    },
    {
      "cell_type": "code",
      "source": [
        "book_list.remove(\"data str\")\n",
        "book_list"
      ],
      "metadata": {
        "colab": {
          "base_uri": "https://localhost:8080/"
        },
        "id": "0L9ixAcGXjgB",
        "outputId": "30d24a04-5324-420e-d6d5-443a61307a22"
      },
      "execution_count": 120,
      "outputs": [
        {
          "output_type": "execute_result",
          "data": {
            "text/plain": [
              "['algorithm', 'web', 'web']"
            ]
          },
          "metadata": {},
          "execution_count": 120
        }
      ]
    },
    {
      "cell_type": "code",
      "source": [
        "book_list.sort()\n",
        "book_list"
      ],
      "metadata": {
        "colab": {
          "base_uri": "https://localhost:8080/"
        },
        "id": "31Wxo6NnYChj",
        "outputId": "2f05cfa3-989d-4142-80bb-d9ce73d9e4ab"
      },
      "execution_count": 121,
      "outputs": [
        {
          "output_type": "execute_result",
          "data": {
            "text/plain": [
              "['algorithm', 'web', 'web']"
            ]
          },
          "metadata": {},
          "execution_count": 121
        }
      ]
    },
    {
      "cell_type": "code",
      "source": [
        "del book_list #delets the variable"
      ],
      "metadata": {
        "id": "U_R9fcboYKet"
      },
      "execution_count": 122,
      "outputs": []
    },
    {
      "cell_type": "code",
      "source": [
        "book_list = [\"data str\", \"algorithm\", \"web\"]\n",
        "book_list"
      ],
      "metadata": {
        "colab": {
          "base_uri": "https://localhost:8080/"
        },
        "id": "W3zV1YGNYQF7",
        "outputId": "2bbfb89e-3126-4048-ae5d-f306756df170"
      },
      "execution_count": 131,
      "outputs": [
        {
          "output_type": "execute_result",
          "data": {
            "text/plain": [
              "['data str', 'algorithm', 'web']"
            ]
          },
          "metadata": {},
          "execution_count": 131
        }
      ]
    },
    {
      "cell_type": "code",
      "source": [
        "book_list.clear()\n",
        "book_list   # it delets the elements of list, but the variable will not."
      ],
      "metadata": {
        "colab": {
          "base_uri": "https://localhost:8080/"
        },
        "id": "3C2F5l-4YTLP",
        "outputId": "ca8b55fe-5a94-4845-880d-5ca81811833f"
      },
      "execution_count": 136,
      "outputs": [
        {
          "output_type": "execute_result",
          "data": {
            "text/plain": [
              "[]"
            ]
          },
          "metadata": {},
          "execution_count": 136
        }
      ]
    },
    {
      "cell_type": "code",
      "source": [
        "book_list = [\"data str\", \"algorithm\", \"web\"]\n",
        "book_list.pop() #removes the lat element"
      ],
      "metadata": {
        "colab": {
          "base_uri": "https://localhost:8080/",
          "height": 35
        },
        "id": "UQuNcEpOY_H9",
        "outputId": "334324d1-fac7-42a9-e207-fd258f3c13a0"
      },
      "execution_count": 137,
      "outputs": [
        {
          "output_type": "execute_result",
          "data": {
            "text/plain": [
              "'web'"
            ],
            "application/vnd.google.colaboratory.intrinsic+json": {
              "type": "string"
            }
          },
          "metadata": {},
          "execution_count": 137
        }
      ]
    },
    {
      "cell_type": "code",
      "source": [
        "book_list"
      ],
      "metadata": {
        "colab": {
          "base_uri": "https://localhost:8080/"
        },
        "id": "wrXS5sZcZDEd",
        "outputId": "0e318782-d472-45dc-8772-af1f16c807fb"
      },
      "execution_count": 138,
      "outputs": [
        {
          "output_type": "execute_result",
          "data": {
            "text/plain": [
              "['data str', 'algorithm']"
            ]
          },
          "metadata": {},
          "execution_count": 138
        }
      ]
    },
    {
      "cell_type": "code",
      "source": [
        "book_list.pop(1)"
      ],
      "metadata": {
        "colab": {
          "base_uri": "https://localhost:8080/",
          "height": 35
        },
        "id": "HKjfqdKqZyPl",
        "outputId": "7c931c6f-a3b2-4e9a-8dc5-fd8004503d35"
      },
      "execution_count": 140,
      "outputs": [
        {
          "output_type": "execute_result",
          "data": {
            "text/plain": [
              "'algorithm'"
            ],
            "application/vnd.google.colaboratory.intrinsic+json": {
              "type": "string"
            }
          },
          "metadata": {},
          "execution_count": 140
        }
      ]
    },
    {
      "cell_type": "code",
      "source": [
        "book_list"
      ],
      "metadata": {
        "colab": {
          "base_uri": "https://localhost:8080/"
        },
        "id": "T4Bcq1A2Z8eO",
        "outputId": "7ff1278d-2792-43f2-ad17-b9595cec8237"
      },
      "execution_count": 141,
      "outputs": [
        {
          "output_type": "execute_result",
          "data": {
            "text/plain": [
              "['data str']"
            ]
          },
          "metadata": {},
          "execution_count": 141
        }
      ]
    },
    {
      "cell_type": "code",
      "source": [
        "prices = [10, 20, 30, 40, 50]\n",
        "double_prices = []\n",
        "for i in prices:\n",
        "    double_prices.append(i*2)\n",
        "double_prices"
      ],
      "metadata": {
        "colab": {
          "base_uri": "https://localhost:8080/"
        },
        "id": "MMzaorvKaBG_",
        "outputId": "8279df11-c2a9-408c-cb24-56ff304d2620"
      },
      "execution_count": 145,
      "outputs": [
        {
          "output_type": "execute_result",
          "data": {
            "text/plain": [
              "[20, 40, 60, 80, 100]"
            ]
          },
          "metadata": {},
          "execution_count": 145
        }
      ]
    },
    {
      "cell_type": "code",
      "source": [
        "#list comprehension >> consise code\n",
        "double_prices = [price * 2 for price in prices]\n",
        "double_prices"
      ],
      "metadata": {
        "colab": {
          "base_uri": "https://localhost:8080/"
        },
        "id": "8TCS8VtgaGVz",
        "outputId": "73d94e49-3f82-4a80-a744-8ec168e50118"
      },
      "execution_count": 148,
      "outputs": [
        {
          "output_type": "execute_result",
          "data": {
            "text/plain": [
              "[20, 40, 60, 80, 100]"
            ]
          },
          "metadata": {},
          "execution_count": 148
        }
      ]
    },
    {
      "cell_type": "code",
      "source": [
        "names = [\"pritam\", \"nikhil\", \"akash\"]\n",
        "[name.capitalize() for name in names]"
      ],
      "metadata": {
        "colab": {
          "base_uri": "https://localhost:8080/"
        },
        "id": "bQMNfNYTayzk",
        "outputId": "3e105ba3-87b3-4897-f392-d39b870ff0e6"
      },
      "execution_count": 154,
      "outputs": [
        {
          "output_type": "execute_result",
          "data": {
            "text/plain": [
              "['Pritam', 'Nikhil', 'Akash']"
            ]
          },
          "metadata": {},
          "execution_count": 154
        }
      ]
    },
    {
      "cell_type": "code",
      "source": [
        "#use case\n",
        "number = [1, 2, 3, 4, 5]\n",
        "[num ** 2 for num in number]"
      ],
      "metadata": {
        "colab": {
          "base_uri": "https://localhost:8080/"
        },
        "id": "11oDs3MVbnPe",
        "outputId": "e36eec42-b418-46a2-ed98-8525cab557f5"
      },
      "execution_count": 158,
      "outputs": [
        {
          "output_type": "execute_result",
          "data": {
            "text/plain": [
              "[1, 4, 9, 16, 25]"
            ]
          },
          "metadata": {},
          "execution_count": 158
        }
      ]
    },
    {
      "cell_type": "code",
      "source": [
        "number = [1, 2, 3, 4, 5]\n",
        "[num ** num for num in number]"
      ],
      "metadata": {
        "colab": {
          "base_uri": "https://localhost:8080/"
        },
        "id": "v2jEi_HzcgND",
        "outputId": "3b5db48b-b993-42fc-c8ea-74d40f55816c"
      },
      "execution_count": 159,
      "outputs": [
        {
          "output_type": "execute_result",
          "data": {
            "text/plain": [
              "[1, 4, 27, 256, 3125]"
            ]
          },
          "metadata": {},
          "execution_count": 159
        }
      ]
    },
    {
      "cell_type": "code",
      "source": [
        "str1 = \"doc1.ppt\"\n",
        "str1.split(\".\")[-1]"
      ],
      "metadata": {
        "colab": {
          "base_uri": "https://localhost:8080/",
          "height": 35
        },
        "id": "1iO67Piucsp2",
        "outputId": "f1c81951-6cca-4be6-e4a5-b61478e4ff39"
      },
      "execution_count": 161,
      "outputs": [
        {
          "output_type": "execute_result",
          "data": {
            "text/plain": [
              "'ppt'"
            ],
            "application/vnd.google.colaboratory.intrinsic+json": {
              "type": "string"
            }
          },
          "metadata": {},
          "execution_count": 161
        }
      ]
    },
    {
      "cell_type": "code",
      "source": [
        "files = [\"doc1.ppt\", \"doc2.pdf\", \"doc3.png\", \"doc4.py\"]\n",
        "[file.split(\".\")[-1] for file in files]"
      ],
      "metadata": {
        "colab": {
          "base_uri": "https://localhost:8080/"
        },
        "id": "2ZSDHzLlc-B6",
        "outputId": "9c92e1bc-0ba8-4f10-8476-83f2a6ecac71"
      },
      "execution_count": 162,
      "outputs": [
        {
          "output_type": "execute_result",
          "data": {
            "text/plain": [
              "['ppt', 'pdf', 'png', 'py']"
            ]
          },
          "metadata": {},
          "execution_count": 162
        }
      ]
    },
    {
      "cell_type": "code",
      "source": [
        "#conditional list comprehension\n",
        "email_address = [\"pk@gmail.com\", \"nk@yahoo.com\", \"rj@yahoo.com\", \"ak@gmail.com\"]\n",
        "[email for email in email_address if email.endswith(\"@yahoo.com\")]"
      ],
      "metadata": {
        "colab": {
          "base_uri": "https://localhost:8080/"
        },
        "id": "502fl25MdPg9",
        "outputId": "c6d8f93d-a34d-47d4-8284-baab5fabda14"
      },
      "execution_count": 163,
      "outputs": [
        {
          "output_type": "execute_result",
          "data": {
            "text/plain": [
              "['nk@yahoo.com', 'rj@yahoo.com']"
            ]
          },
          "metadata": {},
          "execution_count": 163
        }
      ]
    },
    {
      "cell_type": "code",
      "source": [
        "#nested list comprehension"
      ],
      "metadata": {
        "id": "QQZj6-9yeMyV"
      },
      "execution_count": 164,
      "outputs": []
    },
    {
      "cell_type": "code",
      "source": [
        "pairs = []\n",
        "for x in [1, 2, 3]:\n",
        "  for y in [4, 5, 6]:\n",
        "    pairs.append([x, y])\n",
        "pairs"
      ],
      "metadata": {
        "colab": {
          "base_uri": "https://localhost:8080/"
        },
        "id": "42xCeejWeWnO",
        "outputId": "635b38e3-b172-4263-89d4-29f9b09c68b1"
      },
      "execution_count": 165,
      "outputs": [
        {
          "output_type": "execute_result",
          "data": {
            "text/plain": [
              "[[1, 4], [1, 5], [1, 6], [2, 4], [2, 5], [2, 6], [3, 4], [3, 5], [3, 6]]"
            ]
          },
          "metadata": {},
          "execution_count": 165
        }
      ]
    },
    {
      "cell_type": "code",
      "source": [
        "[[x, y] for x in [1, 2, 3] for y in [4, 5, 6]]"
      ],
      "metadata": {
        "colab": {
          "base_uri": "https://localhost:8080/"
        },
        "id": "t_fBBY5yemnb",
        "outputId": "b29d8549-b015-4e37-a437-944ba7395772"
      },
      "execution_count": 166,
      "outputs": [
        {
          "output_type": "execute_result",
          "data": {
            "text/plain": [
              "[[1, 4], [1, 5], [1, 6], [2, 4], [2, 5], [2, 6], [3, 4], [3, 5], [3, 6]]"
            ]
          },
          "metadata": {},
          "execution_count": 166
        }
      ]
    },
    {
      "cell_type": "code",
      "source": [
        "#list as stack and queue (optional)"
      ],
      "metadata": {
        "id": "Ccig7MyTez2x"
      },
      "execution_count": 167,
      "outputs": []
    },
    {
      "cell_type": "code",
      "source": [
        "#stack >> LIFO >> last In first Out << principal the last element added to the list will first out\n",
        "#only one end"
      ],
      "metadata": {
        "id": "To0TAOHnfOF1"
      },
      "execution_count": 179,
      "outputs": []
    },
    {
      "cell_type": "code",
      "source": [
        "stack_of_plates = []\n",
        "stack_of_plates.append(\"plate1\")\n",
        "stack_of_plates.append(\"plate2\")\n",
        "stack_of_plates.append(\"plate3\")\n",
        "stack_of_plates.append(\"plate4\")\n",
        "stack_of_plates"
      ],
      "metadata": {
        "colab": {
          "base_uri": "https://localhost:8080/"
        },
        "id": "zIbJNtiuiEG7",
        "outputId": "bd09c551-0cd0-48ac-83f7-79158b0d72e6"
      },
      "execution_count": 170,
      "outputs": [
        {
          "output_type": "execute_result",
          "data": {
            "text/plain": [
              "['plate1', 'plate2', 'plate3', 'plate4']"
            ]
          },
          "metadata": {},
          "execution_count": 170
        }
      ]
    },
    {
      "cell_type": "code",
      "source": [
        "stack_of_plates.pop()"
      ],
      "metadata": {
        "colab": {
          "base_uri": "https://localhost:8080/",
          "height": 35
        },
        "id": "1afOx9H2iT-Y",
        "outputId": "619a9b5b-e21c-4d01-de31-466f27b56331"
      },
      "execution_count": 171,
      "outputs": [
        {
          "output_type": "execute_result",
          "data": {
            "text/plain": [
              "'plate4'"
            ],
            "application/vnd.google.colaboratory.intrinsic+json": {
              "type": "string"
            }
          },
          "metadata": {},
          "execution_count": 171
        }
      ]
    },
    {
      "cell_type": "code",
      "source": [
        "stack_of_plates"
      ],
      "metadata": {
        "colab": {
          "base_uri": "https://localhost:8080/"
        },
        "id": "4AyvX84cifsP",
        "outputId": "93f9a44a-6eac-4749-b346-c9d89eb9b496"
      },
      "execution_count": 172,
      "outputs": [
        {
          "output_type": "execute_result",
          "data": {
            "text/plain": [
              "['plate1', 'plate2', 'plate3']"
            ]
          },
          "metadata": {},
          "execution_count": 172
        }
      ]
    },
    {
      "cell_type": "code",
      "source": [
        "#use case\n",
        "browsing_history = []\n",
        "browsing_history.append(\"home_page\")\n",
        "browsing_history.append(\"about_us\")\n",
        "browsing_history.append(\"contact_us\")\n",
        "browsing_history"
      ],
      "metadata": {
        "colab": {
          "base_uri": "https://localhost:8080/"
        },
        "id": "lo4jp7mUijHW",
        "outputId": "667ec1f3-3106-4bf2-9720-38a293a52b3b"
      },
      "execution_count": 173,
      "outputs": [
        {
          "output_type": "execute_result",
          "data": {
            "text/plain": [
              "['home_page', 'about_us', 'contact_us']"
            ]
          },
          "metadata": {},
          "execution_count": 173
        }
      ]
    },
    {
      "cell_type": "code",
      "source": [
        "browsing_history.pop()"
      ],
      "metadata": {
        "colab": {
          "base_uri": "https://localhost:8080/",
          "height": 35
        },
        "id": "006Gm3mYi7S7",
        "outputId": "d3dfdb1d-455e-406d-d446-639a685de5e6"
      },
      "execution_count": 174,
      "outputs": [
        {
          "output_type": "execute_result",
          "data": {
            "text/plain": [
              "'contact_us'"
            ],
            "application/vnd.google.colaboratory.intrinsic+json": {
              "type": "string"
            }
          },
          "metadata": {},
          "execution_count": 174
        }
      ]
    },
    {
      "cell_type": "code",
      "source": [
        "browsing_history"
      ],
      "metadata": {
        "colab": {
          "base_uri": "https://localhost:8080/"
        },
        "id": "nL1fUpeBjA-v",
        "outputId": "64c27e4c-7b82-4cc0-a1c8-8bd336b1f5da"
      },
      "execution_count": 175,
      "outputs": [
        {
          "output_type": "execute_result",
          "data": {
            "text/plain": [
              "['home_page', 'about_us']"
            ]
          },
          "metadata": {},
          "execution_count": 175
        }
      ]
    },
    {
      "cell_type": "code",
      "source": [
        "#list as a queue >> FIFO >> Fist In First Out << principal it works in orderly sequential manner\n",
        "#it has two ends"
      ],
      "metadata": {
        "id": "dFZC0DuijFcL"
      },
      "execution_count": 180,
      "outputs": []
    },
    {
      "cell_type": "code",
      "source": [
        "from collections import deque\n",
        "#libary is a colection of python code(module)\n",
        "#collection is a libary and deque is module"
      ],
      "metadata": {
        "id": "_F-IxnA5jOyY"
      },
      "execution_count": 182,
      "outputs": []
    },
    {
      "cell_type": "code",
      "source": [
        "checkout = deque([])\n",
        "checkout.append(\"customert1\")\n",
        "checkout.append(\"customert2\")\n",
        "checkout.append(\"customert3\")\n",
        "checkout.append(\"customert4\")\n",
        "checkout.append(\"customert5\")\n",
        "checkout"
      ],
      "metadata": {
        "colab": {
          "base_uri": "https://localhost:8080/"
        },
        "id": "mQXlUjUdjq3E",
        "outputId": "1c5a1470-6b79-4c29-8a72-a4c132e90164"
      },
      "execution_count": 183,
      "outputs": [
        {
          "output_type": "execute_result",
          "data": {
            "text/plain": [
              "deque(['customert1', 'customert2', 'customert3', 'customert4', 'customert5'])"
            ]
          },
          "metadata": {},
          "execution_count": 183
        }
      ]
    },
    {
      "cell_type": "code",
      "source": [
        "while checkout:\n",
        "  customer = checkout.popleft()\n",
        "  print(f\"Serving {customer}\")"
      ],
      "metadata": {
        "colab": {
          "base_uri": "https://localhost:8080/"
        },
        "id": "quiSaqsejw6C",
        "outputId": "f0fc7ffc-ad2b-4f12-a71e-d9a94b5be75c"
      },
      "execution_count": 184,
      "outputs": [
        {
          "output_type": "stream",
          "name": "stdout",
          "text": [
            "Serving customert1\n",
            "Serving customert2\n",
            "Serving customert3\n",
            "Serving customert4\n",
            "Serving customert5\n"
          ]
        }
      ]
    },
    {
      "cell_type": "code",
      "source": [
        "from queue import Queue\n",
        "print_queue = Queue()\n",
        "print_queue.put(\"print the 1st pdf\") #put is similar to push\n",
        "print_queue.put(\"print the 2nd pdf\")\n",
        "print_queue.put(\"print the 3rd pdf\")\n",
        "print_queue.put(\"print the 4th pdf\")\n",
        "print_queue.put(\"print the 5th pdf\")\n",
        "\n",
        "while not print_queue.empty():\n",
        "  print(f\"printing {print_queue.get()}\") #get is similar to pop"
      ],
      "metadata": {
        "colab": {
          "base_uri": "https://localhost:8080/"
        },
        "id": "hWyNYTX9mvHu",
        "outputId": "0f412541-b38e-49dc-c216-649c201db303"
      },
      "execution_count": 186,
      "outputs": [
        {
          "output_type": "stream",
          "name": "stdout",
          "text": [
            "printing print the 1st pdf\n",
            "printing print the 2nd pdf\n",
            "printing print the 3rd pdf\n",
            "printing print the 4th pdf\n",
            "printing print the 5th pdf\n"
          ]
        }
      ]
    },
    {
      "cell_type": "code",
      "source": [],
      "metadata": {
        "id": "BCYYAy6Hm-4x"
      },
      "execution_count": null,
      "outputs": []
    }
  ]
}