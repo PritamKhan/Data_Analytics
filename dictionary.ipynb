{
  "nbformat": 4,
  "nbformat_minor": 0,
  "metadata": {
    "colab": {
      "provenance": [],
      "authorship_tag": "ABX9TyNkGQjPTUQ1Q4XekZLQKjAt",
      "include_colab_link": true
    },
    "kernelspec": {
      "name": "python3",
      "display_name": "Python 3"
    },
    "language_info": {
      "name": "python"
    }
  },
  "cells": [
    {
      "cell_type": "markdown",
      "metadata": {
        "id": "view-in-github",
        "colab_type": "text"
      },
      "source": [
        "<a href=\"https://colab.research.google.com/github/PritamKhan/Data_Analytics/blob/master/dictionary.ipynb\" target=\"_parent\"><img src=\"https://colab.research.google.com/assets/colab-badge.svg\" alt=\"Open In Colab\"/></a>"
      ]
    },
    {
      "cell_type": "code",
      "execution_count": 1,
      "metadata": {
        "id": "T3x3zbbfBXTI"
      },
      "outputs": [],
      "source": [
        "#dictionary is a data structure that stores data as key value pair\n",
        "#Keys are unique and immutable\n",
        "\n",
        "#Note:dictionaries are unordered. but from Python 3.7 version, dictionaries retain the order of insertion.\n",
        "#This means that if you iterate over a dictionary, the items will be returned in the order they were added."
      ]
    },
    {
      "cell_type": "code",
      "source": [
        "d = {}\n",
        "type(d)"
      ],
      "metadata": {
        "colab": {
          "base_uri": "https://localhost:8080/"
        },
        "id": "jl3-nGBsBqaI",
        "outputId": "26ad31e8-16a5-43f4-ee59-2a63641af474"
      },
      "execution_count": 2,
      "outputs": [
        {
          "output_type": "execute_result",
          "data": {
            "text/plain": [
              "dict"
            ]
          },
          "metadata": {},
          "execution_count": 2
        }
      ]
    },
    {
      "cell_type": "code",
      "source": [
        "d = {\"name\":\"Pritam\", \"email\":\"pk@gmail.com\", \"contact\": 6549870321}\n",
        "d"
      ],
      "metadata": {
        "colab": {
          "base_uri": "https://localhost:8080/"
        },
        "id": "QMeXQmMTCnAJ",
        "outputId": "2226ce61-2178-4d5d-9a26-2be07be7d1a9"
      },
      "execution_count": 3,
      "outputs": [
        {
          "output_type": "execute_result",
          "data": {
            "text/plain": [
              "{'name': 'Pritam', 'email': 'pk@gmail.com', 'contact': 6549870321}"
            ]
          },
          "metadata": {},
          "execution_count": 3
        }
      ]
    },
    {
      "cell_type": "code",
      "source": [
        "type(d)"
      ],
      "metadata": {
        "colab": {
          "base_uri": "https://localhost:8080/"
        },
        "id": "spKUrFv2DD-6",
        "outputId": "960ea2e1-c55d-4a98-9730-f1c5a007841b"
      },
      "execution_count": 4,
      "outputs": [
        {
          "output_type": "execute_result",
          "data": {
            "text/plain": [
              "dict"
            ]
          },
          "metadata": {},
          "execution_count": 4
        }
      ]
    },
    {
      "cell_type": "code",
      "source": [
        "l = [1, 2, 3]\n",
        "l[0]"
      ],
      "metadata": {
        "colab": {
          "base_uri": "https://localhost:8080/"
        },
        "id": "phnVoQBcK7ZD",
        "outputId": "ea86b58d-4f7f-4ab4-8f8f-b184129756aa"
      },
      "execution_count": 5,
      "outputs": [
        {
          "output_type": "execute_result",
          "data": {
            "text/plain": [
              "1"
            ]
          },
          "metadata": {},
          "execution_count": 5
        }
      ]
    },
    {
      "cell_type": "code",
      "source": [
        "d[\"name\"]"
      ],
      "metadata": {
        "colab": {
          "base_uri": "https://localhost:8080/",
          "height": 35
        },
        "id": "9GITOlBoM5qZ",
        "outputId": "3d78d74e-542d-4040-cdd3-84e5afba9305"
      },
      "execution_count": 6,
      "outputs": [
        {
          "output_type": "execute_result",
          "data": {
            "text/plain": [
              "'Pritam'"
            ],
            "application/vnd.google.colaboratory.intrinsic+json": {
              "type": "string"
            }
          },
          "metadata": {},
          "execution_count": 6
        }
      ]
    },
    {
      "cell_type": "code",
      "source": [
        "d[\"email\"]"
      ],
      "metadata": {
        "colab": {
          "base_uri": "https://localhost:8080/",
          "height": 35
        },
        "id": "WFSvKIigM7k4",
        "outputId": "2891bb46-709d-4f78-b10d-4dc4c299c794"
      },
      "execution_count": 7,
      "outputs": [
        {
          "output_type": "execute_result",
          "data": {
            "text/plain": [
              "'pk@gmail.com'"
            ],
            "application/vnd.google.colaboratory.intrinsic+json": {
              "type": "string"
            }
          },
          "metadata": {},
          "execution_count": 7
        }
      ]
    },
    {
      "cell_type": "code",
      "source": [
        "d[\"name\"] = \"Pritam Kumar\""
      ],
      "metadata": {
        "id": "Qd-mOSI7M-XV"
      },
      "execution_count": 8,
      "outputs": []
    },
    {
      "cell_type": "code",
      "source": [
        "d"
      ],
      "metadata": {
        "colab": {
          "base_uri": "https://localhost:8080/"
        },
        "id": "0pQC2PcfNHva",
        "outputId": "312e5a01-d69e-468b-c520-e611592353a3"
      },
      "execution_count": 9,
      "outputs": [
        {
          "output_type": "execute_result",
          "data": {
            "text/plain": [
              "{'name': 'Pritam Kumar', 'email': 'pk@gmail.com', 'contact': 6549870321}"
            ]
          },
          "metadata": {},
          "execution_count": 9
        }
      ]
    },
    {
      "cell_type": "code",
      "source": [
        "d = {\"address\" : \"53A MG Road, Kolkata\"}"
      ],
      "metadata": {
        "id": "dvu0NZhANIXr"
      },
      "execution_count": 10,
      "outputs": []
    },
    {
      "cell_type": "code",
      "source": [
        "d[\"address\"]"
      ],
      "metadata": {
        "colab": {
          "base_uri": "https://localhost:8080/",
          "height": 35
        },
        "id": "1OW4pIAwNUWZ",
        "outputId": "271643db-a4de-4b37-f0f2-c37c2558e19b"
      },
      "execution_count": 11,
      "outputs": [
        {
          "output_type": "execute_result",
          "data": {
            "text/plain": [
              "'53A MG Road, Kolkata'"
            ],
            "application/vnd.google.colaboratory.intrinsic+json": {
              "type": "string"
            }
          },
          "metadata": {},
          "execution_count": 11
        }
      ]
    },
    {
      "cell_type": "code",
      "source": [
        "d = {\"key\" : 1}"
      ],
      "metadata": {
        "id": "3QqBYwL2NXTg"
      },
      "execution_count": 15,
      "outputs": []
    },
    {
      "cell_type": "code",
      "source": [
        "d[\"key\"]"
      ],
      "metadata": {
        "colab": {
          "base_uri": "https://localhost:8080/"
        },
        "id": "RVWWldwtNYle",
        "outputId": "e7c2bda9-7b41-4fad-cd88-5a7fcf2a421f"
      },
      "execution_count": 16,
      "outputs": [
        {
          "output_type": "execute_result",
          "data": {
            "text/plain": [
              "1"
            ]
          },
          "metadata": {},
          "execution_count": 16
        }
      ]
    },
    {
      "cell_type": "code",
      "source": [
        "d[1] #we can only acess value using key, vice_versa not possible"
      ],
      "metadata": {
        "colab": {
          "base_uri": "https://localhost:8080/",
          "height": 141
        },
        "id": "gPk-2OF9Nuvb",
        "outputId": "25d9f098-3ee9-4358-83fa-fbdd0fbc2d3b"
      },
      "execution_count": 17,
      "outputs": [
        {
          "output_type": "error",
          "ename": "KeyError",
          "evalue": "1",
          "traceback": [
            "\u001b[0;31m---------------------------------------------------------------------------\u001b[0m",
            "\u001b[0;31mKeyError\u001b[0m                                  Traceback (most recent call last)",
            "\u001b[0;32m<ipython-input-17-8d7affe0fd5c>\u001b[0m in \u001b[0;36m<cell line: 0>\u001b[0;34m()\u001b[0m\n\u001b[0;32m----> 1\u001b[0;31m \u001b[0md\u001b[0m\u001b[0;34m[\u001b[0m\u001b[0;36m1\u001b[0m\u001b[0;34m]\u001b[0m \u001b[0;31m#we can only acess value using key, vice_versa not possible\u001b[0m\u001b[0;34m\u001b[0m\u001b[0;34m\u001b[0m\u001b[0m\n\u001b[0m",
            "\u001b[0;31mKeyError\u001b[0m: 1"
          ]
        }
      ]
    },
    {
      "cell_type": "code",
      "source": [
        "#rule of defining keys\n",
        "d = {1:\"abc\"} #integers as key"
      ],
      "metadata": {
        "id": "AQr4osLQN8jI"
      },
      "execution_count": 18,
      "outputs": []
    },
    {
      "cell_type": "code",
      "source": [
        "d"
      ],
      "metadata": {
        "colab": {
          "base_uri": "https://localhost:8080/"
        },
        "id": "IxskNFvpONEt",
        "outputId": "d3855997-c1c4-4128-e16a-b392854d2c61"
      },
      "execution_count": 19,
      "outputs": [
        {
          "output_type": "execute_result",
          "data": {
            "text/plain": [
              "{1: 'abc'}"
            ]
          },
          "metadata": {},
          "execution_count": 19
        }
      ]
    },
    {
      "cell_type": "code",
      "source": [
        "d = {1.5 : \"abc\"} #float as key"
      ],
      "metadata": {
        "id": "kddjm9NhONuf"
      },
      "execution_count": 20,
      "outputs": []
    },
    {
      "cell_type": "code",
      "source": [
        "d"
      ],
      "metadata": {
        "colab": {
          "base_uri": "https://localhost:8080/"
        },
        "id": "otmx_HSiOZRT",
        "outputId": "0d3ffd70-a79a-490e-b5b9-fc3094e7d69a"
      },
      "execution_count": 21,
      "outputs": [
        {
          "output_type": "execute_result",
          "data": {
            "text/plain": [
              "{1.5: 'abc'}"
            ]
          },
          "metadata": {},
          "execution_count": 21
        }
      ]
    },
    {
      "cell_type": "code",
      "source": [
        "d = {True : \"abc\"} #boolean as key"
      ],
      "metadata": {
        "id": "3PvZuAygOaNa"
      },
      "execution_count": 22,
      "outputs": []
    },
    {
      "cell_type": "code",
      "source": [
        "d"
      ],
      "metadata": {
        "colab": {
          "base_uri": "https://localhost:8080/"
        },
        "id": "aSZN7eYROeVT",
        "outputId": "05205575-7c41-4495-8947-4e726ba4484c"
      },
      "execution_count": 23,
      "outputs": [
        {
          "output_type": "execute_result",
          "data": {
            "text/plain": [
              "{True: 'abc'}"
            ]
          },
          "metadata": {},
          "execution_count": 23
        }
      ]
    },
    {
      "cell_type": "code",
      "source": [
        "d = {#:123} #we can not have # as key"
      ],
      "metadata": {
        "colab": {
          "base_uri": "https://localhost:8080/",
          "height": 106
        },
        "id": "s5Nh2QmzOeuJ",
        "outputId": "1bcef9a7-48ca-434d-b883-2c1c6b43b0aa"
      },
      "execution_count": 24,
      "outputs": [
        {
          "output_type": "error",
          "ename": "SyntaxError",
          "evalue": "incomplete input (<ipython-input-24-9e97d29a2ea0>, line 1)",
          "traceback": [
            "\u001b[0;36m  File \u001b[0;32m\"<ipython-input-24-9e97d29a2ea0>\"\u001b[0;36m, line \u001b[0;32m1\u001b[0m\n\u001b[0;31m    d = {#:123} #we can not have # as key\u001b[0m\n\u001b[0m                                         ^\u001b[0m\n\u001b[0;31mSyntaxError\u001b[0m\u001b[0;31m:\u001b[0m incomplete input\n"
          ]
        }
      ]
    },
    {
      "cell_type": "code",
      "source": [
        "d = {@ : \"ram\"}"
      ],
      "metadata": {
        "colab": {
          "base_uri": "https://localhost:8080/",
          "height": 106
        },
        "id": "0D6ILoMPOuKK",
        "outputId": "1e53a3d9-a85c-4ce4-c812-4bf9d5154e6e"
      },
      "execution_count": 25,
      "outputs": [
        {
          "output_type": "error",
          "ename": "SyntaxError",
          "evalue": "invalid syntax (<ipython-input-25-3d96dd972496>, line 1)",
          "traceback": [
            "\u001b[0;36m  File \u001b[0;32m\"<ipython-input-25-3d96dd972496>\"\u001b[0;36m, line \u001b[0;32m1\u001b[0m\n\u001b[0;31m    d = {@ : \"ram\"}\u001b[0m\n\u001b[0m         ^\u001b[0m\n\u001b[0;31mSyntaxError\u001b[0m\u001b[0;31m:\u001b[0m invalid syntax\n"
          ]
        }
      ]
    },
    {
      "cell_type": "code",
      "source": [
        "d = {[1, 2, 3]: \"rahul\"}"
      ],
      "metadata": {
        "colab": {
          "base_uri": "https://localhost:8080/",
          "height": 141
        },
        "id": "C8mz7D-lO0cE",
        "outputId": "7ade9dcf-655a-4c96-f5c9-5ccc293fa085"
      },
      "execution_count": 26,
      "outputs": [
        {
          "output_type": "error",
          "ename": "TypeError",
          "evalue": "unhashable type: 'list'",
          "traceback": [
            "\u001b[0;31m---------------------------------------------------------------------------\u001b[0m",
            "\u001b[0;31mTypeError\u001b[0m                                 Traceback (most recent call last)",
            "\u001b[0;32m<ipython-input-26-fa87c917940e>\u001b[0m in \u001b[0;36m<cell line: 0>\u001b[0;34m()\u001b[0m\n\u001b[0;32m----> 1\u001b[0;31m \u001b[0md\u001b[0m \u001b[0;34m=\u001b[0m \u001b[0;34m{\u001b[0m\u001b[0;34m[\u001b[0m\u001b[0;36m1\u001b[0m\u001b[0;34m,\u001b[0m \u001b[0;36m2\u001b[0m\u001b[0;34m,\u001b[0m \u001b[0;36m3\u001b[0m\u001b[0;34m]\u001b[0m\u001b[0;34m:\u001b[0m \u001b[0;34m\"rahul\"\u001b[0m\u001b[0;34m}\u001b[0m\u001b[0;34m\u001b[0m\u001b[0;34m\u001b[0m\u001b[0m\n\u001b[0m",
            "\u001b[0;31mTypeError\u001b[0m: unhashable type: 'list'"
          ]
        }
      ]
    },
    {
      "cell_type": "code",
      "source": [
        "d = {(1, 2, 3): \"xyz\"}"
      ],
      "metadata": {
        "id": "_PvcEK3kO9_X"
      },
      "execution_count": 27,
      "outputs": []
    },
    {
      "cell_type": "code",
      "source": [
        "d"
      ],
      "metadata": {
        "colab": {
          "base_uri": "https://localhost:8080/"
        },
        "id": "rjiHptnmPDi3",
        "outputId": "4c8bcf85-b12d-4b4f-c0d5-bb2e4c94e4d7"
      },
      "execution_count": 28,
      "outputs": [
        {
          "output_type": "execute_result",
          "data": {
            "text/plain": [
              "{(1, 2, 3): 'xyz'}"
            ]
          },
          "metadata": {},
          "execution_count": 28
        }
      ]
    },
    {
      "cell_type": "code",
      "source": [
        "type(d)"
      ],
      "metadata": {
        "colab": {
          "base_uri": "https://localhost:8080/"
        },
        "id": "HKXkosRmPEXS",
        "outputId": "d8807238-dad2-47f3-ae7c-42fdfdb853fa"
      },
      "execution_count": 29,
      "outputs": [
        {
          "output_type": "execute_result",
          "data": {
            "text/plain": [
              "dict"
            ]
          },
          "metadata": {},
          "execution_count": 29
        }
      ]
    },
    {
      "cell_type": "code",
      "source": [
        "d = {{1, 2, 3}: \"abc\"}"
      ],
      "metadata": {
        "colab": {
          "base_uri": "https://localhost:8080/",
          "height": 141
        },
        "id": "dP2rx7qEPFxz",
        "outputId": "bb0d2531-f598-47b8-b0be-6049ba4a21e5"
      },
      "execution_count": 30,
      "outputs": [
        {
          "output_type": "error",
          "ename": "TypeError",
          "evalue": "unhashable type: 'set'",
          "traceback": [
            "\u001b[0;31m---------------------------------------------------------------------------\u001b[0m",
            "\u001b[0;31mTypeError\u001b[0m                                 Traceback (most recent call last)",
            "\u001b[0;32m<ipython-input-30-a5ceea2b1771>\u001b[0m in \u001b[0;36m<cell line: 0>\u001b[0;34m()\u001b[0m\n\u001b[0;32m----> 1\u001b[0;31m \u001b[0md\u001b[0m \u001b[0;34m=\u001b[0m \u001b[0;34m{\u001b[0m\u001b[0;34m{\u001b[0m\u001b[0;36m1\u001b[0m\u001b[0;34m,\u001b[0m \u001b[0;36m2\u001b[0m\u001b[0;34m,\u001b[0m \u001b[0;36m3\u001b[0m\u001b[0;34m}\u001b[0m\u001b[0;34m:\u001b[0m \u001b[0;34m\"abc\"\u001b[0m\u001b[0;34m}\u001b[0m\u001b[0;34m\u001b[0m\u001b[0;34m\u001b[0m\u001b[0m\n\u001b[0m",
            "\u001b[0;31mTypeError\u001b[0m: unhashable type: 'set'"
          ]
        }
      ]
    },
    {
      "cell_type": "code",
      "source": [
        "d = {{\"key\":123}: \"abc\"}"
      ],
      "metadata": {
        "colab": {
          "base_uri": "https://localhost:8080/",
          "height": 141
        },
        "id": "W6WbB3WvPlqL",
        "outputId": "e7421cad-614c-4c15-a796-b58a381f5001"
      },
      "execution_count": 31,
      "outputs": [
        {
          "output_type": "error",
          "ename": "TypeError",
          "evalue": "unhashable type: 'dict'",
          "traceback": [
            "\u001b[0;31m---------------------------------------------------------------------------\u001b[0m",
            "\u001b[0;31mTypeError\u001b[0m                                 Traceback (most recent call last)",
            "\u001b[0;32m<ipython-input-31-97538f12ff7f>\u001b[0m in \u001b[0;36m<cell line: 0>\u001b[0;34m()\u001b[0m\n\u001b[0;32m----> 1\u001b[0;31m \u001b[0md\u001b[0m \u001b[0;34m=\u001b[0m \u001b[0;34m{\u001b[0m\u001b[0;34m{\u001b[0m\u001b[0;34m\"key\"\u001b[0m\u001b[0;34m:\u001b[0m\u001b[0;36m123\u001b[0m\u001b[0;34m}\u001b[0m\u001b[0;34m:\u001b[0m \u001b[0;34m\"abc\"\u001b[0m\u001b[0;34m}\u001b[0m\u001b[0;34m\u001b[0m\u001b[0;34m\u001b[0m\u001b[0m\n\u001b[0m",
            "\u001b[0;31mTypeError\u001b[0m: unhashable type: 'dict'"
          ]
        }
      ]
    },
    {
      "cell_type": "code",
      "source": [
        "#only string and number can be used as akey of the dictionary"
      ],
      "metadata": {
        "id": "lxQwm0sQRGNc"
      },
      "execution_count": 32,
      "outputs": []
    },
    {
      "cell_type": "code",
      "source": [
        "d"
      ],
      "metadata": {
        "colab": {
          "base_uri": "https://localhost:8080/"
        },
        "id": "3r0u8PfIRVhD",
        "outputId": "6961174d-151a-4832-a864-291016e98cba"
      },
      "execution_count": 33,
      "outputs": [
        {
          "output_type": "execute_result",
          "data": {
            "text/plain": [
              "{(1, 2, 3): 'xyz'}"
            ]
          },
          "metadata": {},
          "execution_count": 33
        }
      ]
    },
    {
      "cell_type": "code",
      "source": [
        "d = {\"name\":\"Pritam\", \"email\":\"pk@gmail.com\", \"contact\": 6549870321, \"name\":\"nikhil\"}\n",
        "#always  the last key, value will be used.\n",
        "d"
      ],
      "metadata": {
        "colab": {
          "base_uri": "https://localhost:8080/"
        },
        "id": "gI3mFV7uRY77",
        "outputId": "e0f7ab3c-ecb3-4543-d831-ec4ac77f4f75"
      },
      "execution_count": 34,
      "outputs": [
        {
          "output_type": "execute_result",
          "data": {
            "text/plain": [
              "{'name': 'nikhil', 'email': 'pk@gmail.com', 'contact': 6549870321}"
            ]
          },
          "metadata": {},
          "execution_count": 34
        }
      ]
    },
    {
      "cell_type": "code",
      "source": [
        "d[\"name\"] = \"akash\""
      ],
      "metadata": {
        "id": "Qoyw8HumR4s0"
      },
      "execution_count": 35,
      "outputs": []
    },
    {
      "cell_type": "code",
      "source": [
        "d"
      ],
      "metadata": {
        "colab": {
          "base_uri": "https://localhost:8080/"
        },
        "id": "DGHxX2I5R_lb",
        "outputId": "f9450986-052c-4334-c530-9f3975d9e113"
      },
      "execution_count": 36,
      "outputs": [
        {
          "output_type": "execute_result",
          "data": {
            "text/plain": [
              "{'name': 'akash', 'email': 'pk@gmail.com', 'contact': 6549870321}"
            ]
          },
          "metadata": {},
          "execution_count": 36
        }
      ]
    },
    {
      "cell_type": "code",
      "source": [
        "d = {\"name\": [\"Pritam\", \"nikhil\", \"akash\"], \"email\":\"pk@gmail.com\", \"contact\": (6549870321, 678, 741)}\n",
        "d"
      ],
      "metadata": {
        "colab": {
          "base_uri": "https://localhost:8080/"
        },
        "id": "yHrxHzRtSAKW",
        "outputId": "db06faf0-3f35-4cec-b353-e03b80fb1607"
      },
      "execution_count": 37,
      "outputs": [
        {
          "output_type": "execute_result",
          "data": {
            "text/plain": [
              "{'name': ['Pritam', 'nikhil', 'akash'],\n",
              " 'email': 'pk@gmail.com',\n",
              " 'contact': (6549870321, 678, 741)}"
            ]
          },
          "metadata": {},
          "execution_count": 37
        }
      ]
    },
    {
      "cell_type": "code",
      "source": [
        "d[\"name\"]"
      ],
      "metadata": {
        "colab": {
          "base_uri": "https://localhost:8080/"
        },
        "id": "-xCKxe88SXAV",
        "outputId": "122e43c3-d1bb-412f-c4cf-fb6adce934ff"
      },
      "execution_count": 38,
      "outputs": [
        {
          "output_type": "execute_result",
          "data": {
            "text/plain": [
              "['Pritam', 'nikhil', 'akash']"
            ]
          },
          "metadata": {},
          "execution_count": 38
        }
      ]
    },
    {
      "cell_type": "code",
      "source": [
        "d[\"name\"][1]"
      ],
      "metadata": {
        "colab": {
          "base_uri": "https://localhost:8080/",
          "height": 35
        },
        "id": "N6mJIFxVScS2",
        "outputId": "840b01f7-585d-4974-d3d6-6b8e25793950"
      },
      "execution_count": 39,
      "outputs": [
        {
          "output_type": "execute_result",
          "data": {
            "text/plain": [
              "'nikhil'"
            ],
            "application/vnd.google.colaboratory.intrinsic+json": {
              "type": "string"
            }
          },
          "metadata": {},
          "execution_count": 39
        }
      ]
    },
    {
      "cell_type": "code",
      "source": [
        "d"
      ],
      "metadata": {
        "colab": {
          "base_uri": "https://localhost:8080/"
        },
        "id": "sKol32AiSeXU",
        "outputId": "271e2718-b71e-4ffd-fbcf-fd96b98b88f2"
      },
      "execution_count": 40,
      "outputs": [
        {
          "output_type": "execute_result",
          "data": {
            "text/plain": [
              "{'name': ['Pritam', 'nikhil', 'akash'],\n",
              " 'email': 'pk@gmail.com',\n",
              " 'contact': (6549870321, 678, 741)}"
            ]
          },
          "metadata": {},
          "execution_count": 40
        }
      ]
    },
    {
      "cell_type": "code",
      "source": [
        "d[\"address\"] = \"Kolkata\" #to creat new value pair"
      ],
      "metadata": {
        "id": "1Ja3z_gSSg6k"
      },
      "execution_count": 43,
      "outputs": []
    },
    {
      "cell_type": "code",
      "source": [
        "d"
      ],
      "metadata": {
        "colab": {
          "base_uri": "https://localhost:8080/"
        },
        "id": "WVFECNkYSrQu",
        "outputId": "8d062e10-37d3-4adc-c9ba-d0e589563325"
      },
      "execution_count": 44,
      "outputs": [
        {
          "output_type": "execute_result",
          "data": {
            "text/plain": [
              "{'name': ['Pritam', 'nikhil', 'akash'],\n",
              " 'email': 'pk@gmail.com',\n",
              " 'contact': (6549870321, 678, 741),\n",
              " 'address': 'Kolkata'}"
            ]
          },
          "metadata": {},
          "execution_count": 44
        }
      ]
    },
    {
      "cell_type": "code",
      "source": [],
      "metadata": {
        "id": "WPtQxTKnS7tt"
      },
      "execution_count": null,
      "outputs": []
    },
    {
      "cell_type": "code",
      "source": [
        "del d[\"address\"] #to delet a key value pair"
      ],
      "metadata": {
        "id": "ZV51zBoASsD3"
      },
      "execution_count": 46,
      "outputs": []
    },
    {
      "cell_type": "code",
      "source": [
        "d"
      ],
      "metadata": {
        "colab": {
          "base_uri": "https://localhost:8080/"
        },
        "id": "8hMoyxaJTAkk",
        "outputId": "2fb16f80-f241-478c-f713-5fefd811af6b"
      },
      "execution_count": 47,
      "outputs": [
        {
          "output_type": "execute_result",
          "data": {
            "text/plain": [
              "{'name': ['Pritam', 'nikhil', 'akash'],\n",
              " 'email': 'pk@gmail.com',\n",
              " 'contact': (6549870321, 678, 741)}"
            ]
          },
          "metadata": {},
          "execution_count": 47
        }
      ]
    },
    {
      "cell_type": "code",
      "source": [
        "del d #delete the whole dictionary"
      ],
      "metadata": {
        "id": "3e7KpVASTEbR"
      },
      "execution_count": 48,
      "outputs": []
    },
    {
      "cell_type": "code",
      "source": [
        "d"
      ],
      "metadata": {
        "colab": {
          "base_uri": "https://localhost:8080/",
          "height": 141
        },
        "id": "lHioxgc4TH9n",
        "outputId": "644a016a-c7e5-441a-85f3-ea541149a552"
      },
      "execution_count": 49,
      "outputs": [
        {
          "output_type": "error",
          "ename": "NameError",
          "evalue": "name 'd' is not defined",
          "traceback": [
            "\u001b[0;31m---------------------------------------------------------------------------\u001b[0m",
            "\u001b[0;31mNameError\u001b[0m                                 Traceback (most recent call last)",
            "\u001b[0;32m<ipython-input-49-e983f374794d>\u001b[0m in \u001b[0;36m<cell line: 0>\u001b[0;34m()\u001b[0m\n\u001b[0;32m----> 1\u001b[0;31m \u001b[0md\u001b[0m\u001b[0;34m\u001b[0m\u001b[0;34m\u001b[0m\u001b[0m\n\u001b[0m",
            "\u001b[0;31mNameError\u001b[0m: name 'd' is not defined"
          ]
        }
      ]
    },
    {
      "cell_type": "code",
      "source": [
        "d = {\"name\": [\"Pritam\", \"nikhil\", \"akash\"], \"email\":\"pk@gmail.com\", \"contact\": (6549870321, 678, 741)}\n",
        "d"
      ],
      "metadata": {
        "colab": {
          "base_uri": "https://localhost:8080/"
        },
        "id": "sjPPU00UTIbw",
        "outputId": "9d12dd45-9f8a-41e7-8a81-a83a79849275"
      },
      "execution_count": 50,
      "outputs": [
        {
          "output_type": "execute_result",
          "data": {
            "text/plain": [
              "{'name': ['Pritam', 'nikhil', 'akash'],\n",
              " 'email': 'pk@gmail.com',\n",
              " 'contact': (6549870321, 678, 741)}"
            ]
          },
          "metadata": {},
          "execution_count": 50
        }
      ]
    },
    {
      "cell_type": "code",
      "source": [
        "d.clear() #empty dictionary"
      ],
      "metadata": {
        "id": "5MoFK4WjTVN9"
      },
      "execution_count": 53,
      "outputs": []
    },
    {
      "cell_type": "code",
      "source": [
        "d"
      ],
      "metadata": {
        "colab": {
          "base_uri": "https://localhost:8080/"
        },
        "id": "ep7DUlB7TXVR",
        "outputId": "c6b78169-3c89-408e-813e-d4bdd78ffb26"
      },
      "execution_count": 52,
      "outputs": [
        {
          "output_type": "execute_result",
          "data": {
            "text/plain": [
              "{}"
            ]
          },
          "metadata": {},
          "execution_count": 52
        }
      ]
    },
    {
      "cell_type": "code",
      "source": [
        "d = {\"name\": [\"Pritam\", \"nikhil\", \"akash\"], \"email\":\"pk@gmail.com\", \"contact\": (6549870321, 678, 741)}\n",
        "len(d)"
      ],
      "metadata": {
        "colab": {
          "base_uri": "https://localhost:8080/"
        },
        "id": "HTYhFtovTYCJ",
        "outputId": "c15c779d-8ddd-4c50-9947-749fae567281"
      },
      "execution_count": 54,
      "outputs": [
        {
          "output_type": "execute_result",
          "data": {
            "text/plain": [
              "3"
            ]
          },
          "metadata": {},
          "execution_count": 54
        }
      ]
    },
    {
      "cell_type": "code",
      "source": [
        "d.keys()"
      ],
      "metadata": {
        "colab": {
          "base_uri": "https://localhost:8080/"
        },
        "id": "FmX4TITvTeQT",
        "outputId": "0b7a73b1-102a-41ed-a9be-f47872197d1a"
      },
      "execution_count": 55,
      "outputs": [
        {
          "output_type": "execute_result",
          "data": {
            "text/plain": [
              "dict_keys(['name', 'email', 'contact'])"
            ]
          },
          "metadata": {},
          "execution_count": 55
        }
      ]
    },
    {
      "cell_type": "code",
      "source": [
        "d.values()"
      ],
      "metadata": {
        "colab": {
          "base_uri": "https://localhost:8080/"
        },
        "id": "egG625uuTi-O",
        "outputId": "e4c73239-763b-4715-fb05-95834504bed2"
      },
      "execution_count": 56,
      "outputs": [
        {
          "output_type": "execute_result",
          "data": {
            "text/plain": [
              "dict_values([['Pritam', 'nikhil', 'akash'], 'pk@gmail.com', (6549870321, 678, 741)])"
            ]
          },
          "metadata": {},
          "execution_count": 56
        }
      ]
    },
    {
      "cell_type": "code",
      "source": [
        "d1 = d.copy()"
      ],
      "metadata": {
        "id": "pFR6fDMCTlU8"
      },
      "execution_count": 57,
      "outputs": []
    },
    {
      "cell_type": "code",
      "source": [
        "d1"
      ],
      "metadata": {
        "colab": {
          "base_uri": "https://localhost:8080/"
        },
        "id": "3miBbCCYTppJ",
        "outputId": "7265de19-fe5e-4fe3-d76b-b8489465bead"
      },
      "execution_count": 58,
      "outputs": [
        {
          "output_type": "execute_result",
          "data": {
            "text/plain": [
              "{'name': ['Pritam', 'nikhil', 'akash'],\n",
              " 'email': 'pk@gmail.com',\n",
              " 'contact': (6549870321, 678, 741)}"
            ]
          },
          "metadata": {},
          "execution_count": 58
        }
      ]
    },
    {
      "cell_type": "code",
      "source": [
        "del d1"
      ],
      "metadata": {
        "id": "Us1EhNgfTqgT"
      },
      "execution_count": 59,
      "outputs": []
    },
    {
      "cell_type": "code",
      "source": [
        "d"
      ],
      "metadata": {
        "colab": {
          "base_uri": "https://localhost:8080/"
        },
        "id": "mGaBJE44Tva2",
        "outputId": "570723c7-87a6-4f68-c697-c6b37f699790"
      },
      "execution_count": 60,
      "outputs": [
        {
          "output_type": "execute_result",
          "data": {
            "text/plain": [
              "{'name': ['Pritam', 'nikhil', 'akash'],\n",
              " 'email': 'pk@gmail.com',\n",
              " 'contact': (6549870321, 678, 741)}"
            ]
          },
          "metadata": {},
          "execution_count": 60
        }
      ]
    },
    {
      "cell_type": "code",
      "source": [
        "d.pop(\"contact\")"
      ],
      "metadata": {
        "colab": {
          "base_uri": "https://localhost:8080/"
        },
        "id": "qfIgFsNLTw-2",
        "outputId": "bf9df653-e2ff-4293-9260-89e377445b83"
      },
      "execution_count": 61,
      "outputs": [
        {
          "output_type": "execute_result",
          "data": {
            "text/plain": [
              "(6549870321, 678, 741)"
            ]
          },
          "metadata": {},
          "execution_count": 61
        }
      ]
    },
    {
      "cell_type": "code",
      "source": [
        "d"
      ],
      "metadata": {
        "colab": {
          "base_uri": "https://localhost:8080/"
        },
        "id": "rasuKZVTT-G2",
        "outputId": "87842e2d-cd10-4514-85e6-fbd3cc6507cb"
      },
      "execution_count": 62,
      "outputs": [
        {
          "output_type": "execute_result",
          "data": {
            "text/plain": [
              "{'name': ['Pritam', 'nikhil', 'akash'], 'email': 'pk@gmail.com'}"
            ]
          },
          "metadata": {},
          "execution_count": 62
        }
      ]
    },
    {
      "cell_type": "code",
      "source": [
        "d1 = {\"course\" : \"ds\"}"
      ],
      "metadata": {
        "id": "sRSA0bjyT-qw"
      },
      "execution_count": 63,
      "outputs": []
    },
    {
      "cell_type": "code",
      "source": [
        "d1"
      ],
      "metadata": {
        "colab": {
          "base_uri": "https://localhost:8080/"
        },
        "id": "4cwW6-cfUHra",
        "outputId": "60824ba0-9282-46bc-d9f7-e6a5226c1e0a"
      },
      "execution_count": 64,
      "outputs": [
        {
          "output_type": "execute_result",
          "data": {
            "text/plain": [
              "{'course': 'ds'}"
            ]
          },
          "metadata": {},
          "execution_count": 64
        }
      ]
    },
    {
      "cell_type": "code",
      "source": [
        "d.update(d1)"
      ],
      "metadata": {
        "id": "jmyEcL4CUKOt"
      },
      "execution_count": 65,
      "outputs": []
    },
    {
      "cell_type": "code",
      "source": [
        "d"
      ],
      "metadata": {
        "colab": {
          "base_uri": "https://localhost:8080/"
        },
        "id": "FWBJILNzUOLL",
        "outputId": "f0857d8d-4595-4680-f77c-91142c421d23"
      },
      "execution_count": 66,
      "outputs": [
        {
          "output_type": "execute_result",
          "data": {
            "text/plain": [
              "{'name': ['Pritam', 'nikhil', 'akash'],\n",
              " 'email': 'pk@gmail.com',\n",
              " 'course': 'ds'}"
            ]
          },
          "metadata": {},
          "execution_count": 66
        }
      ]
    },
    {
      "cell_type": "code",
      "source": [
        "d[\"name\"]"
      ],
      "metadata": {
        "colab": {
          "base_uri": "https://localhost:8080/"
        },
        "id": "iuevHpPuUOhw",
        "outputId": "7b46008a-e225-4a7f-c932-a6987a3d323b"
      },
      "execution_count": 68,
      "outputs": [
        {
          "output_type": "execute_result",
          "data": {
            "text/plain": [
              "['Pritam', 'nikhil', 'akash']"
            ]
          },
          "metadata": {},
          "execution_count": 68
        }
      ]
    },
    {
      "cell_type": "code",
      "source": [
        "d.get(\"name\")"
      ],
      "metadata": {
        "colab": {
          "base_uri": "https://localhost:8080/"
        },
        "id": "8Ks8AbbfURid",
        "outputId": "c9d00c20-9ec8-4167-d559-e16b22a126ad"
      },
      "execution_count": 69,
      "outputs": [
        {
          "output_type": "execute_result",
          "data": {
            "text/plain": [
              "['Pritam', 'nikhil', 'akash']"
            ]
          },
          "metadata": {},
          "execution_count": 69
        }
      ]
    },
    {
      "cell_type": "code",
      "source": [
        "d"
      ],
      "metadata": {
        "colab": {
          "base_uri": "https://localhost:8080/"
        },
        "id": "QE2eLdTDUa0E",
        "outputId": "f89ba543-9116-421c-9bcf-f0c01cdede27"
      },
      "execution_count": 70,
      "outputs": [
        {
          "output_type": "execute_result",
          "data": {
            "text/plain": [
              "{'name': ['Pritam', 'nikhil', 'akash'],\n",
              " 'email': 'pk@gmail.com',\n",
              " 'course': 'ds'}"
            ]
          },
          "metadata": {},
          "execution_count": 70
        }
      ]
    },
    {
      "cell_type": "code",
      "source": [
        "d[\"course\"]"
      ],
      "metadata": {
        "colab": {
          "base_uri": "https://localhost:8080/",
          "height": 35
        },
        "id": "dkE3P8UkUhW0",
        "outputId": "7837253e-575c-46eb-adc6-c4b5a617f421"
      },
      "execution_count": 71,
      "outputs": [
        {
          "output_type": "execute_result",
          "data": {
            "text/plain": [
              "'ds'"
            ],
            "application/vnd.google.colaboratory.intrinsic+json": {
              "type": "string"
            }
          },
          "metadata": {},
          "execution_count": 71
        }
      ]
    },
    {
      "cell_type": "code",
      "source": [
        "len(d)"
      ],
      "metadata": {
        "colab": {
          "base_uri": "https://localhost:8080/"
        },
        "id": "xvBRFhbIUncM",
        "outputId": "3b531477-bd75-422c-a90b-08d90b6f3276"
      },
      "execution_count": 72,
      "outputs": [
        {
          "output_type": "execute_result",
          "data": {
            "text/plain": [
              "3"
            ]
          },
          "metadata": {},
          "execution_count": 72
        }
      ]
    },
    {
      "cell_type": "code",
      "source": [
        "#from keys\n",
        "d.fromkeys((1,2,3), (\"a\", \"b\", \"c\"))"
      ],
      "metadata": {
        "colab": {
          "base_uri": "https://localhost:8080/"
        },
        "id": "7LFvUnVWUpaT",
        "outputId": "a947bf33-53fd-430b-b5aa-70e618bea58e"
      },
      "execution_count": 74,
      "outputs": [
        {
          "output_type": "execute_result",
          "data": {
            "text/plain": [
              "{1: ('a', 'b', 'c'), 2: ('a', 'b', 'c'), 3: ('a', 'b', 'c')}"
            ]
          },
          "metadata": {},
          "execution_count": 74
        }
      ]
    },
    {
      "cell_type": "code",
      "source": [
        "#dictionay comprehension\n",
        "\n",
        "#zip function\n",
        "student = [\"pritam\", \"nikhil\", \"akash\"]\n",
        "marks = [80, 95, 100]"
      ],
      "metadata": {
        "id": "6ZLIMkE2UryN"
      },
      "execution_count": 75,
      "outputs": []
    },
    {
      "cell_type": "code",
      "source": [
        "for i in zip(student, marks):\n",
        "    print(i)"
      ],
      "metadata": {
        "colab": {
          "base_uri": "https://localhost:8080/"
        },
        "id": "WZl2PS_UVXDw",
        "outputId": "2b103412-4cac-47b2-c783-290d51621c33"
      },
      "execution_count": 76,
      "outputs": [
        {
          "output_type": "stream",
          "name": "stdout",
          "text": [
            "('pritam', 80)\n",
            "('nikhil', 95)\n",
            "('akash', 100)\n"
          ]
        }
      ]
    },
    {
      "cell_type": "code",
      "source": [
        "#store the above info in key value pair>> dic"
      ],
      "metadata": {
        "id": "hcwClfpVVxa4"
      },
      "execution_count": null,
      "outputs": []
    },
    {
      "cell_type": "code",
      "source": [
        "student = [\"pritam\", \"nikhil\", \"akash\"]\n",
        "marks = [80, 95, 100]\n",
        "student_marks = {}\n",
        "for student, marks in zip(student, marks):\n",
        "    student_marks[student] = marks"
      ],
      "metadata": {
        "id": "dNinygkCVoz1"
      },
      "execution_count": 77,
      "outputs": []
    },
    {
      "cell_type": "code",
      "source": [
        "student_marks"
      ],
      "metadata": {
        "colab": {
          "base_uri": "https://localhost:8080/"
        },
        "id": "jxM46yS_Wc6w",
        "outputId": "2eb9ee3f-8dc3-4b24-ae65-f51a7c7c1a67"
      },
      "execution_count": 78,
      "outputs": [
        {
          "output_type": "execute_result",
          "data": {
            "text/plain": [
              "{'pritam': 80, 'nikhil': 95, 'akash': 100}"
            ]
          },
          "metadata": {},
          "execution_count": 78
        }
      ]
    },
    {
      "cell_type": "code",
      "source": [
        "#using dictionary comprehensionmethod\n",
        "student = [\"pritam\", \"nikhil\", \"akash\"]\n",
        "marks = [80, 95, 100]\n",
        "{student:marks for student, marks in zip(student, marks)}"
      ],
      "metadata": {
        "colab": {
          "base_uri": "https://localhost:8080/"
        },
        "id": "nepv3lWjWeYO",
        "outputId": "f7c8419b-cc0f-4b59-81ff-ff84dc6fd7fa"
      },
      "execution_count": 86,
      "outputs": [
        {
          "output_type": "execute_result",
          "data": {
            "text/plain": [
              "{'pritam': 80, 'nikhil': 95, 'akash': 100}"
            ]
          },
          "metadata": {},
          "execution_count": 86
        }
      ]
    },
    {
      "cell_type": "code",
      "source": [
        "#use case\n",
        "user_id = [1,2,3]\n",
        "user_name = [\"a21\", \"a23\", \"a25\"]"
      ],
      "metadata": {
        "id": "acakd8bNXI7S"
      },
      "execution_count": 87,
      "outputs": []
    },
    {
      "cell_type": "code",
      "source": [
        "user_id"
      ],
      "metadata": {
        "colab": {
          "base_uri": "https://localhost:8080/"
        },
        "id": "2OO2DaMJXZmL",
        "outputId": "8079d86d-45e7-4f2a-b423-f68c97b69781"
      },
      "execution_count": 88,
      "outputs": [
        {
          "output_type": "execute_result",
          "data": {
            "text/plain": [
              "[1, 2, 3]"
            ]
          },
          "metadata": {},
          "execution_count": 88
        }
      ]
    },
    {
      "cell_type": "code",
      "source": [
        "user_name"
      ],
      "metadata": {
        "colab": {
          "base_uri": "https://localhost:8080/"
        },
        "id": "NLaAEoz3Xlb5",
        "outputId": "a887421f-1968-4ec1-926a-a259a2c473b7"
      },
      "execution_count": 89,
      "outputs": [
        {
          "output_type": "execute_result",
          "data": {
            "text/plain": [
              "['a21', 'a23', 'a25']"
            ]
          },
          "metadata": {},
          "execution_count": 89
        }
      ]
    },
    {
      "cell_type": "code",
      "source": [
        "{user_id:user_name for user_id, user_name in zip(user_id, user_name)}"
      ],
      "metadata": {
        "colab": {
          "base_uri": "https://localhost:8080/"
        },
        "id": "dFSr_xDQXnCU",
        "outputId": "4f467242-131a-4a09-a005-fccd9cb4713e"
      },
      "execution_count": 91,
      "outputs": [
        {
          "output_type": "execute_result",
          "data": {
            "text/plain": [
              "{1: 'a21', 2: 'a23', 3: 'a25'}"
            ]
          },
          "metadata": {},
          "execution_count": 91
        }
      ]
    },
    {
      "cell_type": "code",
      "source": [
        "{u_id:u_name for u_id, u_name in zip(user_id, user_name)}"
      ],
      "metadata": {
        "colab": {
          "base_uri": "https://localhost:8080/"
        },
        "id": "Ks1HXc6KX2PK",
        "outputId": "4f3ca65b-a54e-472f-e084-7bdfdbbd51a5"
      },
      "execution_count": 92,
      "outputs": [
        {
          "output_type": "execute_result",
          "data": {
            "text/plain": [
              "{1: 'a21', 2: 'a23', 3: 'a25'}"
            ]
          },
          "metadata": {},
          "execution_count": 92
        }
      ]
    },
    {
      "cell_type": "code",
      "source": [
        "employee_records = {\n",
        "    'E001': {'name': 'John Doe', 'department': 'Engineering', 'salary': 75000},\n",
        "    'E002': {'name': 'Jane Smith', 'department': 'Marketing', 'salary': 65000},\n",
        "    'E003': {'name': 'David Lee', 'department': 'Finance', 'salary': 80000}\n",
        "}"
      ],
      "metadata": {
        "id": "EGB-sFt0aKV-"
      },
      "execution_count": 93,
      "outputs": []
    },
    {
      "cell_type": "code",
      "source": [
        "employee_records"
      ],
      "metadata": {
        "colab": {
          "base_uri": "https://localhost:8080/"
        },
        "id": "vjZ-Me2gaZCL",
        "outputId": "5d06105a-b5dd-49e8-c949-3ab41dbbdcdc"
      },
      "execution_count": 94,
      "outputs": [
        {
          "output_type": "execute_result",
          "data": {
            "text/plain": [
              "{'E001': {'name': 'John Doe', 'department': 'Engineering', 'salary': 75000},\n",
              " 'E002': {'name': 'Jane Smith', 'department': 'Marketing', 'salary': 65000},\n",
              " 'E003': {'name': 'David Lee', 'department': 'Finance', 'salary': 80000}}"
            ]
          },
          "metadata": {},
          "execution_count": 94
        }
      ]
    },
    {
      "cell_type": "code",
      "source": [
        "type(employee_records)"
      ],
      "metadata": {
        "colab": {
          "base_uri": "https://localhost:8080/"
        },
        "id": "ElgeqUNVacFZ",
        "outputId": "4212cd47-faf6-4296-ff9a-6de98a805260"
      },
      "execution_count": 95,
      "outputs": [
        {
          "output_type": "execute_result",
          "data": {
            "text/plain": [
              "dict"
            ]
          },
          "metadata": {},
          "execution_count": 95
        }
      ]
    },
    {
      "cell_type": "code",
      "source": [
        "employee_records.get(\"E001\")"
      ],
      "metadata": {
        "colab": {
          "base_uri": "https://localhost:8080/"
        },
        "id": "61skbxOfaeiI",
        "outputId": "0777acf8-8403-4cd0-db76-74bdce950f79"
      },
      "execution_count": 98,
      "outputs": [
        {
          "output_type": "execute_result",
          "data": {
            "text/plain": [
              "{'name': 'John Doe', 'department': 'Engineering', 'salary': 75000}"
            ]
          },
          "metadata": {},
          "execution_count": 98
        }
      ]
    },
    {
      "cell_type": "code",
      "source": [
        "employee_records[\"E001\"]"
      ],
      "metadata": {
        "colab": {
          "base_uri": "https://localhost:8080/"
        },
        "id": "_Qti_OU1alRP",
        "outputId": "75f1d1fc-cf4d-4f9a-9188-989a8542e25b"
      },
      "execution_count": 99,
      "outputs": [
        {
          "output_type": "execute_result",
          "data": {
            "text/plain": [
              "{'name': 'John Doe', 'department': 'Engineering', 'salary': 75000}"
            ]
          },
          "metadata": {},
          "execution_count": 99
        }
      ]
    },
    {
      "cell_type": "code",
      "source": [
        "restaurant_menu = {\n",
        "    'Dish1': {'name': 'Pasta Carbonara', 'price': 15.99, 'description': 'Creamy pasta with bacon and parmesan'},\n",
        "    'Dish2': {'name': 'Chicken Caesar Salad', 'price': 12.50, 'description': 'Grilled chicken with romaine lettuce and Caesar dressing'},\n",
        "    'Dish3': {'name': 'Margherita Pizza', 'price': 14.00, 'description': 'Pizza topped with tomato, mozzarella, and basil'}\n",
        "}"
      ],
      "metadata": {
        "id": "4RjW8xgwazF-"
      },
      "execution_count": 100,
      "outputs": []
    },
    {
      "cell_type": "code",
      "source": [
        "restaurant_menu[\"Dish1\"]"
      ],
      "metadata": {
        "colab": {
          "base_uri": "https://localhost:8080/"
        },
        "id": "nYX6Qp5Wa6D-",
        "outputId": "8de80601-014a-42fd-81ea-8ce362ce04a3"
      },
      "execution_count": 101,
      "outputs": [
        {
          "output_type": "execute_result",
          "data": {
            "text/plain": [
              "{'name': 'Pasta Carbonara',\n",
              " 'price': 15.99,\n",
              " 'description': 'Creamy pasta with bacon and parmesan'}"
            ]
          },
          "metadata": {},
          "execution_count": 101
        }
      ]
    },
    {
      "cell_type": "code",
      "source": [
        "#dictionar view object\n",
        "restaurant_menu.keys()"
      ],
      "metadata": {
        "colab": {
          "base_uri": "https://localhost:8080/"
        },
        "id": "hWlFsisZbFQ1",
        "outputId": "5c450cfe-2210-40c5-abfd-d848b593e207"
      },
      "execution_count": 102,
      "outputs": [
        {
          "output_type": "execute_result",
          "data": {
            "text/plain": [
              "dict_keys(['Dish1', 'Dish2', 'Dish3'])"
            ]
          },
          "metadata": {},
          "execution_count": 102
        }
      ]
    },
    {
      "cell_type": "code",
      "source": [
        "restaurant_menu.values()"
      ],
      "metadata": {
        "colab": {
          "base_uri": "https://localhost:8080/"
        },
        "id": "oi-QkB2DbMOB",
        "outputId": "83f2704b-f98e-40dc-cb2b-f52c6bae5d98"
      },
      "execution_count": 103,
      "outputs": [
        {
          "output_type": "execute_result",
          "data": {
            "text/plain": [
              "dict_values([{'name': 'Pasta Carbonara', 'price': 15.99, 'description': 'Creamy pasta with bacon and parmesan'}, {'name': 'Chicken Caesar Salad', 'price': 12.5, 'description': 'Grilled chicken with romaine lettuce and Caesar dressing'}, {'name': 'Margherita Pizza', 'price': 14.0, 'description': 'Pizza topped with tomato, mozzarella, and basil'}])"
            ]
          },
          "metadata": {},
          "execution_count": 103
        }
      ]
    },
    {
      "cell_type": "code",
      "source": [
        "restaurant_menu.items()"
      ],
      "metadata": {
        "colab": {
          "base_uri": "https://localhost:8080/"
        },
        "id": "u0IT8PVxbNxj",
        "outputId": "00366c8e-0584-4bf1-b74f-38a55b996e78"
      },
      "execution_count": 104,
      "outputs": [
        {
          "output_type": "execute_result",
          "data": {
            "text/plain": [
              "dict_items([('Dish1', {'name': 'Pasta Carbonara', 'price': 15.99, 'description': 'Creamy pasta with bacon and parmesan'}), ('Dish2', {'name': 'Chicken Caesar Salad', 'price': 12.5, 'description': 'Grilled chicken with romaine lettuce and Caesar dressing'}), ('Dish3', {'name': 'Margherita Pizza', 'price': 14.0, 'description': 'Pizza topped with tomato, mozzarella, and basil'})])"
            ]
          },
          "metadata": {},
          "execution_count": 104
        }
      ]
    },
    {
      "cell_type": "code",
      "source": [
        "for key, value in restaurant_menu.items(): #iterate key and value\n",
        "    print(key, value)"
      ],
      "metadata": {
        "colab": {
          "base_uri": "https://localhost:8080/"
        },
        "id": "NHL-XlgtbVgP",
        "outputId": "d3feee57-18f8-49c4-8062-136a12ac2391"
      },
      "execution_count": 106,
      "outputs": [
        {
          "output_type": "stream",
          "name": "stdout",
          "text": [
            "Dish1 {'name': 'Pasta Carbonara', 'price': 15.99, 'description': 'Creamy pasta with bacon and parmesan'}\n",
            "Dish2 {'name': 'Chicken Caesar Salad', 'price': 12.5, 'description': 'Grilled chicken with romaine lettuce and Caesar dressing'}\n",
            "Dish3 {'name': 'Margherita Pizza', 'price': 14.0, 'description': 'Pizza topped with tomato, mozzarella, and basil'}\n"
          ]
        }
      ]
    },
    {
      "cell_type": "code",
      "source": [
        "#iterate over only key\n",
        "for key in restaurant_menu.keys():\n",
        "    print(key)"
      ],
      "metadata": {
        "colab": {
          "base_uri": "https://localhost:8080/"
        },
        "id": "qGgZfBhubfQp",
        "outputId": "73e22c01-9bce-4277-9bab-579703ae94fc"
      },
      "execution_count": 107,
      "outputs": [
        {
          "output_type": "stream",
          "name": "stdout",
          "text": [
            "Dish1\n",
            "Dish2\n",
            "Dish3\n"
          ]
        }
      ]
    },
    {
      "cell_type": "code",
      "source": [
        "#itreate over only value\n",
        "for value in restaurant_menu.values():\n",
        "    print(value)"
      ],
      "metadata": {
        "colab": {
          "base_uri": "https://localhost:8080/"
        },
        "id": "9S7l0F0_bzEm",
        "outputId": "7985423c-9bcb-47d4-9f88-08cc0d9aba0a"
      },
      "execution_count": 108,
      "outputs": [
        {
          "output_type": "stream",
          "name": "stdout",
          "text": [
            "{'name': 'Pasta Carbonara', 'price': 15.99, 'description': 'Creamy pasta with bacon and parmesan'}\n",
            "{'name': 'Chicken Caesar Salad', 'price': 12.5, 'description': 'Grilled chicken with romaine lettuce and Caesar dressing'}\n",
            "{'name': 'Margherita Pizza', 'price': 14.0, 'description': 'Pizza topped with tomato, mozzarella, and basil'}\n"
          ]
        }
      ]
    },
    {
      "cell_type": "code",
      "source": [],
      "metadata": {
        "id": "xCk8Jqfwb7Os"
      },
      "execution_count": null,
      "outputs": []
    }
  ]
}