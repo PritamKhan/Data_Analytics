{
  "nbformat": 4,
  "nbformat_minor": 0,
  "metadata": {
    "colab": {
      "provenance": [],
      "authorship_tag": "ABX9TyMDDmHxrSDpwyA+KFHRb72m",
      "include_colab_link": true
    },
    "kernelspec": {
      "name": "python3",
      "display_name": "Python 3"
    },
    "language_info": {
      "name": "python"
    }
  },
  "cells": [
    {
      "cell_type": "markdown",
      "metadata": {
        "id": "view-in-github",
        "colab_type": "text"
      },
      "source": [
        "<a href=\"https://colab.research.google.com/github/PritamKhan/Data_Analytics/blob/master/assignment_python_basics.ipynb\" target=\"_parent\"><img src=\"https://colab.research.google.com/assets/colab-badge.svg\" alt=\"Open In Colab\"/></a>"
      ]
    },
    {
      "cell_type": "markdown",
      "source": [
        "#Python Basics Questions"
      ],
      "metadata": {
        "id": "GkioL2nTv0YH"
      }
    },
    {
      "cell_type": "code",
      "execution_count": null,
      "metadata": {
        "id": "dPA2QGr5vh8V"
      },
      "outputs": [],
      "source": [
        "'''\n",
        "1. What is Python, and why is it popular?\n",
        "-> Python is a high-level programing language, widely used in the\n",
        "industries for fronted and backened development, data analysis,\n",
        "machine learning, automation, image processing. It is a popular\n",
        "because it has Python has more than 137,000 libraries. The number\n",
        "of libraries is growing continuously.\n",
        "2. What is an interpreter in Python?\n",
        "-> Interpreter is computer programing language, which work as\n",
        "translator/convert high level programming language/source code\n",
        "to machine level language/lowest level of programming language\n",
        "that computers use. It's made up of binary numbers (1s and 0s)\n",
        "that represent instructions and data.\n",
        "3. What are pre-defined keywords in Python?\n",
        "-> Syntax: help(\"keywords\")\n",
        "Here is a list of the Python keywords.  Enter any keyword to get more help.\n",
        "\n",
        "False               class               from                or\n",
        "None                continue            global              pass\n",
        "True                def                 if                  raise\n",
        "and                 del                 import              return\n",
        "as                  elif                in                  try\n",
        "assert              else                is                  while\n",
        "async               except              lambda              with\n",
        "await               finally             nonlocal            yield\n",
        "break               for                 not\n",
        "4. Can keywords be used as variable names?\n",
        "-> No keywords cannot be used as variable names, because every keywords\n",
        "are defined with a specific structure and syntax rules of a programming\n",
        "language\n",
        "5.What is mutability in Python?\n",
        "-> Mutability means/ability to make changes like insert, remove, update the\n",
        "objects in a data type/structure. Mutable data types in python are list, set,\n",
        "dictionary.\n",
        "6. Why are lists mutable, but tuples are immutable?\n",
        "-> Lists are mutabele because they are dynamic dynamic data type and require\n",
        "extra memory to handle modifications (e.g., appending or removing elements).\n",
        "Tuples are immutable because they are fixed in size once created. They are stored\n",
        "in a more memory-efficient way and can be accessed faster than lists.\n",
        "ensuring that their values remain constant, useful where data should not\n",
        "change(e.g., keys in a dictionary).\n",
        "7. What is the difference between “==” and “is” operators in Python?\n",
        "-> \"==\" It is a comparision operator which Checks if the values of two objects\n",
        "are the same.\n",
        "\"is\" It is a identity operator which Checks if two objects refer to the same\n",
        "memory location.\n",
        "8. What are logical operators in Python?\n",
        "-> Logical operators in python are used to perform boolean logic operations.\n",
        "They return \"True\" or \"False\" based on conditions.\n",
        "Types are \"and\", \"or\", \"not\"\n",
        "9.What is type casting in Python?\n",
        "->Type casting also called type conversion it is the process of converting\n",
        "one data type into another in Python.\n",
        "Syntx: new_data_type(data_to_be_converted)\n",
        "       int( ), str( ), float( ).\n",
        "10. What is the difference between implicit and explicit type casting?\n",
        "-> Python provides two types of type conversion:\n",
        "\n",
        "  >Implicit/Automatic Type Casting : In Implicit type conversion, Python\n",
        "  automatically converts one data type to another without any user involvement.\n",
        "\n",
        "  >Explicit/Manual Type Casting : In Explicit we need to manually convert data\n",
        "  from one type to another using built-in functions.\n",
        "11. What is the purpose of conditional statements in Python?\n",
        "->Conditional statements in Python allow a program to make decisions and execute\n",
        "different code blocks based on certain conditions. They help control the flow of\n",
        "execution by checking whether a condition is \"True\" or \"False\".\n",
        "Types of Conditional Statements in Python:\n",
        ">if statement for single condition.\n",
        ">if-else statement for two conditions.\n",
        ">if-elif-else statement for multiple conditions.\n",
        ">Nested if Statements for conditions inside another conditions.\n",
        "12.How does the elif statement work?\n",
        "->The elif statement is used to check multiple conditions sequentially.\n",
        "Steps as follows:\n",
        "  i. The \"if\" statement is checked at first.\n",
        "  ii. Assume that \"if\" condition is \"True\", its block is executed, and the rest\n",
        "  are skipped.\n",
        "  iii. Assume that \"if\" condition is \"False\", Python checks the \"elif\" conditions\n",
        "  one by one.\n",
        "  iv. Assume first \"elif\" condition that is \"True\" executes, and the rest are ignored.\n",
        "  v. Assume none of the \"if\" or \"elif\" conditions are \"True\", the \"else\" block will\n",
        "  executes.\n",
        "13.What is the difference between for and while loops?\n",
        "->For loop continue untile the range/sequence get stop/end.No condition required.\n",
        "Work with Sequences (list, range, tuple, etc.).\n",
        "While loop continue until the condition is \"True\", stops/end when the condition\n",
        "becomes \"False\".Work with boolean conditions.\n",
        "14.Describe a scenario where a while loop is more suitable than a for loop.\n",
        "->A while loop is best when we don’t know in advance how many times the loop\n",
        "will run.For example, A user to enter a valid password, we keep\n",
        "asking until they provide the correct input.\n",
        "\n",
        "'''"
      ]
    },
    {
      "cell_type": "code",
      "source": [
        "#3.What are pre-defined keywords in Python?\n",
        "help(\"keywords\")"
      ],
      "metadata": {
        "colab": {
          "base_uri": "https://localhost:8080/"
        },
        "id": "dQ6QJzv954Lc",
        "outputId": "5a5cef4a-8258-4bf7-f2dd-db677b3be92e"
      },
      "execution_count": 2,
      "outputs": [
        {
          "output_type": "stream",
          "name": "stdout",
          "text": [
            "\n",
            "Here is a list of the Python keywords.  Enter any keyword to get more help.\n",
            "\n",
            "False               class               from                or\n",
            "None                continue            global              pass\n",
            "True                def                 if                  raise\n",
            "and                 del                 import              return\n",
            "as                  elif                in                  try\n",
            "assert              else                is                  while\n",
            "async               except              lambda              with\n",
            "await               finally             nonlocal            yield\n",
            "break               for                 not                 \n",
            "\n"
          ]
        }
      ]
    },
    {
      "cell_type": "code",
      "source": [
        "#10.What is the difference between implicit and explicit type casting?\n",
        "#implicit example\n",
        "x = 10\n",
        "y = 2.4\n",
        "name = \"pritam\"\n",
        "print(type(x))\n",
        "print(type(y))\n",
        "print(type(name))\n",
        "#explicit example\n",
        "a = input(\"enter a number: \")\n",
        "print(a)\n",
        "print(type(a))\n",
        "\n",
        "a = int(a)\n",
        "print(a)\n",
        "print(type(a))\n",
        "\n",
        "a = float(a)\n",
        "print(a)\n",
        "print(type(a))"
      ],
      "metadata": {
        "colab": {
          "base_uri": "https://localhost:8080/"
        },
        "id": "zOY_APvk57sS",
        "outputId": "11d1180e-269e-4a8f-e7bd-41b64381dc26"
      },
      "execution_count": 9,
      "outputs": [
        {
          "output_type": "stream",
          "name": "stdout",
          "text": [
            "<class 'int'>\n",
            "<class 'float'>\n",
            "<class 'str'>\n",
            "enter a number: 7\n",
            "7\n",
            "<class 'str'>\n",
            "7\n",
            "<class 'int'>\n",
            "7.0\n",
            "<class 'float'>\n"
          ]
        }
      ]
    },
    {
      "cell_type": "code",
      "source": [
        "#14. Describe a scenario where a while loop is more suitable than a for loop.\n",
        "correct_password = \"python@123\"\n",
        "user_input = \"\"\n",
        "\n",
        "while user_input != correct_password:  # Keep looping until input is correct\n",
        "    user_input = input(\"Enter your password: \")\n",
        "    if user_input == correct_password:\n",
        "        print(\"Access granted!\")\n",
        "    else:\n",
        "        print(\"Incorrect password. Try again.\")\n",
        "\n"
      ],
      "metadata": {
        "colab": {
          "base_uri": "https://localhost:8080/"
        },
        "id": "KmTgRtmxO6Js",
        "outputId": "25b34d91-6a3e-4a86-ffa6-e5b6a9f5c8c6"
      },
      "execution_count": 10,
      "outputs": [
        {
          "output_type": "stream",
          "name": "stdout",
          "text": [
            "Enter your password: 455\n",
            "Incorrect password. Try again.\n",
            "Enter your password: hskdkh\n",
            "Incorrect password. Try again.\n",
            "Enter your password: python@123\n",
            "Access granted!\n"
          ]
        }
      ]
    },
    {
      "cell_type": "markdown",
      "source": [
        "#Practical Questions"
      ],
      "metadata": {
        "id": "_c5tYlpJX_do"
      }
    },
    {
      "cell_type": "code",
      "source": [
        "#1. Write a Python program to print \"Hello World!\"?\n",
        "print(\"Hello World!\")"
      ],
      "metadata": {
        "colab": {
          "base_uri": "https://localhost:8080/"
        },
        "id": "-fK7Qom2YO3x",
        "outputId": "1a2f2572-679d-4fe5-e800-e143604925d5"
      },
      "execution_count": 13,
      "outputs": [
        {
          "output_type": "stream",
          "name": "stdout",
          "text": [
            "Hello World!\n"
          ]
        }
      ]
    },
    {
      "cell_type": "code",
      "source": [
        "#2. Write a Python program that displays your name and age?\n",
        "#get input\n",
        "name = input(\"Enter your name: \")\n",
        "age = input(\"Enter your age: \")\n",
        "#display data\n",
        "print(\"Name: \", name)\n",
        "print(\"Age: \", age)"
      ],
      "metadata": {
        "colab": {
          "base_uri": "https://localhost:8080/"
        },
        "id": "qKDDcaaTYW_v",
        "outputId": "34815e8e-d45e-4d4d-f242-20f462d7f43d"
      },
      "execution_count": 16,
      "outputs": [
        {
          "output_type": "stream",
          "name": "stdout",
          "text": [
            "Enter your name: Pritam\n",
            "Enter your age: 22\n",
            "Name:  Pritam\n",
            "Age:  22\n"
          ]
        }
      ]
    },
    {
      "cell_type": "code",
      "source": [
        "#3. Write code to print all the pre-defined keywords in Python using the keyword library.\n",
        "help(\"keywords\")"
      ],
      "metadata": {
        "colab": {
          "base_uri": "https://localhost:8080/"
        },
        "id": "c8D_kpCYYkKk",
        "outputId": "b3df860a-da04-42ee-8dc8-c9c5d23c3a60"
      },
      "execution_count": 15,
      "outputs": [
        {
          "output_type": "stream",
          "name": "stdout",
          "text": [
            "\n",
            "Here is a list of the Python keywords.  Enter any keyword to get more help.\n",
            "\n",
            "False               class               from                or\n",
            "None                continue            global              pass\n",
            "True                def                 if                  raise\n",
            "and                 del                 import              return\n",
            "as                  elif                in                  try\n",
            "assert              else                is                  while\n",
            "async               except              lambda              with\n",
            "await               finally             nonlocal            yield\n",
            "break               for                 not                 \n",
            "\n"
          ]
        }
      ]
    },
    {
      "cell_type": "code",
      "source": [
        "#4.Write a program that checks if a given word is a Python keyword.\n",
        "import keyword\n",
        "\n",
        "#get input\n",
        "word = input(\"Enter a word to check if it's a Python keyword: \")\n",
        "\n",
        "#check if the word is a keyword\n",
        "if keyword.iskeyword(word):\n",
        "    print(f\"'{word}' is a Python keyword.\")\n",
        "else:\n",
        "    print(f\"'{word}' is NOT a Python keyword.\")\n"
      ],
      "metadata": {
        "colab": {
          "base_uri": "https://localhost:8080/"
        },
        "id": "tCfMKtsFYzBg",
        "outputId": "7b0a17ee-4f34-4ab6-c436-f460f4addcf8"
      },
      "execution_count": 18,
      "outputs": [
        {
          "output_type": "stream",
          "name": "stdout",
          "text": [
            "Enter a word to check if it's a Python keyword: in\n",
            "'in' is a Python keyword.\n"
          ]
        }
      ]
    },
    {
      "cell_type": "code",
      "source": [
        "#5.Create a list and tuple in Python, and demonstrate how attempting to change an element works differently\n",
        "#for each.\n",
        "#create a List\n",
        "my_list = [1, 2, 3, 4, \"pritam\", \"nikhil\"]\n",
        "print(\"Original List:\", my_list)\n",
        "\n",
        "#change an element in the list\n",
        "my_list[2] = 99\n",
        "print(\"List after changing element:\", my_list)\n",
        "\n",
        "\n",
        "#create a tuple\n",
        "my_tuple = (10, 20, 30, 40)\n",
        "print(\"\\nOriginal Tuple:\", my_tuple)\n",
        "\n",
        "my_tuple[2] = 99\n",
        "\n"
      ],
      "metadata": {
        "colab": {
          "base_uri": "https://localhost:8080/",
          "height": 280
        },
        "id": "4Uw6N-mkZleG",
        "outputId": "377166cf-6c23-459d-ac24-88db9d72c8ae"
      },
      "execution_count": 20,
      "outputs": [
        {
          "output_type": "stream",
          "name": "stdout",
          "text": [
            "Original List: [1, 2, 3, 4, 'pritam', 'nikhil']\n",
            "List after changing element: [1, 2, 99, 4, 'pritam', 'nikhil']\n",
            "\n",
            "Original Tuple: (10, 20, 30, 40)\n"
          ]
        },
        {
          "output_type": "error",
          "ename": "TypeError",
          "evalue": "'tuple' object does not support item assignment",
          "traceback": [
            "\u001b[0;31m---------------------------------------------------------------------------\u001b[0m",
            "\u001b[0;31mTypeError\u001b[0m                                 Traceback (most recent call last)",
            "\u001b[0;32m<ipython-input-20-e778ef5b56bd>\u001b[0m in \u001b[0;36m<cell line: 0>\u001b[0;34m()\u001b[0m\n\u001b[1;32m     16\u001b[0m \u001b[0;31m#try to change an element in the tuple (This will cause an error)\u001b[0m\u001b[0;34m\u001b[0m\u001b[0;34m\u001b[0m\u001b[0m\n\u001b[1;32m     17\u001b[0m \u001b[0;31m# try:\u001b[0m\u001b[0;34m\u001b[0m\u001b[0;34m\u001b[0m\u001b[0m\n\u001b[0;32m---> 18\u001b[0;31m \u001b[0mmy_tuple\u001b[0m\u001b[0;34m[\u001b[0m\u001b[0;36m2\u001b[0m\u001b[0;34m]\u001b[0m \u001b[0;34m=\u001b[0m \u001b[0;36m99\u001b[0m\u001b[0;34m\u001b[0m\u001b[0;34m\u001b[0m\u001b[0m\n\u001b[0m\u001b[1;32m     19\u001b[0m \u001b[0;31m# except TypeError as e:\u001b[0m\u001b[0;34m\u001b[0m\u001b[0;34m\u001b[0m\u001b[0m\n\u001b[1;32m     20\u001b[0m \u001b[0;31m#     print(\"Error while modifying tuple:\", e)\u001b[0m\u001b[0;34m\u001b[0m\u001b[0;34m\u001b[0m\u001b[0m\n",
            "\u001b[0;31mTypeError\u001b[0m: 'tuple' object does not support item assignment"
          ]
        }
      ]
    },
    {
      "cell_type": "code",
      "source": [
        "#6.Write a function to demonstrate the behavior of mutable and immutable arguments.\n",
        "def demonstrate_mutable_immutable(mutable_arg, immutable_arg):\n",
        "    print(\"Inside the function:\")\n",
        "\n",
        "    #modify the mutable argument (list)\n",
        "    mutable_arg.append(4)\n",
        "    print(f\"Mutable argument after modification: {mutable_arg}\")\n",
        "\n",
        "    #modify the immutable argument (integer)\n",
        "    immutable_arg += 10\n",
        "    print(f\"Immutable argument after modification: {immutable_arg}\")\n",
        "\n",
        "    print(\"\\n\")\n",
        "\n",
        "#example usage\n",
        "if __name__ == \"__main__\":\n",
        "    #mutable argument (list)\n",
        "    my_list = [1, 2, 3]\n",
        "\n",
        "    #immutable argument (integer)\n",
        "    my_int = 5\n",
        "\n",
        "    print(\"Before calling the function:\")\n",
        "    print(f\"Original mutable argument (list): {my_list}\")\n",
        "    print(f\"Original immutable argument (integer): {my_int}\")\n",
        "    print(\"\\n\")\n",
        "\n",
        "    #call the function\n",
        "    demonstrate_mutable_immutable(my_list, my_int)\n",
        "\n",
        "    print(\"After calling the function:\")\n",
        "    print(f\"Mutable argument (list): {my_list}\")\n",
        "    print(f\"Immutable argument (integer): {my_int}\")\n"
      ],
      "metadata": {
        "colab": {
          "base_uri": "https://localhost:8080/"
        },
        "id": "J3EY9yL_cr-p",
        "outputId": "589483e9-b1e9-4f13-98a1-23e0bedc96be"
      },
      "execution_count": 24,
      "outputs": [
        {
          "output_type": "stream",
          "name": "stdout",
          "text": [
            "Before calling the function:\n",
            "Original mutable argument (list): [1, 2, 3]\n",
            "Original immutable argument (integer): 5\n",
            "\n",
            "\n",
            "Inside the function:\n",
            "Mutable argument after modification: [1, 2, 3, 4]\n",
            "Immutable argument after modification: 15\n",
            "\n",
            "\n",
            "After calling the function:\n",
            "Mutable argument (list): [1, 2, 3, 4]\n",
            "Immutable argument (integer): 5\n"
          ]
        }
      ]
    },
    {
      "cell_type": "code",
      "source": [
        "#7.Write a function to demonstrate the behavior of mutable and immutable arguments.\n",
        "#both question 6 and 7 are same."
      ],
      "metadata": {
        "id": "bUx_6Vqih4rp"
      },
      "execution_count": 22,
      "outputs": []
    },
    {
      "cell_type": "code",
      "source": [
        "#8.Write a program to demonstrate the use of logical operators.\n",
        "def demonstrate_logical_operators(a, b):\n",
        "    print(f\"a = {a}, b = {b}\")\n",
        "\n",
        "    #AND operator\n",
        "    print(f\"a > 0 and b > 0: {a > 0 and b > 0}\")\n",
        "\n",
        "    #OR operator\n",
        "    print(f\"a > 0 or b > 0: {a > 0 or b > 0}\")\n",
        "\n",
        "    #NOT operator\n",
        "    print(f\"not(a > 0): {not(a > 0)}\")\n",
        "    print(f\"not(b > 0): {not(b > 0)}\")\n",
        "\n",
        "    print(\"\\n\")\n",
        "\n",
        "#example usage\n",
        "if __name__ == \"__main__\":\n",
        "    #test cases\n",
        "    demonstrate_logical_operators(7, 3)   #both a and b are positive\n",
        "    demonstrate_logical_operators(-2, 4)  #a is negative, b is positive\n",
        "    demonstrate_logical_operators(-2, -6) #both a and b are negative"
      ],
      "metadata": {
        "colab": {
          "base_uri": "https://localhost:8080/"
        },
        "id": "R9raPO0oh_6c",
        "outputId": "9a0876ac-8175-4a33-ae39-315c6daff012"
      },
      "execution_count": 23,
      "outputs": [
        {
          "output_type": "stream",
          "name": "stdout",
          "text": [
            "a = 7, b = 3\n",
            "a > 0 and b > 0: True\n",
            "a > 0 or b > 0: True\n",
            "not(a > 0): False\n",
            "not(b > 0): False\n",
            "\n",
            "\n",
            "a = -2, b = 4\n",
            "a > 0 and b > 0: False\n",
            "a > 0 or b > 0: True\n",
            "not(a > 0): True\n",
            "not(b > 0): False\n",
            "\n",
            "\n",
            "a = -2, b = -6\n",
            "a > 0 and b > 0: False\n",
            "a > 0 or b > 0: False\n",
            "not(a > 0): True\n",
            "not(b > 0): True\n",
            "\n",
            "\n"
          ]
        }
      ]
    },
    {
      "cell_type": "code",
      "source": [
        "#9.Write a Python program to convert user input from string to integer, float, and boolean types.\n",
        "#user input as a string\n",
        "user_input = input(\"Enter a value: \")\n",
        "print(user_input)\n",
        "print(type(user_input))\n",
        "\n",
        "#convert to integer\n",
        "user_input =int(user_input)\n",
        "print(user_input)\n",
        "print(type(user_input))\n",
        "\n",
        "#covert to float\n",
        "user_input =float(user_input)\n",
        "print(user_input)\n",
        "print(type(user_input))\n",
        "\n",
        "#convert to boolean\n",
        "user_input =bool(user_input)\n",
        "print(user_input)\n",
        "print(type(user_input))\n"
      ],
      "metadata": {
        "colab": {
          "base_uri": "https://localhost:8080/"
        },
        "id": "7QMg0VsQjShD",
        "outputId": "211b0150-ac0e-479f-dd3e-fa599bbb2123"
      },
      "execution_count": 29,
      "outputs": [
        {
          "output_type": "stream",
          "name": "stdout",
          "text": [
            "Enter a value: 258\n",
            "258\n",
            "<class 'str'>\n",
            "258\n",
            "<class 'int'>\n",
            "258.0\n",
            "<class 'float'>\n",
            "True\n",
            "<class 'bool'>\n"
          ]
        }
      ]
    },
    {
      "cell_type": "code",
      "source": [
        "#10. Write code to demonstrate type casting with list elements.\n",
        "new_list = [9, 6.9, 3, 8, 4.2, -6, 0, 32, 7.9, -2.0]\n",
        "print(new_list)\n",
        "print(type(new_list))\n",
        "\n",
        "#convert to integer\n",
        "int_list = [int(x) for x in new_list]\n",
        "print(f\"List after converting to integers: {int_list} (Type: {type(int_list[0])})\")\n",
        "\n",
        "\n",
        "#covert to float\n",
        "float_list = [float(x) for x in new_list]\n",
        "print(f\"List after converting to floats: {float_list} (Type: {type(float_list[0])})\")\n",
        "\n",
        "#convert to boolean\n",
        "bool_list = [bool(x) for x in new_list]\n",
        "print(f\"List after converting to booleans: {bool_list} (Type: {type(bool_list[0])})\")\n",
        "\n",
        "#convert to str\n",
        "str_list = [str(x) for x in new_list]\n",
        "print(f\"List after converting to strings: {str_list} (Type: {type(str_list[0])})\")"
      ],
      "metadata": {
        "colab": {
          "base_uri": "https://localhost:8080/"
        },
        "id": "9FdZim6SlAVT",
        "outputId": "6d3b7107-5fbf-4981-a546-fa4e782dd6b7"
      },
      "execution_count": 34,
      "outputs": [
        {
          "output_type": "stream",
          "name": "stdout",
          "text": [
            "[9, 6.9, 3, 8, 4.2, -6, 0, 32, 7.9, -2.0]\n",
            "<class 'list'>\n",
            "List after converting to integers: [9, 6, 3, 8, 4, -6, 0, 32, 7, -2] (Type: <class 'int'>)\n",
            "List after converting to floats: [9.0, 6.9, 3.0, 8.0, 4.2, -6.0, 0.0, 32.0, 7.9, -2.0] (Type: <class 'float'>)\n",
            "List after converting to booleans: [True, True, True, True, True, True, False, True, True, True] (Type: <class 'bool'>)\n",
            "List after converting to strings: ['9', '6.9', '3', '8', '4.2', '-6', '0', '32', '7.9', '-2.0'] (Type: <class 'str'>)\n"
          ]
        }
      ]
    },
    {
      "cell_type": "code",
      "source": [
        "#11. Write a program that checks if a number is positive, negative, or zero.\n",
        "x = int(input(\"Enter a number: \"))\n",
        "if x == 0:\n",
        "    print(\"The number is neither positive nor negative it's zero\")\n",
        "elif x > 0:\n",
        "    print(\"The number is positive\")\n",
        "else:\n",
        "    print(\"The number is negative\")\n"
      ],
      "metadata": {
        "colab": {
          "base_uri": "https://localhost:8080/"
        },
        "id": "ECvlj4CmnPzJ",
        "outputId": "7dce46aa-fa91-4877-a61b-94db33e2f6c6"
      },
      "execution_count": 39,
      "outputs": [
        {
          "output_type": "stream",
          "name": "stdout",
          "text": [
            "Enter a number: -4\n",
            "The number is negative\n"
          ]
        }
      ]
    },
    {
      "cell_type": "code",
      "source": [
        "#12.Write a for loop to print numbers from 1 to 10.\n",
        "z = int(input(\"Enter a number up which you want to print: \"))\n",
        "for i in range(1, z+1):\n",
        "    print(i)"
      ],
      "metadata": {
        "colab": {
          "base_uri": "https://localhost:8080/"
        },
        "id": "QwctkVsrq50d",
        "outputId": "69cc7aed-feaf-4b4f-f684-01c67e1c75d5"
      },
      "execution_count": 41,
      "outputs": [
        {
          "output_type": "stream",
          "name": "stdout",
          "text": [
            "Enter a number up which you want to print: 10\n",
            "1\n",
            "2\n",
            "3\n",
            "4\n",
            "5\n",
            "6\n",
            "7\n",
            "8\n",
            "9\n",
            "10\n"
          ]
        }
      ]
    },
    {
      "cell_type": "code",
      "source": [
        "#13.Write a Python program to find the sum of all even numbers between 1 and 50\n",
        "w = int(input(\"Enter a number up which you want to print: \"))\n",
        "sum = 0\n",
        "for i in range(1, w+1):\n",
        "    if i % 2 == 0:\n",
        "        sum += i\n",
        "print(sum)"
      ],
      "metadata": {
        "colab": {
          "base_uri": "https://localhost:8080/"
        },
        "id": "zVhZUdxIrgTe",
        "outputId": "3be3fd43-64ab-4f76-9e23-bf60709713a8"
      },
      "execution_count": 45,
      "outputs": [
        {
          "output_type": "stream",
          "name": "stdout",
          "text": [
            "Enter a number up which you want to print: 50\n",
            "650\n"
          ]
        }
      ]
    },
    {
      "cell_type": "code",
      "source": [
        "#14.Write a program to reverse a string using a while loop.\n",
        "name = input(\"Enter a name: \")\n",
        "i = len(name) - 1\n",
        "while i >= 0:\n",
        "    print(name[i], end=\"\")\n",
        "    i -= 1"
      ],
      "metadata": {
        "colab": {
          "base_uri": "https://localhost:8080/"
        },
        "id": "88uR4iyltVrC",
        "outputId": "aa90c603-c112-4177-b149-b8bc6cf1fd93"
      },
      "execution_count": 49,
      "outputs": [
        {
          "output_type": "stream",
          "name": "stdout",
          "text": [
            "Enter a name: pritam\n",
            "matirp"
          ]
        }
      ]
    },
    {
      "cell_type": "code",
      "source": [
        "#15. Write a Python program to calculate the factorial of a number provided by the user using a while loop.\n",
        "num = int(input(\"Enter a number: \"))\n",
        "fact = 1\n",
        "while num > 0:\n",
        "    fact *= num\n",
        "    num -= 1\n",
        "print(fact)"
      ],
      "metadata": {
        "colab": {
          "base_uri": "https://localhost:8080/"
        },
        "id": "EM1G8hnwt_my",
        "outputId": "34cafc19-9191-437b-a8dd-3369ef7f662a"
      },
      "execution_count": 52,
      "outputs": [
        {
          "output_type": "stream",
          "name": "stdout",
          "text": [
            "Enter a number: 7\n",
            "5040\n"
          ]
        }
      ]
    },
    {
      "cell_type": "code",
      "source": [],
      "metadata": {
        "id": "ye4ClAgBvind"
      },
      "execution_count": null,
      "outputs": []
    }
  ]
}