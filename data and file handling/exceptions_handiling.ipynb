{
 "cells": [
  {
   "cell_type": "code",
   "execution_count": null,
   "metadata": {},
   "outputs": [],
   "source": [
    "#generally somethig that disrups the normal event is exception\n",
    "#in python an exception is an event that occurs during program that disrupts the regular flow of code"
   ]
  },
  {
   "cell_type": "code",
   "execution_count": 1,
   "metadata": {},
   "outputs": [
    {
     "data": {
      "text/plain": [
       "0.5555555555555556"
      ]
     },
     "execution_count": 1,
     "metadata": {},
     "output_type": "execute_result"
    }
   ],
   "source": [
    "5/9"
   ]
  },
  {
   "cell_type": "code",
   "execution_count": 2,
   "metadata": {},
   "outputs": [
    {
     "data": {
      "text/plain": [
       "5.0"
      ]
     },
     "execution_count": 2,
     "metadata": {},
     "output_type": "execute_result"
    }
   ],
   "source": [
    "10/2"
   ]
  },
  {
   "cell_type": "code",
   "execution_count": null,
   "metadata": {},
   "outputs": [
    {
     "name": "stdout",
     "output_type": "stream",
     "text": [
      "2.0\n",
      "0.6\n",
      "The code is running fine till now\n"
     ]
    },
    {
     "ename": "ZeroDivisionError",
     "evalue": "division by zero",
     "output_type": "error",
     "traceback": [
      "\u001b[1;31m---------------------------------------------------------------------------\u001b[0m",
      "\u001b[1;31mZeroDivisionError\u001b[0m                         Traceback (most recent call last)",
      "Cell \u001b[1;32mIn[3], line 4\u001b[0m\n\u001b[0;32m      2\u001b[0m \u001b[38;5;28mprint\u001b[39m(\u001b[38;5;241m3\u001b[39m\u001b[38;5;241m/\u001b[39m\u001b[38;5;241m5\u001b[39m)\n\u001b[0;32m      3\u001b[0m \u001b[38;5;28mprint\u001b[39m(\u001b[38;5;124m\"\u001b[39m\u001b[38;5;124mThe code is running fine till now\u001b[39m\u001b[38;5;124m\"\u001b[39m)\n\u001b[1;32m----> 4\u001b[0m \u001b[38;5;28mprint\u001b[39m(\u001b[38;5;241;43m6\u001b[39;49m\u001b[38;5;241;43m/\u001b[39;49m\u001b[38;5;241;43m0\u001b[39;49m)\n\u001b[0;32m      5\u001b[0m \u001b[38;5;28mprint\u001b[39m(\u001b[38;5;124m\"\u001b[39m\u001b[38;5;124mYour namne is Pritam\u001b[39m\u001b[38;5;124m\"\u001b[39m)\n\u001b[0;32m      6\u001b[0m \u001b[38;5;28mprint\u001b[39m(\u001b[38;5;241m2\u001b[39m\u001b[38;5;241m+\u001b[39m\u001b[38;5;241m3\u001b[39m)\n",
      "\u001b[1;31mZeroDivisionError\u001b[0m: division by zero"
     ]
    }
   ],
   "source": [
    "print(4/2)\n",
    "print(3/5)\n",
    "print(\"The code is running fine till now\")\n",
    "print(6/0) #suspicious code\n",
    "print(\"Your namne is Pritam\")\n",
    "print(2+3)\n",
    "print(\"The codes ends\")\n"
   ]
  },
  {
   "cell_type": "code",
   "execution_count": null,
   "metadata": {},
   "outputs": [
    {
     "name": "stdout",
     "output_type": "stream",
     "text": [
      "This in my first line of code\n",
      "90\n",
      "<class 'dict'>\n"
     ]
    },
    {
     "ename": "KeyError",
     "evalue": "'age'",
     "output_type": "error",
     "traceback": [
      "\u001b[1;31m---------------------------------------------------------------------------\u001b[0m",
      "\u001b[1;31mKeyError\u001b[0m                                  Traceback (most recent call last)",
      "Cell \u001b[1;32mIn[4], line 5\u001b[0m\n\u001b[0;32m      3\u001b[0m d \u001b[38;5;241m=\u001b[39m {\u001b[38;5;124m\"\u001b[39m\u001b[38;5;124mname\u001b[39m\u001b[38;5;124m\"\u001b[39m:\u001b[38;5;124m\"\u001b[39m\u001b[38;5;124mPritam\u001b[39m\u001b[38;5;124m\"\u001b[39m}\n\u001b[0;32m      4\u001b[0m \u001b[38;5;28mprint\u001b[39m(\u001b[38;5;28mtype\u001b[39m(d))\n\u001b[1;32m----> 5\u001b[0m \u001b[38;5;28mprint\u001b[39m(\u001b[43md\u001b[49m\u001b[43m[\u001b[49m\u001b[38;5;124;43m\"\u001b[39;49m\u001b[38;5;124;43mage\u001b[39;49m\u001b[38;5;124;43m\"\u001b[39;49m\u001b[43m]\u001b[49m)\n\u001b[0;32m      6\u001b[0m \u001b[38;5;28mprint\u001b[39m(\u001b[38;5;124m\"\u001b[39m\u001b[38;5;124mThis is last line of code\u001b[39m\u001b[38;5;124m\"\u001b[39m)\n",
      "\u001b[1;31mKeyError\u001b[0m: 'age'"
     ]
    }
   ],
   "source": [
    "print(\"This in my first line of code\")\n",
    "print(3*5*6)\n",
    "d = {\"name\":\"Pritam\"}\n",
    "print(type(d))\n",
    "print(d[\"age\"]) #it threw an error that why code after this didnt got executed\n",
    "print(\"This is last line of code\")"
   ]
  },
  {
   "cell_type": "code",
   "execution_count": 6,
   "metadata": {},
   "outputs": [
    {
     "ename": "FileNotFoundError",
     "evalue": "[Errno 2] No such file or directory: 'examples.txt'",
     "output_type": "error",
     "traceback": [
      "\u001b[1;31m---------------------------------------------------------------------------\u001b[0m",
      "\u001b[1;31mFileNotFoundError\u001b[0m                         Traceback (most recent call last)",
      "Cell \u001b[1;32mIn[6], line 1\u001b[0m\n\u001b[1;32m----> 1\u001b[0m \u001b[38;5;28;43mopen\u001b[39;49m\u001b[43m(\u001b[49m\u001b[38;5;124;43m\"\u001b[39;49m\u001b[38;5;124;43mexamples.txt\u001b[39;49m\u001b[38;5;124;43m\"\u001b[39;49m\u001b[43m,\u001b[49m\u001b[38;5;124;43m'\u001b[39;49m\u001b[38;5;124;43mr\u001b[39;49m\u001b[38;5;124;43m'\u001b[39;49m\u001b[43m)\u001b[49m\n\u001b[0;32m      2\u001b[0m \u001b[38;5;28mprint\u001b[39m(\u001b[38;5;241m6\u001b[39m\u001b[38;5;241m+\u001b[39m\u001b[38;5;241m3\u001b[39m)\n\u001b[0;32m      3\u001b[0m \u001b[38;5;28mprint\u001b[39m(\u001b[38;5;124m\"\u001b[39m\u001b[38;5;124mThis  file is opened and now i am performing some steps\u001b[39m\u001b[38;5;124m\"\u001b[39m)\n",
      "File \u001b[1;32m~\\AppData\\Roaming\\Python\\Python310\\site-packages\\IPython\\core\\interactiveshell.py:284\u001b[0m, in \u001b[0;36m_modified_open\u001b[1;34m(file, *args, **kwargs)\u001b[0m\n\u001b[0;32m    277\u001b[0m \u001b[38;5;28;01mif\u001b[39;00m file \u001b[38;5;129;01min\u001b[39;00m {\u001b[38;5;241m0\u001b[39m, \u001b[38;5;241m1\u001b[39m, \u001b[38;5;241m2\u001b[39m}:\n\u001b[0;32m    278\u001b[0m     \u001b[38;5;28;01mraise\u001b[39;00m \u001b[38;5;167;01mValueError\u001b[39;00m(\n\u001b[0;32m    279\u001b[0m         \u001b[38;5;124mf\u001b[39m\u001b[38;5;124m\"\u001b[39m\u001b[38;5;124mIPython won\u001b[39m\u001b[38;5;124m'\u001b[39m\u001b[38;5;124mt let you open fd=\u001b[39m\u001b[38;5;132;01m{\u001b[39;00mfile\u001b[38;5;132;01m}\u001b[39;00m\u001b[38;5;124m by default \u001b[39m\u001b[38;5;124m\"\u001b[39m\n\u001b[0;32m    280\u001b[0m         \u001b[38;5;124m\"\u001b[39m\u001b[38;5;124mas it is likely to crash IPython. If you know what you are doing, \u001b[39m\u001b[38;5;124m\"\u001b[39m\n\u001b[0;32m    281\u001b[0m         \u001b[38;5;124m\"\u001b[39m\u001b[38;5;124myou can use builtins\u001b[39m\u001b[38;5;124m'\u001b[39m\u001b[38;5;124m open.\u001b[39m\u001b[38;5;124m\"\u001b[39m\n\u001b[0;32m    282\u001b[0m     )\n\u001b[1;32m--> 284\u001b[0m \u001b[38;5;28;01mreturn\u001b[39;00m io_open(file, \u001b[38;5;241m*\u001b[39margs, \u001b[38;5;241m*\u001b[39m\u001b[38;5;241m*\u001b[39mkwargs)\n",
      "\u001b[1;31mFileNotFoundError\u001b[0m: [Errno 2] No such file or directory: 'examples.txt'"
     ]
    }
   ],
   "source": [
    "open(\"examples.txt\",'r')\n",
    "print(6+3)\n",
    "print(\"This  file is opened and now i am performing some steps\")"
   ]
  },
  {
   "cell_type": "code",
   "execution_count": null,
   "metadata": {},
   "outputs": [],
   "source": [
    "#we were expecting something but  it didnt happen, due to which the suspicious line threw error and the next line of code didn't got executed.\n",
    "#ZeroDivisionError, FileNotFoundError, KeyError, typeerror, >> these are exception rising dueto suspicious code\n",
    "#otherexceptions >> import error, runtime error\n",
    "\n",
    "#list of exceptions >> https://docs.python.org/3/tutorial/errors.html\n",
    "\n",
    "#why do we need to handel suspicious code/exceptions\n",
    "# -> Robust Application\n",
    "# -> code clear >> fellow devloper understand the corner cases\n",
    "\n",
    "#how to handel exceptions\n",
    "# >> using try catch block to handel exceptions\n",
    "# >> whenever exception occurs>> python stop the program and generate exception\n",
    "# >> handeling the exception is advised\n",
    "# >> every code that is risky / suspicious we should do exception handling"
   ]
  },
  {
   "cell_type": "code",
   "execution_count": 3,
   "metadata": {},
   "outputs": [],
   "source": [
    "#syntax of try except\n",
    "#try:\n",
    "    #suspicious code\n",
    "#except:\n",
    "    #executed when  exception occurs in try block"
   ]
  },
  {
   "cell_type": "code",
   "execution_count": 5,
   "metadata": {},
   "outputs": [
    {
     "name": "stdout",
     "output_type": "stream",
     "text": [
      "There is an issue with the code and the issue is: [Errno 2] No such file or directory: 'examples.txt'\n",
      "9\n",
      "This is my next step\n"
     ]
    }
   ],
   "source": [
    "try:\n",
    "    f= open(\"examples.txt\",'r')\n",
    "except Exception as e:\n",
    "    print(\"There is an issue with the code and the issue is:\" , e)\n",
    "print(6+3)\n",
    "print(\"This is my next step\")"
   ]
  },
  {
   "cell_type": "code",
   "execution_count": null,
   "metadata": {},
   "outputs": [
    {
     "name": "stdout",
     "output_type": "stream",
     "text": [
      "division by zero\n",
      "8\n",
      "Your namne is Pritam\n",
      "5\n",
      "The codes ends\n"
     ]
    }
   ],
   "source": [
    "try:\n",
    "    5/0\n",
    "except Exception as e: #eception will always come inside except block\n",
    "    print(e)\n",
    "print(3+5)\n",
    "print(\"Your namne is Pritam\")\n",
    "print(2+3)\n",
    "print(\"The codes ends\")"
   ]
  },
  {
   "cell_type": "code",
   "execution_count": 8,
   "metadata": {},
   "outputs": [
    {
     "name": "stdout",
     "output_type": "stream",
     "text": [
      "There is an issue with the code and the issue is: [Errno 2] No such file or directory: 'examples.txt'\n"
     ]
    }
   ],
   "source": [
    "try:\n",
    "    f= open(\"examples.txt\",'r')\n",
    "except Exception as e:\n",
    "    print(\"There is an issue with the code and the issue is:\" , e)\n",
    "else:\n",
    "    print(5+3)\n",
    "    print(\"This will be executed if try except block is excepted without any exception\")"
   ]
  },
  {
   "cell_type": "code",
   "execution_count": 9,
   "metadata": {},
   "outputs": [],
   "source": [
    "#use case of else>> we want to execute some code only if the try staement is successful and code doent enter the exception block"
   ]
  },
  {
   "cell_type": "code",
   "execution_count": null,
   "metadata": {},
   "outputs": [
    {
     "name": "stdout",
     "output_type": "stream",
     "text": [
      "8\n",
      "This will be executed if try except block is excepted without any exception\n"
     ]
    }
   ],
   "source": [
    "#use case - 1\n",
    "try:\n",
    "    f= open(\"examples.txt\",'w')\n",
    "except Exception as e:\n",
    "    print(\"There is an issue with the code and the issue is:\" , e)\n",
    "else:\n",
    "    print(5+3)\n",
    "    print(\"This will be executed if try except block is excepted without any exception\")"
   ]
  },
  {
   "cell_type": "code",
   "execution_count": null,
   "metadata": {},
   "outputs": [
    {
     "name": "stdout",
     "output_type": "stream",
     "text": [
      "8\n",
      "This will be executed if try except block is excepted without any exception\n"
     ]
    }
   ],
   "source": [
    "# use case 2\n",
    "try:\n",
    "    f= open(\"examples.txt\",'w')\n",
    "    f.write(\"Hello to excption handling\") \n",
    "#we will not be able to see writen content untill we close the file , close the file in else block\n",
    "except Exception as e:\n",
    "    print(\"There is an issue with the code and the issue is:\" , e)\n",
    "else:\n",
    "    print(5+3)\n",
    "    print(\"This will be executed if try except block is excepted without any exception\")"
   ]
  },
  {
   "cell_type": "code",
   "execution_count": 12,
   "metadata": {},
   "outputs": [
    {
     "name": "stdout",
     "output_type": "stream",
     "text": [
      "8\n",
      "This will be executed if try except block is excepted without any exception\n"
     ]
    }
   ],
   "source": [
    "# use case 2\n",
    "try:\n",
    "    f= open(\"examples.txt\",'w')\n",
    "    f.write(\"Hello to excption handling\") \n",
    "#we will not be able to see writen content untill we close the file , close the file in else block\n",
    "except Exception as e:\n",
    "    print(\"There is an issue with the code and the issue is:\" , e)\n",
    "else:\n",
    "    f.close()\n",
    "    print(5+3)\n",
    "    print(\"This will be executed if try except block is excepted without any exception\")"
   ]
  },
  {
   "cell_type": "code",
   "execution_count": 13,
   "metadata": {},
   "outputs": [],
   "source": [
    "#else block is very helpful when our code didnot enter the xception block\n",
    "#for example we wanted to close the file after it was opened in try block"
   ]
  },
  {
   "cell_type": "code",
   "execution_count": 14,
   "metadata": {},
   "outputs": [
    {
     "name": "stdout",
     "output_type": "stream",
     "text": [
      "8\n",
      "This will be executed if try except block is excepted without any exception\n",
      "This will be executed always\n"
     ]
    }
   ],
   "source": [
    "#finaly block >> always executed\n",
    "try:\n",
    "    f= open(\"examples.txt\",'w')\n",
    "    f.write(\"Hello to excption handling\") \n",
    "except Exception as e:\n",
    "    print(\"There is an issue with the code and the issue is:\" , e)\n",
    "else:\n",
    "    print(5+3)\n",
    "    print(\"This will be executed if try except block is excepted without any exception\")\n",
    "finally:\n",
    "    print(\"This will be executed always\")"
   ]
  },
  {
   "cell_type": "code",
   "execution_count": 16,
   "metadata": {},
   "outputs": [
    {
     "name": "stdout",
     "output_type": "stream",
     "text": [
      "There is an issue with the code and the issue is: [Errno 2] No such file or directory: 'example2.txt'\n",
      "This will be executed always\n"
     ]
    }
   ],
   "source": [
    "#finaly block >> always executed\n",
    "#even if we enter exception block or not, finaly will be executed always\n",
    "#similarly to running other line of code\n",
    "try:\n",
    "    f= open(\"example2.txt\",'r')\n",
    "    f.write(\"Hello to excption handling\") \n",
    "except Exception as e:\n",
    "    print(\"There is an issue with the code and the issue is:\" , e)\n",
    "else:\n",
    "    print(5+3)\n",
    "    print(\"This will be executed if try except block is excepted without any exception\")\n",
    "finally:\n",
    "    print(\"This will be executed always\")"
   ]
  },
  {
   "cell_type": "code",
   "execution_count": 17,
   "metadata": {},
   "outputs": [
    {
     "name": "stdout",
     "output_type": "stream",
     "text": [
      "8\n",
      "This will be executed if try except block is excepted without any exception\n",
      "This will be executed always\n"
     ]
    }
   ],
   "source": [
    "try:\n",
    "    f= open(\"example1.txt\",'w')\n",
    "    f.write(\"Hello to excption handling\") \n",
    "except Exception as e:\n",
    "    print(\"There is an issue with the code and the issue is:\" , e)\n",
    "else:\n",
    "    print(5+3)\n",
    "    print(\"This will be executed if try except block is excepted without any exception\")\n",
    "\n",
    "print(\"This will be executed always\")"
   ]
  },
  {
   "cell_type": "code",
   "execution_count": 18,
   "metadata": {},
   "outputs": [
    {
     "name": "stdout",
     "output_type": "stream",
     "text": [
      "division by zero\n",
      "This will print always\n"
     ]
    }
   ],
   "source": [
    "#another example\n",
    "try:\n",
    "    5/0\n",
    "except Exception as e:\n",
    "    print(e)\n",
    "finally:\n",
    "    print(\"This will print always\")"
   ]
  },
  {
   "cell_type": "code",
   "execution_count": 28,
   "metadata": {},
   "outputs": [],
   "source": [
    "# custom exception\n",
    "income = int(input(\"Enter your salary: \"))"
   ]
  },
  {
   "cell_type": "code",
   "execution_count": 29,
   "metadata": {},
   "outputs": [
    {
     "name": "stdout",
     "output_type": "stream",
     "text": [
      "30000\n"
     ]
    }
   ],
   "source": [
    "print(income)"
   ]
  },
  {
   "cell_type": "code",
   "execution_count": 30,
   "metadata": {},
   "outputs": [],
   "source": [
    "def validate_salary(salary):\n",
    "    if salary <= 0:\n",
    "        print(\"Negative salary is not possible\")\n",
    "    elif salary >= 30000000:\n",
    "        print(\"salary is unexpected\")\n",
    "    else:\n",
    "        print(\"Salay is valid\")"
   ]
  },
  {
   "cell_type": "code",
   "execution_count": 33,
   "metadata": {},
   "outputs": [
    {
     "name": "stdout",
     "output_type": "stream",
     "text": [
      "Salay is valid\n"
     ]
    }
   ],
   "source": [
    "validate_salary(500000)"
   ]
  },
  {
   "cell_type": "code",
   "execution_count": 34,
   "metadata": {},
   "outputs": [],
   "source": [
    "#custom exception class\n",
    "class ValidateSalary(Exception): #exeception is the parent class where all type of python exceptions are available\n",
    "    def __init__(self, msg):\n",
    "        self.msg = msg\n"
   ]
  },
  {
   "cell_type": "code",
   "execution_count": 35,
   "metadata": {},
   "outputs": [],
   "source": [
    "def validate_salary(salary):\n",
    "    if salary <= 0:\n",
    "        raise ValidateSalary(\"Negative salary is not possible\")\n",
    "    elif salary >= 30000000:\n",
    "        raise ValidateSalary(\"salary is unexpected\")\n",
    "    else:\n",
    "        print(\"Salay is valid\")"
   ]
  },
  {
   "cell_type": "code",
   "execution_count": 42,
   "metadata": {},
   "outputs": [
    {
     "name": "stdout",
     "output_type": "stream",
     "text": [
      "Salay is valid\n"
     ]
    }
   ],
   "source": [
    "try:\n",
    "    salary = int(input(\"Enter Your Salary: \"))\n",
    "    validate_salary(salary)\n",
    "except ValidateSalary as e:\n",
    "    print(e)"
   ]
  },
  {
   "cell_type": "code",
   "execution_count": null,
   "metadata": {},
   "outputs": [],
   "source": []
  },
  {
   "cell_type": "code",
   "execution_count": null,
   "metadata": {},
   "outputs": [],
   "source": []
  }
 ],
 "metadata": {
  "kernelspec": {
   "display_name": "Python 3",
   "language": "python",
   "name": "python3"
  },
  "language_info": {
   "codemirror_mode": {
    "name": "ipython",
    "version": 3
   },
   "file_extension": ".py",
   "mimetype": "text/x-python",
   "name": "python",
   "nbconvert_exporter": "python",
   "pygments_lexer": "ipython3",
   "version": "3.10.0"
  }
 },
 "nbformat": 4,
 "nbformat_minor": 2
}
