{
 "cells": [
  {
   "cell_type": "markdown",
   "id": "3030c695",
   "metadata": {},
   "source": [
    "Exception handling"
   ]
  },
  {
   "cell_type": "code",
   "execution_count": 1,
   "id": "724ada57",
   "metadata": {},
   "outputs": [],
   "source": [
    "n = 5"
   ]
  },
  {
   "cell_type": "code",
   "execution_count": 2,
   "id": "926cf122",
   "metadata": {},
   "outputs": [
    {
     "ename": "ZeroDivisionError",
     "evalue": "division by zero",
     "output_type": "error",
     "traceback": [
      "\u001b[1;31m---------------------------------------------------------------------------\u001b[0m",
      "\u001b[1;31mZeroDivisionError\u001b[0m                         Traceback (most recent call last)",
      "Cell \u001b[1;32mIn[2], line 1\u001b[0m\n\u001b[1;32m----> 1\u001b[0m result \u001b[38;5;241m=\u001b[39m \u001b[43mn\u001b[49m\u001b[38;5;241;43m/\u001b[39;49m\u001b[38;5;241;43m0\u001b[39;49m\n",
      "\u001b[1;31mZeroDivisionError\u001b[0m: division by zero"
     ]
    }
   ],
   "source": [
    "result = n/0"
   ]
  },
  {
   "cell_type": "code",
   "execution_count": 3,
   "id": "70d7a2fb",
   "metadata": {},
   "outputs": [
    {
     "name": "stdout",
     "output_type": "stream",
     "text": [
      "can't be divided by zero\n"
     ]
    }
   ],
   "source": [
    "n=5\n",
    "try:\n",
    "    result = n/0\n",
    "except ZeroDivisionError:\n",
    "    print(\"can't be divided by zero\")"
   ]
  },
  {
   "cell_type": "markdown",
   "id": "e4b293ed",
   "metadata": {},
   "source": [
    "1. Error - problems in the logic of code or configuration - syntax errors/memory errors\n",
    "2. Exception - invalid input, missing files, network issue etc"
   ]
  },
  {
   "cell_type": "code",
   "execution_count": null,
   "id": "d4db6978",
   "metadata": {},
   "outputs": [],
   "source": [
    "print(\"python programming\") #syntax error\n",
    "      \n",
    "n=5\n",
    "res = n/0 #exception"
   ]
  },
  {
   "cell_type": "markdown",
   "id": "87692909",
   "metadata": {},
   "source": [
    "1. try: code that might raise an exception\n",
    "2. except: code to handle the exception\n",
    "3. else: code to run if no exception occurs\n",
    "4. finally: code to run regardless of whether an exception occurs or not"
   ]
  },
  {
   "cell_type": "code",
   "execution_count": 4,
   "id": "dd583fca",
   "metadata": {},
   "outputs": [
    {
     "name": "stdout",
     "output_type": "stream",
     "text": [
      "you cannot divide by zero\n",
      "completed execution of code.\n"
     ]
    }
   ],
   "source": [
    "try:\n",
    "    n = 0\n",
    "    result = 100/n\n",
    "    \n",
    "except ZeroDivisionError:\n",
    "    print(\"you cannot divide by zero\")\n",
    "    \n",
    "except ValueError:\n",
    "    print(\"enter a valid number\")\n",
    "    \n",
    "else:\n",
    "    print(result)\n",
    "    \n",
    "finally:\n",
    "    print(\"completed execution of code.\")"
   ]
  },
  {
   "cell_type": "code",
   "execution_count": 5,
   "id": "19d428e2",
   "metadata": {},
   "outputs": [
    {
     "ename": "ZeroDivisionError",
     "evalue": "division by zero",
     "output_type": "error",
     "traceback": [
      "\u001b[1;31m---------------------------------------------------------------------------\u001b[0m",
      "\u001b[1;31mZeroDivisionError\u001b[0m                         Traceback (most recent call last)",
      "Cell \u001b[1;32mIn[5], line 2\u001b[0m\n\u001b[0;32m      1\u001b[0m n \u001b[38;5;241m=\u001b[39m \u001b[38;5;241m0\u001b[39m\n\u001b[1;32m----> 2\u001b[0m result \u001b[38;5;241m=\u001b[39m \u001b[38;5;241;43m100\u001b[39;49m\u001b[38;5;241;43m/\u001b[39;49m\u001b[43mn\u001b[49m\n",
      "\u001b[1;31mZeroDivisionError\u001b[0m: division by zero"
     ]
    }
   ],
   "source": [
    "n = 0\n",
    "result = 100/n"
   ]
  },
  {
   "cell_type": "code",
   "execution_count": 6,
   "id": "a09230a0",
   "metadata": {},
   "outputs": [],
   "source": [
    "n = int(\"3\")"
   ]
  },
  {
   "cell_type": "code",
   "execution_count": 7,
   "id": "6a776799",
   "metadata": {},
   "outputs": [
    {
     "data": {
      "text/plain": [
       "3"
      ]
     },
     "execution_count": 7,
     "metadata": {},
     "output_type": "execute_result"
    }
   ],
   "source": [
    "n"
   ]
  },
  {
   "cell_type": "code",
   "execution_count": 8,
   "id": "2b205c6e",
   "metadata": {},
   "outputs": [
    {
     "ename": "ValueError",
     "evalue": "invalid literal for int() with base 10: 'python'",
     "output_type": "error",
     "traceback": [
      "\u001b[1;31m---------------------------------------------------------------------------\u001b[0m",
      "\u001b[1;31mValueError\u001b[0m                                Traceback (most recent call last)",
      "Cell \u001b[1;32mIn[8], line 1\u001b[0m\n\u001b[1;32m----> 1\u001b[0m n \u001b[38;5;241m=\u001b[39m \u001b[38;5;28;43mint\u001b[39;49m\u001b[43m(\u001b[49m\u001b[38;5;124;43m\"\u001b[39;49m\u001b[38;5;124;43mpython\u001b[39;49m\u001b[38;5;124;43m\"\u001b[39;49m\u001b[43m)\u001b[49m\n",
      "\u001b[1;31mValueError\u001b[0m: invalid literal for int() with base 10: 'python'"
     ]
    }
   ],
   "source": [
    "n = int(\"python\")"
   ]
  },
  {
   "cell_type": "code",
   "execution_count": 11,
   "id": "d270842f",
   "metadata": {},
   "outputs": [
    {
     "name": "stdout",
     "output_type": "stream",
     "text": [
      "Zero has no inverse\n"
     ]
    }
   ],
   "source": [
    "try:\n",
    "    n = 0\n",
    "    \n",
    "    inv = 1/n\n",
    "    \n",
    "except ValueError:\n",
    "    print(\"not valid\")\n",
    "\n",
    "except ZeroDivisionError:\n",
    "    print(\"Zero has no inverse\")"
   ]
  },
  {
   "cell_type": "code",
   "execution_count": 9,
   "id": "84da575c",
   "metadata": {},
   "outputs": [
    {
     "ename": "ValueError",
     "evalue": "invalid literal for int() with base 10: 'str'",
     "output_type": "error",
     "traceback": [
      "\u001b[1;31m---------------------------------------------------------------------------\u001b[0m",
      "\u001b[1;31mValueError\u001b[0m                                Traceback (most recent call last)",
      "Cell \u001b[1;32mIn[9], line 1\u001b[0m\n\u001b[1;32m----> 1\u001b[0m n \u001b[38;5;241m=\u001b[39m \u001b[38;5;28;43mint\u001b[39;49m\u001b[43m(\u001b[49m\u001b[38;5;124;43m\"\u001b[39;49m\u001b[38;5;124;43mstr\u001b[39;49m\u001b[38;5;124;43m\"\u001b[39;49m\u001b[43m)\u001b[49m\n\u001b[0;32m      2\u001b[0m inv \u001b[38;5;241m=\u001b[39m \u001b[38;5;241m1\u001b[39m\u001b[38;5;241m/\u001b[39mn\n",
      "\u001b[1;31mValueError\u001b[0m: invalid literal for int() with base 10: 'str'"
     ]
    }
   ],
   "source": [
    "n = int(\"str\")\n",
    "inv = 1/n"
   ]
  },
  {
   "cell_type": "code",
   "execution_count": 12,
   "id": "7b8d1d0c",
   "metadata": {},
   "outputs": [
    {
     "name": "stdout",
     "output_type": "stream",
     "text": [
      "something went wrong\n"
     ]
    }
   ],
   "source": [
    "try:\n",
    "    result = \"100\"/20\n",
    "    \n",
    "except ArithmeticError:\n",
    "    print(\"Arithmetic probs\")\n",
    "    \n",
    "except:\n",
    "    print(\"something went wrong\")"
   ]
  },
  {
   "cell_type": "code",
   "execution_count": 13,
   "id": "478f24ff",
   "metadata": {},
   "outputs": [
    {
     "ename": "TypeError",
     "evalue": "unsupported operand type(s) for /: 'str' and 'int'",
     "output_type": "error",
     "traceback": [
      "\u001b[1;31m---------------------------------------------------------------------------\u001b[0m",
      "\u001b[1;31mTypeError\u001b[0m                                 Traceback (most recent call last)",
      "Cell \u001b[1;32mIn[13], line 1\u001b[0m\n\u001b[1;32m----> 1\u001b[0m result \u001b[38;5;241m=\u001b[39m \u001b[38;5;124;43m\"\u001b[39;49m\u001b[38;5;124;43m100\u001b[39;49m\u001b[38;5;124;43m\"\u001b[39;49m\u001b[38;5;241;43m/\u001b[39;49m\u001b[38;5;241;43m20\u001b[39;49m\n",
      "\u001b[1;31mTypeError\u001b[0m: unsupported operand type(s) for /: 'str' and 'int'"
     ]
    }
   ],
   "source": [
    "result = \"100\"/20"
   ]
  },
  {
   "cell_type": "code",
   "execution_count": 16,
   "id": "1a186b6d",
   "metadata": {},
   "outputs": [
    {
     "name": "stdout",
     "output_type": "stream",
     "text": [
      "age cannot be negative\n"
     ]
    }
   ],
   "source": [
    "def set(age):\n",
    "    if age < 0:\n",
    "        raise ValueError(\"age cannot be negative\")\n",
    "    print(age)\n",
    "        \n",
    "try:\n",
    "    set(-5)\n",
    "except ValueError as e:\n",
    "    print(e)"
   ]
  },
  {
   "cell_type": "code",
   "execution_count": 17,
   "id": "168d7884",
   "metadata": {},
   "outputs": [
    {
     "name": "stdout",
     "output_type": "stream",
     "text": [
      "5\n"
     ]
    }
   ],
   "source": [
    "def set(age):\n",
    "    if age < 0:\n",
    "        raise ValueError(\"age cannot be negative\")\n",
    "    print(age)\n",
    "        \n",
    "try:\n",
    "    set(5)\n",
    "except ValueError as e:\n",
    "    print(e)"
   ]
  },
  {
   "cell_type": "code",
   "execution_count": 18,
   "id": "b5e234c7",
   "metadata": {},
   "outputs": [],
   "source": [
    "def myadd(x,y):\n",
    "    return x+y"
   ]
  },
  {
   "cell_type": "code",
   "execution_count": 19,
   "id": "c99e6dfb",
   "metadata": {},
   "outputs": [
    {
     "data": {
      "text/plain": [
       "7"
      ]
     },
     "execution_count": 19,
     "metadata": {},
     "output_type": "execute_result"
    }
   ],
   "source": [
    "myadd(3,4)"
   ]
  },
  {
   "cell_type": "markdown",
   "id": "571cd6fa",
   "metadata": {},
   "source": [
    "lambda arguments:expression"
   ]
  },
  {
   "cell_type": "code",
   "execution_count": 20,
   "id": "3948432e",
   "metadata": {},
   "outputs": [],
   "source": [
    "myadd = lambda x,y: x+y"
   ]
  },
  {
   "cell_type": "code",
   "execution_count": 21,
   "id": "8d57dc17",
   "metadata": {},
   "outputs": [
    {
     "name": "stdout",
     "output_type": "stream",
     "text": [
      "3\n"
     ]
    }
   ],
   "source": [
    "print(myadd(1,2))"
   ]
  },
  {
   "cell_type": "code",
   "execution_count": 22,
   "id": "1744177d",
   "metadata": {},
   "outputs": [],
   "source": [
    "def mysq(x):\n",
    "    return x**2"
   ]
  },
  {
   "cell_type": "code",
   "execution_count": 23,
   "id": "7da5f881",
   "metadata": {},
   "outputs": [
    {
     "data": {
      "text/plain": [
       "4"
      ]
     },
     "execution_count": 23,
     "metadata": {},
     "output_type": "execute_result"
    }
   ],
   "source": [
    "mysq(2)"
   ]
  },
  {
   "cell_type": "code",
   "execution_count": 24,
   "id": "0f9c55bc",
   "metadata": {},
   "outputs": [],
   "source": [
    "mysq = lambda x: x**2"
   ]
  },
  {
   "cell_type": "code",
   "execution_count": 25,
   "id": "cafb31c7",
   "metadata": {},
   "outputs": [
    {
     "data": {
      "text/plain": [
       "9"
      ]
     },
     "execution_count": 25,
     "metadata": {},
     "output_type": "execute_result"
    }
   ],
   "source": [
    "mysq(3)"
   ]
  },
  {
   "cell_type": "markdown",
   "id": "72382da7",
   "metadata": {},
   "source": [
    "Recursion"
   ]
  },
  {
   "cell_type": "markdown",
   "id": "31e685ae",
   "metadata": {},
   "source": [
    "called by another function repetitively"
   ]
  },
  {
   "cell_type": "code",
   "execution_count": 28,
   "id": "76e1b920",
   "metadata": {},
   "outputs": [],
   "source": [
    "def myfact(n):\n",
    "    myfact = 1\n",
    "    if n == 0 or n == 1:\n",
    "        return 1\n",
    "    else:\n",
    "        for i in range(1,n+1):\n",
    "            myfact = myfact * i\n",
    "    return myfact"
   ]
  },
  {
   "cell_type": "code",
   "execution_count": 31,
   "id": "67888975",
   "metadata": {},
   "outputs": [
    {
     "data": {
      "text/plain": [
       "120"
      ]
     },
     "execution_count": 31,
     "metadata": {},
     "output_type": "execute_result"
    }
   ],
   "source": [
    "myfact(5)"
   ]
  },
  {
   "cell_type": "markdown",
   "id": "c15be3ee",
   "metadata": {},
   "source": [
    "5! = 5*4*3*2*1"
   ]
  },
  {
   "cell_type": "code",
   "execution_count": 32,
   "id": "3f09b90e",
   "metadata": {},
   "outputs": [
    {
     "name": "stdout",
     "output_type": "stream",
     "text": [
      "120\n"
     ]
    }
   ],
   "source": [
    "def myfact(n):\n",
    "    if n == 0 or n == 1:\n",
    "        return 1\n",
    "    else:\n",
    "        return n * myfact(n-1)\n",
    "    \n",
    "print(myfact(5))"
   ]
  },
  {
   "cell_type": "markdown",
   "id": "d0f11860",
   "metadata": {},
   "source": [
    "1. myfact(5) is called\n",
    "2. return 5*myfact(4)\n",
    "3. return 4 *myfact(3)\n",
    "4. return 3*myfact(2)\n",
    "5. return 2 *myfact(1)\n",
    "6. return 1"
   ]
  },
  {
   "cell_type": "code",
   "execution_count": 33,
   "id": "33f54fa9",
   "metadata": {},
   "outputs": [
    {
     "data": {
      "text/plain": [
       "120"
      ]
     },
     "execution_count": 33,
     "metadata": {},
     "output_type": "execute_result"
    }
   ],
   "source": [
    "5*4*3*2*1"
   ]
  },
  {
   "cell_type": "code",
   "execution_count": null,
   "id": "8191a89d",
   "metadata": {},
   "outputs": [],
   "source": []
  }
 ],
 "metadata": {
  "kernelspec": {
   "display_name": "Python 3",
   "language": "python",
   "name": "python3"
  },
  "language_info": {
   "codemirror_mode": {
    "name": "ipython",
    "version": 3
   },
   "file_extension": ".py",
   "mimetype": "text/x-python",
   "name": "python",
   "nbconvert_exporter": "python",
   "pygments_lexer": "ipython3",
   "version": "3.10.9"
  }
 },
 "nbformat": 4,
 "nbformat_minor": 5
}
