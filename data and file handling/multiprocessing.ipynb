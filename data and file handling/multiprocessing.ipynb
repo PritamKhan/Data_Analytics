{
  "cells": [
    {
      "cell_type": "code",
      "execution_count": 2,
      "metadata": {
        "colab": {
          "base_uri": "https://localhost:8080/"
        },
        "id": "T4wTSaavBfLS",
        "outputId": "aea00daf-5ba4-4a09-c254-255d5a7413dc"
      },
      "outputs": [
        {
          "name": "stdout",
          "output_type": "stream",
          "text": [
            "do something\n",
            "sleep for 1 sec\n",
            "done with sleeping\n",
            "do something\n",
            "sleep for 1 sec\n",
            "done with sleeping\n",
            "The program finished in 2.0 seconds\n"
          ]
        }
      ],
      "source": [
        "import time\n",
        "start = time.perf_counter()\n",
        "\n",
        "def test_func():\n",
        "    print(\"do something\")\n",
        "    print(\"sleep for 1 sec\")\n",
        "    time.sleep(1)\n",
        "    print(\"done with sleeping\")\n",
        "test_func()\n",
        "test_func()\n",
        "end = time.perf_counter()\n",
        "\n",
        "print(f\"The program finished in {round(end-start, 2)} seconds\")"
      ]
    },
    {
      "cell_type": "code",
      "execution_count": 3,
      "metadata": {
        "colab": {
          "base_uri": "https://localhost:8080/"
        },
        "id": "QT5ZAMp-Bmgi",
        "outputId": "84a70aa4-ca71-441f-cfef-c83765c19492"
      },
      "outputs": [
        {
          "name": "stdout",
          "output_type": "stream",
          "text": [
            "do something\n",
            "sleep for 1 sec\n",
            "do something\n",
            "sleep for 1 sec\n",
            "done with sleeping\n",
            "done with sleeping\n",
            "The program finished in 1.05 seconds\n"
          ]
        }
      ],
      "source": [
        "import multiprocessing\n",
        "\n",
        "import time\n",
        "start = time.perf_counter()\n",
        "\n",
        "def test_func():\n",
        "    print(\"do something\")\n",
        "    print(\"sleep for 1 sec\")\n",
        "    time.sleep(1)\n",
        "    print(\"done with sleeping\")\n",
        "\n",
        "p1 = multiprocessing.Process(target = test_func)\n",
        "p2 = multiprocessing.Process(target = test_func)\n",
        "\n",
        "p1.start()\n",
        "p2.start()\n",
        "\n",
        "p1.join()\n",
        "p2.join()\n",
        "\n",
        "\n",
        "end = time.perf_counter()\n",
        "\n",
        "print(f\"The program finished in {round(end-start, 2)} seconds\")"
      ]
    },
    {
      "cell_type": "code",
      "execution_count": 4,
      "metadata": {
        "colab": {
          "base_uri": "https://localhost:8080/"
        },
        "id": "r2A9HHDn2nvL",
        "outputId": "fdf9d89f-5869-4d22-8c35-83288322fc14"
      },
      "outputs": [
        {
          "name": "stdout",
          "output_type": "stream",
          "text": [
            "do something\n",
            "do something\n",
            "sleep for 1 secdo somethingsleep for 1 sec\n",
            "\n",
            "sleep for 1 secdo something\n",
            "\n",
            "\n",
            "sleep for 1 secdo something\n",
            "\n",
            "do somethingsleep for 1 sec\n",
            "\n",
            "do somethingsleep for 1 secdo somethingdo something\n",
            "\n",
            "\n",
            "sleep for 1 sec\n",
            "do something\n",
            "sleep for 1 secsleep for 1 sec\n",
            "\n",
            "\n",
            "sleep for 1 sec\n",
            "done with sleeping\n",
            "done with sleeping\n",
            "done with sleeping\n",
            "done with sleeping\n",
            "done with sleeping\n",
            "done with sleeping\n",
            "done with sleeping\n",
            "done with sleeping\n",
            "done with sleepingdone with sleeping\n",
            "\n",
            "The program finished in 1.2 seconds\n"
          ]
        }
      ],
      "source": [
        "import multiprocessing\n",
        "\n",
        "import time\n",
        "start = time.perf_counter()\n",
        "\n",
        "def test_func():\n",
        "    print(\"do something\")\n",
        "    print(\"sleep for 1 sec\")\n",
        "    time.sleep(1)\n",
        "    print(\"done with sleeping\")\n",
        "\n",
        "processes = []\n",
        "for i in range(10):\n",
        "    p = multiprocessing.Process(target = test_func)\n",
        "    p.start()\n",
        "    processes.append(p)\n",
        "\n",
        "for process in processes:\n",
        "    process.join()\n",
        "\n",
        "\n",
        "\n",
        "end = time.perf_counter()\n",
        "\n",
        "print(f\"The program finished in {round(end-start, 2)} seconds\")"
      ]
    },
    {
      "cell_type": "code",
      "execution_count": 19,
      "metadata": {
        "colab": {
          "base_uri": "https://localhost:8080/"
        },
        "id": "l67Z72Ci3BMv",
        "outputId": "035b60c9-3e4f-402d-9b39-f522971f90e7"
      },
      "outputs": [
        {
          "name": "stdout",
          "output_type": "stream",
          "text": [
            "[1, 4, 9, 16, 250000]\n",
            "The program finished in 0.05 seconds\n"
          ]
        }
      ],
      "source": [
        "#multiprocessing >> should be used in case of computation\n",
        "#use case 1:\n",
        "import multiprocessing\n",
        "\n",
        "import time\n",
        "start = time.perf_counter()\n",
        "\n",
        "def square(index, value):\n",
        "  value[index] = value[index] ** 2\n",
        "\n",
        "arr = multiprocessing.Array('i', [1,2,3,4,500])\n",
        "\n",
        "processes = []\n",
        "for i in range(5): #in arrray 5 no , therefore loop will be in ranfe(5)\n",
        "    p = multiprocessing.Process(target = square, args = (i, arr))\n",
        "    p.start()\n",
        "    processes.append(p)\n",
        "\n",
        "for process in processes:\n",
        "    process.join()\n",
        "\n",
        "\n",
        "print(list(arr))\n",
        "\n",
        "end = time.perf_counter()\n",
        "\n",
        "print(f\"The program finished in {round(end-start, 2)} seconds\")"
      ]
    },
    {
      "cell_type": "code",
      "execution_count": 16,
      "metadata": {
        "colab": {
          "base_uri": "https://localhost:8080/"
        },
        "id": "KjP6W7NTt3jy",
        "outputId": "06733ed2-c5ac-4fed-a5bf-1043198a4c0e"
      },
      "outputs": [
        {
          "name": "stdout",
          "output_type": "stream",
          "text": [
            "The square of 1 is 1\n",
            "The square of 2 is 4\n",
            "\n",
            "The square of 3 is 9\n",
            "\n",
            "\n",
            "The square of 6000 is 36000000\n",
            "The square of 4 is 16\n",
            "\n",
            "\n",
            "The program finished in 0.05 seconds\n"
          ]
        }
      ],
      "source": [
        "#using multiprocessing.pool\n",
        "start = time.perf_counter()\n",
        "def square(no):\n",
        "  result = no * no\n",
        "  print(f\"The square of {no} is {result}\\n\")\n",
        "\n",
        "numbers = [1,2,3,4,6000]\n",
        "with multiprocessing.Pool() as pool:\n",
        "  pool.map(square, numbers)\n",
        "end = time.perf_counter()\n",
        "\n",
        "print(f\"The program finished in {round(end-start, 2)} seconds\")"
      ]
    },
    {
      "cell_type": "code",
      "execution_count": 20,
      "metadata": {
        "id": "0vl-wDQNvKXl"
      },
      "outputs": [],
      "source": [
        "#no order in the result shows multiple core/processor being used ande return not seequential >> parallel execution of thwe code."
      ]
    },
    {
      "cell_type": "code",
      "execution_count": 21,
      "metadata": {
        "id": "KENOdUGp5AZK"
      },
      "outputs": [],
      "source": [
        "#use case2:\n",
        "#say we want to get admo=ission in a school\n",
        "#we will make a enrollment request in a queue\n",
        "#these request will be processed from the queue and registration will be done.\n",
        "\n",
        "#These enrollment and registration takes can run in parallel\n",
        "#this means while one process is busy putting the request into the queue, the other process can be busy processing those request\n"
      ]
    },
    {
      "cell_type": "code",
      "execution_count": 9,
      "metadata": {
        "colab": {
          "base_uri": "https://localhost:8080/"
        },
        "id": "VMY0siTs6iTp",
        "outputId": "2e9c8c66-705f-4eb5-cf82-d8179a866b40"
      },
      "outputs": [
        {
          "name": "stdout",
          "output_type": "stream",
          "text": [
            "Register the enrollment request: enroll request Rahul\n",
            "Register the enrollment request: enroll request Akash\n",
            "Register the enrollment request: enroll request Nikhil\n",
            "Register the enrollment request: enroll request Pritam\n"
          ]
        }
      ],
      "source": [
        "import multiprocessing\n",
        "def enrroll_students(stuedent_queue):\n",
        "  for student in [\"Rahul\",\"Akash\",\"Nikhil\",\"Pritam\"]:\n",
        "    student_queue.put(f\"enroll request {student}\")\n",
        "\n",
        "def register_students(students_queue):\n",
        "  while True:\n",
        "    enrollment_reg = students_queue.get()\n",
        "    if enrollment_reg is None:\n",
        "      break\n",
        "    print(f\"Register the enrollment request: {enrollment_reg}\")\n",
        "\n",
        "if True:\n",
        "  student_queue = multiprocessing.Queue() #multiprocessing has data structure queue\n",
        "  enrollment_process = multiprocessing.Process(target = enrroll_students, args = (student_queue,))\n",
        "  reg_process = multiprocessing.Process(target = register_students, args = (student_queue,))\n",
        "\n",
        "  enrollment_process.start()\n",
        "  reg_process.start()\n",
        "\n",
        "  enrollment_process.join()\n",
        "  reg_process.join()"
      ]
    },
    {
      "cell_type": "code",
      "execution_count": 8,
      "metadata": {
        "colab": {
          "base_uri": "https://localhost:8080/"
        },
        "id": "G9HdtH3cFcpj",
        "outputId": "90d62ea8-1ea8-4460-ce8d-2626fde84c71"
      },
      "outputs": [
        {
          "name": "stdout",
          "output_type": "stream",
          "text": [
            "do somethingdo something\n",
            "sleep for 1 sec\n",
            "\n",
            "sleep for 1 sec\n",
            "done with sleeping\n",
            "done with sleeping\n",
            "do something\n",
            "sleep for 1 sec\n",
            "do something\n",
            "sleep for 1 sec\n",
            "done with sleeping\n",
            "do something\n",
            "sleep for 1 secdone with sleeping\n",
            "\n",
            "do something\n",
            "sleep for 1 sec\n",
            "done with sleeping\n",
            "do something\n",
            "sleep for 1 sec\n",
            "done with sleeping\n",
            "do something\n",
            "sleep for 1 sec\n",
            "done with sleeping\n",
            "do something\n",
            "sleep for 1 sec\n",
            "done with sleeping\n",
            "do something\n",
            "sleep for 1 sec\n",
            "done with sleeping\n",
            "done with sleeping\n",
            "The program finished in 5.12 seconds\n"
          ]
        }
      ],
      "source": [
        "#using concurrent.futures\n",
        "import concurrent.futures\n",
        "\n",
        "import time\n",
        "\n",
        "start = time.perf_counter()\n",
        "\n",
        "\n",
        "def test_func(i):\n",
        "    print(\"do something\")\n",
        "    print(\"sleep for 1 sec\")\n",
        "    time.sleep(1)\n",
        "    print(\"done with sleeping\")\n",
        "\n",
        "with concurrent.futures.ProcessPoolExecutor() as executor:\n",
        "    executor.map(test_func, range(10))\n",
        "\n",
        "end = time.perf_counter()\n",
        "\n",
        "print(f\"The program finished in {round(end-start, 2)} seconds\")"
      ]
    },
    {
      "cell_type": "code",
      "execution_count": null,
      "metadata": {
        "id": "3uCFR12GFgSW"
      },
      "outputs": [],
      "source": []
    }
  ],
  "metadata": {
    "colab": {
      "provenance": []
    },
    "kernelspec": {
      "display_name": "Python 3",
      "name": "python3"
    },
    "language_info": {
      "name": "python",
      "version": "3.10.0"
    }
  },
  "nbformat": 4,
  "nbformat_minor": 0
}
