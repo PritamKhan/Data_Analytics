{
 "cells": [
  {
   "cell_type": "markdown",
   "id": "c49233ba",
   "metadata": {},
   "source": [
    "File handling"
   ]
  },
  {
   "cell_type": "code",
   "execution_count": 6,
   "id": "3470d3fe",
   "metadata": {},
   "outputs": [
    {
     "name": "stdout",
     "output_type": "stream",
     "text": [
      "this is my first text file.\n",
      "it is in pw lecture.\n",
      "thanks and good bye.\n"
     ]
    }
   ],
   "source": [
    "file = open(\"myfile_pw.txt\", \"r\")\n",
    "content = file.read()\n",
    "#file.close()\n",
    "print(content)"
   ]
  },
  {
   "cell_type": "code",
   "execution_count": 7,
   "id": "c382f276",
   "metadata": {},
   "outputs": [],
   "source": [
    "file = open(\"myfile_pw.txt\",\"r\")"
   ]
  },
  {
   "cell_type": "code",
   "execution_count": 8,
   "id": "29e9b9e8",
   "metadata": {},
   "outputs": [],
   "source": [
    "content = file.read(21)"
   ]
  },
  {
   "cell_type": "code",
   "execution_count": 9,
   "id": "7e7800a4",
   "metadata": {},
   "outputs": [
    {
     "name": "stdout",
     "output_type": "stream",
     "text": [
      "this is my first text\n"
     ]
    }
   ],
   "source": [
    "print(content)"
   ]
  },
  {
   "cell_type": "code",
   "execution_count": 13,
   "id": "ef502120",
   "metadata": {},
   "outputs": [],
   "source": [
    "file = open(\"myfile_pw.txt\",\"r\")"
   ]
  },
  {
   "cell_type": "code",
   "execution_count": 14,
   "id": "0684f05d",
   "metadata": {},
   "outputs": [],
   "source": [
    "line1 = file.readline()"
   ]
  },
  {
   "cell_type": "code",
   "execution_count": 15,
   "id": "e50c61d3",
   "metadata": {},
   "outputs": [
    {
     "name": "stdout",
     "output_type": "stream",
     "text": [
      "this is my first text file.\n",
      "\n"
     ]
    }
   ],
   "source": [
    "print(line1)"
   ]
  },
  {
   "cell_type": "code",
   "execution_count": 16,
   "id": "57116100",
   "metadata": {},
   "outputs": [],
   "source": [
    "line2 = file.readline()"
   ]
  },
  {
   "cell_type": "code",
   "execution_count": 17,
   "id": "4fbf272d",
   "metadata": {},
   "outputs": [
    {
     "name": "stdout",
     "output_type": "stream",
     "text": [
      "it is in pw lecture.\n",
      "\n"
     ]
    }
   ],
   "source": [
    "print(line2)"
   ]
  },
  {
   "cell_type": "code",
   "execution_count": 18,
   "id": "a9882db4",
   "metadata": {},
   "outputs": [],
   "source": [
    "line3 = file.readline()"
   ]
  },
  {
   "cell_type": "code",
   "execution_count": 19,
   "id": "62ad9462",
   "metadata": {},
   "outputs": [
    {
     "name": "stdout",
     "output_type": "stream",
     "text": [
      "thanks and good bye.\n"
     ]
    }
   ],
   "source": [
    "print(line3)"
   ]
  },
  {
   "cell_type": "code",
   "execution_count": 21,
   "id": "6538c186",
   "metadata": {},
   "outputs": [],
   "source": [
    "file = open('myfile_pw.txt',\"r\")"
   ]
  },
  {
   "cell_type": "code",
   "execution_count": 22,
   "id": "e315ab2d",
   "metadata": {},
   "outputs": [],
   "source": [
    "line = file.readlines()"
   ]
  },
  {
   "cell_type": "code",
   "execution_count": 24,
   "id": "cb656e05",
   "metadata": {},
   "outputs": [
    {
     "name": "stdout",
     "output_type": "stream",
     "text": [
      "['this is my first text file.\\n', 'it is in pw lecture.\\n', 'thanks and good bye.']\n"
     ]
    }
   ],
   "source": [
    "print(line)"
   ]
  },
  {
   "cell_type": "code",
   "execution_count": 25,
   "id": "4fdbe319",
   "metadata": {},
   "outputs": [
    {
     "name": "stdout",
     "output_type": "stream",
     "text": [
      "this is my first text file.\n",
      "\n",
      "it is in pw lecture.\n",
      "\n",
      "thanks and good bye.\n"
     ]
    }
   ],
   "source": [
    "for i in line:\n",
    "    print(i)"
   ]
  },
  {
   "cell_type": "markdown",
   "id": "5fd207b0",
   "metadata": {},
   "source": [
    "1. read()\n",
    "2. readline()\n",
    "3. readlines()"
   ]
  },
  {
   "cell_type": "code",
   "execution_count": 26,
   "id": "4242c8ec",
   "metadata": {},
   "outputs": [],
   "source": [
    "file = open(\"myfile_pw.txt\",\"r\")"
   ]
  },
  {
   "cell_type": "code",
   "execution_count": 27,
   "id": "5e3e33d7",
   "metadata": {},
   "outputs": [],
   "source": [
    "file.close()"
   ]
  },
  {
   "cell_type": "code",
   "execution_count": 28,
   "id": "a2978cb5",
   "metadata": {},
   "outputs": [
    {
     "data": {
      "text/plain": [
       "<_io.TextIOWrapper name='myfile_pw.txt' mode='r' encoding='cp1252'>"
      ]
     },
     "execution_count": 28,
     "metadata": {},
     "output_type": "execute_result"
    }
   ],
   "source": [
    "file"
   ]
  },
  {
   "cell_type": "code",
   "execution_count": 29,
   "id": "5c97a731",
   "metadata": {},
   "outputs": [
    {
     "ename": "ValueError",
     "evalue": "I/O operation on closed file.",
     "output_type": "error",
     "traceback": [
      "\u001b[1;31m---------------------------------------------------------------------------\u001b[0m",
      "\u001b[1;31mValueError\u001b[0m                                Traceback (most recent call last)",
      "Cell \u001b[1;32mIn[29], line 1\u001b[0m\n\u001b[1;32m----> 1\u001b[0m \u001b[43mfile\u001b[49m\u001b[38;5;241;43m.\u001b[39;49m\u001b[43mread\u001b[49m\u001b[43m(\u001b[49m\u001b[43m)\u001b[49m\n",
      "\u001b[1;31mValueError\u001b[0m: I/O operation on closed file."
     ]
    }
   ],
   "source": [
    "file.read()"
   ]
  },
  {
   "cell_type": "code",
   "execution_count": 30,
   "id": "d62bc78f",
   "metadata": {},
   "outputs": [
    {
     "name": "stdout",
     "output_type": "stream",
     "text": [
      "this is my first text file.\n",
      "it is in pw lecture.\n",
      "thanks and good bye.\n"
     ]
    }
   ],
   "source": [
    "try:\n",
    "    file = open(\"myfile_pw.txt\",\"r\")\n",
    "    \n",
    "    try:\n",
    "        content = file.read()\n",
    "        print(content)\n",
    "    \n",
    "    except IOError:\n",
    "        print(\"Error: An IOError occured. Details\")\n",
    "        \n",
    "    except Exception:\n",
    "        print(\"Error: An unexpected error occured. Details\")\n",
    "        \n",
    "    finally:\n",
    "        file.close()\n",
    "        \n",
    "except FileNotFoundError:\n",
    "    print(\"Error: The file does not exist or cannot be found.\")\n",
    "\n",
    "except Exception:\n",
    "    print(\"Error: An unexpected error occured. Details\")"
   ]
  },
  {
   "cell_type": "code",
   "execution_count": 34,
   "id": "d4bae407",
   "metadata": {},
   "outputs": [
    {
     "name": "stdout",
     "output_type": "stream",
     "text": [
      "this is my first text file.\n",
      "it is in pw lecture.\n",
      "thanks and good bye.\n"
     ]
    }
   ],
   "source": [
    "try:\n",
    "    file = open(\"myfile_pw.txt\",\"r\")\n",
    "    \n",
    "    try:\n",
    "        content = file.read()\n",
    "        print(content)\n",
    "    \n",
    "    except IOError:\n",
    "        print(\"Error: An IOError occured. Details\")\n",
    "        \n",
    "    except Exception:\n",
    "        print(\"Error: An unexpected error occured. Details\")\n",
    "        \n",
    "    finally:\n",
    "        file.close()\n",
    "        \n",
    "except FileNotFoundError:\n",
    "    print(\"Error: The file does not exist or cannot be found.\")\n",
    "\n",
    "except Exception:\n",
    "    print(\"Error: An unexpected error occured. Details\")"
   ]
  },
  {
   "cell_type": "markdown",
   "id": "8c8b0784",
   "metadata": {},
   "source": [
    "Write: if that file does not exist, then, it will create a new one.but, if the file already exists, it truncates it and overwrite the content."
   ]
  },
  {
   "cell_type": "code",
   "execution_count": 35,
   "id": "53bada4c",
   "metadata": {},
   "outputs": [],
   "source": [
    "file = open(\"myfile_pw.txt\",\"w\")"
   ]
  },
  {
   "cell_type": "code",
   "execution_count": 36,
   "id": "d246a805",
   "metadata": {},
   "outputs": [],
   "source": [
    "content = file.write(\"this is a new content.\")"
   ]
  },
  {
   "cell_type": "code",
   "execution_count": 38,
   "id": "36bf9292",
   "metadata": {},
   "outputs": [
    {
     "name": "stdout",
     "output_type": "stream",
     "text": [
      "22\n"
     ]
    }
   ],
   "source": [
    "print(content)"
   ]
  },
  {
   "cell_type": "code",
   "execution_count": 39,
   "id": "e21ad6aa",
   "metadata": {},
   "outputs": [],
   "source": [
    "file.close()"
   ]
  },
  {
   "cell_type": "code",
   "execution_count": 43,
   "id": "4deea897",
   "metadata": {},
   "outputs": [],
   "source": [
    "file = open(\"myfile_pw.txt\",\"r\")"
   ]
  },
  {
   "cell_type": "code",
   "execution_count": 44,
   "id": "89d39eb4",
   "metadata": {},
   "outputs": [],
   "source": [
    "content = file.read()"
   ]
  },
  {
   "cell_type": "code",
   "execution_count": 45,
   "id": "7261a9f9",
   "metadata": {},
   "outputs": [
    {
     "name": "stdout",
     "output_type": "stream",
     "text": [
      "this is a new content.\n"
     ]
    }
   ],
   "source": [
    "print(content)"
   ]
  },
  {
   "cell_type": "code",
   "execution_count": 46,
   "id": "8f559992",
   "metadata": {},
   "outputs": [],
   "source": [
    "file.close()"
   ]
  },
  {
   "cell_type": "code",
   "execution_count": 47,
   "id": "387916c6",
   "metadata": {},
   "outputs": [],
   "source": [
    "file = open(\"myfile_pw.txt\",\"a\")"
   ]
  },
  {
   "cell_type": "code",
   "execution_count": 48,
   "id": "0c9e2fe5",
   "metadata": {},
   "outputs": [
    {
     "data": {
      "text/plain": [
       "27"
      ]
     },
     "execution_count": 48,
     "metadata": {},
     "output_type": "execute_result"
    }
   ],
   "source": [
    "file.write(\"this is my fresh content. \\n\")"
   ]
  },
  {
   "cell_type": "code",
   "execution_count": 49,
   "id": "05e8be23",
   "metadata": {},
   "outputs": [
    {
     "data": {
      "text/plain": [
       "28"
      ]
     },
     "execution_count": 49,
     "metadata": {},
     "output_type": "execute_result"
    }
   ],
   "source": [
    "file.write(\"this is my second content. \\n\")"
   ]
  },
  {
   "cell_type": "code",
   "execution_count": 51,
   "id": "938be7af",
   "metadata": {},
   "outputs": [],
   "source": [
    "file.close()"
   ]
  },
  {
   "cell_type": "code",
   "execution_count": 55,
   "id": "05d58286",
   "metadata": {},
   "outputs": [],
   "source": [
    "file = open(\"myfile_pw.txt\",\"r\")"
   ]
  },
  {
   "cell_type": "code",
   "execution_count": 56,
   "id": "d32e8416",
   "metadata": {},
   "outputs": [],
   "source": [
    "content = file.read()"
   ]
  },
  {
   "cell_type": "code",
   "execution_count": 57,
   "id": "7ee8743b",
   "metadata": {},
   "outputs": [
    {
     "name": "stdout",
     "output_type": "stream",
     "text": [
      "this is a new content.this is my fresh content. \n",
      "this is my second content. \n",
      "\n"
     ]
    }
   ],
   "source": [
    "print(content)"
   ]
  },
  {
   "cell_type": "code",
   "execution_count": 58,
   "id": "88222c6b",
   "metadata": {},
   "outputs": [],
   "source": [
    "file.close()"
   ]
  },
  {
   "cell_type": "code",
   "execution_count": 59,
   "id": "d7ae67b9",
   "metadata": {},
   "outputs": [],
   "source": [
    "file = open(\"myfile_new_pw.txt\",\"x\")"
   ]
  },
  {
   "cell_type": "code",
   "execution_count": 61,
   "id": "13513f1c",
   "metadata": {},
   "outputs": [],
   "source": [
    "file.close()"
   ]
  },
  {
   "cell_type": "code",
   "execution_count": 62,
   "id": "5121d6e6",
   "metadata": {},
   "outputs": [],
   "source": [
    "import os"
   ]
  },
  {
   "cell_type": "code",
   "execution_count": 63,
   "id": "6ebb088e",
   "metadata": {},
   "outputs": [],
   "source": [
    "os.remove(\"myfile_new_pw.txt\")"
   ]
  },
  {
   "cell_type": "markdown",
   "id": "b1061591",
   "metadata": {},
   "source": [
    "1. read- read(), readline(), readlines()\n",
    "2. write\n",
    "3. append\n",
    "4. created\n",
    "5. deleted"
   ]
  },
  {
   "cell_type": "code",
   "execution_count": 46,
   "id": "aa6e3d12",
   "metadata": {},
   "outputs": [],
   "source": [
    "#os.rmdir(\"directorypath\")"
   ]
  },
  {
   "cell_type": "code",
   "execution_count": null,
   "id": "f97750da",
   "metadata": {},
   "outputs": [],
   "source": []
  }
 ],
 "metadata": {
  "kernelspec": {
   "display_name": "Python 3",
   "language": "python",
   "name": "python3"
  },
  "language_info": {
   "codemirror_mode": {
    "name": "ipython",
    "version": 3
   },
   "file_extension": ".py",
   "mimetype": "text/x-python",
   "name": "python",
   "nbconvert_exporter": "python",
   "pygments_lexer": "ipython3",
   "version": "3.10.9"
  }
 },
 "nbformat": 4,
 "nbformat_minor": 5
}
