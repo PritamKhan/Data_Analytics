{
 "cells": [
  {
   "cell_type": "code",
   "execution_count": 56,
   "metadata": {},
   "outputs": [],
   "source": [
    "#debugging >> it is process of identifying and fixing bugs/issues in our code\n",
    "#deubgging involves >> breaking the code(checkpoint), executing the code, checking the code, interpreting the variables using print statements, using debugger"
   ]
  },
  {
   "cell_type": "code",
   "execution_count": 57,
   "metadata": {},
   "outputs": [],
   "source": [
    "#how to debug the code\n",
    "#breaking the code(checkpoint) >> add print statements to check the code\n",
    "#execute the code >> run the code\n",
    "#inspecting the variables >> check the variables using print statements\n",
    "#using debugger >> use debugger to check the code"
   ]
  },
  {
   "cell_type": "code",
   "execution_count": 64,
   "metadata": {},
   "outputs": [],
   "source": [
    "def divide(a,b):\n",
    "    try:\n",
    "        d = a/b\n",
    "        return f\"{d:.2f}\"\n",
    "    except ZeroDivisionError as e:\n",
    "        return f\"Error:{e}\"\n",
    "    except Exception as e:\n",
    "        return f\"Error:{e}\""
   ]
  },
  {
   "cell_type": "code",
   "execution_count": 65,
   "metadata": {},
   "outputs": [
    {
     "data": {
      "text/plain": [
       "'5.00'"
      ]
     },
     "execution_count": 65,
     "metadata": {},
     "output_type": "execute_result"
    }
   ],
   "source": [
    "divide(10,2)"
   ]
  },
  {
   "cell_type": "code",
   "execution_count": 66,
   "metadata": {},
   "outputs": [
    {
     "data": {
      "text/plain": [
       "'4.00'"
      ]
     },
     "execution_count": 66,
     "metadata": {},
     "output_type": "execute_result"
    }
   ],
   "source": [
    "divide(12,3)"
   ]
  },
  {
   "cell_type": "code",
   "execution_count": 67,
   "metadata": {},
   "outputs": [
    {
     "data": {
      "text/plain": [
       "'Error:division by zero'"
      ]
     },
     "execution_count": 67,
     "metadata": {},
     "output_type": "execute_result"
    }
   ],
   "source": [
    "divide(10,0)"
   ]
  },
  {
   "cell_type": "code",
   "execution_count": 68,
   "metadata": {},
   "outputs": [
    {
     "name": "stdout",
     "output_type": "stream",
     "text": [
      "0.90\n",
      "0.89\n",
      "0.88\n",
      "0.86\n",
      "0.83\n",
      "0.80\n",
      "0.75\n",
      "0.67\n",
      "0.50\n",
      "-0.00\n",
      "Error:division by zero\n",
      "2.00\n",
      "1.50\n",
      "1.33\n",
      "1.25\n",
      "1.20\n",
      "1.17\n",
      "1.14\n",
      "1.12\n",
      "1.11\n"
     ]
    }
   ],
   "source": [
    "for i in range(-10, 10):\n",
    "    print(divide( i+1,i))\n",
    "\n",
    "#we have called divide function many times\n",
    "#at some point we are getting error, but where?\n",
    "#we have to de bug the code >> for what values of a and b parameters we are getting error\n",
    "#we can use print statements to debug the code"
   ]
  },
  {
   "cell_type": "code",
   "execution_count": 69,
   "metadata": {},
   "outputs": [
    {
     "name": "stdout",
     "output_type": "stream",
     "text": [
      "-10 -9\n",
      "-9 -8\n",
      "-8 -7\n",
      "-7 -6\n",
      "-6 -5\n",
      "-5 -4\n",
      "-4 -3\n",
      "-3 -2\n",
      "-2 -1\n",
      "-1 0\n"
     ]
    },
    {
     "ename": "ZeroDivisionError",
     "evalue": "division by zero",
     "output_type": "error",
     "traceback": [
      "\u001b[1;31m---------------------------------------------------------------------------\u001b[0m",
      "\u001b[1;31mZeroDivisionError\u001b[0m                         Traceback (most recent call last)",
      "Cell \u001b[1;32mIn[69], line 7\u001b[0m\n\u001b[0;32m      3\u001b[0m     \u001b[38;5;28;01mreturn\u001b[39;00m a\u001b[38;5;241m/\u001b[39mb\n\u001b[0;32m      5\u001b[0m \u001b[38;5;28;01mfor\u001b[39;00m i \u001b[38;5;129;01min\u001b[39;00m \u001b[38;5;28mrange\u001b[39m(\u001b[38;5;241m-\u001b[39m\u001b[38;5;241m10\u001b[39m, \u001b[38;5;241m10\u001b[39m):\n\u001b[0;32m      6\u001b[0m     \u001b[38;5;66;03m#print(i, i+1)\u001b[39;00m\n\u001b[1;32m----> 7\u001b[0m     \u001b[43mdivide\u001b[49m\u001b[43m(\u001b[49m\u001b[43mi\u001b[49m\u001b[43m,\u001b[49m\u001b[43m \u001b[49m\u001b[43mi\u001b[49m\u001b[38;5;241;43m+\u001b[39;49m\u001b[38;5;241;43m1\u001b[39;49m\u001b[43m)\u001b[49m\n",
      "Cell \u001b[1;32mIn[69], line 3\u001b[0m, in \u001b[0;36mdivide\u001b[1;34m(a, b)\u001b[0m\n\u001b[0;32m      1\u001b[0m \u001b[38;5;28;01mdef\u001b[39;00m \u001b[38;5;21mdivide\u001b[39m(a,b):\n\u001b[0;32m      2\u001b[0m     \u001b[38;5;28mprint\u001b[39m(a,b)\n\u001b[1;32m----> 3\u001b[0m     \u001b[38;5;28;01mreturn\u001b[39;00m \u001b[43ma\u001b[49m\u001b[38;5;241;43m/\u001b[39;49m\u001b[43mb\u001b[49m\n",
      "\u001b[1;31mZeroDivisionError\u001b[0m: division by zero"
     ]
    }
   ],
   "source": [
    "def divide(a,b):\n",
    "    print(a,b)\n",
    "    return a/b\n",
    "\n",
    "for i in range(-10, 10):\n",
    "    #print(i, i+1)\n",
    "    divide(i, i+1)"
   ]
  },
  {
   "cell_type": "code",
   "execution_count": 70,
   "metadata": {},
   "outputs": [
    {
     "name": "stdout",
     "output_type": "stream",
     "text": [
      "-10 -9\n",
      "-9 -8\n",
      "-8 -7\n",
      "-7 -6\n",
      "-6 -5\n",
      "-5 -4\n",
      "-4 -3\n",
      "-3 -2\n",
      "-2 -1\n",
      "-1 0\n",
      "Zero Division Error\n",
      "0 1\n",
      "1 2\n",
      "2 3\n",
      "3 4\n",
      "4 5\n",
      "5 6\n",
      "6 7\n",
      "7 8\n",
      "8 9\n",
      "9 10\n"
     ]
    }
   ],
   "source": [
    "#from print statements we understood that we are getting error when b is 0, it throw error\n",
    "def divide(a,b):\n",
    "    print(a,b)\n",
    "\n",
    "    #breaking the code(checkpoint) >> add print statements to check the code\n",
    "    if b == 0:\n",
    "        print(\"Zero Division Error\")\n",
    "        return\n",
    "    return a/b\n",
    "\n",
    "for i in range(-10, 10):\n",
    "    #print(i, i+1)\n",
    "    divide(i, i+1)\n"
   ]
  },
  {
   "cell_type": "code",
   "execution_count": 71,
   "metadata": {},
   "outputs": [],
   "source": [
    "#print statements are not good way to debug the code, we can use debugger to debug the code >> print statements are not efficient way to debug the code\n",
    "#print statemt is good for small code or simle script, but not for large code or complex script it is not good\n",
    "#in console/terminal all the print statement will be lost, we can't see all the print statements\n",
    "#we use logging instead of print statements"
   ]
  },
  {
   "cell_type": "code",
   "execution_count": 72,
   "metadata": {},
   "outputs": [],
   "source": [
    "#logging >> it records the status and flow of our program/code/software\n",
    "#it is useful for understanding, monitoringand debugging of our code\n",
    "#it shows how program behaves and what is happening in our code over time\n",
    "\n",
    "\n",
    "#analogy>> diary entery since childhood to now, we will understant how we evolved over time\n",
    "#simply in complex script to understand how our code is chsnging the result over timr, we can use logging to understand specific steps"
   ]
  },
  {
   "cell_type": "code",
   "execution_count": 73,
   "metadata": {},
   "outputs": [],
   "source": [
    "#Theoretical use case explanation\n",
    "#see the different steps of coding below\n",
    "#step 1>>remove some element of list\n",
    "#step 2>>capitalize>>upper case\n",
    "#step 3>>remove metroplitan city\n",
    "#step 4>>lower casef\n",
    "# if after step 3 the list become empty, step 4 ccan throw error, so we can log the result of step 3 to understand the result of step 3 debug"
   ]
  },
  {
   "cell_type": "code",
   "execution_count": 74,
   "metadata": {},
   "outputs": [],
   "source": [
    "#logging supports different levels of logging which helps to catogorize message based on their severity\n",
    "#analogy >> different level of severity if terror attack go to emergency\n",
    "#similarly in logging we have different levels of logging"
   ]
  },
  {
   "cell_type": "code",
   "execution_count": 89,
   "metadata": {},
   "outputs": [],
   "source": [
    "import logging"
   ]
  },
  {
   "cell_type": "code",
   "execution_count": 90,
   "metadata": {},
   "outputs": [],
   "source": [
    "logging.basicConfig(filename='test.log', level=logging.INFO)"
   ]
  },
  {
   "cell_type": "code",
   "execution_count": 91,
   "metadata": {},
   "outputs": [],
   "source": [
    "logging.info(\"This is my narmal information about the software\")"
   ]
  },
  {
   "cell_type": "code",
   "execution_count": 92,
   "metadata": {},
   "outputs": [],
   "source": [
    "logging.warning(\"There can be some empty list here\")"
   ]
  },
  {
   "cell_type": "code",
   "execution_count": 93,
   "metadata": {},
   "outputs": [],
   "source": [
    "logging.debug(\"The length of list is\")"
   ]
  },
  {
   "cell_type": "code",
   "execution_count": 94,
   "metadata": {},
   "outputs": [],
   "source": [
    "logging.error(\"Some error has happen\")"
   ]
  },
  {
   "cell_type": "code",
   "execution_count": 95,
   "metadata": {},
   "outputs": [],
   "source": [
    "logging.critical(\"The software has stopped running\")"
   ]
  },
  {
   "cell_type": "code",
   "execution_count": 96,
   "metadata": {},
   "outputs": [],
   "source": [
    "logging.shutdown()"
   ]
  },
  {
   "cell_type": "code",
   "execution_count": 97,
   "metadata": {},
   "outputs": [],
   "source": [
    "#NOSET>> level is not used\n",
    "#DEBUG>> lowest level of logging. To give detailed information of any variable, msg, while doing debugging\n",
    "#INFO>> This is used to convey that the code is working as expected\n",
    "#Example \"Data Analysis is completed\" \n",
    "#WARNING>> This is used to convey that there is something unexpected happend or potential issue in the code\n",
    "#Error>> This says serious issue or problem with some function\n",
    "#Critical>> Terminal of program, code, software has stopped running\n",
    "\n",
    "\n",
    "#the above level of logging is executed in the same order>> DEBUG, INFO, WARNING, ERROR, CRITICAL\n",
    "#DEBUG is lowest level of logging and CRITICAL is highest level of logging\n",
    "#while defining level of logging, we can define the level of logging, so that only that level of logging will be executed\n",
    "#the log level priority will be stsrt from level which is used to initialized the logging\n",
    "\n",
    "#example>> if we initialize with WARNING then only WARNING, ERROR, CRITICAL msg will be logged, debug and info will not be logged"
   ]
  },
  {
   "cell_type": "code",
   "execution_count": 98,
   "metadata": {},
   "outputs": [],
   "source": [
    "# #say you want level name in logs as well\n",
    "\n",
    "# import logging\n",
    "# logging.basicConfig(filename = \"test_new1.log\", level = logging.DEBUG, format = '%(asctime)s %(levelname)s %(message)s')\n",
    "\n",
    "# logging.debug(\"This msg is for debugging\")\n",
    "# logging.info(\"This is my info msg\")\n",
    "# logging.warning(\"This is my warning msg\")\n",
    "# logging.shutdown()"
   ]
  },
  {
   "cell_type": "code",
   "execution_count": null,
   "metadata": {},
   "outputs": [],
   "source": []
  },
  {
   "cell_type": "code",
   "execution_count": null,
   "metadata": {},
   "outputs": [],
   "source": []
  }
 ],
 "metadata": {
  "kernelspec": {
   "display_name": "Python 3",
   "language": "python",
   "name": "python3"
  },
  "language_info": {
   "codemirror_mode": {
    "name": "ipython",
    "version": 3
   },
   "file_extension": ".py",
   "mimetype": "text/x-python",
   "name": "python",
   "nbconvert_exporter": "python",
   "pygments_lexer": "ipython3",
   "version": "3.10.0"
  }
 },
 "nbformat": 4,
 "nbformat_minor": 2
}
