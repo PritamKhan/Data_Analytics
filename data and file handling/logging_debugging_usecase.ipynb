{
 "cells": [
  {
   "cell_type": "code",
   "execution_count": 1,
   "metadata": {},
   "outputs": [],
   "source": [
    "#use case with example\n",
    "import logging\n",
    "\n",
    "logging.basicConfig(filename=\"new_program.log\", level=logging.DEBUG, format='%(asctime)s - %(levelname)s - %(message)s')"
   ]
  },
  {
   "cell_type": "code",
   "execution_count": 2,
   "metadata": {},
   "outputs": [],
   "source": [
    "#write a program seprate the integer and string in two list sepraterly\n",
    "l = [1, \"hello\", [2, \"world\"],4, [ 3, \"python\"]]"
   ]
  },
  {
   "cell_type": "code",
   "execution_count": 3,
   "metadata": {},
   "outputs": [
    {
     "data": {
      "text/plain": [
       "[1, 'hello', [2, 'world'], 4, [3, 'python']]"
      ]
     },
     "execution_count": 3,
     "metadata": {},
     "output_type": "execute_result"
    }
   ],
   "source": [
    "l"
   ]
  },
  {
   "cell_type": "code",
   "execution_count": 17,
   "metadata": {},
   "outputs": [],
   "source": [
    "l1_int = []\n",
    "l2_str = []\n",
    "for i in l:\n",
    "    logging.info(f\"Processing each element of the list {i}\")\n",
    "    if type(i) == list:\n",
    "        for j in i:\n",
    "            logging.info(f\"Processing sublist element {j}\")\n",
    "            if type(j) == int:\n",
    "                l1_int.append(j)\n",
    "            else:    \n",
    "                l2_str.append(j)\n",
    "    elif type(i) == int:\n",
    "        l1_int.append(i)\n",
    "    else:\n",
    "        l2_str.append(i)\n",
    "logging.info(f\"The result is: {l1_int}, {l2_str}\")\n",
    "logging.shutdown()\n"
   ]
  },
  {
   "cell_type": "code",
   "execution_count": 15,
   "metadata": {},
   "outputs": [
    {
     "data": {
      "text/plain": [
       "[1, 2, 4, 3]"
      ]
     },
     "execution_count": 15,
     "metadata": {},
     "output_type": "execute_result"
    }
   ],
   "source": [
    "l1_int"
   ]
  },
  {
   "cell_type": "code",
   "execution_count": 16,
   "metadata": {},
   "outputs": [
    {
     "data": {
      "text/plain": [
       "['hello', 'world', 'python']"
      ]
     },
     "execution_count": 16,
     "metadata": {},
     "output_type": "execute_result"
    }
   ],
   "source": [
    "l2_str"
   ]
  },
  {
   "cell_type": "code",
   "execution_count": 18,
   "metadata": {},
   "outputs": [],
   "source": [
    "#program which finds a prime no from a given list of numbers and use logging"
   ]
  },
  {
   "cell_type": "code",
   "execution_count": 19,
   "metadata": {},
   "outputs": [],
   "source": [
    "list1 = [2, 3, 4, 5, 6, 7, 8, 9, 10, 11, 12, 13, 14, 15, 16, 17, 18, 19, 20]"
   ]
  },
  {
   "cell_type": "code",
   "execution_count": 21,
   "metadata": {},
   "outputs": [],
   "source": [
    "list_prime = []\n",
    "list_not_prime = []\n",
    "for i in list1:\n",
    "    logging.info(f\"Processing each element of the list {i}\")\n",
    "    for j in range(2, i):\n",
    "        logging.info(f\"Checking if {i} is divisible by {j}\")\n",
    "        if i % j == 0:\n",
    "            logging.info(f\"{i} is not prime\")\n",
    "            list_not_prime.append(i)\n",
    "            break\n",
    "    else:\n",
    "        logging.info(f\"{i} is prime\")\n",
    "        list_prime.append(i)\n",
    "logging.info(f\"The result are: Prime no. >> {list_prime}, Non Prime no. >> {list_not_prime}\")\n",
    "logging.shutdown()\n",
    "    "
   ]
  },
  {
   "cell_type": "code",
   "execution_count": null,
   "metadata": {},
   "outputs": [],
   "source": []
  }
 ],
 "metadata": {
  "kernelspec": {
   "display_name": "Python 3",
   "language": "python",
   "name": "python3"
  },
  "language_info": {
   "codemirror_mode": {
    "name": "ipython",
    "version": 3
   },
   "file_extension": ".py",
   "mimetype": "text/x-python",
   "name": "python",
   "nbconvert_exporter": "python",
   "pygments_lexer": "ipython3",
   "version": "3.10.0"
  }
 },
 "nbformat": 4,
 "nbformat_minor": 2
}
