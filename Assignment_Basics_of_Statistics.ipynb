{
  "nbformat": 4,
  "nbformat_minor": 0,
  "metadata": {
    "colab": {
      "provenance": [],
      "authorship_tag": "ABX9TyPI5Gv9C1eAmnoqoeoYNIgj",
      "include_colab_link": true
    },
    "kernelspec": {
      "name": "python3",
      "display_name": "Python 3"
    },
    "language_info": {
      "name": "python"
    }
  },
  "cells": [
    {
      "cell_type": "markdown",
      "metadata": {
        "id": "view-in-github",
        "colab_type": "text"
      },
      "source": [
        "<a href=\"https://colab.research.google.com/github/PritamKhan/Data_Analytics/blob/master/Assignment_Basics_of_Statistics.ipynb\" target=\"_parent\"><img src=\"https://colab.research.google.com/assets/colab-badge.svg\" alt=\"Open In Colab\"/></a>"
      ]
    },
    {
      "cell_type": "markdown",
      "source": [
        "### Assignment Questions:\n",
        "\n",
        "**1. Types of Data & Scales**  \n",
        "- **Qualitative Data**: Descriptive; e.g., colors, names.  \n",
        "  - *Nominal*: Categories without order (e.g., gender, color).  \n",
        "  - *Ordinal*: Categories with order (e.g., rankings, satisfaction level).  \n",
        "- **Quantitative Data**: Numeric; e.g., height, weight.  \n",
        "  - *Interval*: Numeric, no true zero (e.g., temperature in °C).  \n",
        "  - *Ratio*: Numeric with true zero (e.g., height, weight, age).\n",
        "\n",
        "\n",
        "**2. Measures of Central Tendency**  \n",
        "- **Mean**: Average; use when data has no extreme values.  \n",
        "- **Median**: Middle value; use when data has outliers/skew.  \n",
        "- **Mode**: Most frequent value; use with categorical data.  \n",
        "*Example*: In {1, 2, 2, 3, 100}, median = 2 (better than mean = 21.6).\n",
        "\n",
        "\n",
        "**3. Dispersion, Variance & Standard Deviation**  \n",
        "- **Dispersion** shows how spread out data is.  \n",
        "- **Variance**: Average of squared deviations from the mean.  \n",
        "- **Standard Deviation**: Square root of variance; shows typical spread.\n",
        "\n",
        "\n",
        "**4. Box Plot**  \n",
        "A graph showing minimum, Q1, median, Q3, and maximum.  \n",
        "It reveals distribution, spread, and outliers.\n",
        "\n",
        "\n",
        "**5. Role of Random Sampling**  \n",
        "Ensures every individual has equal chance of selection.  \n",
        "Helps make accurate, unbiased inferences about a population.\n",
        "\n",
        "\n",
        "**6. Skewness**  \n",
        "Shows asymmetry in data distribution:  \n",
        "- **Positive Skew**: Tail on right (e.g., income).  \n",
        "- **Negative Skew**: Tail on left (e.g., test scores).  \n",
        "Skewness affects mean and interpretation of data shape.\n",
        "\n",
        "\n",
        "**7. Interquartile Range (IQR)**  \n",
        "IQR = Q3 − Q1; shows middle 50% of data.  \n",
        "Used to detect **outliers**:  \n",
        "- Outlier if < Q1 − 1.5×IQR or > Q3 + 1.5×IQR.\n",
        "\n",
        "\n",
        "**8. Binomial Distribution Conditions**  \n",
        "- Fixed number of trials  \n",
        "- Only two outcomes (success/failure)  \n",
        "- Constant probability  \n",
        "- Independent trials  \n",
        "*Example*: Tossing a coin 10 times.\n",
        "\n",
        "\n",
        "**9. Normal Distribution & Empirical Rule**  \n",
        "Bell-shaped, symmetric curve.  \n",
        "- **68%** data within 1 SD  \n",
        "- **95%** within 2 SDs  \n",
        "- **99.7%** within 3 SDs  \n",
        "Used in natural data like height, test scores.\n",
        "\n",
        "\n",
        "**10. Poisson Process Example**  \n",
        "*Example*: Calls received by a call center.  \n",
        "If average = 4 calls/hour,  \n",
        "Probability of 2 calls in an hour:  \n",
        "P(X=2) = (4² * e⁻⁴) / 2! ≈ 0.1465\n",
        "\n",
        "\n",
        "**11. Random Variables**  \n",
        "- **Random Variable**: Takes values based on outcome of random event.  \n",
        "  - **Discrete**: Countable (e.g., number of goals).  \n",
        "  - **Continuous**: Measurable (e.g., height, time).\n",
        "\n",
        "\n",
        "**12. Covariance & Correlation Example**  \n",
        "*Dataset*: X = [1, 2, 3], Y = [2, 4, 6]  \n",
        "- **Covariance** = 2  \n",
        "- **Correlation** = 1 (perfect positive)  \n",
        "Interpretation: As X increases, Y increases proportionally.\n"
      ],
      "metadata": {
        "id": "IKXyKseK-5lG"
      }
    },
    {
      "cell_type": "code",
      "execution_count": null,
      "metadata": {
        "id": "jwOwpyDs97q1"
      },
      "outputs": [],
      "source": []
    }
  ]
}