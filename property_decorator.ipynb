{
  "nbformat": 4,
  "nbformat_minor": 0,
  "metadata": {
    "colab": {
      "provenance": [],
      "authorship_tag": "ABX9TyOU4HB7AgA05lIyBujopRja",
      "include_colab_link": true
    },
    "kernelspec": {
      "name": "python3",
      "display_name": "Python 3"
    },
    "language_info": {
      "name": "python"
    }
  },
  "cells": [
    {
      "cell_type": "markdown",
      "metadata": {
        "id": "view-in-github",
        "colab_type": "text"
      },
      "source": [
        "<a href=\"https://colab.research.google.com/github/PritamKhan/Data_Analytics/blob/master/property_decorator.ipynb\" target=\"_parent\"><img src=\"https://colab.research.google.com/assets/colab-badge.svg\" alt=\"Open In Colab\"/></a>"
      ]
    },
    {
      "cell_type": "code",
      "execution_count": 1,
      "metadata": {
        "id": "Ods_e4UrQ4Hx"
      },
      "outputs": [],
      "source": [
        "#property decorators >> we are allowed to use class method as an attribute"
      ]
    },
    {
      "cell_type": "code",
      "source": [
        "class Student:\n",
        "  def __init__(self, name, price):\n",
        "    self.__name = name\n",
        "    self.__price = price"
      ],
      "metadata": {
        "id": "43Sv119UfpfL"
      },
      "execution_count": 2,
      "outputs": []
    },
    {
      "cell_type": "code",
      "source": [
        "#here name and price are private variable which we will not be able to access from outside the class\n",
        "stud = Student(\"Pritam\", 15000)"
      ],
      "metadata": {
        "id": "dixog3xhiQgj"
      },
      "execution_count": 3,
      "outputs": []
    },
    {
      "cell_type": "code",
      "source": [
        "stud.name  #error as name and price private variables"
      ],
      "metadata": {
        "colab": {
          "base_uri": "https://localhost:8080/",
          "height": 141
        },
        "id": "53NA6dzUisLm",
        "outputId": "547c01b1-ae61-40cf-bd38-64748e25d76a"
      },
      "execution_count": 4,
      "outputs": [
        {
          "output_type": "error",
          "ename": "AttributeError",
          "evalue": "'Student' object has no attribute 'name'",
          "traceback": [
            "\u001b[0;31m---------------------------------------------------------------------------\u001b[0m",
            "\u001b[0;31mAttributeError\u001b[0m                            Traceback (most recent call last)",
            "\u001b[0;32m<ipython-input-4-07c435f88e43>\u001b[0m in \u001b[0;36m<cell line: 0>\u001b[0;34m()\u001b[0m\n\u001b[0;32m----> 1\u001b[0;31m \u001b[0mstud\u001b[0m\u001b[0;34m.\u001b[0m\u001b[0mname\u001b[0m  \u001b[0;31m#error as name and price private variables\u001b[0m\u001b[0;34m\u001b[0m\u001b[0;34m\u001b[0m\u001b[0m\n\u001b[0m",
            "\u001b[0;31mAttributeError\u001b[0m: 'Student' object has no attribute 'name'"
          ]
        }
      ]
    },
    {
      "cell_type": "code",
      "source": [
        "#still we can access private variable if we  know structure of the class\n",
        "stud._Student__name #using class name and exact variable name"
      ],
      "metadata": {
        "colab": {
          "base_uri": "https://localhost:8080/",
          "height": 35
        },
        "id": "Fz9aAb5ii8OF",
        "outputId": "617aa5a6-54e0-4e7d-a5fb-f38f99d1e3d8"
      },
      "execution_count": 6,
      "outputs": [
        {
          "output_type": "execute_result",
          "data": {
            "text/plain": [
              "'Pritam'"
            ],
            "application/vnd.google.colaboratory.intrinsic+json": {
              "type": "string"
            }
          },
          "metadata": {},
          "execution_count": 6
        }
      ]
    },
    {
      "cell_type": "code",
      "source": [
        "#another way to expose private variable using property decoraters\n",
        "\n",
        "class Student:\n",
        "  def __init__(self, name, price):\n",
        "    self.__name = name\n",
        "    self.__price = price\n",
        "\n",
        "  @property\n",
        "  def access_price(self):\n",
        "    return self.__price"
      ],
      "metadata": {
        "id": "vd7RMJIEj4z_"
      },
      "execution_count": 7,
      "outputs": []
    },
    {
      "cell_type": "code",
      "source": [
        "stud = Student(\"Akash\",5000 )"
      ],
      "metadata": {
        "id": "Uo4pVsqQj5bw"
      },
      "execution_count": 8,
      "outputs": []
    },
    {
      "cell_type": "code",
      "source": [
        "stud.access_price"
      ],
      "metadata": {
        "colab": {
          "base_uri": "https://localhost:8080/"
        },
        "id": "XXvIvlN5kLSn",
        "outputId": "467e672a-bf20-4063-ba5f-426c9b23b154"
      },
      "execution_count": 11,
      "outputs": [
        {
          "output_type": "execute_result",
          "data": {
            "text/plain": [
              "5000"
            ]
          },
          "metadata": {},
          "execution_count": 11
        }
      ]
    },
    {
      "cell_type": "code",
      "source": [
        "#if we want to modify price\n",
        "class Student:\n",
        "  def __init__(self, name, price):\n",
        "    self.__name = name\n",
        "    self.__price = price\n",
        "\n",
        "  @property\n",
        "  def access_price(self):\n",
        "    return self.__price\n",
        "\n",
        "  @access_price.setter\n",
        "  def price_set(self, price_new):\n",
        "    self.__price = price_new"
      ],
      "metadata": {
        "id": "eAlLChX4kN_2"
      },
      "execution_count": 12,
      "outputs": []
    },
    {
      "cell_type": "code",
      "source": [
        "stud = Student(\"Nikhil\", 3000)"
      ],
      "metadata": {
        "id": "-fX3mEttk2FO"
      },
      "execution_count": 13,
      "outputs": []
    },
    {
      "cell_type": "code",
      "source": [
        "stud.access_price"
      ],
      "metadata": {
        "colab": {
          "base_uri": "https://localhost:8080/"
        },
        "id": "Cf436z0Mk7gj",
        "outputId": "bca66ab4-2144-4c9b-de8f-9bb8c80611e3"
      },
      "execution_count": 14,
      "outputs": [
        {
          "output_type": "execute_result",
          "data": {
            "text/plain": [
              "3000"
            ]
          },
          "metadata": {},
          "execution_count": 14
        }
      ]
    },
    {
      "cell_type": "code",
      "source": [
        "stud.price_set = 5000"
      ],
      "metadata": {
        "id": "RnskOuczk-U8"
      },
      "execution_count": 15,
      "outputs": []
    },
    {
      "cell_type": "code",
      "source": [
        "stud.access_price"
      ],
      "metadata": {
        "colab": {
          "base_uri": "https://localhost:8080/"
        },
        "id": "u37OzJ6JlAeV",
        "outputId": "73a48528-8a37-4479-9398-096fc7ff0b31"
      },
      "execution_count": 16,
      "outputs": [
        {
          "output_type": "execute_result",
          "data": {
            "text/plain": [
              "5000"
            ]
          },
          "metadata": {},
          "execution_count": 16
        }
      ]
    },
    {
      "cell_type": "code",
      "source": [
        "#delet a variable\n",
        "class Student:\n",
        "  def __init__(self, name, price):\n",
        "    self.__name = name\n",
        "    self.__price = price\n",
        "\n",
        "  @property\n",
        "  def access_price(self):\n",
        "    return self.__price\n",
        "\n",
        "  @access_price.setter\n",
        "  def access_price(self, price_new):\n",
        "    self.__price = price_new\n",
        "\n",
        "  @access_price.deleter\n",
        "  def access_price(self):\n",
        "    del self.__price"
      ],
      "metadata": {
        "id": "y1FuRejylDJ8"
      },
      "execution_count": 35,
      "outputs": []
    },
    {
      "cell_type": "code",
      "source": [
        "stud = Student(\"Rahul\", 20000)"
      ],
      "metadata": {
        "id": "RodOdwM0lntF"
      },
      "execution_count": 36,
      "outputs": []
    },
    {
      "cell_type": "code",
      "source": [
        "stud.access_price"
      ],
      "metadata": {
        "colab": {
          "base_uri": "https://localhost:8080/"
        },
        "id": "CFIy-D5dltZa",
        "outputId": "726ac773-068a-4d51-f306-897d3319c2f6"
      },
      "execution_count": 37,
      "outputs": [
        {
          "output_type": "execute_result",
          "data": {
            "text/plain": [
              "20000"
            ]
          },
          "metadata": {},
          "execution_count": 37
        }
      ]
    },
    {
      "cell_type": "code",
      "source": [
        "stud.price_set = 15000"
      ],
      "metadata": {
        "id": "Xoe9xF34lwMI"
      },
      "execution_count": 38,
      "outputs": []
    },
    {
      "cell_type": "code",
      "source": [
        "stud.access_price"
      ],
      "metadata": {
        "colab": {
          "base_uri": "https://localhost:8080/"
        },
        "id": "OEXlwmeQl0v9",
        "outputId": "030b0e46-a3e8-455a-cad0-6436edc7b0bd"
      },
      "execution_count": 39,
      "outputs": [
        {
          "output_type": "execute_result",
          "data": {
            "text/plain": [
              "20000"
            ]
          },
          "metadata": {},
          "execution_count": 39
        }
      ]
    },
    {
      "cell_type": "code",
      "source": [
        "del stud.access_price"
      ],
      "metadata": {
        "id": "4ZNPDl2Cl4ho"
      },
      "execution_count": 40,
      "outputs": []
    },
    {
      "cell_type": "code",
      "source": [
        "# stud.access_price it will be error"
      ],
      "metadata": {
        "id": "T2E49mnTl7b7"
      },
      "execution_count": 34,
      "outputs": []
    },
    {
      "cell_type": "code",
      "source": [
        "#use case\n",
        "class Circle:\n",
        "  def __init__(self, radius):\n",
        "    self.__radius =  radius\n",
        "\n",
        "  @property\n",
        "  def radius(self):\n",
        "    return self.__radius"
      ],
      "metadata": {
        "id": "4FVSnKNgl-Yn"
      },
      "execution_count": 41,
      "outputs": []
    },
    {
      "cell_type": "code",
      "source": [
        "c = Circle(5)"
      ],
      "metadata": {
        "id": "Cx2uOicWnw7P"
      },
      "execution_count": 42,
      "outputs": []
    },
    {
      "cell_type": "code",
      "source": [
        "c.radius"
      ],
      "metadata": {
        "colab": {
          "base_uri": "https://localhost:8080/"
        },
        "id": "J1IMe-wWn3Ek",
        "outputId": "6af19e9c-0acc-49ed-8050-40a487bdfc93"
      },
      "execution_count": 43,
      "outputs": [
        {
          "output_type": "execute_result",
          "data": {
            "text/plain": [
              "5"
            ]
          },
          "metadata": {},
          "execution_count": 43
        }
      ]
    },
    {
      "cell_type": "code",
      "source": [
        "class Circle:\n",
        "  def __init__(self, radius):\n",
        "    self.__radius =  radius\n",
        "\n",
        "  @property\n",
        "  def radius(self):\n",
        "    return self.__radius\n",
        "\n",
        "  @radius.setter\n",
        "  def radius(self, radius_new):\n",
        "    # self.__radius = 0 if radius_new <= 0 else radius_new\n",
        "    if radius_new <= 0:\n",
        "      raise ValueError(\"Radius in not positive\")\n",
        "    self.__radius = radius_new\n",
        "\n",
        "  def area(self):\n",
        "    return 3.14 * self.__radius ** 2"
      ],
      "metadata": {
        "id": "nvnJ_Yl6n5MM"
      },
      "execution_count": 45,
      "outputs": []
    },
    {
      "cell_type": "code",
      "source": [
        "c = Circle(5)"
      ],
      "metadata": {
        "id": "sY7DPwWsn-64"
      },
      "execution_count": 46,
      "outputs": []
    },
    {
      "cell_type": "code",
      "source": [
        "c.radius"
      ],
      "metadata": {
        "colab": {
          "base_uri": "https://localhost:8080/"
        },
        "id": "VUnrDYq1o6gq",
        "outputId": "721681ef-be32-423b-91fe-7568f99b34d6"
      },
      "execution_count": 47,
      "outputs": [
        {
          "output_type": "execute_result",
          "data": {
            "text/plain": [
              "5"
            ]
          },
          "metadata": {},
          "execution_count": 47
        }
      ]
    },
    {
      "cell_type": "code",
      "source": [
        "c.radius = 10"
      ],
      "metadata": {
        "id": "XHGiaJ0qo8pi"
      },
      "execution_count": 48,
      "outputs": []
    },
    {
      "cell_type": "code",
      "source": [
        "c.radius"
      ],
      "metadata": {
        "colab": {
          "base_uri": "https://localhost:8080/"
        },
        "id": "4AMYFItWo__D",
        "outputId": "701f55ec-046a-4ad1-d6a4-1427e771d6a8"
      },
      "execution_count": 49,
      "outputs": [
        {
          "output_type": "execute_result",
          "data": {
            "text/plain": [
              "10"
            ]
          },
          "metadata": {},
          "execution_count": 49
        }
      ]
    },
    {
      "cell_type": "code",
      "source": [
        "c.area()"
      ],
      "metadata": {
        "colab": {
          "base_uri": "https://localhost:8080/"
        },
        "id": "FpMI4xYjpB-g",
        "outputId": "13a73d44-9d8b-484f-d958-82c9706a204e"
      },
      "execution_count": 50,
      "outputs": [
        {
          "output_type": "execute_result",
          "data": {
            "text/plain": [
              "314.0"
            ]
          },
          "metadata": {},
          "execution_count": 50
        }
      ]
    },
    {
      "cell_type": "code",
      "source": [
        "class Circle:\n",
        "  def __init__(self, radius):\n",
        "    self.__radius =  radius\n",
        "\n",
        "  @property\n",
        "  def radius(self):\n",
        "    return self.__radius\n",
        "\n",
        "  @radius.setter\n",
        "  def radius(self, radius_new):\n",
        "    # self.__radius = 0 if radius_new <= 0 else radius_new\n",
        "    if radius_new <= 0:\n",
        "      raise ValueError(\"Radius in not positive\")\n",
        "    self.__radius = radius_new\n",
        "\n",
        "  @radius.deleter\n",
        "  def radius(self):\n",
        "    del self.__radius\n",
        "\n",
        "  def area(self):\n",
        "    return 3.14 * self.__radius ** 2"
      ],
      "metadata": {
        "id": "Y7zO9W8YpF6c"
      },
      "execution_count": 51,
      "outputs": []
    },
    {
      "cell_type": "code",
      "source": [
        "c = Circle(6)"
      ],
      "metadata": {
        "id": "kbF13fNIpe5n"
      },
      "execution_count": 52,
      "outputs": []
    },
    {
      "cell_type": "code",
      "source": [
        "c.area()"
      ],
      "metadata": {
        "colab": {
          "base_uri": "https://localhost:8080/"
        },
        "id": "Q_dAdIEbpjmb",
        "outputId": "e0778616-02ba-4e0a-ca62-cd3561d8610d"
      },
      "execution_count": 53,
      "outputs": [
        {
          "output_type": "execute_result",
          "data": {
            "text/plain": [
              "113.04"
            ]
          },
          "metadata": {},
          "execution_count": 53
        }
      ]
    },
    {
      "cell_type": "code",
      "source": [
        "c.radius"
      ],
      "metadata": {
        "colab": {
          "base_uri": "https://localhost:8080/"
        },
        "id": "UcZ2ZcScpmHg",
        "outputId": "5dc44da7-ff0a-4365-db6a-e471b424beb8"
      },
      "execution_count": 54,
      "outputs": [
        {
          "output_type": "execute_result",
          "data": {
            "text/plain": [
              "6"
            ]
          },
          "metadata": {},
          "execution_count": 54
        }
      ]
    },
    {
      "cell_type": "code",
      "source": [
        "del c.radius"
      ],
      "metadata": {
        "id": "F1YmAG9LpoUS"
      },
      "execution_count": 56,
      "outputs": []
    },
    {
      "cell_type": "code",
      "source": [
        "c.radius"
      ],
      "metadata": {
        "colab": {
          "base_uri": "https://localhost:8080/",
          "height": 263
        },
        "id": "Bnncm8UiprgQ",
        "outputId": "4ac90cfd-672c-46dd-9096-3e572ab4e048"
      },
      "execution_count": 57,
      "outputs": [
        {
          "output_type": "error",
          "ename": "AttributeError",
          "evalue": "'Circle' object has no attribute '_Circle__radius'",
          "traceback": [
            "\u001b[0;31m---------------------------------------------------------------------------\u001b[0m",
            "\u001b[0;31mAttributeError\u001b[0m                            Traceback (most recent call last)",
            "\u001b[0;32m<ipython-input-57-a7b3cbad1461>\u001b[0m in \u001b[0;36m<cell line: 0>\u001b[0;34m()\u001b[0m\n\u001b[0;32m----> 1\u001b[0;31m \u001b[0mc\u001b[0m\u001b[0;34m.\u001b[0m\u001b[0mradius\u001b[0m\u001b[0;34m\u001b[0m\u001b[0;34m\u001b[0m\u001b[0m\n\u001b[0m",
            "\u001b[0;32m<ipython-input-51-a3bf7a889ee4>\u001b[0m in \u001b[0;36mradius\u001b[0;34m(self)\u001b[0m\n\u001b[1;32m      5\u001b[0m   \u001b[0;34m@\u001b[0m\u001b[0mproperty\u001b[0m\u001b[0;34m\u001b[0m\u001b[0;34m\u001b[0m\u001b[0m\n\u001b[1;32m      6\u001b[0m   \u001b[0;32mdef\u001b[0m \u001b[0mradius\u001b[0m\u001b[0;34m(\u001b[0m\u001b[0mself\u001b[0m\u001b[0;34m)\u001b[0m\u001b[0;34m:\u001b[0m\u001b[0;34m\u001b[0m\u001b[0;34m\u001b[0m\u001b[0m\n\u001b[0;32m----> 7\u001b[0;31m     \u001b[0;32mreturn\u001b[0m \u001b[0mself\u001b[0m\u001b[0;34m.\u001b[0m\u001b[0m__radius\u001b[0m\u001b[0;34m\u001b[0m\u001b[0;34m\u001b[0m\u001b[0m\n\u001b[0m\u001b[1;32m      8\u001b[0m \u001b[0;34m\u001b[0m\u001b[0m\n\u001b[1;32m      9\u001b[0m   \u001b[0;34m@\u001b[0m\u001b[0mradius\u001b[0m\u001b[0;34m.\u001b[0m\u001b[0msetter\u001b[0m\u001b[0;34m\u001b[0m\u001b[0;34m\u001b[0m\u001b[0m\n",
            "\u001b[0;31mAttributeError\u001b[0m: 'Circle' object has no attribute '_Circle__radius'"
          ]
        }
      ]
    },
    {
      "cell_type": "code",
      "source": [],
      "metadata": {
        "id": "i9QkVKMupzk9"
      },
      "execution_count": null,
      "outputs": []
    }
  ]
}