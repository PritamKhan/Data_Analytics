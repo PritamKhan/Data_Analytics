{
  "cells": [
    {
      "cell_type": "markdown",
      "metadata": {
        "id": "view-in-github",
        "colab_type": "text"
      },
      "source": [
        "<a href=\"https://colab.research.google.com/github/PritamKhan/Data_Analytics/blob/master/oops.ipynb\" target=\"_parent\"><img src=\"https://colab.research.google.com/assets/colab-badge.svg\" alt=\"Open In Colab\"/></a>"
      ]
    },
    {
      "cell_type": "code",
      "execution_count": null,
      "metadata": {
        "colab": {
          "base_uri": "https://localhost:8080/"
        },
        "id": "s2ohw57-OZma",
        "outputId": "4f4393ad-40c1-4109-ddec-0b8b772fd5db"
      },
      "outputs": [
        {
          "data": {
            "text/plain": [
              "5"
            ]
          },
          "execution_count": 1,
          "metadata": {},
          "output_type": "execute_result"
        }
      ],
      "source": [
        "#oops>> object oriented programing system\n",
        "a = 5\n",
        "a"
      ]
    },
    {
      "cell_type": "code",
      "execution_count": null,
      "metadata": {
        "colab": {
          "base_uri": "https://localhost:8080/"
        },
        "id": "CsE7ZgPJPwBK",
        "outputId": "ec5a3b8a-64c2-428e-eff7-3301918c293f"
      },
      "outputs": [
        {
          "data": {
            "text/plain": [
              "int"
            ]
          },
          "execution_count": 2,
          "metadata": {},
          "output_type": "execute_result"
        }
      ],
      "source": [
        "type(a)"
      ]
    },
    {
      "cell_type": "code",
      "execution_count": null,
      "metadata": {
        "colab": {
          "base_uri": "https://localhost:8080/"
        },
        "id": "HtYZtfmVPx3F",
        "outputId": "3ab91336-3c2c-4936-b4f8-69e8cb508dc4"
      },
      "outputs": [
        {
          "name": "stdout",
          "output_type": "stream",
          "text": [
            "<class 'int'>\n"
          ]
        }
      ],
      "source": [
        "print(type(a))"
      ]
    },
    {
      "cell_type": "code",
      "execution_count": null,
      "metadata": {
        "colab": {
          "base_uri": "https://localhost:8080/"
        },
        "id": "207LK4wQP0ng",
        "outputId": "4fe7b12e-7396-436b-c1f2-258dbb77677a"
      },
      "outputs": [
        {
          "name": "stdout",
          "output_type": "stream",
          "text": [
            "<class 'str'>\n"
          ]
        }
      ],
      "source": [
        "n = \"pritam\"\n",
        "print(type(n))"
      ]
    },
    {
      "cell_type": "code",
      "execution_count": null,
      "metadata": {
        "colab": {
          "base_uri": "https://localhost:8080/"
        },
        "id": "ZOFIymj-RRdY",
        "outputId": "c1816958-eada-4149-f6fd-aeadd6549094"
      },
      "outputs": [
        {
          "name": "stdout",
          "output_type": "stream",
          "text": [
            "<class 'str'>\n"
          ]
        }
      ],
      "source": [
        "d = \"python\"\n",
        "print(type(d))"
      ]
    },
    {
      "cell_type": "code",
      "execution_count": null,
      "metadata": {
        "id": "hp0indCbWqlg"
      },
      "outputs": [],
      "source": [
        "#college form(template example), cars example, human being example\n",
        "#classes are blueprint/template for creating an object\n",
        "#we are different objects of class human being\n",
        "#gujiya maker, thekua maker"
      ]
    },
    {
      "cell_type": "code",
      "execution_count": null,
      "metadata": {
        "id": "dCUPCGnpXxP4"
      },
      "outputs": [],
      "source": [
        "#class car is nothing but a template\n",
        "class Car: #naming convention >> UpperCamalCase\n",
        "  pass"
      ]
    },
    {
      "cell_type": "code",
      "execution_count": null,
      "metadata": {
        "id": "AUDAUoIVYKMR"
      },
      "outputs": [],
      "source": [
        "c1 = Car() #instance/coject"
      ]
    },
    {
      "cell_type": "code",
      "execution_count": null,
      "metadata": {
        "colab": {
          "base_uri": "https://localhost:8080/"
        },
        "id": "6ZCHRAGyYf5v",
        "outputId": "01101b64-4b5e-4cdb-f23c-bbe1790f0eb4"
      },
      "outputs": [
        {
          "name": "stdout",
          "output_type": "stream",
          "text": [
            "<class '__main__.Car'>\n"
          ]
        }
      ],
      "source": [
        "print(type(c1))"
      ]
    },
    {
      "cell_type": "code",
      "execution_count": null,
      "metadata": {
        "id": "clsMBKfmYhVN"
      },
      "outputs": [],
      "source": [
        "#why oops? we already had function\n",
        "#a project can have many components, say backend(f1, f2), frontend(f3, f4), data pipeline(f5, f6)\n",
        "\n",
        "# def f1():\n",
        "#   pass\n",
        "\n",
        "# def f6():\n",
        "#   pass\n",
        "\n",
        "# def f4():\n",
        "#   pass\n",
        "\n",
        "# def f2():\n",
        "#   pass\n",
        "\n",
        "# def f3():\n",
        "#   pass\n",
        "\n",
        "# def f5():\n",
        "#   pass\n",
        "\n",
        "#if a backend developer want to work/change some backend function >> all the  functions are at one place\n",
        "#oops helps us to arrange the required function in respective classes\n"
      ]
    },
    {
      "cell_type": "code",
      "execution_count": null,
      "metadata": {
        "id": "-usplMB9aiCG"
      },
      "outputs": [],
      "source": [
        "class Car():\n",
        "  pass"
      ]
    },
    {
      "cell_type": "code",
      "execution_count": null,
      "metadata": {
        "colab": {
          "base_uri": "https://localhost:8080/"
        },
        "id": "PVkycC6ranXc",
        "outputId": "eeccaf1b-23ef-41db-8b9b-d2e0d9e9ce7b"
      },
      "outputs": [
        {
          "name": "stdout",
          "output_type": "stream",
          "text": [
            "<class '__main__.Car'>\n"
          ]
        }
      ],
      "source": [
        "c1 = Car()\n",
        "print(type(c1))"
      ]
    },
    {
      "cell_type": "code",
      "execution_count": null,
      "metadata": {
        "id": "FJA9W6O_arLH"
      },
      "outputs": [],
      "source": [
        "class Car(): #function/method of a car\n",
        "  def accelerate():\n",
        "    print(\"car is accelerating\")\n",
        "  def apply_brakes():\n",
        "    print(\"car is applying brakes\")"
      ]
    },
    {
      "cell_type": "code",
      "execution_count": null,
      "metadata": {
        "id": "tUYAXin0ctNt"
      },
      "outputs": [],
      "source": [
        "c1 = Car()"
      ]
    },
    {
      "cell_type": "code",
      "execution_count": null,
      "metadata": {
        "colab": {
          "base_uri": "https://localhost:8080/",
          "height": 141
        },
        "id": "X_EkJ88lcxkN",
        "outputId": "4cf351e1-0e0c-4027-97f3-f8778ac104d0"
      },
      "outputs": [
        {
          "ename": "TypeError",
          "evalue": "Car.accelerate() takes 0 positional arguments but 1 was given",
          "output_type": "error",
          "traceback": [
            "\u001b[0;31m---------------------------------------------------------------------------\u001b[0m",
            "\u001b[0;31mTypeError\u001b[0m                                 Traceback (most recent call last)",
            "\u001b[0;32m<ipython-input-17-87d03cb7e65a>\u001b[0m in \u001b[0;36m<cell line: 0>\u001b[0;34m()\u001b[0m\n\u001b[0;32m----> 1\u001b[0;31m \u001b[0mc1\u001b[0m\u001b[0;34m.\u001b[0m\u001b[0maccelerate\u001b[0m\u001b[0;34m(\u001b[0m\u001b[0;34m)\u001b[0m \u001b[0;31m#it will throw an error\u001b[0m\u001b[0;34m\u001b[0m\u001b[0;34m\u001b[0m\u001b[0m\n\u001b[0m",
            "\u001b[0;31mTypeError\u001b[0m: Car.accelerate() takes 0 positional arguments but 1 was given"
          ]
        }
      ],
      "source": [
        "c1.accelerate() #it will throw an error"
      ]
    },
    {
      "cell_type": "code",
      "execution_count": null,
      "metadata": {
        "id": "25W_h9SJdXSG"
      },
      "outputs": [],
      "source": [
        "class Car(): #function/method of a car\n",
        "  def accelerate(self):\n",
        "    print(\"car is accelerating\")\n",
        "  def brake(self):\n",
        "    print(\"car is stopping\")\n",
        "#self >> a varaiable that represent instance of the class using ehich you can acess method/function, also attribute/property/data of the class\n",
        "#self make sure that each object knows that the method is associated with it\n",
        "#in other words the method is referenced to that particular object\n",
        "#self is not a python keyword, we can pass any varaiable name\n",
        "#best practice is to write self"
      ]
    },
    {
      "cell_type": "code",
      "execution_count": null,
      "metadata": {
        "colab": {
          "base_uri": "https://localhost:8080/"
        },
        "id": "ru9hbIZ6evJq",
        "outputId": "0a978f70-8fbf-496a-98ad-ccb3871ca9f1"
      },
      "outputs": [
        {
          "name": "stdout",
          "output_type": "stream",
          "text": [
            "car is accelerating\n"
          ]
        }
      ],
      "source": [
        "c1 = Car()\n",
        "c1.accelerate()"
      ]
    },
    {
      "cell_type": "code",
      "execution_count": null,
      "metadata": {
        "colab": {
          "base_uri": "https://localhost:8080/"
        },
        "id": "Hy1GyNkhezYk",
        "outputId": "3ce85c55-b2cc-443d-fcf8-b658f86471c5"
      },
      "outputs": [
        {
          "name": "stdout",
          "output_type": "stream",
          "text": [
            "car is stopping\n"
          ]
        }
      ],
      "source": [
        "c2 = Car()\n",
        "c2.brake()"
      ]
    },
    {
      "cell_type": "code",
      "execution_count": null,
      "metadata": {
        "colab": {
          "base_uri": "https://localhost:8080/"
        },
        "id": "qSqDLgprfBPk",
        "outputId": "b4365704-1b69-4d7b-8ca8-347f9039a9d0"
      },
      "outputs": [
        {
          "name": "stdout",
          "output_type": "stream",
          "text": [
            "car is accelerating\n",
            "car is stopping\n"
          ]
        }
      ],
      "source": [
        "c3 = Car()\n",
        "c3.accelerate()\n",
        "c3.brake()"
      ]
    },
    {
      "cell_type": "code",
      "execution_count": null,
      "metadata": {
        "id": "gU_rFlTffEex"
      },
      "outputs": [],
      "source": [
        "class Bank:\n",
        "  def deposit(self):\n",
        "    print(\"I am depositing the money\")\n",
        "  def withdraw(self):\n",
        "    print(\"I am trying to withdraw money\")"
      ]
    },
    {
      "cell_type": "code",
      "execution_count": null,
      "metadata": {
        "colab": {
          "base_uri": "https://localhost:8080/"
        },
        "id": "diQJPa-ETCOD",
        "outputId": "a5e6ad8a-ae20-439d-e75f-a5a51d4fb983"
      },
      "outputs": [
        {
          "name": "stdout",
          "output_type": "stream",
          "text": [
            "I am depositing the money\n"
          ]
        }
      ],
      "source": [
        "c1 = Bank()\n",
        "c1.deposit()"
      ]
    },
    {
      "cell_type": "code",
      "execution_count": null,
      "metadata": {
        "colab": {
          "base_uri": "https://localhost:8080/"
        },
        "id": "IOC3e_xDTKGT",
        "outputId": "d3d68daa-9a16-4b1a-a1d4-d5402a93886a"
      },
      "outputs": [
        {
          "name": "stdout",
          "output_type": "stream",
          "text": [
            "I am trying to withdraw money\n"
          ]
        }
      ],
      "source": [
        "c1.withdraw()"
      ]
    },
    {
      "cell_type": "code",
      "execution_count": null,
      "metadata": {
        "colab": {
          "base_uri": "https://localhost:8080/"
        },
        "id": "wrp8hIVsUHJx",
        "outputId": "ac24a0ec-6453-4e7b-d0a0-197c4e0856a2"
      },
      "outputs": [
        {
          "name": "stdout",
          "output_type": "stream",
          "text": [
            "I am depositing the money\n"
          ]
        }
      ],
      "source": [
        "c2 = Bank()\n",
        "c2.deposit()"
      ]
    },
    {
      "cell_type": "code",
      "execution_count": null,
      "metadata": {
        "id": "fbPh5cIxUPNE"
      },
      "outputs": [],
      "source": [
        "#passing data in the class >> can also be called as property/attribute\n",
        "class Bank:\n",
        "  def deposit(self, amount):\n",
        "    print(\"I am depositing the money\")\n",
        "  def withdraw(self, amount_withdraw):\n",
        "    print(\"I am trying to withdraw money\")"
      ]
    },
    {
      "cell_type": "code",
      "execution_count": null,
      "metadata": {
        "colab": {
          "base_uri": "https://localhost:8080/",
          "height": 159
        },
        "id": "W7JWV4LlUzOu",
        "outputId": "4f643a92-41d0-4f44-e66c-e757f3d5b9b1"
      },
      "outputs": [
        {
          "ename": "TypeError",
          "evalue": "Bank.deposit() missing 1 required positional argument: 'amount'",
          "output_type": "error",
          "traceback": [
            "\u001b[0;31m---------------------------------------------------------------------------\u001b[0m",
            "\u001b[0;31mTypeError\u001b[0m                                 Traceback (most recent call last)",
            "\u001b[0;32m<ipython-input-23-ce7216051054>\u001b[0m in \u001b[0;36m<cell line: 0>\u001b[0;34m()\u001b[0m\n\u001b[1;32m      1\u001b[0m \u001b[0mpritam\u001b[0m \u001b[0;34m=\u001b[0m \u001b[0mBank\u001b[0m\u001b[0;34m(\u001b[0m\u001b[0;34m)\u001b[0m\u001b[0;34m\u001b[0m\u001b[0;34m\u001b[0m\u001b[0m\n\u001b[0;32m----> 2\u001b[0;31m \u001b[0mpritam\u001b[0m\u001b[0;34m.\u001b[0m\u001b[0mdeposit\u001b[0m\u001b[0;34m(\u001b[0m\u001b[0;34m)\u001b[0m \u001b[0;31m#thrown an error\u001b[0m\u001b[0;34m\u001b[0m\u001b[0;34m\u001b[0m\u001b[0m\n\u001b[0m",
            "\u001b[0;31mTypeError\u001b[0m: Bank.deposit() missing 1 required positional argument: 'amount'"
          ]
        }
      ],
      "source": [
        "pritam = Bank()\n",
        "pritam.deposit() #thrown an error"
      ]
    },
    {
      "cell_type": "code",
      "execution_count": null,
      "metadata": {
        "colab": {
          "base_uri": "https://localhost:8080/"
        },
        "id": "mZMHP7AAVBcy",
        "outputId": "bc860428-7fa6-43a7-a692-75b90fcb421c"
      },
      "outputs": [
        {
          "name": "stdout",
          "output_type": "stream",
          "text": [
            "I am depositing the money\n"
          ]
        }
      ],
      "source": [
        "pritam.deposit(1000)"
      ]
    },
    {
      "cell_type": "code",
      "execution_count": null,
      "metadata": {
        "colab": {
          "base_uri": "https://localhost:8080/"
        },
        "id": "c0zsrANPVF1x",
        "outputId": "b248adce-e98c-492d-abbd-441a721be275"
      },
      "outputs": [
        {
          "name": "stdout",
          "output_type": "stream",
          "text": [
            "I am trying to withdraw money\n"
          ]
        }
      ],
      "source": [
        "pritam.withdraw(500)"
      ]
    },
    {
      "cell_type": "code",
      "execution_count": null,
      "metadata": {
        "id": "7t_J8KVjVMmq"
      },
      "outputs": [],
      "source": [
        "#bank will ask for a default amount,amount is attribute/property/data of class bank\n",
        "class Bank:\n",
        "  amount = 1000\n",
        "  def deposit(self, amount):\n",
        "    print(\"I am depositing the money\")\n",
        "  def withdraw(self, amount_withdraw):\n",
        "    print(\"I am trying to withdraw money\")"
      ]
    },
    {
      "cell_type": "code",
      "execution_count": null,
      "metadata": {
        "colab": {
          "base_uri": "https://localhost:8080/"
        },
        "id": "BoUTFUv3Vifh",
        "outputId": "87fa7000-c711-46f3-dddc-156e151bad2f"
      },
      "outputs": [
        {
          "name": "stdout",
          "output_type": "stream",
          "text": [
            "I am depositing the money\n"
          ]
        }
      ],
      "source": [
        "pritam = Bank()\n",
        "pritam.deposit(1000)"
      ]
    },
    {
      "cell_type": "code",
      "execution_count": null,
      "metadata": {
        "colab": {
          "base_uri": "https://localhost:8080/"
        },
        "id": "y7xvJwX8VqXm",
        "outputId": "8b8a7b88-8540-49fd-8094-a43b20e1195d"
      },
      "outputs": [
        {
          "data": {
            "text/plain": [
              "1000"
            ]
          },
          "execution_count": 29,
          "metadata": {},
          "output_type": "execute_result"
        }
      ],
      "source": [
        "#attributes/property can be also acessed the same way as method/function are accessed\n",
        "pritam.amount"
      ]
    },
    {
      "cell_type": "code",
      "execution_count": null,
      "metadata": {
        "id": "XDUAyBWuWHsB"
      },
      "outputs": [],
      "source": [
        "#extract odd and even nos from a given list\n",
        "\n",
        "class ListOps:\n",
        "  l = [1, 2, 3, 4, 5]\n",
        "  def extract_even(self, l):\n",
        "    l1 = []\n",
        "    for i in l:\n",
        "      if i % 2 == 0:\n",
        "        l1.append(i)\n",
        "    return l1\n",
        "  def extract_odd(self, l):\n",
        "    l1 = []\n",
        "    for i in l:\n",
        "      if i % 2 != 0:\n",
        "        l1.append(i)\n",
        "    return l1"
      ]
    },
    {
      "cell_type": "code",
      "execution_count": null,
      "metadata": {
        "id": "_46XH502XPgh"
      },
      "outputs": [],
      "source": [
        "ops1 = ListOps()"
      ]
    },
    {
      "cell_type": "code",
      "execution_count": null,
      "metadata": {
        "colab": {
          "base_uri": "https://localhost:8080/"
        },
        "id": "XRHNvzvmXaLv",
        "outputId": "a8836f44-8282-457c-f79e-70d7da4cdadc"
      },
      "outputs": [
        {
          "data": {
            "text/plain": [
              "[1, 2, 3, 4, 5]"
            ]
          },
          "execution_count": 32,
          "metadata": {},
          "output_type": "execute_result"
        }
      ],
      "source": [
        "ops1.l"
      ]
    },
    {
      "cell_type": "code",
      "execution_count": null,
      "metadata": {
        "colab": {
          "base_uri": "https://localhost:8080/"
        },
        "id": "BAzwrjacXflT",
        "outputId": "ec8e15e5-cfae-4b74-8f7c-3e18223376b1"
      },
      "outputs": [
        {
          "data": {
            "text/plain": [
              "[2, 4]"
            ]
          },
          "execution_count": 33,
          "metadata": {},
          "output_type": "execute_result"
        }
      ],
      "source": [
        "ops1.extract_even(ops1.l)"
      ]
    },
    {
      "cell_type": "code",
      "execution_count": null,
      "metadata": {
        "colab": {
          "base_uri": "https://localhost:8080/"
        },
        "id": "Qjbrv7SLXsw8",
        "outputId": "038e8339-b18a-4501-d6c4-aaf3ea01b557"
      },
      "outputs": [
        {
          "data": {
            "text/plain": [
              "[1, 3, 5]"
            ]
          },
          "execution_count": 34,
          "metadata": {},
          "output_type": "execute_result"
        }
      ],
      "source": [
        "ops1.extract_odd(ops1.l)"
      ]
    },
    {
      "cell_type": "code",
      "execution_count": null,
      "metadata": {
        "colab": {
          "base_uri": "https://localhost:8080/"
        },
        "id": "Dti7M_uXXzFK",
        "outputId": "f461a469-560a-41ff-a0a8-c7383ccafa0a"
      },
      "outputs": [
        {
          "data": {
            "text/plain": [
              "[11]"
            ]
          },
          "execution_count": 36,
          "metadata": {},
          "output_type": "execute_result"
        }
      ],
      "source": [
        "ops1.extract_odd([8, 11, 12, 14])"
      ]
    },
    {
      "cell_type": "code",
      "execution_count": null,
      "metadata": {
        "colab": {
          "base_uri": "https://localhost:8080/"
        },
        "id": "RFzcRtJoYJkY",
        "outputId": "084c59a0-310f-45de-deac-6f37be807e96"
      },
      "outputs": [
        {
          "data": {
            "text/plain": [
              "[1, 2, 3, 4, 5]"
            ]
          },
          "execution_count": 38,
          "metadata": {},
          "output_type": "execute_result"
        }
      ],
      "source": [
        "#if we make any object the attribute l is fixed\n",
        "#inspite of passing a different list above we are still getting the fixed  l([1, 2 , 3, 4, 5])\n",
        "ops1.l"
      ]
    },
    {
      "cell_type": "code",
      "execution_count": 57,
      "metadata": {
        "id": "6AYf5q_bYfQT"
      },
      "outputs": [],
      "source": [
        "#we want to take the attribute value of the calss for each object differently"
      ]
    },
    {
      "cell_type": "code",
      "execution_count": 59,
      "metadata": {
        "id": "VhNx6b3iZEcU"
      },
      "outputs": [],
      "source": [
        "#extract odd and even nos from a given list\n",
        "class ListOps:\n",
        "  def __init__(self, l):\n",
        "    self.l = l\n",
        "  def extract_even(self, l):\n",
        "    l1 = []\n",
        "    for i in l:\n",
        "      if i % 2 == 0:\n",
        "        l1.append(i)\n",
        "    return l1\n",
        "  def extract_odd(self, l):\n",
        "    l1 = []\n",
        "    for i in l:\n",
        "      if i % 2 != 0:\n",
        "        l1.append(i)\n",
        "    return l1"
      ]
    },
    {
      "cell_type": "code",
      "source": [
        "ops1 = ListOps() #throw an error, while making object/instance of the class, the first method that is executed is __init__\n",
        "#and init needs an arguement"
      ],
      "metadata": {
        "colab": {
          "base_uri": "https://localhost:8080/",
          "height": 176
        },
        "id": "2haEZKD2eP2_",
        "outputId": "675ce142-832e-4b98-af11-b26655f2d889"
      },
      "execution_count": 60,
      "outputs": [
        {
          "output_type": "error",
          "ename": "TypeError",
          "evalue": "ListOps.__init__() missing 1 required positional argument: 'l'",
          "traceback": [
            "\u001b[0;31m---------------------------------------------------------------------------\u001b[0m",
            "\u001b[0;31mTypeError\u001b[0m                                 Traceback (most recent call last)",
            "\u001b[0;32m<ipython-input-60-bf641733670b>\u001b[0m in \u001b[0;36m<cell line: 0>\u001b[0;34m()\u001b[0m\n\u001b[0;32m----> 1\u001b[0;31m \u001b[0mops1\u001b[0m \u001b[0;34m=\u001b[0m \u001b[0mListOps\u001b[0m\u001b[0;34m(\u001b[0m\u001b[0;34m)\u001b[0m \u001b[0;31m#throw an error, while making object/instance of the class, the first method that is executed is __init__\u001b[0m\u001b[0;34m\u001b[0m\u001b[0;34m\u001b[0m\u001b[0m\n\u001b[0m\u001b[1;32m      2\u001b[0m \u001b[0;31m#and init needs an arguement\u001b[0m\u001b[0;34m\u001b[0m\u001b[0;34m\u001b[0m\u001b[0m\n",
            "\u001b[0;31mTypeError\u001b[0m: ListOps.__init__() missing 1 required positional argument: 'l'"
          ]
        }
      ]
    },
    {
      "cell_type": "code",
      "source": [
        "ops1 = ListOps([1,10 ,30, 31, 4, 5])"
      ],
      "metadata": {
        "id": "HZPw9Bh_euzX"
      },
      "execution_count": 61,
      "outputs": []
    },
    {
      "cell_type": "code",
      "source": [
        "ops1.l"
      ],
      "metadata": {
        "colab": {
          "base_uri": "https://localhost:8080/"
        },
        "id": "Pmbzy3qweydA",
        "outputId": "97a759f3-e3c0-4fef-9880-70be77344687"
      },
      "execution_count": 62,
      "outputs": [
        {
          "output_type": "execute_result",
          "data": {
            "text/plain": [
              "[1, 10, 30, 31, 4, 5]"
            ]
          },
          "metadata": {},
          "execution_count": 62
        }
      ]
    },
    {
      "cell_type": "code",
      "source": [
        "ops1.extract_even() #throw an error. see the explanation below"
      ],
      "metadata": {
        "colab": {
          "base_uri": "https://localhost:8080/",
          "height": 141
        },
        "id": "cYj2qWJye0eH",
        "outputId": "0d963473-0e54-4d11-db00-e4e79485acf9"
      },
      "execution_count": 63,
      "outputs": [
        {
          "output_type": "error",
          "ename": "TypeError",
          "evalue": "ListOps.extract_even() missing 1 required positional argument: 'l'",
          "traceback": [
            "\u001b[0;31m---------------------------------------------------------------------------\u001b[0m",
            "\u001b[0;31mTypeError\u001b[0m                                 Traceback (most recent call last)",
            "\u001b[0;32m<ipython-input-63-ef8708024d2e>\u001b[0m in \u001b[0;36m<cell line: 0>\u001b[0;34m()\u001b[0m\n\u001b[0;32m----> 1\u001b[0;31m \u001b[0mops1\u001b[0m\u001b[0;34m.\u001b[0m\u001b[0mextract_even\u001b[0m\u001b[0;34m(\u001b[0m\u001b[0;34m)\u001b[0m \u001b[0;31m#throw an error. see the explanation below\u001b[0m\u001b[0;34m\u001b[0m\u001b[0;34m\u001b[0m\u001b[0m\n\u001b[0m",
            "\u001b[0;31mTypeError\u001b[0m: ListOps.extract_even() missing 1 required positional argument: 'l'"
          ]
        }
      ]
    },
    {
      "cell_type": "code",
      "source": [
        "#extract odd and even nos from a list\n",
        "\n",
        "class ListOps:\n",
        "    def __init__(self, l): #magic method/dunder method. init means initialisation>>of variable\n",
        "        self.l = l\n",
        "\n",
        "    def extract_even(self): #be careful as init has been used only pass self in the method and not the variable again\n",
        "        l = self.l\n",
        "        l1 = []\n",
        "        for i in l:\n",
        "            if i%2 == 0:\n",
        "                l1.append(i)\n",
        "        return l1\n",
        "\n",
        "    def extract_odd(self):\n",
        "        l = self.l\n",
        "        l1 = []\n",
        "        for i in l:\n",
        "            if i%2 != 0:\n",
        "                l1.append(i)\n",
        "        return l1"
      ],
      "metadata": {
        "id": "O-gdP2oAe3cD"
      },
      "execution_count": 64,
      "outputs": []
    },
    {
      "cell_type": "code",
      "source": [
        "ops1 = ListOps([1, 8, 9, 11, 12])\n",
        "ops1.extract_odd()"
      ],
      "metadata": {
        "colab": {
          "base_uri": "https://localhost:8080/"
        },
        "id": "puVfFmKRe7mv",
        "outputId": "d76d7da5-7391-4433-8de1-a5bb86b2e3a1"
      },
      "execution_count": 65,
      "outputs": [
        {
          "output_type": "execute_result",
          "data": {
            "text/plain": [
              "[1, 9, 11]"
            ]
          },
          "metadata": {},
          "execution_count": 65
        }
      ]
    },
    {
      "cell_type": "code",
      "source": [
        "ops1.extract_even()"
      ],
      "metadata": {
        "colab": {
          "base_uri": "https://localhost:8080/"
        },
        "id": "LNlGKP9ie_Ad",
        "outputId": "9b5d27bb-79d9-418b-afa7-6cbbf237264b"
      },
      "execution_count": 66,
      "outputs": [
        {
          "output_type": "execute_result",
          "data": {
            "text/plain": [
              "[8, 12]"
            ]
          },
          "metadata": {},
          "execution_count": 66
        }
      ]
    },
    {
      "cell_type": "code",
      "source": [
        "#extract odd and even nos from a list\n",
        "\n",
        "class ListOps:\n",
        "    def __init__(self, l): #magic method/dunder method. init means initialisation>>of variable\n",
        "        self.l2 = l #everwhere we will be able to access l using self.l2\n",
        "\n",
        "    def extract_even(self): #be careful as init has been used only pass self in the method and not the variable again\n",
        "        l = self.l2\n",
        "        l1 = []\n",
        "        for i in l:\n",
        "            if i%2 == 0:\n",
        "                l1.append(i)\n",
        "        return l1\n",
        "\n",
        "    def extract_odd(self):\n",
        "        l = self.l2\n",
        "        l1 = []\n",
        "        for i in l:\n",
        "            if i%2 != 0:\n",
        "                l1.append(i)\n",
        "        return l1"
      ],
      "metadata": {
        "id": "MgmBiKUifDld"
      },
      "execution_count": 73,
      "outputs": []
    },
    {
      "cell_type": "code",
      "source": [
        "ops1 = ListOps([1, 8, 9, 11, 12])\n",
        "ops1.extract_odd()"
      ],
      "metadata": {
        "colab": {
          "base_uri": "https://localhost:8080/"
        },
        "id": "3bH7t4Hqhj9y",
        "outputId": "4218ac1b-9246-4122-e31d-ac29a768b44e"
      },
      "execution_count": 74,
      "outputs": [
        {
          "output_type": "execute_result",
          "data": {
            "text/plain": [
              "[1, 9, 11]"
            ]
          },
          "metadata": {},
          "execution_count": 74
        }
      ]
    },
    {
      "cell_type": "code",
      "source": [
        "#to pass dynamiccvariable/data"
      ],
      "metadata": {
        "id": "VlElCHDFldiw"
      },
      "execution_count": null,
      "outputs": []
    },
    {
      "cell_type": "code",
      "source": [
        "#multiple attributes\n",
        "#in a libary a book is associated with author, title, name\n",
        "class Book:\n",
        "  def __init__(self, name, author, title):\n",
        "    self.name_of_book = name\n",
        "    self.book_author = author\n",
        "    self.title_name = title\n",
        "\n",
        "  def extract_details_name_title(self):\n",
        "    print(self.name_of_book, self.title_name)\n",
        "\n",
        "  def extract_details_name_author(self):\n",
        "    print(self.name_of_book, self.book_author)"
      ],
      "metadata": {
        "id": "JHekRCZmhmkw"
      },
      "execution_count": 80,
      "outputs": []
    },
    {
      "cell_type": "code",
      "source": [
        "student1 = Book(\"ML\", \"Murphy\", \"Linear regression\")"
      ],
      "metadata": {
        "id": "39RWlshNjb8J"
      },
      "execution_count": 81,
      "outputs": []
    },
    {
      "cell_type": "code",
      "source": [
        "student1.extract_details_name_author()"
      ],
      "metadata": {
        "colab": {
          "base_uri": "https://localhost:8080/"
        },
        "id": "F6efH40pjrc_",
        "outputId": "d90615f9-149e-48c4-be02-87406e13bc54"
      },
      "execution_count": 82,
      "outputs": [
        {
          "output_type": "stream",
          "name": "stdout",
          "text": [
            "ML Murphy\n"
          ]
        }
      ]
    },
    {
      "cell_type": "code",
      "source": [
        "student1.extract_details_name_title()"
      ],
      "metadata": {
        "colab": {
          "base_uri": "https://localhost:8080/"
        },
        "id": "fK2iimxjjwvR",
        "outputId": "33007c58-637e-4ae4-c211-9884722ffc68"
      },
      "execution_count": 83,
      "outputs": [
        {
          "output_type": "stream",
          "name": "stdout",
          "text": [
            "ML Linear regression\n"
          ]
        }
      ]
    },
    {
      "cell_type": "code",
      "source": [
        "student2 = Book(\"Stats\", \"Joss\", \"Descriptive Stats\")"
      ],
      "metadata": {
        "id": "GVx2ivjIkA1r"
      },
      "execution_count": 85,
      "outputs": []
    },
    {
      "cell_type": "code",
      "source": [
        "student2.extract_details_name_author()"
      ],
      "metadata": {
        "colab": {
          "base_uri": "https://localhost:8080/"
        },
        "id": "_IHBos-nkUyB",
        "outputId": "9edd35a2-0d48-40e8-fe95-2ceb9ba42f19"
      },
      "execution_count": 86,
      "outputs": [
        {
          "output_type": "stream",
          "name": "stdout",
          "text": [
            "Stats Joss\n"
          ]
        }
      ]
    },
    {
      "cell_type": "code",
      "source": [
        "#multiple attributes\n",
        "#in a libary a book is associated with author, title, name\n",
        "#every variable is fix\n",
        "class Book:\n",
        "  def __init__(self):\n",
        "    self.name_of_book = \"DSA\"\n",
        "    self.book_author = \"Cormen\"\n",
        "    self.title_name = \"Stacks\"\n",
        "\n",
        "  def extract_details_name_title(self):\n",
        "    print(self.name_of_book, self.title_name)\n",
        "\n",
        "  def extract_details_name_author(self):\n",
        "    print(self.name_of_book, self.book_author)"
      ],
      "metadata": {
        "id": "k0sz3XClkdO7"
      },
      "execution_count": 87,
      "outputs": []
    },
    {
      "cell_type": "code",
      "source": [
        "student1 = Book()"
      ],
      "metadata": {
        "id": "vkLuL0kak7qZ"
      },
      "execution_count": 88,
      "outputs": []
    },
    {
      "cell_type": "code",
      "source": [
        "student1.extract_details_name_author()"
      ],
      "metadata": {
        "colab": {
          "base_uri": "https://localhost:8080/"
        },
        "id": "97m5uaKclBy6",
        "outputId": "633fe7d2-a877-47e5-e486-23bdebc4dbcf"
      },
      "execution_count": 89,
      "outputs": [
        {
          "output_type": "stream",
          "name": "stdout",
          "text": [
            "DSA Cormen\n"
          ]
        }
      ]
    },
    {
      "cell_type": "code",
      "source": [
        "student2 = Book()"
      ],
      "metadata": {
        "id": "AMJuJp_WlGqk"
      },
      "execution_count": 90,
      "outputs": []
    },
    {
      "cell_type": "code",
      "source": [
        "student2.extract_details_name_author()"
      ],
      "metadata": {
        "colab": {
          "base_uri": "https://localhost:8080/"
        },
        "id": "3_wLjp9PlQyp",
        "outputId": "f84b6f7a-2f1c-4b14-d165-c0bca4f85942"
      },
      "execution_count": 91,
      "outputs": [
        {
          "output_type": "stream",
          "name": "stdout",
          "text": [
            "DSA Cormen\n"
          ]
        }
      ]
    },
    {
      "cell_type": "code",
      "source": [],
      "metadata": {
        "id": "jF0l-qvjlSW9"
      },
      "execution_count": null,
      "outputs": []
    }
  ],
  "metadata": {
    "colab": {
      "provenance": [],
      "authorship_tag": "ABX9TyNjzkPwPlWanNRWcG6mMrzw",
      "include_colab_link": true
    },
    "kernelspec": {
      "display_name": "Python 3",
      "name": "python3"
    },
    "language_info": {
      "name": "python"
    }
  },
  "nbformat": 4,
  "nbformat_minor": 0
}