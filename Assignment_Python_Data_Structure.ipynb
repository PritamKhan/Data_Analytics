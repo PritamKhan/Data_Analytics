{
  "nbformat": 4,
  "nbformat_minor": 0,
  "metadata": {
    "colab": {
      "provenance": [],
      "authorship_tag": "ABX9TyPSMy9nsDkZFlnJ0QXAn6z0",
      "include_colab_link": true
    },
    "kernelspec": {
      "name": "python3",
      "display_name": "Python 3"
    },
    "language_info": {
      "name": "python"
    }
  },
  "cells": [
    {
      "cell_type": "markdown",
      "metadata": {
        "id": "view-in-github",
        "colab_type": "text"
      },
      "source": [
        "<a href=\"https://colab.research.google.com/github/PritamKhan/Data_Analytics/blob/master/Assignment_Python_Data_Structure.ipynb\" target=\"_parent\"><img src=\"https://colab.research.google.com/assets/colab-badge.svg\" alt=\"Open In Colab\"/></a>"
      ]
    },
    {
      "cell_type": "markdown",
      "source": [
        "#Data Types and Structures Questions\n"
      ],
      "metadata": {
        "id": "QA6UUOnNJLlb"
      }
    },
    {
      "cell_type": "markdown",
      "source": [
        "1.What are data structures, and why are they important?\n",
        "\n",
        "-> Data structures in python are ways of organizing, storing, and managing data efficiently to enable easy access and modification.\n",
        "Types of data structures in python are:\n",
        "i. list[]\n",
        "ii. Tupel()\n",
        "iii. set{}\n",
        "iv. frozenset([])\n",
        "v. dictionary{\"keys\":\"value\"}\n",
        "Importance are as follows:\n",
        ">Improve efficiency of time and storage complexity.\n",
        ">Structure and manage large amounts of data in organizesed manner.\n",
        ">Impove code and data reusability and scalability.\n",
        "\n",
        "2.Explain the difference between mutable and immutable data types with examples.\n",
        "\n",
        "-> Mutable data types in which data maupulation is possible function like data adding new data, updating data, delete data. Modification of data is allowed.\n",
        "Example: list, set, dictionary\n",
        "Immutable data types is which data mapulation is not possible. No modification of data is allowed.\n",
        "Example: tuple\n",
        "\n",
        "3.What are the main differences between lists and tuples in Python?\n",
        "\n",
        "->Lists: It is a ordered data structure. Main difference is it is a mutable data type, data modification is allowed. It store heterogenous data.\n",
        "Example: new_list = [ 1, 2, 6, 9.5, True, \"pritam\"]\n",
        "Tuples: It is a ordered data structure. Main difference is it is a immutable data type, data modification is not allowed.It store heterogenous data.\n",
        "Example: new_tuple = ( 1, 4, 5, 7.2, True, \"pritam\")\n",
        "\n",
        "4.Describe how dictionaries store data.\n",
        "\n",
        "->Dictionaries store data with a \"key\" idendifying it's \"value\". Keys are use acess the data.\n",
        "Example: new_dic = {\"name\":\"Pritam\", \"email\":\"pk@gmail.com\", \"contact\": 6549870321}\n",
        "\n",
        "5.Why might you use a set instead of a list in Python?\n",
        "\n",
        "->Set data structure are unique collection of element doesn't allow duplicarte element. So we used set instesd of a list in python.\n",
        "Example:  \n",
        "input> new_set = {\"pritam\", 1, 2, 3, 2, 3, 2.1, 3, True, \"pritam\"}\n",
        "       print(new_set)\n",
        "output> {1, 2, 2.1, 3, 'pritam'}\n",
        "\n",
        "6.What is a string in Python, and how is it different from a list?\n",
        "\n",
        "->A string in Python is a sequence of characters enclosed in quotes. Example: \"hello\", 'pritam'. It is immutable, meaning it cannot be changed after onece created.\n",
        "A list [1, 2, 3] is a collection of items numbers, strings, etc.and is mutable, meaning elements can be modified. Example: new_list = [ 1, 2, 6, 9.5, True, \"pritam\"]\n",
        "\n",
        "7. How do tuples ensure data integrity in Python?\n",
        "\n",
        "->Tuples ensure data integrity in python because they are immutable data structure, meaning their values cannot be changed after created. Their hashability also allows them to be used as dictionary keys and set elements.\n",
        "\n",
        "8.What is a hash table, and how does it relate to dictionaries in Python?\n",
        "\n",
        "->A hash table is a data structure that stores key-value pairs and uses a hash function to quickly locate/access values.\n",
        "In Python, dictionaries are built using hash tables, allowing fast data retrieval, insertion, and deletion  by mapping keys to values efficiently.\n",
        "\n",
        "9. Can lists contain different data types in Python?\n",
        "\n",
        "->Yes, lists in Python can contain different data types. A single list can store integers, floats, strings, booleans, other lists, or even objects.\n",
        "Example: my_list = [10, \"hello\", 3.14, True, [1, 2, 3]]\n",
        "\n",
        "10.Explain why strings are immutable in Python.\n",
        "\n",
        "->Strings in Python are immutable, meaning they cannot be changed after created, because prevents unintended modifications, making strings safer for keys e.g.: keys in dictionaries. Improving performance and memory usage.\n",
        "\n",
        "11. What advantages do dictionaries offer over lists for certain tasks?\n",
        "\n",
        "->Dictionaries offer several advantages over lists for certain tasks:\n",
        "i.Key-Value Mapping: Unlike lists, dictionaries store data in key-value pairs, making data retrieval more intuitive.\n",
        "ii. Efficient Updates: Adding, updating, or deleting items is faster in dictionaries than in lists.\n",
        "iii. Uniqueness: Keys are unique, preventing duplicate entries.\n",
        "\n",
        "12. Describe a scenario where using a tuple would be preferable over a list.\n",
        "\n",
        "->A tuple is preferable over a list when we need fixed, unchangeable, immutable data. Example: contact number, roll no., etc.\n",
        "\n",
        "13.How do sets handle duplicate values in Python?\n",
        "\n",
        "->In Python, sets automatically remove duplicate values because they store only unique elements. Example: my_set = {1, 2, 2, 3, 4, 4}\n",
        "print(my_set)  # Output: {1, 2, 3, 4} . When adding elements, python checks for duplicates and keeps only one occurrence of each.\n",
        "\n",
        "14.How does the “in” keyword work differently for lists and dictionaries?\n",
        "\n",
        "->The in keyword checks for membership but works differently for lists and dictionaries:\n",
        "Lists: Searches for a value.\n",
        "Example:my_list = [1, 2, 3]\n",
        "print(2 in my_list)  # True\n",
        "Dictionaries: Checks for a key.\n",
        "Example: my_dict = {\"a\": 1, \"b\": 2}\n",
        "print(\"a\" in my_dict)  # True\n",
        "\n",
        "\n",
        "15.Can you modify the elements of a tuple? Explain why or why not?\n",
        "\n",
        "->No, you cannot modify the elements of a tuple because tuples are immutable in python. because once a tuple is created, its elements cannot be changed, added, or removed. This ensures data integrity and security in programs.\n",
        "Example: my_tuple = (1, 2, 3)\n",
        "my_tuple[0] = 10  # TypeError: 'tuple' object does not support item assignment\n",
        "\n",
        "16.What is a nested dictionary, and give an example of its use case?\n",
        "\n",
        "->A nested dictionary is a dictionary inside another dictionary. It is used to store complex data structures where each key maps to another dictionary.\n",
        "Example: restaurant_menu = {\n",
        "    'Dish1': {'name': 'Pasta Carbonara', 'price': 15.99, 'description': 'Creamy pasta with bacon and parmesan'},\n",
        "    'Dish2': {'name': 'Chicken Caesar Salad', 'price': 12.50, 'description': 'Grilled chicken with romaine lettuce and Caesar dressing'},\n",
        "    'Dish3': {'name': 'Margherita Pizza', 'price': 14.00, 'description': 'Pizza topped with tomato, mozzarella, and basil'}\n",
        "}\n",
        "Nested dictionaries are useful for organizing hierarchical data like databases, configurations, and JSON-like structures.\n",
        "\n",
        "17. Describe the time complexity of accessing elements in a dictionary.\n",
        "\n",
        "->Accessing elements in a dictionary has an average time complexity of O(1) because Python dictionaries use a hash table for key lookups.\n",
        "Time Complexity Details:\n",
        "Best/Average Case (O(1)) – Direct key lookup is fast.\n",
        "Worst Case (O(n)) – Rarely, collisions may require scanning multiple elements.\n",
        "Example: my_dict = {\"a\": 1, \"b\": 2}\n",
        "print(my_dict[\"a\"])  # O(1) lookup\n",
        "Dictionaries are ideal for fast data retrieval.\n",
        "\n",
        "18. In what situations are lists preferred over dictionaries?\n",
        "\n",
        "->Lists are preferred over dictionaries in situations where:\n",
        "i. Order Matters: Lists maintain the order of elements, unlike older Python dictionaries (before Python 3.7).\n",
        "ii. Sequential Data: When storing simple ordered data like numbers, names, or tasks.\n",
        "iii. Small Data Sets: For small collections, lists use less memory than dictionaries.\n",
        "iv. Index-Based Access: If elements are accessed by position rather than keys.\n",
        "Example: fruits = [\"apple\", \"banana\", \"cherry\"]  # Ordered list of items\n",
        "\n",
        "19.Why are dictionaries considered unordered, and how does that affect data retrieval?\n",
        "\n",
        "->Dictionaries were considered unordered in python store key-value pairs, meaning the order of elements was not guaranteed.\n",
        "Impact on Data Retrieval:\n",
        "i. No Sequential Access: Items could appear in a different order than inserted.\n",
        "ii. Fast Lookups (O(1)): Retrieval is based on keys, not position, making access efficient.\n",
        "\n",
        "20.Explain the difference between a list and a dictionary in terms of data retrieval.\n",
        "\n",
        "->Difference Between List and Dictionary in Data Retrieval:\n",
        "\n",
        "Feature         |  List                      |  Dictionary\n",
        "\n",
        "Access Method   |  By index (position-based) |  By key (key-value pair)\n",
        "\n",
        "Lookup Time\t    |  O(n) (linear search)\t     | O(1) (hash table lookup)\n",
        "\n",
        "Best Use Case\t  |  Storing sequences\t       |  Fast lookups by unique keys\n",
        "\n",
        "Example:\n",
        ">List (Index-based retrieval)\n",
        "fruits = [\"apple\", \"banana\", \"cherry\"]\n",
        "print(fruits[1])  # Output: banana (O(1) for direct index, O(n) for search)\n",
        "\n",
        ">Dictionary (Key-based retrieval)\n",
        "prices = {\"apple\": 1.2, \"banana\": 0.5, \"cherry\": 2.0}\n",
        "print(prices[\"banana\"])  # Output: 0.5 (O(1) lookup)\n",
        "\n",
        "Conclusion:\n",
        "Use lists for ordered, sequential data.\n",
        "Use dictionaries for fast key-based lookups.\n"
      ],
      "metadata": {
        "id": "LnQiyxcCJQCK"
      }
    },
    {
      "cell_type": "markdown",
      "source": [
        "#Practical Questions\n"
      ],
      "metadata": {
        "id": "C5TyyJO3HbDU"
      }
    },
    {
      "cell_type": "code",
      "execution_count": 1,
      "metadata": {
        "colab": {
          "base_uri": "https://localhost:8080/"
        },
        "id": "WYRHRii2IMDd",
        "outputId": "d60a787c-a7e8-4cca-d542-5cad8f49d302"
      },
      "outputs": [
        {
          "output_type": "stream",
          "name": "stdout",
          "text": [
            "Pritam\n"
          ]
        }
      ],
      "source": [
        "#1.  Write a code to create a string with your name and print it.\n",
        "name = \"Pritam\"\n",
        "print(name)"
      ]
    },
    {
      "cell_type": "code",
      "source": [
        "#2. Write a code to find the length of the string \"Hello World\".\n",
        "string = \"Hello World\"\n",
        "len(string)"
      ],
      "metadata": {
        "colab": {
          "base_uri": "https://localhost:8080/"
        },
        "id": "TFMJX8MuQNnR",
        "outputId": "ff63a167-afe0-4934-875c-8320d0c06d75"
      },
      "execution_count": 2,
      "outputs": [
        {
          "output_type": "execute_result",
          "data": {
            "text/plain": [
              "11"
            ]
          },
          "metadata": {},
          "execution_count": 2
        }
      ]
    },
    {
      "cell_type": "code",
      "source": [
        "#3. Write a code to slice the first 3 characters from the string \"Python Programming\".\n",
        "string = \"Python Programming\"\n",
        "string[:3]"
      ],
      "metadata": {
        "colab": {
          "base_uri": "https://localhost:8080/",
          "height": 35
        },
        "id": "0vwIxT1LQSAu",
        "outputId": "6c7def10-b0d3-4b31-e193-32640550cea0"
      },
      "execution_count": 3,
      "outputs": [
        {
          "output_type": "execute_result",
          "data": {
            "text/plain": [
              "'Pyt'"
            ],
            "application/vnd.google.colaboratory.intrinsic+json": {
              "type": "string"
            }
          },
          "metadata": {},
          "execution_count": 3
        }
      ]
    },
    {
      "cell_type": "code",
      "source": [
        "#4.  Write a code to convert the string \"hello\" to uppercase.\n",
        "string = \"hello\"\n",
        "string.upper()"
      ],
      "metadata": {
        "colab": {
          "base_uri": "https://localhost:8080/",
          "height": 35
        },
        "id": "veT3tLthQWAY",
        "outputId": "18cc8f12-a586-441e-ffc2-0e2428286f25"
      },
      "execution_count": 5,
      "outputs": [
        {
          "output_type": "execute_result",
          "data": {
            "text/plain": [
              "'HELLO'"
            ],
            "application/vnd.google.colaboratory.intrinsic+json": {
              "type": "string"
            }
          },
          "metadata": {},
          "execution_count": 5
        }
      ]
    },
    {
      "cell_type": "code",
      "source": [
        "#5. Write a code to replace the word \"apple\" with \"orange\" in the string \"I like apple\".\n",
        "string = \"I like apple\"\n",
        "string.replace(\"apple\", \"orange\")"
      ],
      "metadata": {
        "colab": {
          "base_uri": "https://localhost:8080/",
          "height": 35
        },
        "id": "xrfVllFLTj2Y",
        "outputId": "9605a08e-ec17-4f73-96fe-d664892fa77b"
      },
      "execution_count": 6,
      "outputs": [
        {
          "output_type": "execute_result",
          "data": {
            "text/plain": [
              "'I like orange'"
            ],
            "application/vnd.google.colaboratory.intrinsic+json": {
              "type": "string"
            }
          },
          "metadata": {},
          "execution_count": 6
        }
      ]
    },
    {
      "cell_type": "code",
      "source": [
        "#6. Write a code to create a list with numbers 1 to 5 and print it.\n",
        "list = [1, 2, 3, 4, 5]\n",
        "print(list)"
      ],
      "metadata": {
        "colab": {
          "base_uri": "https://localhost:8080/"
        },
        "id": "2foVhkh3IOgB",
        "outputId": "718a7db4-5cbd-4b67-953f-4aa81fa89b0e"
      },
      "execution_count": 7,
      "outputs": [
        {
          "output_type": "stream",
          "name": "stdout",
          "text": [
            "[1, 2, 3, 4, 5]\n"
          ]
        }
      ]
    },
    {
      "cell_type": "code",
      "source": [
        "#7. Write a code to append the number 10 to the list [1, 2, 3, 4].\n",
        "list = [1, 2, 3, 4]\n",
        "list.append(10)\n",
        "print(list)"
      ],
      "metadata": {
        "colab": {
          "base_uri": "https://localhost:8080/"
        },
        "id": "HDkoylzfIXut",
        "outputId": "5e8976ed-7444-4e46-938c-c9b13533392c"
      },
      "execution_count": 8,
      "outputs": [
        {
          "output_type": "stream",
          "name": "stdout",
          "text": [
            "[1, 2, 3, 4, 10]\n"
          ]
        }
      ]
    },
    {
      "cell_type": "code",
      "source": [
        "#8. Write a code to remove the number 3 from the list [1, 2, 3, 4, 5].\n",
        "list = [1, 2, 3, 4, 5]\n",
        "list.remove(3)\n",
        "print(list)"
      ],
      "metadata": {
        "colab": {
          "base_uri": "https://localhost:8080/"
        },
        "id": "P8iXZ6N5IkJc",
        "outputId": "956f7a9c-f160-42e7-ed82-40c3b6249297"
      },
      "execution_count": 9,
      "outputs": [
        {
          "output_type": "stream",
          "name": "stdout",
          "text": [
            "[1, 2, 4, 5]\n"
          ]
        }
      ]
    },
    {
      "cell_type": "code",
      "source": [
        "#9. Write a code to access the second element in the list ['a', 'b', 'c', 'd'].\n",
        "list = ['a', 'b', 'c', 'd']\n",
        "list[1]"
      ],
      "metadata": {
        "colab": {
          "base_uri": "https://localhost:8080/",
          "height": 35
        },
        "id": "L109rzcPIqp8",
        "outputId": "4feb8c7f-9977-46c0-90f7-cb978d41c5fa"
      },
      "execution_count": 10,
      "outputs": [
        {
          "output_type": "execute_result",
          "data": {
            "text/plain": [
              "'b'"
            ],
            "application/vnd.google.colaboratory.intrinsic+json": {
              "type": "string"
            }
          },
          "metadata": {},
          "execution_count": 10
        }
      ]
    },
    {
      "cell_type": "code",
      "source": [
        "#10. Write a code to reverse the list [10, 20, 30, 40, 50].\n",
        "#method-1\n",
        "list = [10, 20, 30, 40, 50]\n",
        "list.reverse()\n",
        "print(list)"
      ],
      "metadata": {
        "colab": {
          "base_uri": "https://localhost:8080/"
        },
        "id": "1GFyJbRSI0_G",
        "outputId": "f382ac41-9cc2-431d-ddbb-54e708f3ae2f"
      },
      "execution_count": 11,
      "outputs": [
        {
          "output_type": "stream",
          "name": "stdout",
          "text": [
            "[50, 40, 30, 20, 10]\n"
          ]
        }
      ]
    },
    {
      "cell_type": "code",
      "source": [
        "#method-2\n",
        "list = [10, 20, 30, 40, 50]\n",
        "list[::-1]"
      ],
      "metadata": {
        "colab": {
          "base_uri": "https://localhost:8080/"
        },
        "id": "cPSxFDvjI-01",
        "outputId": "87ae624d-da71-4bcd-e13e-315638d47a13"
      },
      "execution_count": 12,
      "outputs": [
        {
          "output_type": "execute_result",
          "data": {
            "text/plain": [
              "[50, 40, 30, 20, 10]"
            ]
          },
          "metadata": {},
          "execution_count": 12
        }
      ]
    },
    {
      "cell_type": "code",
      "source": [
        "#11.  Write a code to create a tuple with the elements 10, 20, 30 and print it.\n",
        "tuple = (10, 20, 30)\n",
        "print(tuple)"
      ],
      "metadata": {
        "colab": {
          "base_uri": "https://localhost:8080/"
        },
        "id": "Q19QWjAPJKjU",
        "outputId": "a64f213c-26c0-474a-f075-28630b18c3e9"
      },
      "execution_count": 13,
      "outputs": [
        {
          "output_type": "stream",
          "name": "stdout",
          "text": [
            "(10, 20, 30)\n"
          ]
        }
      ]
    },
    {
      "cell_type": "code",
      "source": [
        "#12.  Write a code to access the first element of the tuple ('apple', 'banana', 'cherry').\n",
        "tuple = ('apple', 'banana', 'cherry')\n",
        "tuple[0]"
      ],
      "metadata": {
        "colab": {
          "base_uri": "https://localhost:8080/",
          "height": 35
        },
        "id": "XEkqrnfuJWI_",
        "outputId": "0153284b-e40b-4e53-90af-d01867de02e9"
      },
      "execution_count": 14,
      "outputs": [
        {
          "output_type": "execute_result",
          "data": {
            "text/plain": [
              "'apple'"
            ],
            "application/vnd.google.colaboratory.intrinsic+json": {
              "type": "string"
            }
          },
          "metadata": {},
          "execution_count": 14
        }
      ]
    },
    {
      "cell_type": "code",
      "source": [
        "#13. Write a code to count how many times the number 2 appears in the tuple (1, 2, 3, 2, 4, 2).\n",
        "tuple = (1, 2, 3, 2, 4, 2)\n",
        "tuple.count(2)"
      ],
      "metadata": {
        "colab": {
          "base_uri": "https://localhost:8080/"
        },
        "id": "HVl7f4pkJjWG",
        "outputId": "a15684c8-46c8-4a58-d486-fc7bd03a1906"
      },
      "execution_count": 17,
      "outputs": [
        {
          "output_type": "execute_result",
          "data": {
            "text/plain": [
              "3"
            ]
          },
          "metadata": {},
          "execution_count": 17
        }
      ]
    },
    {
      "cell_type": "code",
      "source": [
        "#14.  Write a code to find the index of the element \"cat\" in the tuple ('dog', 'cat', 'rabbit').\n",
        "tuple = ('dog', 'cat', 'rabbit')\n",
        "tuple.index('cat')"
      ],
      "metadata": {
        "colab": {
          "base_uri": "https://localhost:8080/"
        },
        "id": "Nqo4ygVAJtmF",
        "outputId": "e698e6c4-3c49-4803-8e5f-cde1e97358dc"
      },
      "execution_count": 18,
      "outputs": [
        {
          "output_type": "execute_result",
          "data": {
            "text/plain": [
              "1"
            ]
          },
          "metadata": {},
          "execution_count": 18
        }
      ]
    },
    {
      "cell_type": "code",
      "source": [
        "#15.  Write a code to check if the element \"banana\" is in the tuple ('apple', 'orange', 'banana').\n",
        "tuple = ('apple', 'orange', 'banana')\n",
        "'banana' in tuple"
      ],
      "metadata": {
        "colab": {
          "base_uri": "https://localhost:8080/"
        },
        "id": "_48xh2d7J2us",
        "outputId": "5f42704c-5c63-4ea3-bb45-e363e6dc219d"
      },
      "execution_count": 19,
      "outputs": [
        {
          "output_type": "execute_result",
          "data": {
            "text/plain": [
              "True"
            ]
          },
          "metadata": {},
          "execution_count": 19
        }
      ]
    },
    {
      "cell_type": "code",
      "source": [
        "#16. Write a code to create a set with the elements 1, 2, 3, 4, 5 and print it.\n",
        "set = {1, 2, 3, 4, 5, 3, 1, 1.9, 4, 7}\n",
        "print(set)"
      ],
      "metadata": {
        "colab": {
          "base_uri": "https://localhost:8080/"
        },
        "id": "XSbd-eHPJ-lX",
        "outputId": "ac9cbc82-c62f-4aa4-882e-57d415bc3a20"
      },
      "execution_count": 21,
      "outputs": [
        {
          "output_type": "stream",
          "name": "stdout",
          "text": [
            "{1, 2, 3, 4, 5, 1.9, 7}\n"
          ]
        }
      ]
    },
    {
      "cell_type": "code",
      "source": [
        "#17.  Write a code to add the element 6 to the set {1, 2, 3, 4}.\n",
        "set = {1, 2, 3, 4}\n",
        "set.add(6)\n",
        "print(set)"
      ],
      "metadata": {
        "colab": {
          "base_uri": "https://localhost:8080/"
        },
        "id": "4c_YCMuwKFGF",
        "outputId": "c93cfd61-b2a9-4aac-ca50-37bf64aba769"
      },
      "execution_count": 22,
      "outputs": [
        {
          "output_type": "stream",
          "name": "stdout",
          "text": [
            "{1, 2, 3, 4, 6}\n"
          ]
        }
      ]
    },
    {
      "cell_type": "code",
      "source": [
        "#18.  Write a code to create a tuple with the elements 10, 20, 30 and print it.\n",
        "tuple = (10, 20, 30)\n",
        "print(tuple)"
      ],
      "metadata": {
        "colab": {
          "base_uri": "https://localhost:8080/"
        },
        "id": "JQOFPozHKS0P",
        "outputId": "06876377-9e02-4193-8943-767e29ffd867"
      },
      "execution_count": 23,
      "outputs": [
        {
          "output_type": "stream",
          "name": "stdout",
          "text": [
            "(10, 20, 30)\n"
          ]
        }
      ]
    },
    {
      "cell_type": "code",
      "source": [
        "#19. Write a code to access the first element of the tuple ('apple', 'banana', 'cherry').\n",
        "tuple = ('apple', 'banana', 'cherry')\n",
        "tuple[0]"
      ],
      "metadata": {
        "colab": {
          "base_uri": "https://localhost:8080/",
          "height": 35
        },
        "id": "RYIgtJKvKh0F",
        "outputId": "1b7ab7b4-7901-4250-b15c-c7f84f35acd4"
      },
      "execution_count": 25,
      "outputs": [
        {
          "output_type": "execute_result",
          "data": {
            "text/plain": [
              "'apple'"
            ],
            "application/vnd.google.colaboratory.intrinsic+json": {
              "type": "string"
            }
          },
          "metadata": {},
          "execution_count": 25
        }
      ]
    },
    {
      "cell_type": "code",
      "source": [
        "#20. Write a code to count how many times the number 2 appears in the tuple (1, 2, 3, 2, 4, 2).\n",
        "tuple = (1, 2, 3, 2, 4, 2)\n",
        "tuple.count(2)"
      ],
      "metadata": {
        "colab": {
          "base_uri": "https://localhost:8080/"
        },
        "id": "Iw6jZJJaKoy9",
        "outputId": "3823e948-0720-4f42-d792-79f6e0204213"
      },
      "execution_count": 27,
      "outputs": [
        {
          "output_type": "execute_result",
          "data": {
            "text/plain": [
              "3"
            ]
          },
          "metadata": {},
          "execution_count": 27
        }
      ]
    },
    {
      "cell_type": "code",
      "source": [
        "#21.  Write a code to find the index of the element \"cat\" in the tuple ('dog', 'cat', 'rabbit').\n",
        "tuple = ('dog', 'cat', 'rabbit')\n",
        "tuple.index('cat')"
      ],
      "metadata": {
        "colab": {
          "base_uri": "https://localhost:8080/"
        },
        "id": "Jb0vDMTKKwMI",
        "outputId": "b8a92e02-577c-4bda-c7fc-0dceb9111d5a"
      },
      "execution_count": 28,
      "outputs": [
        {
          "output_type": "execute_result",
          "data": {
            "text/plain": [
              "1"
            ]
          },
          "metadata": {},
          "execution_count": 28
        }
      ]
    },
    {
      "cell_type": "code",
      "source": [
        "#22. Write a code to check if the element \"banana\" is in the tuple ('apple', 'orange', 'banana').\n",
        "tuple = ('apple', 'orange', 'banana')\n",
        "'banana' in tuple\n"
      ],
      "metadata": {
        "colab": {
          "base_uri": "https://localhost:8080/"
        },
        "id": "qcTlzOMHLGLV",
        "outputId": "f709f092-b5c4-4dc9-c210-c9526a4cab38"
      },
      "execution_count": 29,
      "outputs": [
        {
          "output_type": "execute_result",
          "data": {
            "text/plain": [
              "True"
            ]
          },
          "metadata": {},
          "execution_count": 29
        }
      ]
    },
    {
      "cell_type": "code",
      "source": [
        "#23. Write a code to create a set with the elements 1, 2, 3, 4, 5 and print it.\n",
        "set = {1, 2, 3, 4, 5, 3, 1, 1.9, 4, 7}\n",
        "print(set)"
      ],
      "metadata": {
        "colab": {
          "base_uri": "https://localhost:8080/"
        },
        "id": "q7M6GklbL0-E",
        "outputId": "f14615ab-b447-458b-b206-e09e4fcf91a8"
      },
      "execution_count": 31,
      "outputs": [
        {
          "output_type": "stream",
          "name": "stdout",
          "text": [
            "{1, 2, 3, 4, 5, 1.9, 7}\n"
          ]
        }
      ]
    },
    {
      "cell_type": "code",
      "source": [
        "#24.  Write a code to add the element 6 to the set {1, 2, 3, 4}.\n",
        "set = {1, 2, 3, 4}\n",
        "set.add(6)\n",
        "print(set)"
      ],
      "metadata": {
        "colab": {
          "base_uri": "https://localhost:8080/"
        },
        "id": "fgW95u7sL6bn",
        "outputId": "c97e1efb-1d9a-4e03-8b3b-2857596e0680"
      },
      "execution_count": 32,
      "outputs": [
        {
          "output_type": "stream",
          "name": "stdout",
          "text": [
            "{1, 2, 3, 4, 6}\n"
          ]
        }
      ]
    },
    {
      "cell_type": "code",
      "source": [],
      "metadata": {
        "id": "gWKLWPujMEXo"
      },
      "execution_count": null,
      "outputs": []
    }
  ]
}