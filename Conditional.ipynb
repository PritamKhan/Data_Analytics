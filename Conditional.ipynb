{
  "nbformat": 4,
  "nbformat_minor": 0,
  "metadata": {
    "colab": {
      "provenance": [],
      "authorship_tag": "ABX9TyPBdIbEJ3ltnoiCo5NRjoRy",
      "include_colab_link": true
    },
    "kernelspec": {
      "name": "python3",
      "display_name": "Python 3"
    },
    "language_info": {
      "name": "python"
    }
  },
  "cells": [
    {
      "cell_type": "markdown",
      "metadata": {
        "id": "view-in-github",
        "colab_type": "text"
      },
      "source": [
        "<a href=\"https://colab.research.google.com/github/PritamKhan/Data_Analytics/blob/master/Conditional.ipynb\" target=\"_parent\"><img src=\"https://colab.research.google.com/assets/colab-badge.svg\" alt=\"Open In Colab\"/></a>"
      ]
    },
    {
      "cell_type": "code",
      "execution_count": 4,
      "metadata": {
        "id": "4H8tdFuqFK8K"
      },
      "outputs": [],
      "source": [
        "#conditional >> I will play cricket when the weather is sunny.\n",
        "#loop >> I will keep checking out dishes untill all the dishes are over in a buffet.\n",
        "#break statement >> I will check out all the dishes until I get Pasta."
      ]
    },
    {
      "cell_type": "code",
      "source": [
        "#conditional statement >> helps you to code decision based on some preconditions\n",
        "#if\n",
        "#if else\n",
        "#if elif(elseif) else\n",
        "#nested if else"
      ],
      "metadata": {
        "id": "3oEdKEh43F1Z"
      },
      "execution_count": 2,
      "outputs": []
    },
    {
      "cell_type": "code",
      "source": [
        "#if statements\n",
        "#syntax\n",
        "# if condition True:\n",
        "#   block of code will executed"
      ],
      "metadata": {
        "id": "attHi1Lp3lG2"
      },
      "execution_count": 3,
      "outputs": []
    },
    {
      "cell_type": "code",
      "source": [
        "3>4"
      ],
      "metadata": {
        "id": "bgWpbSfc3soB",
        "colab": {
          "base_uri": "https://localhost:8080/"
        },
        "outputId": "0be5f8ff-7fc7-454c-e527-f468c2db238e"
      },
      "execution_count": 5,
      "outputs": [
        {
          "output_type": "execute_result",
          "data": {
            "text/plain": [
              "False"
            ]
          },
          "metadata": {},
          "execution_count": 5
        }
      ]
    },
    {
      "cell_type": "code",
      "source": [
        "1<2"
      ],
      "metadata": {
        "colab": {
          "base_uri": "https://localhost:8080/"
        },
        "id": "tC-pfw5y7hj3",
        "outputId": "2c9e8572-ff12-4568-82db-8f0d71bb3a77"
      },
      "execution_count": 6,
      "outputs": [
        {
          "output_type": "execute_result",
          "data": {
            "text/plain": [
              "True"
            ]
          },
          "metadata": {},
          "execution_count": 6
        }
      ]
    },
    {
      "cell_type": "code",
      "source": [
        "a =100\n",
        "if a > 0: #execute the if block/body of it, if the condition is True\n",
        "    print(\"The number is greater than 0\")"
      ],
      "metadata": {
        "colab": {
          "base_uri": "https://localhost:8080/"
        },
        "id": "c8Uv26Bd7i4W",
        "outputId": "52b80570-9365-4e54-a526-ee41736cef4c"
      },
      "execution_count": 7,
      "outputs": [
        {
          "output_type": "stream",
          "name": "stdout",
          "text": [
            "The number is greater than 0\n"
          ]
        }
      ]
    },
    {
      "cell_type": "code",
      "source": [
        "a =100\n",
        "if a < 0: #execute the if block, if the condition is True\n",
        "    print(\"The number is greater than 0\")"
      ],
      "metadata": {
        "id": "JOnkxApb8UyI"
      },
      "execution_count": 8,
      "outputs": []
    },
    {
      "cell_type": "code",
      "source": [
        "weather = \"rainy\"\n",
        "if weather == \"rainy\":\n",
        "    print(\"I will not play cricket\")"
      ],
      "metadata": {
        "colab": {
          "base_uri": "https://localhost:8080/"
        },
        "id": "G4ZxSXtN8eh-",
        "outputId": "6870ea57-4599-43da-ccfa-abb36f09de5b"
      },
      "execution_count": 9,
      "outputs": [
        {
          "output_type": "stream",
          "name": "stdout",
          "text": [
            "I will not play cricket\n"
          ]
        }
      ]
    },
    {
      "cell_type": "code",
      "source": [
        "weather = \"sunny\"\n",
        "if weather == \"rainy\":\n",
        "    print(\"I will not play cricket\") #indentation is necessary"
      ],
      "metadata": {
        "id": "t_V5xpx08rsT"
      },
      "execution_count": 11,
      "outputs": []
    },
    {
      "cell_type": "code",
      "source": [
        "temp = 30\n",
        "if temp > 25:\n",
        "    print(\"Room temp\")"
      ],
      "metadata": {
        "colab": {
          "base_uri": "https://localhost:8080/"
        },
        "id": "tQI_xjWh8z_M",
        "outputId": "2edcc469-ceca-4784-86cb-3d25bcc5960a"
      },
      "execution_count": 12,
      "outputs": [
        {
          "output_type": "stream",
          "name": "stdout",
          "text": [
            "Room temp\n"
          ]
        }
      ]
    },
    {
      "cell_type": "code",
      "source": [
        "is_ds_course = True\n",
        "if is_ds_course:\n",
        "    print(\"I am studying Data Science\")"
      ],
      "metadata": {
        "colab": {
          "base_uri": "https://localhost:8080/"
        },
        "id": "WpceIuJR-2nZ",
        "outputId": "9cc3e09d-2ab7-4e66-c370-2d65cf95dd46"
      },
      "execution_count": 14,
      "outputs": [
        {
          "output_type": "stream",
          "name": "stdout",
          "text": [
            "I am studying Data Science\n"
          ]
        }
      ]
    },
    {
      "cell_type": "code",
      "source": [
        "grade = 8\n",
        "if grade >= 8:\n",
        "    print(\"You are Excellent\")"
      ],
      "metadata": {
        "colab": {
          "base_uri": "https://localhost:8080/"
        },
        "id": "B884EH_4_Jyg",
        "outputId": "d36f31a6-715f-4204-9adc-9f17661f2f19"
      },
      "execution_count": 15,
      "outputs": [
        {
          "output_type": "stream",
          "name": "stdout",
          "text": [
            "You are Excellent\n"
          ]
        }
      ]
    },
    {
      "cell_type": "code",
      "source": [
        "number = 42\n",
        "if number % 2 == 0:\n",
        "    print(\"The number is even\")"
      ],
      "metadata": {
        "colab": {
          "base_uri": "https://localhost:8080/"
        },
        "id": "Ki3W5dx1_U7U",
        "outputId": "f6c8f65e-5e35-450c-adaf-4fa81f00840c"
      },
      "execution_count": 16,
      "outputs": [
        {
          "output_type": "stream",
          "name": "stdout",
          "text": [
            "The number is even\n"
          ]
        }
      ]
    },
    {
      "cell_type": "code",
      "source": [
        "# in real life, dicision are made on multiple conditions\n",
        "\n",
        "number = 42\n",
        "if ((number % 2 == 0) & (number > 0)):\n",
        "  print(\"This is the number of interest\")"
      ],
      "metadata": {
        "colab": {
          "base_uri": "https://localhost:8080/"
        },
        "id": "zO1avPZw_gKH",
        "outputId": "ca89351b-ae61-46f1-8263-8d2816004137"
      },
      "execution_count": 17,
      "outputs": [
        {
          "output_type": "stream",
          "name": "stdout",
          "text": [
            "This is the number of interest\n"
          ]
        }
      ]
    },
    {
      "cell_type": "code",
      "source": [
        "grade = 8\n",
        "co_cir = True\n",
        "if ((grade >= 8) & (co_cir == True)):\n",
        "    print(\"You are all rounder\")"
      ],
      "metadata": {
        "colab": {
          "base_uri": "https://localhost:8080/"
        },
        "id": "lSXmEwhCAkdz",
        "outputId": "565d7809-8d04-4ea9-81af-af6a405b696a"
      },
      "execution_count": 19,
      "outputs": [
        {
          "output_type": "stream",
          "name": "stdout",
          "text": [
            "You are all rounder\n"
          ]
        }
      ]
    },
    {
      "cell_type": "code",
      "source": [
        "#in real life if one condition is not fulfilled, you will do something else\n",
        "#example:: if wather is not rainy, i will go to play cricket else i will watch TV"
      ],
      "metadata": {
        "id": "JDE-IevDA97c"
      },
      "execution_count": 20,
      "outputs": []
    },
    {
      "cell_type": "code",
      "source": [
        "#if else >> execute the if block when the condition is true else ececute else block\n",
        "weather = \"sunny\"\n",
        "if weather == \"sunny\": #condition is true, execute if block.\n",
        "    print(\"I will play cricket\")\n",
        "else: #condtion is not true, else block will execute.\n",
        "  print(\"I will watch TV\")"
      ],
      "metadata": {
        "colab": {
          "base_uri": "https://localhost:8080/"
        },
        "id": "x6-jnHwfBjMb",
        "outputId": "5057bfd7-3e11-4221-cbe1-8f836c648d3a"
      },
      "execution_count": 21,
      "outputs": [
        {
          "output_type": "stream",
          "name": "stdout",
          "text": [
            "I will play cricket\n"
          ]
        }
      ]
    },
    {
      "cell_type": "code",
      "source": [
        "age = int(input(\"Enter your age: \"))\n",
        "if age >= 18:\n",
        "    print(\"You are eligible to vote\")\n",
        "else:\n",
        "    print(\"You are not eligible to vote\")"
      ],
      "metadata": {
        "colab": {
          "base_uri": "https://localhost:8080/"
        },
        "id": "Q1dt6b6XB9PA",
        "outputId": "db41bd9e-b6ea-4df0-956a-e384eed379fa"
      },
      "execution_count": 24,
      "outputs": [
        {
          "output_type": "stream",
          "name": "stdout",
          "text": [
            "Enter your age: 22\n",
            "You are eligible to vote\n"
          ]
        }
      ]
    },
    {
      "cell_type": "code",
      "source": [
        "is_ds_course = True\n",
        "if is_ds_course:\n",
        "    print(\"I am studying Data Science\")\n",
        "else:\n",
        "    print(\"I am not studying Data Science\")"
      ],
      "metadata": {
        "colab": {
          "base_uri": "https://localhost:8080/"
        },
        "id": "3FL2MgRTDBtO",
        "outputId": "3e4ddb79-e5e4-4d44-b084-067d321ac3cc"
      },
      "execution_count": 25,
      "outputs": [
        {
          "output_type": "stream",
          "name": "stdout",
          "text": [
            "I am studying Data Science\n"
          ]
        }
      ]
    },
    {
      "cell_type": "code",
      "source": [
        "x = int(input(\"Enter a number: \"))\n",
        "if x == 0:\n",
        "    print(\"The number is neither positive nor negative\")\n",
        "elif x > 0:\n",
        "    print(\"The number is positive\")\n",
        "else:\n",
        "    print(\"The number is negative\")"
      ],
      "metadata": {
        "colab": {
          "base_uri": "https://localhost:8080/"
        },
        "id": "RrClehYBDq52",
        "outputId": "23fdb7a2-645b-4a08-9439-10555c85015f"
      },
      "execution_count": 30,
      "outputs": [
        {
          "output_type": "stream",
          "name": "stdout",
          "text": [
            "Enter a number: -4\n",
            "The number is negative\n"
          ]
        }
      ]
    },
    {
      "cell_type": "code",
      "source": [
        "#to check if a no is even\n",
        "number = int(input(\"Enter a number: \"))\n",
        "if number % 2 == 0:\n",
        "    print(\"The number is even\")\n",
        "else:\n",
        "    print(\"The number is odd\")"
      ],
      "metadata": {
        "colab": {
          "base_uri": "https://localhost:8080/"
        },
        "id": "Gnbq7iBVD-sf",
        "outputId": "01cda7d1-2267-493e-8f38-befb52959a9e"
      },
      "execution_count": 31,
      "outputs": [
        {
          "output_type": "stream",
          "name": "stdout",
          "text": [
            "Enter a number: 23\n",
            "The number is odd\n"
          ]
        }
      ]
    },
    {
      "cell_type": "code",
      "source": [
        "#to chech if a year is leap year\n",
        "year = int(input(\"Enter a year: \"))\n",
        "if (((year % 4 == 0) & (year % 100 != 0)) | (year % 400 == 0)):\n",
        "    print(\"The year is a leap year\")\n",
        "else:\n",
        "    print(\"The year is not a leap year\")"
      ],
      "metadata": {
        "colab": {
          "base_uri": "https://localhost:8080/"
        },
        "id": "3f9WpkHVE_go",
        "outputId": "4c8444dd-4474-4de2-fff1-64ec91a33a4b"
      },
      "execution_count": 58,
      "outputs": [
        {
          "output_type": "stream",
          "name": "stdout",
          "text": [
            "Enter a year: 1996\n",
            "The year is a leap year\n"
          ]
        }
      ]
    },
    {
      "cell_type": "code",
      "source": [
        "#to check if a number is primre\n",
        "number = int(input(\"Enter a number: \"))\n",
        "if number > 1:\n",
        "    for i in range(2, number):\n",
        "        if (number % i) == 0:\n",
        "            print(number, \" is not a prime number\")\n",
        "            break\n",
        "    else:\n",
        "        print(number, \" is a prime number\")\n"
      ],
      "metadata": {
        "colab": {
          "base_uri": "https://localhost:8080/"
        },
        "id": "vMjLNymmVc_b",
        "outputId": "315bdf75-6580-41bb-9184-26b589a199af"
      },
      "execution_count": 70,
      "outputs": [
        {
          "output_type": "stream",
          "name": "stdout",
          "text": [
            "Enter a number: 21\n",
            "21  is not a prime number\n"
          ]
        }
      ]
    },
    {
      "cell_type": "code",
      "source": [
        "#if else >> two condition\n",
        "#in real life we can have multiple condition\n",
        "#syntax\n",
        "#if some condition\n",
        "#elif some condition\n",
        "#else"
      ],
      "metadata": {
        "id": "pl4b4NKpQ4TU"
      },
      "execution_count": 62,
      "outputs": []
    },
    {
      "cell_type": "code",
      "source": [
        "a = 100\n",
        "if a > 100:\n",
        "    print(\"The block will be executed if a is grater than 100\")\n",
        "elif a < 100:\n",
        "    print(\"The block will be executed if a is lesser than 100\")\n",
        "else:\n",
        "    print(\"The number is eqals to 100\")"
      ],
      "metadata": {
        "colab": {
          "base_uri": "https://localhost:8080/"
        },
        "id": "LBjv48eiSYyd",
        "outputId": "4f9d2dc6-6df8-4d0f-be18-ee9674db9b08"
      },
      "execution_count": 64,
      "outputs": [
        {
          "output_type": "stream",
          "name": "stdout",
          "text": [
            "The number is eqals to 100\n"
          ]
        }
      ]
    },
    {
      "cell_type": "code",
      "source": [
        "a = 1000000\n",
        "if a < 100:\n",
        "    print(\"The block will be executed if a is lesser than 100\")\n",
        "elif a > 2000:\n",
        "    print(\"The number is huge\") #if conditi satisfied it will stop here.\n",
        "elif a > 100:\n",
        "    print(\"The block will be executed if a is grater than 100\")\n",
        "else:\n",
        "    print(\"The number is eqals to 100\")"
      ],
      "metadata": {
        "colab": {
          "base_uri": "https://localhost:8080/"
        },
        "id": "V7Rc9EcpTEZf",
        "outputId": "cdd5bff7-865c-4531-b46c-065972bfdb2b"
      },
      "execution_count": 65,
      "outputs": [
        {
          "output_type": "stream",
          "name": "stdout",
          "text": [
            "The number is huge\n"
          ]
        }
      ]
    },
    {
      "cell_type": "code",
      "source": [
        "marks = int(input(\"Enter your marks: \"))\n",
        "if (marks >= 90):\n",
        "    print(\"Grade A\")\n",
        "elif (80<=marks<90):\n",
        "    print(\"Grade B\")\n",
        "elif (70<=marks<80):\n",
        "    print(\"Grade C\")\n",
        "elif (60<=marks<70):\n",
        "    print(\"Grade D\")\n",
        "elif (50<=marks<60):\n",
        "    print(\"Grade E\")\n",
        "else:\n",
        "    print(\"Grade F\")"
      ],
      "metadata": {
        "colab": {
          "base_uri": "https://localhost:8080/"
        },
        "id": "zOEyYNAtS7HD",
        "outputId": "50218430-413d-44c7-a7fe-535a9ead2c97"
      },
      "execution_count": 69,
      "outputs": [
        {
          "output_type": "stream",
          "name": "stdout",
          "text": [
            "Enter your marks: 75\n",
            "Grade C\n"
          ]
        }
      ]
    },
    {
      "cell_type": "code",
      "source": [
        "age = int(input(\"Enter your age: \"))\n",
        "if age < 18:\n",
        "    print(\"You are minority\")\n",
        "elif (18<=age<=65):\n",
        "    print(\"You are adult\")\n",
        "else:\n",
        "    print(\"You are senior citizen\")"
      ],
      "metadata": {
        "colab": {
          "base_uri": "https://localhost:8080/"
        },
        "id": "2KbuPEldVEOI",
        "outputId": "bad4381d-1d4c-49bc-8a5c-c7b4ffaa0915"
      },
      "execution_count": 73,
      "outputs": [
        {
          "output_type": "stream",
          "name": "stdout",
          "text": [
            "Enter your age: 88\n",
            "You are senior citizen\n"
          ]
        }
      ]
    },
    {
      "cell_type": "code",
      "source": [
        "#nested if else\n",
        "x = 7\n",
        "y = 6\n",
        "if x > 5:\n",
        "    if y > 5:\n",
        "        print(\"Both x and y is greater than 5\")\n",
        "    else:\n",
        "        print(\"x is greater than 5 and y is less than 5\")\n",
        "else:\n",
        "    print(\"x is not greater than 5\")"
      ],
      "metadata": {
        "colab": {
          "base_uri": "https://localhost:8080/"
        },
        "id": "-MAPLvEVV6Ah",
        "outputId": "2a7ded9f-59ff-4873-b29d-88da31781270"
      },
      "execution_count": 75,
      "outputs": [
        {
          "output_type": "stream",
          "name": "stdout",
          "text": [
            "Both x and y is greater than 5\n"
          ]
        }
      ]
    },
    {
      "cell_type": "code",
      "source": [
        "is_vip = False\n",
        "age = 15\n",
        "if is_vip:\n",
        "  if age >= 18:\n",
        "    if age <65:\n",
        "      print(\"Welcome to vip customer\")\n",
        "    else:\n",
        "      print(\"You are not vip aand verry imp. You are eligible for senior citizen discount\")\n",
        "  else:\n",
        "    print(\"vip satus is only for adult\")\n",
        "else:\n",
        "  print(\"You are not a vip customer and will be charge a regular price \")"
      ],
      "metadata": {
        "colab": {
          "base_uri": "https://localhost:8080/"
        },
        "id": "LQf5U-k2WikP",
        "outputId": "9049850a-f608-4f1c-ab42-ac62f4045baf"
      },
      "execution_count": 78,
      "outputs": [
        {
          "output_type": "stream",
          "name": "stdout",
          "text": [
            "You are not a vip customer and will be charge a regular price \n"
          ]
        }
      ]
    },
    {
      "cell_type": "code",
      "source": [
        "a = input(\"Enter a no \") #by default input treat everything as string\n",
        "print(\"The no is\", a)"
      ],
      "metadata": {
        "colab": {
          "base_uri": "https://localhost:8080/"
        },
        "id": "joSCnTWCY3xW",
        "outputId": "23f9c873-12f7-4669-d50a-b0b5c9e9b5fa"
      },
      "execution_count": 79,
      "outputs": [
        {
          "output_type": "stream",
          "name": "stdout",
          "text": [
            "Enter a no 50\n",
            "The no is 50\n"
          ]
        }
      ]
    },
    {
      "cell_type": "code",
      "source": [
        "type(a)"
      ],
      "metadata": {
        "colab": {
          "base_uri": "https://localhost:8080/"
        },
        "id": "4msRqZl1ZnJ0",
        "outputId": "c2b1e823-43c6-413e-a1f4-14db7b80d77f"
      },
      "execution_count": 80,
      "outputs": [
        {
          "output_type": "execute_result",
          "data": {
            "text/plain": [
              "str"
            ]
          },
          "metadata": {},
          "execution_count": 80
        }
      ]
    },
    {
      "cell_type": "code",
      "source": [
        "a = int(input(\"Enter a no \"))\n",
        "a"
      ],
      "metadata": {
        "colab": {
          "base_uri": "https://localhost:8080/"
        },
        "id": "KYXzqKywZrXb",
        "outputId": "8fb23589-837e-418a-c10d-f77bd3495aff"
      },
      "execution_count": 81,
      "outputs": [
        {
          "name": "stdout",
          "output_type": "stream",
          "text": [
            "Enter a no 6\n"
          ]
        },
        {
          "output_type": "execute_result",
          "data": {
            "text/plain": [
              "6"
            ]
          },
          "metadata": {},
          "execution_count": 81
        }
      ]
    },
    {
      "cell_type": "code",
      "source": [
        "type(a)"
      ],
      "metadata": {
        "colab": {
          "base_uri": "https://localhost:8080/"
        },
        "id": "eJuuP9AsZ7M0",
        "outputId": "aba8a307-56b7-4f63-d0a7-f5f701f99395"
      },
      "execution_count": 82,
      "outputs": [
        {
          "output_type": "execute_result",
          "data": {
            "text/plain": [
              "int"
            ]
          },
          "metadata": {},
          "execution_count": 82
        }
      ]
    },
    {
      "cell_type": "code",
      "source": [
        "a = int(input(\"Enter a no \"))\n",
        "if a >= 100:\n",
        "  print(\"The no is grater than 100\")\n",
        "elif 0<=a<100:\n",
        "  print(\"The no is grater than  0 and less than 100\")\n",
        "else:\n",
        "  print(\"This is a negative number\")"
      ],
      "metadata": {
        "colab": {
          "base_uri": "https://localhost:8080/"
        },
        "id": "AzdQ0bRqZ_Kq",
        "outputId": "03318f17-1796-4b2d-a6a2-897c02be16ec"
      },
      "execution_count": 84,
      "outputs": [
        {
          "output_type": "stream",
          "name": "stdout",
          "text": [
            "Enter a no -2\n",
            "This is a negative number\n"
          ]
        }
      ]
    },
    {
      "cell_type": "code",
      "source": [
        "name = input(\"Enter your name: \")\n",
        "email = input(\"Enter your email: \")\n",
        "password = input(\"Enter your password: \")\n",
        "\n",
        "if name == \"\":\n",
        "  print(\"Please enter a valid name, can not be empty\")\n",
        "else:\n",
        "  if \"@\" not in email:\n",
        "    print(\"Please enter a valid email\")\n",
        "  else:\n",
        "    if len(password) < 0:\n",
        "      print(\"Np password entered, pls provide a valid password\")\n",
        "    else:\n",
        "      print(\"Registration successful\")\n"
      ],
      "metadata": {
        "colab": {
          "base_uri": "https://localhost:8080/"
        },
        "id": "DO24ejZRaioU",
        "outputId": "fbeccccc-b24c-4bce-eb30-eb9dcba988be"
      },
      "execution_count": 86,
      "outputs": [
        {
          "output_type": "stream",
          "name": "stdout",
          "text": [
            "Enter your name: \n",
            "Enter your email: new@gmail.com\n",
            "Enter your password: \n",
            "Please enter a valid name, can not be empty\n"
          ]
        }
      ]
    },
    {
      "cell_type": "code",
      "source": [],
      "metadata": {
        "id": "s4jeYfqEb_Xq"
      },
      "execution_count": null,
      "outputs": []
    }
  ]
}