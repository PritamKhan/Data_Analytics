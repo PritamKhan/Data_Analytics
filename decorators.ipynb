{
  "nbformat": 4,
  "nbformat_minor": 0,
  "metadata": {
    "colab": {
      "provenance": [],
      "authorship_tag": "ABX9TyMuvqt9+BZl0lFdUBEk6wJ+",
      "include_colab_link": true
    },
    "kernelspec": {
      "name": "python3",
      "display_name": "Python 3"
    },
    "language_info": {
      "name": "python"
    }
  },
  "cells": [
    {
      "cell_type": "markdown",
      "metadata": {
        "id": "view-in-github",
        "colab_type": "text"
      },
      "source": [
        "<a href=\"https://colab.research.google.com/github/PritamKhan/Data_Analytics/blob/master/decorators.ipynb\" target=\"_parent\"><img src=\"https://colab.research.google.com/assets/colab-badge.svg\" alt=\"Open In Colab\"/></a>"
      ]
    },
    {
      "cell_type": "code",
      "execution_count": 16,
      "metadata": {
        "id": "-FeLAWfuLqui"
      },
      "outputs": [],
      "source": [
        "#decorators >> alows to modify or extend the behaviour or function/class without directly modifying their original code\n",
        "#similar to you decorating your room(putting different light, stikers, posters) >> extends/decorates the basic behaviour of room"
      ]
    },
    {
      "cell_type": "code",
      "source": [
        "#function decorators and class decorators\n",
        "\n",
        "#function decorators"
      ],
      "metadata": {
        "id": "5eo67AvyNilR"
      },
      "execution_count": 17,
      "outputs": []
    },
    {
      "cell_type": "code",
      "source": [
        "#to understand use case>> say we want to use the line before compution and after computation\n",
        "#after each tine we create a function or call function. so it will take a lot of time to typre the lines repeatatively\n",
        "#ant that why the concept of decorator comes into the picture"
      ],
      "metadata": {
        "id": "jDB3ZsYNPxXn"
      },
      "execution_count": 18,
      "outputs": []
    },
    {
      "cell_type": "code",
      "source": [
        "\n",
        "def my_decorator_func():\n",
        "  print(\"The line before computation\")\n",
        "  print(11 * 1200) #decoring the actual computation with line above and line below\n",
        "  print(\"The line after computation\")\n",
        "\n",
        "#in the above approch we have to write all the line as many times as we are creating the different functions\n",
        "#let see the decorator approch"
      ],
      "metadata": {
        "id": "PNGc7IojN5yT"
      },
      "execution_count": 19,
      "outputs": []
    },
    {
      "cell_type": "code",
      "source": [
        "my_decorator_func()"
      ],
      "metadata": {
        "colab": {
          "base_uri": "https://localhost:8080/"
        },
        "id": "4A5thO22OdHj",
        "outputId": "59d30d47-9924-44a4-bcdd-5c13086667e6"
      },
      "execution_count": 20,
      "outputs": [
        {
          "output_type": "stream",
          "name": "stdout",
          "text": [
            "The line before computation\n",
            "13200\n",
            "The line after computation\n"
          ]
        }
      ]
    },
    {
      "cell_type": "code",
      "source": [
        "#decorator approch for function >> use case 1\n",
        "def my_decorator(func): #decorator function that takes another function as argument\n",
        "  def wrapper(): #wrapper isa nested function that adds the functionlity before and after calling original function\n",
        "    print(\"The line before computation\")\n",
        "    func() #say_hello which is the func here will be executed here\n",
        "    print(\"The line after computation\")\n",
        "  return wrapper"
      ],
      "metadata": {
        "id": "5ux8HKSdOf9P"
      },
      "execution_count": 21,
      "outputs": []
    },
    {
      "cell_type": "code",
      "source": [
        "def say_hello():\n",
        "  print(\"Hello\")"
      ],
      "metadata": {
        "id": "0AnMh0sn2yzv"
      },
      "execution_count": 23,
      "outputs": []
    },
    {
      "cell_type": "code",
      "source": [
        "say_hello() #before @my_decorator function"
      ],
      "metadata": {
        "colab": {
          "base_uri": "https://localhost:8080/"
        },
        "id": "8LHbdt272hLK",
        "outputId": "34b84ac7-4e4e-428a-bbd7-36a4078238dd"
      },
      "execution_count": 24,
      "outputs": [
        {
          "output_type": "stream",
          "name": "stdout",
          "text": [
            "Hello\n"
          ]
        }
      ]
    },
    {
      "cell_type": "code",
      "source": [
        "@my_decorator\n",
        "def say_hello():\n",
        "  print(\"Hello\")"
      ],
      "metadata": {
        "id": "MGeLH2DGyisg"
      },
      "execution_count": 25,
      "outputs": []
    },
    {
      "cell_type": "code",
      "source": [
        "say_hello()\n",
        "#when say_hello is called, it actually first calling the decorator function >>\n",
        "#which in return is calling  wrapper function and then wrapper function is printing the line and calling the say_hello function"
      ],
      "metadata": {
        "colab": {
          "base_uri": "https://localhost:8080/"
        },
        "id": "hpiuqdkjyukT",
        "outputId": "bbd2cfe3-1908-4d26-f1a4-11f000d6aab7"
      },
      "execution_count": 26,
      "outputs": [
        {
          "output_type": "stream",
          "name": "stdout",
          "text": [
            "The line before computation\n",
            "Hello\n",
            "The line after computation\n"
          ]
        }
      ]
    },
    {
      "cell_type": "code",
      "source": [
        "#another use case of function decorator\n",
        "#run time of a code\n",
        "\n",
        "import time\n",
        "def timer_decorator(func):\n",
        "  def timer():\n",
        "    start = time.time()\n",
        "    func()\n",
        "    end = time.time()\n",
        "    print(f\"Time taken to run the function is {end - start}\")\n",
        "  return timer"
      ],
      "metadata": {
        "id": "8zsyDK27zeIv"
      },
      "execution_count": 55,
      "outputs": []
    },
    {
      "cell_type": "code",
      "source": [
        "@timer_decorator\n",
        "def func_test():\n",
        "  print(110000*1000)"
      ],
      "metadata": {
        "id": "yq_1g1ER3zep"
      },
      "execution_count": 59,
      "outputs": []
    },
    {
      "cell_type": "code",
      "source": [
        "func_test()"
      ],
      "metadata": {
        "colab": {
          "base_uri": "https://localhost:8080/"
        },
        "id": "MDL25tEf4EaR",
        "outputId": "a233f542-33d1-46d4-92f9-ab5476b0975b"
      },
      "execution_count": 60,
      "outputs": [
        {
          "output_type": "stream",
          "name": "stdout",
          "text": [
            "110000000\n",
            "Time taken to run the function is 0.00012183189392089844\n"
          ]
        }
      ]
    },
    {
      "cell_type": "code",
      "source": [
        "@timer_decorator\n",
        "def func_test1():\n",
        "  print(11000000 + 1000 * 231)"
      ],
      "metadata": {
        "id": "Vkog1scm4It6"
      },
      "execution_count": 61,
      "outputs": []
    },
    {
      "cell_type": "code",
      "source": [
        "func_test1()"
      ],
      "metadata": {
        "colab": {
          "base_uri": "https://localhost:8080/"
        },
        "id": "06x9q7U06rWk",
        "outputId": "04c72410-e8e3-4da7-a4d4-7b4b6682fe07"
      },
      "execution_count": 62,
      "outputs": [
        {
          "output_type": "stream",
          "name": "stdout",
          "text": [
            "11231000\n",
            "Time taken to run the function is 4.220008850097656e-05\n"
          ]
        }
      ]
    },
    {
      "cell_type": "code",
      "source": [
        "#why do need decorators?\n",
        "#reusability of code >> reuse the common code\n",
        "#enhanching the function without modifying the original function\n",
        "#use cases>> execution time of code, logging, caching, validation"
      ],
      "metadata": {
        "id": "Lc5d55Mk6yK1"
      },
      "execution_count": 63,
      "outputs": []
    },
    {
      "cell_type": "code",
      "source": [
        "#class decorators>>\n",
        "class MyDecorator:\n",
        "  def __init__(self, func): #similar to function decorator we are passing function in class decorator\n",
        "    self.func = func\n",
        "    print(\"Inside init method\")\n",
        "  def __call__(self):\n",
        "    print(\"Something is happening before function.\")\n",
        "    self.func()\n",
        "    print(\"Something is happening after function.\")"
      ],
      "metadata": {
        "id": "hjIygmrxDilv"
      },
      "execution_count": 69,
      "outputs": []
    },
    {
      "cell_type": "code",
      "source": [
        " #__call__ is special method which is called/invoked when we call instance/object of the classas function"
      ],
      "metadata": {
        "id": "c8p1rX5jHbG5"
      },
      "execution_count": 71,
      "outputs": []
    },
    {
      "cell_type": "code",
      "source": [
        "@MyDecorator #class >>  __call__ will be executrd as the object if the class will be called as function >> so first __init__ and then __call__ method will be executed\n",
        "def say_hello():\n",
        "  print(\"Hello\")\n",
        "\n",
        "say_hello()"
      ],
      "metadata": {
        "colab": {
          "base_uri": "https://localhost:8080/"
        },
        "id": "eoT6fii5DlKe",
        "outputId": "abc5cbf5-030e-4c2e-e39e-b38953bc2dcd"
      },
      "execution_count": 70,
      "outputs": [
        {
          "output_type": "stream",
          "name": "stdout",
          "text": [
            "Something is happening before function.\n",
            "Hello\n",
            "Something is happening after function.\n"
          ]
        }
      ]
    },
    {
      "cell_type": "code",
      "source": [
        "class MyDecorator:\n",
        "  def __init__(self): #similar to function decorator we are passing function in class decorator\n",
        "    #self.func = func\n",
        "    print(\"Inside init method\")\n",
        "  def __call__(self):\n",
        "    print(\"Something is happening before function.\")\n",
        "    #self.func()\n",
        "    print(\"Something is happening after function.\")\n",
        "\n",
        "\n",
        "obj1 = MyDecorator() #when we make an object of the class, init is executed first"
      ],
      "metadata": {
        "colab": {
          "base_uri": "https://localhost:8080/"
        },
        "id": "vLtuUjDIGSAU",
        "outputId": "83e48ade-91f9-4858-c5a1-74da7c15324c"
      },
      "execution_count": 72,
      "outputs": [
        {
          "output_type": "stream",
          "name": "stdout",
          "text": [
            "Inside init method\n"
          ]
        }
      ]
    },
    {
      "cell_type": "code",
      "source": [
        "obj1() #when we call an object of a class as function __call__ method will be invoked"
      ],
      "metadata": {
        "colab": {
          "base_uri": "https://localhost:8080/"
        },
        "id": "5ONd8TI3IAoG",
        "outputId": "c5f18894-b517-40ec-c81f-0fb5dd5fbca5"
      },
      "execution_count": 73,
      "outputs": [
        {
          "output_type": "stream",
          "name": "stdout",
          "text": [
            "Something is happening before function.\n",
            "Something is happening after function.\n"
          ]
        }
      ]
    },
    {
      "cell_type": "code",
      "source": [
        "#some inbulit decorators >>\n",
        "##@classmethod >> it take the clas itself as the first argument"
      ],
      "metadata": {
        "id": "paM04wbYITzQ"
      },
      "execution_count": 74,
      "outputs": []
    },
    {
      "cell_type": "code",
      "source": [
        "class Math:\n",
        "  @classmethod #takes reference to the class itself to modify and acess class level atributes or data\n",
        "  def add(cls, x, y):\n",
        "    return cls.__name__, x + y #cls.__name__ >> class math"
      ],
      "metadata": {
        "id": "lNrom7kOJ5LZ"
      },
      "execution_count": 79,
      "outputs": []
    },
    {
      "cell_type": "code",
      "source": [
        "#we don't need any init method to take data\n",
        "Math.add(3, 5)"
      ],
      "metadata": {
        "colab": {
          "base_uri": "https://localhost:8080/"
        },
        "id": "E3lgqNblKlEB",
        "outputId": "5e3505fb-7c37-417c-aad5-afd7e494215a"
      },
      "execution_count": 80,
      "outputs": [
        {
          "output_type": "execute_result",
          "data": {
            "text/plain": [
              "('Math', 8)"
            ]
          },
          "metadata": {},
          "execution_count": 80
        }
      ]
    },
    {
      "cell_type": "code",
      "source": [
        "#class method is bound to class and not the instance of the class,\n",
        "#clas itself as the first argument >> conventional cls"
      ],
      "metadata": {
        "id": "1Z3em6unK4_2"
      },
      "execution_count": 81,
      "outputs": []
    },
    {
      "cell_type": "code",
      "source": [
        "#next inbuild decorator is static method\n",
        "#static method >> the method which can be called without creating any instance of class, and without using any self or cls"
      ],
      "metadata": {
        "id": "1oyfiK1LLoT_"
      },
      "execution_count": 82,
      "outputs": []
    },
    {
      "cell_type": "code",
      "source": [
        "#earlier\n",
        "class Math:\n",
        "  def add(self, x, y):\n",
        "    return x + y"
      ],
      "metadata": {
        "id": "zrxOXUozMGPA"
      },
      "execution_count": 84,
      "outputs": []
    },
    {
      "cell_type": "code",
      "source": [
        "a = Math() #make object/instance"
      ],
      "metadata": {
        "id": "s7_ivCs9MUmo"
      },
      "execution_count": 85,
      "outputs": []
    },
    {
      "cell_type": "code",
      "source": [
        "a.add(2, 3) #this is the way to call regular way"
      ],
      "metadata": {
        "colab": {
          "base_uri": "https://localhost:8080/"
        },
        "id": "iQ8Xsl7tMcnD",
        "outputId": "9a7475e8-ea95-40bb-a527-76bd1aab35c6"
      },
      "execution_count": 86,
      "outputs": [
        {
          "output_type": "execute_result",
          "data": {
            "text/plain": [
              "5"
            ]
          },
          "metadata": {},
          "execution_count": 86
        }
      ]
    },
    {
      "cell_type": "code",
      "source": [
        "#use of static method\n",
        "class Math:\n",
        "  @staticmethod\n",
        "  def  add(x, y): #no need of self or cls\n",
        "    return x + y"
      ],
      "metadata": {
        "id": "4rHCpZ6AMf0y"
      },
      "execution_count": 87,
      "outputs": []
    },
    {
      "cell_type": "code",
      "source": [
        "Math.add(2, 3) #no need of making any object"
      ],
      "metadata": {
        "colab": {
          "base_uri": "https://localhost:8080/"
        },
        "id": "2UZeiWKVNI96",
        "outputId": "ea66c29f-5d18-4a79-fce3-102b36d00f4f"
      },
      "execution_count": 88,
      "outputs": [
        {
          "output_type": "execute_result",
          "data": {
            "text/plain": [
              "5"
            ]
          },
          "metadata": {},
          "execution_count": 88
        }
      ]
    },
    {
      "cell_type": "code",
      "source": [
        "#class method to be used when we want to modify class levle data\n",
        "#static mathod >> when we don't want to interact with class level data"
      ],
      "metadata": {
        "id": "AEVMtJXCNVgM"
      },
      "execution_count": 89,
      "outputs": []
    },
    {
      "cell_type": "code",
      "source": [
        "#property decorator >> it alows meyoh to be accessed as attribute"
      ],
      "metadata": {
        "id": "1IXZKBS_OkiX"
      },
      "execution_count": 90,
      "outputs": []
    },
    {
      "cell_type": "code",
      "source": [
        "class Circle:\n",
        "  def __init__(self, radius):\n",
        "    self.radius = radius"
      ],
      "metadata": {
        "id": "UUMxZP8bOxSM"
      },
      "execution_count": 91,
      "outputs": []
    },
    {
      "cell_type": "code",
      "source": [
        "obj = Circle(5)"
      ],
      "metadata": {
        "id": "Gfe3gOjePAIt"
      },
      "execution_count": 92,
      "outputs": []
    },
    {
      "cell_type": "code",
      "source": [
        "obj.radius #accessing data/attribute"
      ],
      "metadata": {
        "colab": {
          "base_uri": "https://localhost:8080/"
        },
        "id": "t2I4Bzr9PENG",
        "outputId": "a36f2997-0b60-488c-c0d6-b657c8fbfea8"
      },
      "execution_count": 93,
      "outputs": [
        {
          "output_type": "execute_result",
          "data": {
            "text/plain": [
              "5"
            ]
          },
          "metadata": {},
          "execution_count": 93
        }
      ]
    },
    {
      "cell_type": "code",
      "source": [
        "class Circle:\n",
        "  def __init__(self, radius):\n",
        "    self.radius = radius\n",
        "  def area(self):\n",
        "    radius = self.radius\n",
        "    return 3.14 * radius ** 2"
      ],
      "metadata": {
        "id": "Fry2bhqJPO99"
      },
      "execution_count": 98,
      "outputs": []
    },
    {
      "cell_type": "code",
      "source": [
        "obj = Circle(5)\n",
        "obj.radius"
      ],
      "metadata": {
        "colab": {
          "base_uri": "https://localhost:8080/"
        },
        "id": "Rk8i2PYUPjYN",
        "outputId": "27cd8a2a-55c5-4644-d238-bc5efb2dd7fe"
      },
      "execution_count": 99,
      "outputs": [
        {
          "output_type": "execute_result",
          "data": {
            "text/plain": [
              "5"
            ]
          },
          "metadata": {},
          "execution_count": 99
        }
      ]
    },
    {
      "cell_type": "code",
      "source": [
        "obj.area() #earlier"
      ],
      "metadata": {
        "colab": {
          "base_uri": "https://localhost:8080/"
        },
        "id": "o4voS3QVPpl2",
        "outputId": "27e298d9-26c9-4120-d5e7-f4c872f6bffe"
      },
      "execution_count": 101,
      "outputs": [
        {
          "output_type": "execute_result",
          "data": {
            "text/plain": [
              "78.5"
            ]
          },
          "metadata": {},
          "execution_count": 101
        }
      ]
    },
    {
      "cell_type": "code",
      "source": [
        "#using property decorator\n",
        "class Circle:\n",
        "  def __init__(self, radius):\n",
        "    self.radius = radius\n",
        "  @property\n",
        "  def area(self):\n",
        "    radius = self.radius\n",
        "    return 3.14 * radius ** 2"
      ],
      "metadata": {
        "id": "NDtSgT5dP0pV"
      },
      "execution_count": 102,
      "outputs": []
    },
    {
      "cell_type": "code",
      "source": [
        "obj1 = Circle(5)\n",
        "obj1.radius"
      ],
      "metadata": {
        "colab": {
          "base_uri": "https://localhost:8080/"
        },
        "id": "Bp7R1wCRQVFS",
        "outputId": "835637fe-2f76-47fc-a21f-3dd9a74ba30d"
      },
      "execution_count": 103,
      "outputs": [
        {
          "output_type": "execute_result",
          "data": {
            "text/plain": [
              "5"
            ]
          },
          "metadata": {},
          "execution_count": 103
        }
      ]
    },
    {
      "cell_type": "code",
      "source": [
        "obj1.area #no need of parenthis"
      ],
      "metadata": {
        "colab": {
          "base_uri": "https://localhost:8080/"
        },
        "id": "qQjC52qhQdbQ",
        "outputId": "f5adb4f9-eae3-4454-85c9-41b3996ea6a2"
      },
      "execution_count": 104,
      "outputs": [
        {
          "output_type": "execute_result",
          "data": {
            "text/plain": [
              "78.5"
            ]
          },
          "metadata": {},
          "execution_count": 104
        }
      ]
    },
    {
      "cell_type": "code",
      "source": [],
      "metadata": {
        "id": "cWU7h56jQokv"
      },
      "execution_count": null,
      "outputs": []
    }
  ]
}