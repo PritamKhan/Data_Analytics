{
  "nbformat": 4,
  "nbformat_minor": 0,
  "metadata": {
    "colab": {
      "provenance": [],
      "authorship_tag": "ABX9TyMlX+AG3UPVepb2ND53sZQa",
      "include_colab_link": true
    },
    "kernelspec": {
      "name": "python3",
      "display_name": "Python 3"
    },
    "language_info": {
      "name": "python"
    }
  },
  "cells": [
    {
      "cell_type": "markdown",
      "metadata": {
        "id": "view-in-github",
        "colab_type": "text"
      },
      "source": [
        "<a href=\"https://colab.research.google.com/github/PritamKhan/Data_Analytics/blob/master/revision_on_lambda%2C_map%2C_filter.ipynb\" target=\"_parent\"><img src=\"https://colab.research.google.com/assets/colab-badge.svg\" alt=\"Open In Colab\"/></a>"
      ]
    },
    {
      "cell_type": "markdown",
      "source": [
        "#map()"
      ],
      "metadata": {
        "id": "g8gktq6nOdAD"
      }
    },
    {
      "cell_type": "code",
      "execution_count": 1,
      "metadata": {
        "id": "WDhwDs53NWn9"
      },
      "outputs": [],
      "source": [
        "#syntax - map(function, iterable)"
      ]
    },
    {
      "cell_type": "code",
      "source": [
        "mynum = [1, 2, 3, 4, 5]"
      ],
      "metadata": {
        "id": "eNm4RRA5PYmI"
      },
      "execution_count": 2,
      "outputs": []
    },
    {
      "cell_type": "code",
      "source": [
        "sq = map(lambda num: num ** 2, mynum)"
      ],
      "metadata": {
        "id": "-KafeYblPeDr"
      },
      "execution_count": 3,
      "outputs": []
    },
    {
      "cell_type": "code",
      "source": [
        "sq"
      ],
      "metadata": {
        "colab": {
          "base_uri": "https://localhost:8080/"
        },
        "id": "4chbJ6zcPpfc",
        "outputId": "3e2fd6ad-8614-4c65-a7bd-ce064e694db0"
      },
      "execution_count": 7,
      "outputs": [
        {
          "output_type": "execute_result",
          "data": {
            "text/plain": [
              "<map at 0x7f027bfa4fd0>"
            ]
          },
          "metadata": {},
          "execution_count": 7
        }
      ]
    },
    {
      "cell_type": "code",
      "source": [
        "print(list(sq))"
      ],
      "metadata": {
        "colab": {
          "base_uri": "https://localhost:8080/"
        },
        "id": "lkwBiSSFPsmz",
        "outputId": "48015b1b-c384-4ad7-a3a3-ce3387f6b10b"
      },
      "execution_count": 8,
      "outputs": [
        {
          "output_type": "stream",
          "name": "stdout",
          "text": [
            "[1, 4, 9, 16, 25]\n"
          ]
        }
      ]
    },
    {
      "cell_type": "code",
      "source": [
        "def myfact(n):\n",
        "  myfact = 1\n",
        "  for i in range(1, n+1):\n",
        "    myfact = myfact * i\n",
        "  return myfact"
      ],
      "metadata": {
        "id": "tLUrd3lBQBwN"
      },
      "execution_count": 9,
      "outputs": []
    },
    {
      "cell_type": "code",
      "source": [
        "myfact(5)"
      ],
      "metadata": {
        "colab": {
          "base_uri": "https://localhost:8080/"
        },
        "id": "olqmSZKwQoha",
        "outputId": "6c250d61-bf51-4089-f57d-39c7888145ea"
      },
      "execution_count": 10,
      "outputs": [
        {
          "output_type": "execute_result",
          "data": {
            "text/plain": [
              "120"
            ]
          },
          "metadata": {},
          "execution_count": 10
        }
      ]
    },
    {
      "cell_type": "code",
      "source": [
        "mylist = [2, 4, 5, 6, 7]"
      ],
      "metadata": {
        "id": "syYuNhiKQrL1"
      },
      "execution_count": 11,
      "outputs": []
    },
    {
      "cell_type": "code",
      "source": [
        "fact_num = map(myfact, mylist)"
      ],
      "metadata": {
        "id": "ZFo3kjDDQz5V"
      },
      "execution_count": 12,
      "outputs": []
    },
    {
      "cell_type": "code",
      "source": [
        "fact_num"
      ],
      "metadata": {
        "colab": {
          "base_uri": "https://localhost:8080/"
        },
        "id": "jbe4jb3QQ3_P",
        "outputId": "170a8095-5ca4-4bd1-9727-ef9ad24bc602"
      },
      "execution_count": 13,
      "outputs": [
        {
          "output_type": "execute_result",
          "data": {
            "text/plain": [
              "<map at 0x7f027bfb7d30>"
            ]
          },
          "metadata": {},
          "execution_count": 13
        }
      ]
    },
    {
      "cell_type": "code",
      "source": [
        "print(list(fact_num))"
      ],
      "metadata": {
        "colab": {
          "base_uri": "https://localhost:8080/"
        },
        "id": "ixzDtFFEQ57q",
        "outputId": "3a8cd3d0-865b-40a5-f4cf-485093ad38bc"
      },
      "execution_count": 14,
      "outputs": [
        {
          "output_type": "stream",
          "name": "stdout",
          "text": [
            "[2, 24, 120, 720, 5040]\n"
          ]
        }
      ]
    },
    {
      "cell_type": "code",
      "source": [
        "def mf(n):\n",
        "  return n ** 3"
      ],
      "metadata": {
        "id": "gT6AWi5oQ8uh"
      },
      "execution_count": 16,
      "outputs": []
    },
    {
      "cell_type": "code",
      "source": [
        "mylist"
      ],
      "metadata": {
        "colab": {
          "base_uri": "https://localhost:8080/"
        },
        "id": "OZKQMYJQRTP5",
        "outputId": "caeabbfc-5feb-44a9-e736-48538ed2f374"
      },
      "execution_count": 17,
      "outputs": [
        {
          "output_type": "execute_result",
          "data": {
            "text/plain": [
              "[2, 4, 5, 6, 7]"
            ]
          },
          "metadata": {},
          "execution_count": 17
        }
      ]
    },
    {
      "cell_type": "code",
      "source": [
        "cube = map(mf, mylist)"
      ],
      "metadata": {
        "id": "bil51-iQRXPY"
      },
      "execution_count": 19,
      "outputs": []
    },
    {
      "cell_type": "code",
      "source": [
        "print(list(cube))"
      ],
      "metadata": {
        "colab": {
          "base_uri": "https://localhost:8080/"
        },
        "id": "-vZm4RneRzEe",
        "outputId": "ab322d96-9f22-4c18-97a8-aa52396b9a27"
      },
      "execution_count": 20,
      "outputs": [
        {
          "output_type": "stream",
          "name": "stdout",
          "text": [
            "[8, 64, 125, 216, 343]\n"
          ]
        }
      ]
    },
    {
      "cell_type": "code",
      "source": [
        "a = [1,2,3]\n",
        "b = [4,5,6]"
      ],
      "metadata": {
        "id": "IXKL0Ql4R5SS"
      },
      "execution_count": 21,
      "outputs": []
    },
    {
      "cell_type": "code",
      "source": [
        "#[5,7,9]"
      ],
      "metadata": {
        "id": "GzeSaT-gSh-N"
      },
      "execution_count": 22,
      "outputs": []
    },
    {
      "cell_type": "code",
      "source": [
        "sum_ab = map(lambda x, y: x+y, a, b)"
      ],
      "metadata": {
        "id": "iaL03clTSk_I"
      },
      "execution_count": 23,
      "outputs": []
    },
    {
      "cell_type": "code",
      "source": [
        "print(list(sum_ab))"
      ],
      "metadata": {
        "colab": {
          "base_uri": "https://localhost:8080/"
        },
        "id": "Ro6AtTrtSnnQ",
        "outputId": "a47fae07-33f9-472c-89dd-e7c8696aeba7"
      },
      "execution_count": 24,
      "outputs": [
        {
          "output_type": "stream",
          "name": "stdout",
          "text": [
            "[5, 7, 9]\n"
          ]
        }
      ]
    },
    {
      "cell_type": "code",
      "source": [
        "# convert strings to integers. mylist = [\"1\",\"2\",\"3\",\"4\"]\n",
        "convert_int = map(int, mylist)"
      ],
      "metadata": {
        "id": "AjHDpFfvSp6-"
      },
      "execution_count": 25,
      "outputs": []
    },
    {
      "cell_type": "code",
      "source": [
        "print(list(convert_int))"
      ],
      "metadata": {
        "colab": {
          "base_uri": "https://localhost:8080/"
        },
        "id": "Nk2uj5McUQB8",
        "outputId": "cfee4f95-caad-4c18-d999-5fc9ae8a2dcb"
      },
      "execution_count": 26,
      "outputs": [
        {
          "output_type": "stream",
          "name": "stdout",
          "text": [
            "[2, 4, 5, 6, 7]\n"
          ]
        }
      ]
    },
    {
      "cell_type": "code",
      "source": [
        "#  mylist = [\"pritam\",\"akash\", \"rahul\"], convert a list from lowercase to uppercase\n",
        "mylist = [\"pritam\",\"akash\", \"rahul\"]\n",
        "convert_upper = map(str.upper, mylist)"
      ],
      "metadata": {
        "id": "3pEZVV3yURrc"
      },
      "execution_count": 29,
      "outputs": []
    },
    {
      "cell_type": "code",
      "source": [
        "print(list(convert_upper))"
      ],
      "metadata": {
        "colab": {
          "base_uri": "https://localhost:8080/"
        },
        "id": "8677XRVVUbo-",
        "outputId": "2fd61a8b-c9df-439c-b566-4ea08fb90ec4"
      },
      "execution_count": 30,
      "outputs": [
        {
          "output_type": "stream",
          "name": "stdout",
          "text": [
            "['PRITAM', 'AKASH', 'RAHUL']\n"
          ]
        }
      ]
    },
    {
      "cell_type": "code",
      "source": [
        "# mylist = [\"pritam\",\"akash\", \"rahul\"], extract the len of each element\n",
        "mylist = [\"pritam\",\"akash\", \"rahul\"]\n",
        "extract_len = map(len, mylist)"
      ],
      "metadata": {
        "id": "Hp1bG1-8Uj6T"
      },
      "execution_count": 31,
      "outputs": []
    },
    {
      "cell_type": "code",
      "source": [
        "print(list(extract_len))"
      ],
      "metadata": {
        "colab": {
          "base_uri": "https://localhost:8080/"
        },
        "id": "EoGhmAdLU9FP",
        "outputId": "05f9b779-60f0-44fc-9c4d-d7d20adc249d"
      },
      "execution_count": 32,
      "outputs": [
        {
          "output_type": "stream",
          "name": "stdout",
          "text": [
            "[6, 5, 5]\n"
          ]
        }
      ]
    },
    {
      "cell_type": "code",
      "source": [
        "# mylist = [1,2,3,4], return even if number is even and return odd if number is odd\n",
        "mylist = [1,2,3,4]\n",
        "check_even_odd = map(lambda num: \"even\" if num % 2 == 0 else \"odd\", mylist)"
      ],
      "metadata": {
        "id": "HRaWxL0FU_ZS"
      },
      "execution_count": 35,
      "outputs": []
    },
    {
      "cell_type": "code",
      "source": [
        "print(list(check_even_odd))"
      ],
      "metadata": {
        "colab": {
          "base_uri": "https://localhost:8080/"
        },
        "id": "hGszg5z-VHcO",
        "outputId": "4e84ec11-6678-41b3-cd55-796902dfba4b"
      },
      "execution_count": 36,
      "outputs": [
        {
          "output_type": "stream",
          "name": "stdout",
          "text": [
            "['odd', 'even', 'odd', 'even']\n"
          ]
        }
      ]
    },
    {
      "cell_type": "code",
      "source": [
        "# mylist = [\"2.13\",\"4.52\"], convert strings to float\n",
        "mylist = [\"2.13\",\"4.52\"]\n",
        "convert_float = map(float, mylist)"
      ],
      "metadata": {
        "id": "Wv5zGxzQVJrV"
      },
      "execution_count": 37,
      "outputs": []
    },
    {
      "cell_type": "code",
      "source": [
        "print(list(convert_float))"
      ],
      "metadata": {
        "colab": {
          "base_uri": "https://localhost:8080/"
        },
        "id": "UDRLSv7WVWfM",
        "outputId": "a7bcf90d-f6ca-4763-c6da-d7d989c97ed4"
      },
      "execution_count": 38,
      "outputs": [
        {
          "output_type": "stream",
          "name": "stdout",
          "text": [
            "[2.13, 4.52]\n"
          ]
        }
      ]
    },
    {
      "cell_type": "markdown",
      "source": [
        "#Filter()"
      ],
      "metadata": {
        "id": "xvMdxzaJW8-Z"
      }
    },
    {
      "cell_type": "code",
      "source": [
        "#filter(function, iterable)"
      ],
      "metadata": {
        "id": "tB3JV1X9VX9Z"
      },
      "execution_count": 39,
      "outputs": []
    },
    {
      "cell_type": "code",
      "source": [
        "mynum = [1,2,3,4,5]"
      ],
      "metadata": {
        "id": "mlyPiwTmXJFc"
      },
      "execution_count": 40,
      "outputs": []
    },
    {
      "cell_type": "code",
      "source": [
        "even_n = filter(lambda num: num % 2 == 0, mynum)"
      ],
      "metadata": {
        "id": "A8D5QGdcXOa4"
      },
      "execution_count": 41,
      "outputs": []
    },
    {
      "cell_type": "code",
      "source": [
        "print(list(even_n))"
      ],
      "metadata": {
        "colab": {
          "base_uri": "https://localhost:8080/"
        },
        "id": "CFIlmyN9XVL1",
        "outputId": "78d22c79-a16c-46e8-8b68-3f6da2087b73"
      },
      "execution_count": 42,
      "outputs": [
        {
          "output_type": "stream",
          "name": "stdout",
          "text": [
            "[2, 4]\n"
          ]
        }
      ]
    },
    {
      "cell_type": "code",
      "source": [
        "# words = [\"banana\",\"apple\",\"cherry\",\"kiwi\",\"grapes\"]. filter words with more than 5 letters\n",
        "words = [\"banana\",\"apple\",\"cherry\",\"kiwi\",\"grapes\"]\n",
        "filter_words = filter(lambda word: len(word) > 5, words)"
      ],
      "metadata": {
        "id": "WLHzFETkXX58"
      },
      "execution_count": 43,
      "outputs": []
    },
    {
      "cell_type": "code",
      "source": [
        "print(list(filter_words))"
      ],
      "metadata": {
        "colab": {
          "base_uri": "https://localhost:8080/"
        },
        "id": "J26_HrCUY-RY",
        "outputId": "2963e1e2-1eb0-49fd-c48d-efdc851df396"
      },
      "execution_count": 44,
      "outputs": [
        {
          "output_type": "stream",
          "name": "stdout",
          "text": [
            "['banana', 'cherry', 'grapes']\n"
          ]
        }
      ]
    },
    {
      "cell_type": "code",
      "source": [
        "# mynum = [-1,2,-3,4,5,6], filter only positive numbers\n",
        "mynum = [-1,2,-3,4,5,6]\n",
        "filter_num = filter(lambda num: num > 0, mynum)"
      ],
      "metadata": {
        "id": "b_81gI8kZBEr"
      },
      "execution_count": 45,
      "outputs": []
    },
    {
      "cell_type": "code",
      "source": [
        "print(list(filter_num))"
      ],
      "metadata": {
        "colab": {
          "base_uri": "https://localhost:8080/"
        },
        "id": "5bWhZ33mZINH",
        "outputId": "0b4ccd68-4b8a-4e8c-bd43-055a4343d971"
      },
      "execution_count": 46,
      "outputs": [
        {
          "output_type": "stream",
          "name": "stdout",
          "text": [
            "[2, 4, 5, 6]\n"
          ]
        }
      ]
    },
    {
      "cell_type": "code",
      "source": [
        "# words = [\"pritam\",\"\",\"Khan\",\"\"], filter non empty strings\n",
        "words = [\"pritam\",\"\",\"Khan\",\"\"]\n",
        "filter_empty = filter(lambda word: word != \"\", words)"
      ],
      "metadata": {
        "id": "WZt5YB5KZKLx"
      },
      "execution_count": 47,
      "outputs": []
    },
    {
      "cell_type": "code",
      "source": [
        "print(list(filter_empty))"
      ],
      "metadata": {
        "colab": {
          "base_uri": "https://localhost:8080/"
        },
        "id": "XBDBtsQxZl_F",
        "outputId": "3836f50e-bbfe-425e-df21-cac72d2a5dc9"
      },
      "execution_count": 48,
      "outputs": [
        {
          "output_type": "stream",
          "name": "stdout",
          "text": [
            "['pritam', 'Khan']\n"
          ]
        }
      ]
    },
    {
      "cell_type": "code",
      "source": [
        "# names = [\"pritam\",\"apple\",\"ana\",\"shreya\"], filter names starting with a\n",
        "names = [\"pritam\",\"apple\",\"ana\",\"shreya\"]\n",
        "filter_names = filter(lambda name: name[0] == \"a\", names)"
      ],
      "metadata": {
        "id": "3DFST4a4Zo3_"
      },
      "execution_count": 49,
      "outputs": []
    },
    {
      "cell_type": "code",
      "source": [
        "print(list(filter_names))"
      ],
      "metadata": {
        "colab": {
          "base_uri": "https://localhost:8080/"
        },
        "id": "VcTr48QLZ2AL",
        "outputId": "dd84bd17-efb6-40b4-8526-865414adf890"
      },
      "execution_count": 50,
      "outputs": [
        {
          "output_type": "stream",
          "name": "stdout",
          "text": [
            "['apple', 'ana']\n"
          ]
        }
      ]
    },
    {
      "cell_type": "code",
      "source": [
        "#  mynum = [1,2,3,4,5,6,7,8], filter odd numbers\n",
        "mynum = [1,2,3,4,5,6,7,8]\n",
        "odd_n = filter(lambda num: num % 2 != 0, mynum)"
      ],
      "metadata": {
        "id": "i1k8a4uFZ37O"
      },
      "execution_count": 51,
      "outputs": []
    },
    {
      "cell_type": "code",
      "source": [
        "print(list(odd_n))"
      ],
      "metadata": {
        "colab": {
          "base_uri": "https://localhost:8080/"
        },
        "id": "mX35ETYraFe2",
        "outputId": "6eb91754-e554-4f9b-8951-f1b5e0dd0e85"
      },
      "execution_count": 52,
      "outputs": [
        {
          "output_type": "stream",
          "name": "stdout",
          "text": [
            "[1, 3, 5, 7]\n"
          ]
        }
      ]
    },
    {
      "cell_type": "markdown",
      "source": [
        "#Reduce()"
      ],
      "metadata": {
        "id": "gvP0Wy3kbZvo"
      }
    },
    {
      "cell_type": "code",
      "source": [
        "from functools import reduce"
      ],
      "metadata": {
        "id": "ZwMn5TqTaHe3"
      },
      "execution_count": 53,
      "outputs": []
    },
    {
      "cell_type": "code",
      "source": [
        "#reduce(function, iterable [intializer])"
      ],
      "metadata": {
        "id": "kdB39kNzb13j"
      },
      "execution_count": 54,
      "outputs": []
    },
    {
      "cell_type": "code",
      "source": [
        "mylist = [1,2,3,4,5]"
      ],
      "metadata": {
        "id": "nIdEtnIvcP32"
      },
      "execution_count": 55,
      "outputs": []
    },
    {
      "cell_type": "code",
      "source": [
        "total = reduce(lambda x, y: x + y, mylist)"
      ],
      "metadata": {
        "id": "ibQJwojMcXkW"
      },
      "execution_count": 56,
      "outputs": []
    },
    {
      "cell_type": "code",
      "source": [
        "# cumulative\n",
        "print(total)"
      ],
      "metadata": {
        "colab": {
          "base_uri": "https://localhost:8080/"
        },
        "id": "-lVKxNc9cmXB",
        "outputId": "0d4dc35a-e5a1-4a67-f274-2fda048c992d"
      },
      "execution_count": 58,
      "outputs": [
        {
          "output_type": "stream",
          "name": "stdout",
          "text": [
            "15\n"
          ]
        }
      ]
    },
    {
      "cell_type": "code",
      "source": [
        "product = reduce(lambda x, y: x * y, mylist)"
      ],
      "metadata": {
        "id": "nGvMn66tcri0"
      },
      "execution_count": 59,
      "outputs": []
    },
    {
      "cell_type": "code",
      "source": [
        "print(product)"
      ],
      "metadata": {
        "colab": {
          "base_uri": "https://localhost:8080/"
        },
        "id": "t7dj5oKpdiGi",
        "outputId": "2c8970e1-c048-47e3-ccee-8444a2206892"
      },
      "execution_count": 60,
      "outputs": [
        {
          "output_type": "stream",
          "name": "stdout",
          "text": [
            "120\n"
          ]
        }
      ]
    },
    {
      "cell_type": "code",
      "source": [
        "#find the max element of a list"
      ],
      "metadata": {
        "id": "5FuWY75ZdjcG"
      },
      "execution_count": 61,
      "outputs": []
    },
    {
      "cell_type": "code",
      "source": [
        "mylist = [8, 9, 7, 3, 1, 12, 41, 72, 10]"
      ],
      "metadata": {
        "id": "lqKnx6tSduYq"
      },
      "execution_count": 66,
      "outputs": []
    },
    {
      "cell_type": "code",
      "source": [
        "max_el = reduce(lambda x, y: x if x > y else y, mylist,)"
      ],
      "metadata": {
        "id": "BnKweoPldwNG"
      },
      "execution_count": 71,
      "outputs": []
    },
    {
      "cell_type": "code",
      "source": [
        "print(max_el)"
      ],
      "metadata": {
        "colab": {
          "base_uri": "https://localhost:8080/"
        },
        "id": "xLaSl214d_K6",
        "outputId": "cd791214-98fa-4360-ef48-72aaecc4cb02"
      },
      "execution_count": 72,
      "outputs": [
        {
          "output_type": "stream",
          "name": "stdout",
          "text": [
            "72\n"
          ]
        }
      ]
    },
    {
      "cell_type": "markdown",
      "source": [
        "#List Comprehension"
      ],
      "metadata": {
        "id": "pdFuXuIaihtS"
      }
    },
    {
      "cell_type": "code",
      "source": [
        "#[expression for item in iterable if condition]"
      ],
      "metadata": {
        "id": "VypgMZQyihNJ"
      },
      "execution_count": 73,
      "outputs": []
    },
    {
      "cell_type": "code",
      "source": [
        "mylist = [1,2,3,4,5]"
      ],
      "metadata": {
        "id": "hbDQiR0CeBEC"
      },
      "execution_count": 74,
      "outputs": []
    },
    {
      "cell_type": "code",
      "source": [
        "for i in mylist:\n",
        "  if i % 2 == 0:\n",
        "    print(i)"
      ],
      "metadata": {
        "colab": {
          "base_uri": "https://localhost:8080/"
        },
        "id": "EpjjNx54jBeO",
        "outputId": "f994ad80-abf0-49fc-9fa1-980f27dc718d"
      },
      "execution_count": 75,
      "outputs": [
        {
          "output_type": "stream",
          "name": "stdout",
          "text": [
            "2\n",
            "4\n"
          ]
        }
      ]
    },
    {
      "cell_type": "code",
      "source": [
        "even_no = [i for i in mylist if i % 2 == 0]"
      ],
      "metadata": {
        "id": "HElPMwq9jL84"
      },
      "execution_count": 77,
      "outputs": []
    },
    {
      "cell_type": "code",
      "source": [
        "even_no"
      ],
      "metadata": {
        "colab": {
          "base_uri": "https://localhost:8080/"
        },
        "id": "B1cEYC1hjaw-",
        "outputId": "38d0d2bc-85b2-429d-f323-ad1dcfd2b1e3"
      },
      "execution_count": 78,
      "outputs": [
        {
          "output_type": "execute_result",
          "data": {
            "text/plain": [
              "[2, 4]"
            ]
          },
          "metadata": {},
          "execution_count": 78
        }
      ]
    },
    {
      "cell_type": "code",
      "source": [
        "for i in range(1,11):\n",
        "  print(i**2)"
      ],
      "metadata": {
        "colab": {
          "base_uri": "https://localhost:8080/"
        },
        "id": "wl9MT2l5jhcr",
        "outputId": "336150c6-adc0-40db-c8af-5ffe6bc1d9a9"
      },
      "execution_count": 79,
      "outputs": [
        {
          "output_type": "stream",
          "name": "stdout",
          "text": [
            "1\n",
            "4\n",
            "9\n",
            "16\n",
            "25\n",
            "36\n",
            "49\n",
            "64\n",
            "81\n",
            "100\n"
          ]
        }
      ]
    },
    {
      "cell_type": "code",
      "source": [
        "sq = [i**2 for i in range(1,11)]"
      ],
      "metadata": {
        "id": "CaCY354AjtE7"
      },
      "execution_count": 80,
      "outputs": []
    },
    {
      "cell_type": "code",
      "source": [
        "sq"
      ],
      "metadata": {
        "colab": {
          "base_uri": "https://localhost:8080/"
        },
        "id": "4wdNAkm9j4l2",
        "outputId": "d71041b1-eeda-46c9-ad7d-d6c6eeff53d2"
      },
      "execution_count": 81,
      "outputs": [
        {
          "output_type": "execute_result",
          "data": {
            "text/plain": [
              "[1, 4, 9, 16, 25, 36, 49, 64, 81, 100]"
            ]
          },
          "metadata": {},
          "execution_count": 81
        }
      ]
    },
    {
      "cell_type": "code",
      "source": [
        "mylist"
      ],
      "metadata": {
        "colab": {
          "base_uri": "https://localhost:8080/"
        },
        "id": "JsmYx0UHj572",
        "outputId": "9fa23e02-deb8-4567-d1eb-bdc229c50aef"
      },
      "execution_count": 82,
      "outputs": [
        {
          "output_type": "execute_result",
          "data": {
            "text/plain": [
              "[1, 2, 3, 4, 5]"
            ]
          },
          "metadata": {},
          "execution_count": 82
        }
      ]
    },
    {
      "cell_type": "code",
      "source": [
        "#[4,8]"
      ],
      "metadata": {
        "id": "DARIxOtqj9Pl"
      },
      "execution_count": 83,
      "outputs": []
    },
    {
      "cell_type": "code",
      "source": [
        "for i in mylist:\n",
        "  if i % 2 == 0:\n",
        "    print(i * 2)"
      ],
      "metadata": {
        "colab": {
          "base_uri": "https://localhost:8080/"
        },
        "id": "LJTdIQI9kEIF",
        "outputId": "96e81b9b-cf0e-49af-ed20-8b38ddc4bcbe"
      },
      "execution_count": 91,
      "outputs": [
        {
          "output_type": "stream",
          "name": "stdout",
          "text": [
            "4\n",
            "8\n"
          ]
        }
      ]
    },
    {
      "cell_type": "code",
      "source": [
        "ic = [i*2 for i in mylist if i%2 == 0]"
      ],
      "metadata": {
        "id": "3H4W0IgqkOJX"
      },
      "execution_count": 92,
      "outputs": []
    },
    {
      "cell_type": "code",
      "source": [
        "ic"
      ],
      "metadata": {
        "colab": {
          "base_uri": "https://localhost:8080/"
        },
        "id": "j-OPOmGokfh3",
        "outputId": "0ac35646-fd8e-422d-f0e6-96ee236444bb"
      },
      "execution_count": 93,
      "outputs": [
        {
          "output_type": "execute_result",
          "data": {
            "text/plain": [
              "[4, 8]"
            ]
          },
          "metadata": {},
          "execution_count": 93
        }
      ]
    },
    {
      "cell_type": "code",
      "source": [
        "mylist"
      ],
      "metadata": {
        "colab": {
          "base_uri": "https://localhost:8080/"
        },
        "id": "UaDjVPoskgpn",
        "outputId": "f5736be9-3afc-4e9b-9444-e1b2aa8405bd"
      },
      "execution_count": 94,
      "outputs": [
        {
          "output_type": "execute_result",
          "data": {
            "text/plain": [
              "[1, 2, 3, 4, 5]"
            ]
          },
          "metadata": {},
          "execution_count": 94
        }
      ]
    },
    {
      "cell_type": "code",
      "source": [
        "for i in mylist:\n",
        "  if i % 2 == 0:\n",
        "    print(\"Even\")\n",
        "  else:\n",
        "    print(\"Odd\")"
      ],
      "metadata": {
        "colab": {
          "base_uri": "https://localhost:8080/"
        },
        "id": "D62kPh0Jkq7i",
        "outputId": "2d798f9e-f3ba-444d-9566-5e3ff7aedcb1"
      },
      "execution_count": 95,
      "outputs": [
        {
          "output_type": "stream",
          "name": "stdout",
          "text": [
            "Odd\n",
            "Even\n",
            "Odd\n",
            "Even\n",
            "Odd\n"
          ]
        }
      ]
    },
    {
      "cell_type": "code",
      "source": [
        "check_even_odd = [\"Even\" if i % 2 == 0 else \"Odd\" for i in mylist]"
      ],
      "metadata": {
        "id": "3ZS7DRyGk_pl"
      },
      "execution_count": 96,
      "outputs": []
    },
    {
      "cell_type": "code",
      "source": [
        "check_even_odd"
      ],
      "metadata": {
        "colab": {
          "base_uri": "https://localhost:8080/"
        },
        "id": "DNtwVr-3lnhR",
        "outputId": "28cbcf06-61e5-4123-c4b7-923b38d86a47"
      },
      "execution_count": 97,
      "outputs": [
        {
          "output_type": "execute_result",
          "data": {
            "text/plain": [
              "['Odd', 'Even', 'Odd', 'Even', 'Odd']"
            ]
          },
          "metadata": {},
          "execution_count": 97
        }
      ]
    },
    {
      "cell_type": "code",
      "source": [
        "#  find out lengths of every element of a list using lc. mylist = [\"pritam\",\"Rahul\"]\n",
        "mylist = [\"pritam\",\"Rahul\"]\n",
        "find_len = [len(i) for i in mylist]"
      ],
      "metadata": {
        "id": "DYKQ_lLvlo_l"
      },
      "execution_count": 98,
      "outputs": []
    },
    {
      "cell_type": "code",
      "source": [
        "find_len"
      ],
      "metadata": {
        "colab": {
          "base_uri": "https://localhost:8080/"
        },
        "id": "0mzDcAVemFET",
        "outputId": "df340da2-31e2-46f9-82a2-a0146328e9fa"
      },
      "execution_count": 99,
      "outputs": [
        {
          "output_type": "execute_result",
          "data": {
            "text/plain": [
              "[6, 5]"
            ]
          },
          "metadata": {},
          "execution_count": 99
        }
      ]
    },
    {
      "cell_type": "code",
      "source": [
        "# mylist = [-1,2,0,3,4,-2]. create a list with values \"pos\",\"neg\", \"zero\" as per the value present in the mylist. if positive , print \"pos\", if neg print \"neg\" else \"zero\"\n",
        "mylist = [-1,2,0,3,4,-2]\n",
        "check_pos_neg = [\"pos\" if i > 0 else \"neg\" if i < 0 else \"zero\" for i in mylist]"
      ],
      "metadata": {
        "id": "c5mtM0ibmHWV"
      },
      "execution_count": 100,
      "outputs": []
    },
    {
      "cell_type": "code",
      "source": [
        "check_pos_neg"
      ],
      "metadata": {
        "colab": {
          "base_uri": "https://localhost:8080/"
        },
        "id": "Tqu2Zx7OmMdT",
        "outputId": "c8d60d8a-0906-439c-efdd-9c20c90f101f"
      },
      "execution_count": 101,
      "outputs": [
        {
          "output_type": "execute_result",
          "data": {
            "text/plain": [
              "['neg', 'pos', 'zero', 'pos', 'pos', 'neg']"
            ]
          },
          "metadata": {},
          "execution_count": 101
        }
      ]
    },
    {
      "cell_type": "markdown",
      "source": [
        "#Dictionary comprehension"
      ],
      "metadata": {
        "id": "vLVqQ4vemrjG"
      }
    },
    {
      "cell_type": "code",
      "source": [
        "#[key:value for item in iterable if condition]"
      ],
      "metadata": {
        "id": "PBkLCbohmQE8"
      },
      "execution_count": 102,
      "outputs": []
    },
    {
      "cell_type": "code",
      "source": [
        "#(1:1, 2:4, 3:9, 4:16, 5:25)"
      ],
      "metadata": {
        "id": "iXKKOZftnl1O"
      },
      "execution_count": 103,
      "outputs": []
    },
    {
      "cell_type": "code",
      "source": [
        "s_d = {i : i ** 2 for i in range(1,6)}"
      ],
      "metadata": {
        "id": "ElIPiRHAn5d6"
      },
      "execution_count": 104,
      "outputs": []
    },
    {
      "cell_type": "code",
      "source": [
        "s_d"
      ],
      "metadata": {
        "colab": {
          "base_uri": "https://localhost:8080/"
        },
        "id": "nqGlms2yoDff",
        "outputId": "ec862423-d710-4e07-bcb8-43528ebbd973"
      },
      "execution_count": 105,
      "outputs": [
        {
          "output_type": "execute_result",
          "data": {
            "text/plain": [
              "{1: 1, 2: 4, 3: 9, 4: 16, 5: 25}"
            ]
          },
          "metadata": {},
          "execution_count": 105
        }
      ]
    },
    {
      "cell_type": "code",
      "source": [
        "# {\"a\":1, \"b\":2, \"c\":3, \"d\":4,} -> {1:\"a\", 2:\"b\", 3:\"c\", 4:\"d\"}"
      ],
      "metadata": {
        "id": "gpiTna8voExh"
      },
      "execution_count": 106,
      "outputs": []
    },
    {
      "cell_type": "code",
      "source": [
        "mydict = {\"a\":1, \"b\":2, \"c\":3, \"d\":4}\n",
        "swap = {value : key for key,value in mydict.items()}"
      ],
      "metadata": {
        "id": "isdVDfJ9obSe"
      },
      "execution_count": 109,
      "outputs": []
    },
    {
      "cell_type": "code",
      "source": [
        "swap"
      ],
      "metadata": {
        "colab": {
          "base_uri": "https://localhost:8080/"
        },
        "id": "z2FD0EBeoz8g",
        "outputId": "01592ad6-e9d2-49c1-f207-83372cbf128f"
      },
      "execution_count": 110,
      "outputs": [
        {
          "output_type": "execute_result",
          "data": {
            "text/plain": [
              "{1: 'a', 2: 'b', 3: 'c', 4: 'd'}"
            ]
          },
          "metadata": {},
          "execution_count": 110
        }
      ]
    },
    {
      "cell_type": "code",
      "source": [
        "s_d"
      ],
      "metadata": {
        "colab": {
          "base_uri": "https://localhost:8080/"
        },
        "id": "-n6fpGKvpGlW",
        "outputId": "75b9e63d-13a4-4b9b-d7a6-435fe8979a6e"
      },
      "execution_count": 111,
      "outputs": [
        {
          "output_type": "execute_result",
          "data": {
            "text/plain": [
              "{1: 1, 2: 4, 3: 9, 4: 16, 5: 25}"
            ]
          },
          "metadata": {},
          "execution_count": 111
        }
      ]
    },
    {
      "cell_type": "code",
      "source": [
        "fil_d = {key:value for key,value in s_d.items() if value % 2 == 0}"
      ],
      "metadata": {
        "id": "TR6ajrSwpI2g"
      },
      "execution_count": 112,
      "outputs": []
    },
    {
      "cell_type": "code",
      "source": [
        "fil_d"
      ],
      "metadata": {
        "colab": {
          "base_uri": "https://localhost:8080/"
        },
        "id": "9DQSHi4vpQkM",
        "outputId": "a5eb3da5-883c-476f-eddd-75ebcbd05a71"
      },
      "execution_count": 113,
      "outputs": [
        {
          "output_type": "execute_result",
          "data": {
            "text/plain": [
              "{2: 4, 4: 16}"
            ]
          },
          "metadata": {},
          "execution_count": 113
        }
      ]
    },
    {
      "cell_type": "code",
      "source": [
        "# Create a new dictionary and include only items where the length of keys is > 3\n",
        "mydict = {\"a\": \"Pritam\", \"b\": \"Akash\", \"c\": \"Rahul\", \"d\": \"Shreya\"}\n",
        "\n",
        "# Filter items where the value length is greater than 3\n",
        "dict_len = {key: value for key, value in mydict.items() if len(value) > 5}\n",
        "\n",
        "print(dict_len)"
      ],
      "metadata": {
        "colab": {
          "base_uri": "https://localhost:8080/"
        },
        "id": "bOhU0pSmpSRm",
        "outputId": "83c5e4d9-54d1-41b6-83e5-92d43bb602b3"
      },
      "execution_count": 119,
      "outputs": [
        {
          "output_type": "stream",
          "name": "stdout",
          "text": [
            "{'a': 'Pritam', 'd': 'Shreya'}\n"
          ]
        }
      ]
    },
    {
      "cell_type": "code",
      "source": [
        "mydict = {\"alice\":\"engine\", \"bob\":\"coctor\",\"charlie\":\"painter\", \"daniel\":\"construction\", \"jon\":\"artist\"}"
      ],
      "metadata": {
        "id": "V-tlygaYrayQ"
      },
      "execution_count": 120,
      "outputs": []
    },
    {
      "cell_type": "code",
      "source": [
        "# Filter items where the key length is greater than 3\n",
        "dict_len = {key: value for key, value in mydict.items() if len(key) > 5}\n",
        "\n",
        "print(dict_len)"
      ],
      "metadata": {
        "colab": {
          "base_uri": "https://localhost:8080/"
        },
        "id": "LiHMiKhUshaF",
        "outputId": "70b24e92-5438-4740-c3c7-abd11d080e54"
      },
      "execution_count": 121,
      "outputs": [
        {
          "output_type": "stream",
          "name": "stdout",
          "text": [
            "{'charlie': 'painter', 'daniel': 'construction'}\n"
          ]
        }
      ]
    },
    {
      "cell_type": "code",
      "source": [],
      "metadata": {
        "id": "3109Z-gZstD_"
      },
      "execution_count": null,
      "outputs": []
    }
  ]
}