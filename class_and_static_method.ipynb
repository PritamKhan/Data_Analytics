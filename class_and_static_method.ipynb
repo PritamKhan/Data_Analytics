{
  "nbformat": 4,
  "nbformat_minor": 0,
  "metadata": {
    "colab": {
      "provenance": [],
      "authorship_tag": "ABX9TyM539R0oHsiRVw575H0YO2E",
      "include_colab_link": true
    },
    "kernelspec": {
      "name": "python3",
      "display_name": "Python 3"
    },
    "language_info": {
      "name": "python"
    }
  },
  "cells": [
    {
      "cell_type": "markdown",
      "metadata": {
        "id": "view-in-github",
        "colab_type": "text"
      },
      "source": [
        "<a href=\"https://colab.research.google.com/github/PritamKhan/Data_Analytics/blob/master/class_and_static_method.ipynb\" target=\"_parent\"><img src=\"https://colab.research.google.com/assets/colab-badge.svg\" alt=\"Open In Colab\"/></a>"
      ]
    },
    {
      "cell_type": "code",
      "execution_count": null,
      "metadata": {
        "id": "0tz7S5o6tQtr"
      },
      "outputs": [],
      "source": [
        "#class methods >> bound to the class (and not to a particular instance of the class), acess/modify methods\n",
        "#and attributes associated to class accross all the instances\n",
        "##@classmethod decorator\n",
        "#instead of self, cls as first parameter\n",
        "#alternative of init method to pass the data"
      ]
    },
    {
      "cell_type": "code",
      "source": [
        "class Student:\n",
        "  #constructor >> constructing class with initialisation of variables/data\n",
        "  def __init__(self, name):\n",
        "    self.name = name"
      ],
      "metadata": {
        "id": "LihlpMohxWxy"
      },
      "execution_count": 5,
      "outputs": []
    },
    {
      "cell_type": "code",
      "source": [
        "obj = Student(\"Pritam\")"
      ],
      "metadata": {
        "id": "73nZglwhfELD"
      },
      "execution_count": 6,
      "outputs": []
    },
    {
      "cell_type": "code",
      "source": [
        "obj.name"
      ],
      "metadata": {
        "colab": {
          "base_uri": "https://localhost:8080/",
          "height": 35
        },
        "id": "S11f6qhsfJ51",
        "outputId": "dc480428-6ae7-4ac8-e286-da6acc5cd0a5"
      },
      "execution_count": 7,
      "outputs": [
        {
          "output_type": "execute_result",
          "data": {
            "text/plain": [
              "'Pritam'"
            ],
            "application/vnd.google.colaboratory.intrinsic+json": {
              "type": "string"
            }
          },
          "metadata": {},
          "execution_count": 7
        }
      ]
    },
    {
      "cell_type": "code",
      "source": [
        "class Student:\n",
        "  def __init__(self, name):\n",
        "    self.name = name #self means this variable/method is reffering to current instance of the class\n",
        "\n",
        "  @classmethod #bound /binds to the class\n",
        "  def student_details(cls, name): #instead of self as first parameter, we are using cls >> meaning this method is associated/referring to the class itself\n",
        "    return cls(name)\n",
        ""
      ],
      "metadata": {
        "id": "cd4jZvX1fbic"
      },
      "execution_count": 8,
      "outputs": []
    },
    {
      "cell_type": "code",
      "source": [
        "#whta is the menning that it is referring the class?\n",
        "#earlier to acess any method / attribute >> first make instance/object of class\n",
        "#then obj.attribute\n",
        "#but if it is class method we can directly access it"
      ],
      "metadata": {
        "id": "Bj6pzZ8Ng7CU"
      },
      "execution_count": 9,
      "outputs": []
    },
    {
      "cell_type": "code",
      "source": [
        "obj1 = Student.student_details(\"Pritam\") #since student_details binds to the class we can directly call it without maki ng any object"
      ],
      "metadata": {
        "id": "Wt3dDPH7hdiZ"
      },
      "execution_count": 11,
      "outputs": []
    },
    {
      "cell_type": "code",
      "source": [
        "obj1.name"
      ],
      "metadata": {
        "colab": {
          "base_uri": "https://localhost:8080/",
          "height": 35
        },
        "id": "jsTVvIdhhmLk",
        "outputId": "d7d800e9-fcaf-4278-a11f-3164273e0a96"
      },
      "execution_count": 12,
      "outputs": [
        {
          "output_type": "execute_result",
          "data": {
            "text/plain": [
              "'Pritam'"
            ],
            "application/vnd.google.colaboratory.intrinsic+json": {
              "type": "string"
            }
          },
          "metadata": {},
          "execution_count": 12
        }
      ]
    },
    {
      "cell_type": "code",
      "source": [
        "#seeing class method as alternative of init method >> actually class method is overloading the in it method"
      ],
      "metadata": {
        "id": "BH60Yqrvhq3z"
      },
      "execution_count": 13,
      "outputs": []
    },
    {
      "cell_type": "code",
      "source": [
        "#how class method is overloading the init method?\n",
        "#modifing the class /instance method\n",
        "class Student:\n",
        "  def __init__(self, name):\n",
        "    self.name = name\n",
        "\n",
        "  @classmethod\n",
        "  def student_details(cls, name1):\n",
        "    return cls(name1)"
      ],
      "metadata": {
        "id": "cZaTlURyi6f5"
      },
      "execution_count": 14,
      "outputs": []
    },
    {
      "cell_type": "code",
      "source": [
        "stud = Student.student_details(\"Akash\")"
      ],
      "metadata": {
        "id": "ubbI5BfGjjTO"
      },
      "execution_count": 15,
      "outputs": []
    },
    {
      "cell_type": "code",
      "source": [
        "stud.name\n",
        "#we will get Akash inspite the variable name1\n",
        "#because it is overloading the init method >> alternative of init method"
      ],
      "metadata": {
        "colab": {
          "base_uri": "https://localhost:8080/",
          "height": 35
        },
        "id": "B8R1hvhojpzx",
        "outputId": "eaf07bb0-adb9-4c90-fdd4-a33f9f9e9bdc"
      },
      "execution_count": 16,
      "outputs": [
        {
          "output_type": "execute_result",
          "data": {
            "text/plain": [
              "'Akash'"
            ],
            "application/vnd.google.colaboratory.intrinsic+json": {
              "type": "string"
            }
          },
          "metadata": {},
          "execution_count": 16
        }
      ]
    },
    {
      "cell_type": "code",
      "source": [
        "#class method can modify class state application to all the instance of the class\n",
        "class Student:\n",
        "\n",
        "  total_students = 0 #class variable\n",
        "\n",
        "  def __init__(self, name): #instance method\n",
        "    self.name = name #instance variable\n",
        "    Student.total_students += 1 #total_student is the class variable associated with all the instances\n",
        "\n",
        "  @classmethod\n",
        "  def get_total_students(cls):\n",
        "    return cls.total_students"
      ],
      "metadata": {
        "id": "3Q2QQvqTjsvA"
      },
      "execution_count": 17,
      "outputs": []
    },
    {
      "cell_type": "code",
      "source": [
        "Student.total_students"
      ],
      "metadata": {
        "colab": {
          "base_uri": "https://localhost:8080/"
        },
        "id": "rIgntWYxlow0",
        "outputId": "94cf0b87-fbe0-4225-915c-7312361ff5c8"
      },
      "execution_count": 18,
      "outputs": [
        {
          "output_type": "execute_result",
          "data": {
            "text/plain": [
              "0"
            ]
          },
          "metadata": {},
          "execution_count": 18
        }
      ]
    },
    {
      "cell_type": "code",
      "source": [
        "stud1 = Student(\"Pritam\")\n",
        "stud2 = Student(\"Rahul\")"
      ],
      "metadata": {
        "id": "Ha1s7bRulvPg"
      },
      "execution_count": 19,
      "outputs": []
    },
    {
      "cell_type": "code",
      "source": [
        "stud1.name"
      ],
      "metadata": {
        "colab": {
          "base_uri": "https://localhost:8080/",
          "height": 35
        },
        "id": "17LPHAACmKEq",
        "outputId": "61d0da19-d60d-4703-d243-589cd1220296"
      },
      "execution_count": 20,
      "outputs": [
        {
          "output_type": "execute_result",
          "data": {
            "text/plain": [
              "'Pritam'"
            ],
            "application/vnd.google.colaboratory.intrinsic+json": {
              "type": "string"
            }
          },
          "metadata": {},
          "execution_count": 20
        }
      ]
    },
    {
      "cell_type": "code",
      "source": [
        "stud2.name"
      ],
      "metadata": {
        "colab": {
          "base_uri": "https://localhost:8080/",
          "height": 35
        },
        "id": "39nkATD7mObi",
        "outputId": "7005fc30-5a5f-4837-d5a4-7de94f95cfea"
      },
      "execution_count": 21,
      "outputs": [
        {
          "output_type": "execute_result",
          "data": {
            "text/plain": [
              "'Rahul'"
            ],
            "application/vnd.google.colaboratory.intrinsic+json": {
              "type": "string"
            }
          },
          "metadata": {},
          "execution_count": 21
        }
      ]
    },
    {
      "cell_type": "code",
      "source": [
        "Student.total_students"
      ],
      "metadata": {
        "colab": {
          "base_uri": "https://localhost:8080/"
        },
        "id": "Ujb73ofMmQ8Q",
        "outputId": "8fb5da20-7994-4588-b269-e8271caf7624"
      },
      "execution_count": 23,
      "outputs": [
        {
          "output_type": "execute_result",
          "data": {
            "text/plain": [
              "2"
            ]
          },
          "metadata": {},
          "execution_count": 23
        }
      ]
    },
    {
      "cell_type": "code",
      "source": [
        "Student.get_total_students() #class method can modify class state application to all the instance of the class\n",
        "#thats why we see  increase in the count"
      ],
      "metadata": {
        "colab": {
          "base_uri": "https://localhost:8080/"
        },
        "id": "A4n4bzC3mZou",
        "outputId": "f44d622c-f7cf-4874-c592-9b4d791dc5b7"
      },
      "execution_count": 24,
      "outputs": [
        {
          "output_type": "execute_result",
          "data": {
            "text/plain": [
              "2"
            ]
          },
          "metadata": {},
          "execution_count": 24
        }
      ]
    },
    {
      "cell_type": "code",
      "source": [
        "#to make external function as class metod\n",
        "class Student:\n",
        "\n",
        "  total_students = 0 #class variable\n",
        "\n",
        "  def __init__(self, name): #instance method\n",
        "    self.name = name #instance variable\n",
        "    Student.total_students += 1 #total_student is the class variable associated with all the instances\n",
        "\n",
        "  @classmethod\n",
        "  def get_total_students(cls):\n",
        "    return cls.total_students"
      ],
      "metadata": {
        "id": "itnkFR7TmqS-"
      },
      "execution_count": 25,
      "outputs": []
    },
    {
      "cell_type": "code",
      "source": [
        "def course_details(cls, course_name):\n",
        "  print(\"The details of the course are : \", course_name)"
      ],
      "metadata": {
        "id": "oVRIAEubnxgZ"
      },
      "execution_count": 26,
      "outputs": []
    },
    {
      "cell_type": "code",
      "source": [
        "Student.course_details = classmethod(course_details) #adding external method as class method"
      ],
      "metadata": {
        "id": "iuQwa6nKoGlb"
      },
      "execution_count": 27,
      "outputs": []
    },
    {
      "cell_type": "code",
      "source": [
        "Student.course_details(\"Data Science\")"
      ],
      "metadata": {
        "colab": {
          "base_uri": "https://localhost:8080/"
        },
        "id": "Xs-5miPAodiA",
        "outputId": "70985f1a-ef18-439d-af50-0711ee80e68c"
      },
      "execution_count": 28,
      "outputs": [
        {
          "output_type": "stream",
          "name": "stdout",
          "text": [
            "The details of the course are :  Data Science\n"
          ]
        }
      ]
    },
    {
      "cell_type": "code",
      "source": [
        "#delet any class method\n",
        "del Student.course_details"
      ],
      "metadata": {
        "id": "tWlW-gwxoidg"
      },
      "execution_count": 29,
      "outputs": []
    },
    {
      "cell_type": "code",
      "source": [
        "Student.course_details(\"Data Science\") #this will throw an erroe as we have deleted the method"
      ],
      "metadata": {
        "colab": {
          "base_uri": "https://localhost:8080/",
          "height": 159
        },
        "id": "-9iRY9JUos6n",
        "outputId": "9dffc263-21f6-4c65-edbf-629e9559611c"
      },
      "execution_count": 30,
      "outputs": [
        {
          "output_type": "error",
          "ename": "AttributeError",
          "evalue": "type object 'Student' has no attribute 'course_details'",
          "traceback": [
            "\u001b[0;31m---------------------------------------------------------------------------\u001b[0m",
            "\u001b[0;31mAttributeError\u001b[0m                            Traceback (most recent call last)",
            "\u001b[0;32m<ipython-input-30-d6f101ff24a0>\u001b[0m in \u001b[0;36m<cell line: 0>\u001b[0;34m()\u001b[0m\n\u001b[0;32m----> 1\u001b[0;31m \u001b[0mStudent\u001b[0m\u001b[0;34m.\u001b[0m\u001b[0mcourse_details\u001b[0m\u001b[0;34m(\u001b[0m\u001b[0;34m\"Data Science\"\u001b[0m\u001b[0;34m)\u001b[0m \u001b[0;31m#this will throw an erroe as we have deleted the method\u001b[0m\u001b[0;34m\u001b[0m\u001b[0;34m\u001b[0m\u001b[0m\n\u001b[0m",
            "\u001b[0;31mAttributeError\u001b[0m: type object 'Student' has no attribute 'course_details'"
          ]
        }
      ]
    },
    {
      "cell_type": "code",
      "source": [
        "Student.get_total_students()"
      ],
      "metadata": {
        "colab": {
          "base_uri": "https://localhost:8080/"
        },
        "id": "K7xJwPCdo4qh",
        "outputId": "b8876f95-a26e-4bbe-a1fa-4d83e9d1bb50"
      },
      "execution_count": 31,
      "outputs": [
        {
          "output_type": "execute_result",
          "data": {
            "text/plain": [
              "0"
            ]
          },
          "metadata": {},
          "execution_count": 31
        }
      ]
    },
    {
      "cell_type": "code",
      "source": [
        "#another way to delete\n",
        "delattr(Student, \"get_total_students\")"
      ],
      "metadata": {
        "id": "gnmQ4o4npALx"
      },
      "execution_count": 32,
      "outputs": []
    },
    {
      "cell_type": "code",
      "source": [
        "Student.get_total_students() #error"
      ],
      "metadata": {
        "colab": {
          "base_uri": "https://localhost:8080/",
          "height": 141
        },
        "id": "BxBNYR5RpNot",
        "outputId": "bc5a77e1-270b-49ed-b288-7ad4137f1409"
      },
      "execution_count": 33,
      "outputs": [
        {
          "output_type": "error",
          "ename": "AttributeError",
          "evalue": "type object 'Student' has no attribute 'get_total_students'",
          "traceback": [
            "\u001b[0;31m---------------------------------------------------------------------------\u001b[0m",
            "\u001b[0;31mAttributeError\u001b[0m                            Traceback (most recent call last)",
            "\u001b[0;32m<ipython-input-33-f777475f717d>\u001b[0m in \u001b[0;36m<cell line: 0>\u001b[0;34m()\u001b[0m\n\u001b[0;32m----> 1\u001b[0;31m \u001b[0mStudent\u001b[0m\u001b[0;34m.\u001b[0m\u001b[0mget_total_students\u001b[0m\u001b[0;34m(\u001b[0m\u001b[0;34m)\u001b[0m \u001b[0;31m#error\u001b[0m\u001b[0;34m\u001b[0m\u001b[0;34m\u001b[0m\u001b[0m\n\u001b[0m",
            "\u001b[0;31mAttributeError\u001b[0m: type object 'Student' has no attribute 'get_total_students'"
          ]
        }
      ]
    },
    {
      "cell_type": "code",
      "source": [
        "#static  method\n",
        "#doesnot modify class or instance state, doesn't access instace or class state\n",
        "#doesn't depent on class/instance\n",
        "#it behaves like a plain function that belong to class\n",
        "#it doesn't take either self or cls\n",
        "##@satic method is used\n",
        "#works with the parameter passed"
      ],
      "metadata": {
        "id": "k-AjefmapSpo"
      },
      "execution_count": 39,
      "outputs": []
    },
    {
      "cell_type": "code",
      "source": [
        "class Calculator:\n",
        "  @staticmethod\n",
        "  def add(x,y):\n",
        "    return x+y\n",
        "\n",
        "  @staticmethod\n",
        "  def product(x,y):\n",
        "    return x*y"
      ],
      "metadata": {
        "id": "_UsuNcynqK0l"
      },
      "execution_count": 36,
      "outputs": []
    },
    {
      "cell_type": "code",
      "source": [
        "Calculator.add(2,3)"
      ],
      "metadata": {
        "colab": {
          "base_uri": "https://localhost:8080/"
        },
        "id": "BgfsZlYMqiyM",
        "outputId": "c9319cc4-22ae-4f38-df1c-63532c2b1135"
      },
      "execution_count": 37,
      "outputs": [
        {
          "output_type": "execute_result",
          "data": {
            "text/plain": [
              "5"
            ]
          },
          "metadata": {},
          "execution_count": 37
        }
      ]
    },
    {
      "cell_type": "code",
      "source": [
        "Calculator.product(2,3)"
      ],
      "metadata": {
        "colab": {
          "base_uri": "https://localhost:8080/"
        },
        "id": "wS6fdk28qtVF",
        "outputId": "1b95eb33-a3b0-4514-a5b0-e6ca4847c2eb"
      },
      "execution_count": 38,
      "outputs": [
        {
          "output_type": "execute_result",
          "data": {
            "text/plain": [
              "6"
            ]
          },
          "metadata": {},
          "execution_count": 38
        }
      ]
    },
    {
      "cell_type": "code",
      "source": [],
      "metadata": {
        "id": "Zu7TfY5Nqu7w"
      },
      "execution_count": null,
      "outputs": []
    }
  ]
}